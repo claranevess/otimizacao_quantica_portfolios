{
 "cells": [
  {
   "cell_type": "code",
   "execution_count": null,
   "metadata": {},
   "outputs": [],
   "source": [
    "import pandas as pd\n",
    "import requests\n",
    "import json"
   ]
  },
  {
   "cell_type": "code",
   "execution_count": null,
   "metadata": {},
   "outputs": [],
   "source": [
    "df_lista_ativos = pd.read_csv('lista_ativos.csv')\n",
    "df_lista_ativos"
   ]
  },
  {
   "cell_type": "code",
   "execution_count": null,
   "metadata": {},
   "outputs": [],
   "source": [
    "lista_ativos = df_lista_ativos['ticker'].to_list()\n",
    "lista_ativos"
   ]
  },
  {
   "cell_type": "code",
   "execution_count": null,
   "metadata": {},
   "outputs": [],
   "source": [
    "cookies = {\n",
    "    'PHPSESSID': 'l44e544acsdp26n8te3ad5r6uf',\n",
    "    '_ga': 'GA1.1.1929456450.1692894396',\n",
    "    'cf_clearance': 'HbDwvmv32mhnbE4XZ2FETOMYkXGJevE.SE5zSfeHlG4-1692894396-0-1-d7b8eddb.ad87cba.adcc369c-0.2.1692894396',\n",
    "    '_qn': '1',\n",
    "    '_uac': '1692894769',\n",
    "    '_ga_MBRGJ9JF74': 'GS1.1.1692894396.1.1.1692895177.0.0.0',\n",
    "}\n",
    "\n",
    "headers = {\n",
    "    'authority': 'www.fundamentus.com.br',\n",
    "    'sec-ch-ua': '\" Not A;Brand\";v=\"99\", \"Chromium\";v=\"99\"',\n",
    "    'accept': 'application/json, text/javascript, */*; q=0.01',\n",
    "    'x-requested-with': 'XMLHttpRequest',\n",
    "    'sec-ch-ua-mobile': '?0',\n",
    "    'user-agent': 'Mozilla/5.0 (Windows NT 10.0; Win64; x64) AppleWebKit/537.36 (KHTML, like Gecko) Chrome/99.0.4844.82 Safari/537.36',\n",
    "    'sec-ch-ua-platform': '\"Windows\"',\n",
    "    'sec-fetch-site': 'same-origin',\n",
    "    'sec-fetch-mode': 'cors',\n",
    "    'sec-fetch-dest': 'empty',\n",
    "    'referer': 'https://www.fundamentus.com.br/cotacoes.php?papel=PETR4',\n",
    "    'accept-language': 'en-US,en;q=0.9,pt;q=0.8',\n",
    "    # 'cookie': 'PHPSESSID=l44e544acsdp26n8te3ad5r6uf; _ga=GA1.1.1929456450.1692894396; cf_clearance=HbDwvmv32mhnbE4XZ2FETOMYkXGJevE.SE5zSfeHlG4-1692894396-0-1-d7b8eddb.ad87cba.adcc369c-0.2.1692894396; _qn=1; _uac=1692894769; _ga_MBRGJ9JF74=GS1.1.1692894396.1.1.1692895177.0.0.0',\n",
    "}\n",
    "\n",
    "params = {\n",
    "    'papel': 'BRKM5',\n",
    "    # 'papel': ativo,\n",
    "}\n",
    "\n",
    "response = requests.get('https://www.fundamentus.com.br/amline/cot_hist.php', params=params, cookies=cookies, headers=headers)\n",
    "\n",
    "print(response.json())"
   ]
  },
  {
   "cell_type": "code",
   "execution_count": null,
   "metadata": {},
   "outputs": [],
   "source": [
    "lista_ativos = ['BRKM5','VALE3']"
   ]
  },
  {
   "cell_type": "code",
   "execution_count": null,
   "metadata": {},
   "outputs": [],
   "source": [
    "dict_valores = {}\n",
    "\n",
    "for ativo in lista_ativos:\n",
    "    cookies = {\n",
    "        'PHPSESSID': 'l44e544acsdp26n8te3ad5r6uf',\n",
    "        '_ga': 'GA1.1.1929456450.1692894396',\n",
    "        'cf_clearance': 'HbDwvmv32mhnbE4XZ2FETOMYkXGJevE.SE5zSfeHlG4-1692894396-0-1-d7b8eddb.ad87cba.adcc369c-0.2.1692894396',\n",
    "        '_qn': '1',\n",
    "        '_uac': '1692894769',\n",
    "        '_ga_MBRGJ9JF74': 'GS1.1.1692894396.1.1.1692895177.0.0.0',\n",
    "    }\n",
    "\n",
    "    headers = {\n",
    "        'authority': 'www.fundamentus.com.br',\n",
    "        'sec-ch-ua': '\" Not A;Brand\";v=\"99\", \"Chromium\";v=\"99\"',\n",
    "        'accept': 'application/json, text/javascript, */*; q=0.01',\n",
    "        'x-requested-with': 'XMLHttpRequest',\n",
    "        'sec-ch-ua-mobile': '?0',\n",
    "        'user-agent': 'Mozilla/5.0 (Windows NT 10.0; Win64; x64) AppleWebKit/537.36 (KHTML, like Gecko) Chrome/99.0.4844.82 Safari/537.36',\n",
    "        'sec-ch-ua-platform': '\"Windows\"',\n",
    "        'sec-fetch-site': 'same-origin',\n",
    "        'sec-fetch-mode': 'cors',\n",
    "        'sec-fetch-dest': 'empty',\n",
    "        'referer': 'https://www.fundamentus.com.br/cotacoes.php?papel=PETR4',\n",
    "        'accept-language': 'en-US,en;q=0.9,pt;q=0.8',\n",
    "        # 'cookie': 'PHPSESSID=l44e544acsdp26n8te3ad5r6uf; _ga=GA1.1.1929456450.1692894396; cf_clearance=HbDwvmv32mhnbE4XZ2FETOMYkXGJevE.SE5zSfeHlG4-1692894396-0-1-d7b8eddb.ad87cba.adcc369c-0.2.1692894396; _qn=1; _uac=1692894769; _ga_MBRGJ9JF74=GS1.1.1692894396.1.1.1692895177.0.0.0',\n",
    "    }\n",
    "\n",
    "    params = {\n",
    "        # 'papel': 'PETR4',\n",
    "        'papel': ativo,\n",
    "    }\n",
    "\n",
    "    response = requests.get('https://www.fundamentus.com.br/amline/cot_hist.php', params=params, cookies=cookies, headers=headers)\n",
    "    \n",
    "    try:\n",
    "        dict_valores[ativo] = response.json()\n",
    "    except Exception:\n",
    "        pass\n",
    "        \n",
    "    print(response)"
   ]
  },
  {
   "cell_type": "code",
   "execution_count": null,
   "metadata": {},
   "outputs": [],
   "source": [
    "# Create empty lists to store the data\n",
    "tickers = []\n",
    "datas = []\n",
    "fechamentos = []\n",
    "\n",
    "# Loop through the dictionary and extract data\n",
    "for ticker, entries in dict_valores.items():\n",
    "    for entry in entries:\n",
    "        utc_time, value = entry\n",
    "        tickers.append(ticker)\n",
    "        datas.append(pd.to_datetime(utc_time, unit='ms'))  # Convert milliseconds to datetime\n",
    "        fechamentos.append(value)\n",
    "\n",
    "# Create a DataFrame from the extracted data\n",
    "df_fechamentos = pd.DataFrame({\n",
    "    'ticker': tickers,\n",
    "    'data': datas,\n",
    "    'fechamento': fechamentos\n",
    "})\n",
    "\n",
    "# Print the resulting DataFrame\n",
    "df_fechamentos\n"
   ]
  },
  {
   "cell_type": "code",
   "execution_count": null,
   "metadata": {},
   "outputs": [],
   "source": [
    "# df_fechamentos.to_csv('fechamentos.csv',index=False)\n",
    "df_fechamentos.to_excel('fechamentos_novo.xlsx',index=False)"
   ]
  },
  {
   "cell_type": "code",
   "execution_count": null,
   "metadata": {},
   "outputs": [],
   "source": []
  }
 ],
 "metadata": {
  "kernelspec": {
   "display_name": "myqlm",
   "language": "python",
   "name": "python3"
  },
  "language_info": {
   "codemirror_mode": {
    "name": "ipython",
    "version": 3
   },
   "file_extension": ".py",
   "mimetype": "text/x-python",
   "name": "python",
   "nbconvert_exporter": "python",
   "pygments_lexer": "ipython3",
   "version": "3.8.10"
  },
  "orig_nbformat": 4
 },
 "nbformat": 4,
 "nbformat_minor": 2
}
