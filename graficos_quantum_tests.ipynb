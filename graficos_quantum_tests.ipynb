{
 "cells": [
  {
   "cell_type": "markdown",
   "metadata": {},
   "source": [
    "# Rodando em simulador e maquina quantica"
   ]
  },
  {
   "cell_type": "code",
   "execution_count": 1,
   "metadata": {},
   "outputs": [],
   "source": [
    "from qiskit.circuit.library import PauliTwoDesign, TwoLocal, EfficientSU2, RealAmplitudes\n",
    "from qiskit_algorithms.optimizers import COBYLA, L_BFGS_B, SLSQP, NFT\n",
    "from qiskit_optimization.algorithms import MinimumEigenOptimizer\n",
    "from qiskit_algorithms import QAOA, SamplingVQE\n",
    "from qiskit.quantum_info import Pauli\n",
    "\n",
    "from qiskit_ibm_runtime import QiskitRuntimeService\n",
    "from qiskit_ibm_runtime import Sampler\n",
    "\n",
    "from IPython.display import clear_output\n",
    "\n",
    "from plotly.subplots import make_subplots\n",
    "import plotly.graph_objects as go\n",
    "import plotly.express as px\n",
    "\n",
    "import pandas as pd\n",
    "import pickle\n",
    "import time"
   ]
  },
  {
   "cell_type": "code",
   "execution_count": 2,
   "metadata": {},
   "outputs": [],
   "source": [
    "resultados_vqe_4 = None\n",
    "resultados_qaoa_4 = None\n",
    "\n",
    "with open('pickles/resultados_vqe_4_diferentes_metodos.pickle', 'rb') as file:\n",
    "    resultados_vqe_4 = pickle.load(file)\n",
    "\n",
    "with open('pickles/resultados_qaoa_4_diferentes_metodos.pickle', 'rb') as file:\n",
    "    resultados_qaoa_4 = pickle.load(file)"
   ]
  },
  {
   "cell_type": "markdown",
   "metadata": {},
   "source": [
    "## Roda para 4 qubits"
   ]
  },
  {
   "cell_type": "code",
   "execution_count": 3,
   "metadata": {},
   "outputs": [],
   "source": [
    "num_qubits = 4"
   ]
  },
  {
   "cell_type": "code",
   "execution_count": 4,
   "metadata": {},
   "outputs": [],
   "source": [
    "# Function to create a ring mixer\n",
    "def create_ring_mixer(num_qubits):\n",
    "    ring_mixer = Pauli('I'*num_qubits)\n",
    "    for i in range(0, num_qubits, 2):\n",
    "        pauli_list = list('I'*num_qubits)\n",
    "        pauli_list[i] = 'X'\n",
    "        ring_mixer *= Pauli(''.join(pauli_list))\n",
    "    return ring_mixer\n",
    "\n",
    "# Function to create a parity ring mixer\n",
    "def create_parity_ring_mixer(num_qubits):\n",
    "    parity_ring_mixer = Pauli('I'*num_qubits)\n",
    "    for i in range(0, num_qubits, 2):\n",
    "        pauli_list = list('I'*num_qubits)\n",
    "        pauli_list[i] = 'X'\n",
    "        parity_ring_mixer *= Pauli(''.join(pauli_list))\n",
    "    pauli_list[-1] = 'X'  # Apply X gate on the last qubit\n",
    "    parity_ring_mixer *= Pauli(''.join(pauli_list))\n",
    "    return parity_ring_mixer\n",
    "\n",
    "# Function to create a full mixer\n",
    "def create_full_mixer(num_qubits):\n",
    "    return Pauli('X'*num_qubits)\n",
    "\n",
    "ring_mixer = create_ring_mixer(num_qubits)\n",
    "full_mixer = create_full_mixer(num_qubits)\n",
    "parity_ring_mixer = create_parity_ring_mixer(num_qubits)\n",
    "\n",
    "otimizadores = {'NFT': NFT(maxiter=100),\n",
    "                'SLSQP': SLSQP(maxiter=100),\n",
    "                'COBYLA': COBYLA(maxiter=100),\n",
    "                'L_BFGS_B': L_BFGS_B(maxiter=100)}\n",
    "\n",
    "mixers = {'mixer_default': None, \n",
    "            'ring_mixer': ring_mixer,\n",
    "            'full_mixer': full_mixer,\n",
    "            'parity_ring_mixer': parity_ring_mixer}\n",
    "\n",
    "ansatzes = {'EfficientSU2': EfficientSU2(num_qubits),\n",
    "            'RealAmplitudes': RealAmplitudes(num_qubits),\n",
    "            'PauliTwoDesign': PauliTwoDesign(num_qubits, reps=3),\n",
    "            'TwoLocal': TwoLocal(num_qubits, \"ry\", \"cz\", reps=3, entanglement=\"full\")}"
   ]
  },
  {
   "cell_type": "markdown",
   "metadata": {},
   "source": [
    "# Valores"
   ]
  },
  {
   "cell_type": "code",
   "execution_count": 5,
   "metadata": {},
   "outputs": [
    {
     "data": {
      "application/vnd.plotly.v1+json": {
       "config": {
        "plotlyServerURL": "https://plot.ly"
       },
       "data": [
        {
         "marker": {
          "color": "blue"
         },
         "name": "simulador local",
         "showlegend": true,
         "type": "bar",
         "x": [
          "valor_otimo_encontrado"
         ],
         "xaxis": "x",
         "y": [
          -1.8165782021878871
         ],
         "yaxis": "y"
        },
        {
         "marker": {
          "color": "orange"
         },
         "name": "simulador QASM",
         "showlegend": true,
         "type": "bar",
         "x": [
          "valor_otimo_encontrado_simulador"
         ],
         "xaxis": "x",
         "y": [
          -1.84798479280308
         ],
         "yaxis": "y"
        },
        {
         "marker": {
          "color": "blue"
         },
         "name": "L_BFGS_B-EfficientSU2-valor_otimo_encontrado",
         "showlegend": false,
         "type": "bar",
         "x": [
          "valor_otimo_encontrado"
         ],
         "xaxis": "x2",
         "y": [
          -1.072014667207409
         ],
         "yaxis": "y2"
        },
        {
         "marker": {
          "color": "orange"
         },
         "name": "L_BFGS_B-EfficientSU2-valor_otimo_encontrado_simulador",
         "showlegend": false,
         "type": "bar",
         "x": [
          "valor_otimo_encontrado_simulador"
         ],
         "xaxis": "x2",
         "y": [
          -1.1458327476621362
         ],
         "yaxis": "y2"
        },
        {
         "marker": {
          "color": "blue"
         },
         "name": "NFT-EfficientSU2-valor_otimo_encontrado",
         "showlegend": false,
         "type": "bar",
         "x": [
          "valor_otimo_encontrado"
         ],
         "xaxis": "x3",
         "y": [
          -1.904452745991168
         ],
         "yaxis": "y3"
        },
        {
         "marker": {
          "color": "orange"
         },
         "name": "NFT-EfficientSU2-valor_otimo_encontrado_simulador",
         "showlegend": false,
         "type": "bar",
         "x": [
          "valor_otimo_encontrado_simulador"
         ],
         "xaxis": "x3",
         "y": [
          -1.9095183917632312
         ],
         "yaxis": "y3"
        },
        {
         "marker": {
          "color": "blue"
         },
         "name": "SLSQP-EfficientSU2-valor_otimo_encontrado",
         "showlegend": false,
         "type": "bar",
         "x": [
          "valor_otimo_encontrado"
         ],
         "xaxis": "x4",
         "y": [
          -1.2023632658774575
         ],
         "yaxis": "y4"
        },
        {
         "marker": {
          "color": "orange"
         },
         "name": "SLSQP-EfficientSU2-valor_otimo_encontrado_simulador",
         "showlegend": false,
         "type": "bar",
         "x": [
          "valor_otimo_encontrado_simulador"
         ],
         "xaxis": "x4",
         "y": [
          -1.2199974095403128
         ],
         "yaxis": "y4"
        },
        {
         "marker": {
          "color": "blue"
         },
         "name": "COBYLA-PauliTwoDesign-valor_otimo_encontrado",
         "showlegend": false,
         "type": "bar",
         "x": [
          "valor_otimo_encontrado"
         ],
         "xaxis": "x5",
         "y": [
          -1.6649215832278144
         ],
         "yaxis": "y5"
        },
        {
         "marker": {
          "color": "orange"
         },
         "name": "COBYLA-PauliTwoDesign-valor_otimo_encontrado_simulador",
         "showlegend": false,
         "type": "bar",
         "x": [
          "valor_otimo_encontrado_simulador"
         ],
         "xaxis": "x5",
         "y": [
          -1.5632553471695647
         ],
         "yaxis": "y5"
        },
        {
         "marker": {
          "color": "blue"
         },
         "name": "L_BFGS_B-PauliTwoDesign-valor_otimo_encontrado",
         "showlegend": false,
         "type": "bar",
         "x": [
          "valor_otimo_encontrado"
         ],
         "xaxis": "x6",
         "y": [
          -0.9629657648505369
         ],
         "yaxis": "y6"
        },
        {
         "marker": {
          "color": "orange"
         },
         "name": "L_BFGS_B-PauliTwoDesign-valor_otimo_encontrado_simulador",
         "showlegend": false,
         "type": "bar",
         "x": [
          "valor_otimo_encontrado_simulador"
         ],
         "xaxis": "x6",
         "y": [
          0.34245937496947204
         ],
         "yaxis": "y6"
        },
        {
         "marker": {
          "color": "blue"
         },
         "name": "NFT-PauliTwoDesign-valor_otimo_encontrado",
         "showlegend": false,
         "type": "bar",
         "x": [
          "valor_otimo_encontrado"
         ],
         "xaxis": "x7",
         "y": [
          -1.7503650326097813
         ],
         "yaxis": "y7"
        },
        {
         "marker": {
          "color": "orange"
         },
         "name": "NFT-PauliTwoDesign-valor_otimo_encontrado_simulador",
         "showlegend": false,
         "type": "bar",
         "x": [
          "valor_otimo_encontrado_simulador"
         ],
         "xaxis": "x7",
         "y": [
          -1.8172939208122365
         ],
         "yaxis": "y7"
        },
        {
         "marker": {
          "color": "blue"
         },
         "name": "SLSQP-PauliTwoDesign-valor_otimo_encontrado",
         "showlegend": false,
         "type": "bar",
         "x": [
          "valor_otimo_encontrado"
         ],
         "xaxis": "x8",
         "y": [
          -0.41133329910511096
         ],
         "yaxis": "y8"
        },
        {
         "marker": {
          "color": "orange"
         },
         "name": "SLSQP-PauliTwoDesign-valor_otimo_encontrado_simulador",
         "showlegend": false,
         "type": "bar",
         "x": [
          "valor_otimo_encontrado_simulador"
         ],
         "xaxis": "x8",
         "y": [
          -0.20039016871596743
         ],
         "yaxis": "y8"
        },
        {
         "marker": {
          "color": "blue"
         },
         "name": "COBYLA-RealAmplitudes-valor_otimo_encontrado",
         "showlegend": false,
         "type": "bar",
         "x": [
          "valor_otimo_encontrado"
         ],
         "xaxis": "x9",
         "y": [
          -1.822332490304827
         ],
         "yaxis": "y9"
        },
        {
         "marker": {
          "color": "orange"
         },
         "name": "COBYLA-RealAmplitudes-valor_otimo_encontrado_simulador",
         "showlegend": false,
         "type": "bar",
         "x": [
          "valor_otimo_encontrado_simulador"
         ],
         "xaxis": "x9",
         "y": [
          -1.8229428142616697
         ],
         "yaxis": "y9"
        },
        {
         "marker": {
          "color": "blue"
         },
         "name": "L_BFGS_B-RealAmplitudes-valor_otimo_encontrado",
         "showlegend": false,
         "type": "bar",
         "x": [
          "valor_otimo_encontrado"
         ],
         "xaxis": "x10",
         "y": [
          0.25973020999643637
         ],
         "yaxis": "y10"
        },
        {
         "marker": {
          "color": "orange"
         },
         "name": "L_BFGS_B-RealAmplitudes-valor_otimo_encontrado_simulador",
         "showlegend": false,
         "type": "bar",
         "x": [
          "valor_otimo_encontrado_simulador"
         ],
         "xaxis": "x10",
         "y": [
          0.25973020999643637
         ],
         "yaxis": "y10"
        },
        {
         "marker": {
          "color": "blue"
         },
         "name": "NFT-RealAmplitudes-valor_otimo_encontrado",
         "showlegend": false,
         "type": "bar",
         "x": [
          "valor_otimo_encontrado"
         ],
         "xaxis": "x11",
         "y": [
          -1.9121306673663612
         ],
         "yaxis": "y11"
        },
        {
         "marker": {
          "color": "orange"
         },
         "name": "NFT-RealAmplitudes-valor_otimo_encontrado_simulador",
         "showlegend": false,
         "type": "bar",
         "x": [
          "valor_otimo_encontrado_simulador"
         ],
         "xaxis": "x11",
         "y": [
          -1.9120776866688707
         ],
         "yaxis": "y11"
        },
        {
         "marker": {
          "color": "blue"
         },
         "name": "SLSQP-RealAmplitudes-valor_otimo_encontrado",
         "showlegend": false,
         "type": "bar",
         "x": [
          "valor_otimo_encontrado"
         ],
         "xaxis": "x12",
         "y": [
          -1.2445164493154262
         ],
         "yaxis": "y12"
        },
        {
         "marker": {
          "color": "orange"
         },
         "name": "SLSQP-RealAmplitudes-valor_otimo_encontrado_simulador",
         "showlegend": false,
         "type": "bar",
         "x": [
          "valor_otimo_encontrado_simulador"
         ],
         "xaxis": "x12",
         "y": [
          -1.323289310355102
         ],
         "yaxis": "y12"
        },
        {
         "marker": {
          "color": "blue"
         },
         "name": "COBYLA-TwoLocal-valor_otimo_encontrado",
         "showlegend": false,
         "type": "bar",
         "x": [
          "valor_otimo_encontrado"
         ],
         "xaxis": "x13",
         "y": [
          -1.8010129625630154
         ],
         "yaxis": "y13"
        },
        {
         "marker": {
          "color": "orange"
         },
         "name": "COBYLA-TwoLocal-valor_otimo_encontrado_simulador",
         "showlegend": false,
         "type": "bar",
         "x": [
          "valor_otimo_encontrado_simulador"
         ],
         "xaxis": "x13",
         "y": [
          -1.8101346568594734
         ],
         "yaxis": "y13"
        },
        {
         "marker": {
          "color": "blue"
         },
         "name": "L_BFGS_B-TwoLocal-valor_otimo_encontrado",
         "showlegend": false,
         "type": "bar",
         "x": [
          "valor_otimo_encontrado"
         ],
         "xaxis": "x14",
         "y": [
          -1.208804717394224
         ],
         "yaxis": "y14"
        },
        {
         "marker": {
          "color": "orange"
         },
         "name": "L_BFGS_B-TwoLocal-valor_otimo_encontrado_simulador",
         "showlegend": false,
         "type": "bar",
         "x": [
          "valor_otimo_encontrado_simulador"
         ],
         "xaxis": "x14",
         "y": [
          -1.2192656662489785
         ],
         "yaxis": "y14"
        },
        {
         "marker": {
          "color": "blue"
         },
         "name": "NFT-TwoLocal-valor_otimo_encontrado",
         "showlegend": false,
         "type": "bar",
         "x": [
          "valor_otimo_encontrado"
         ],
         "xaxis": "x15",
         "y": [
          -1.91085080863906
         ],
         "yaxis": "y15"
        },
        {
         "marker": {
          "color": "orange"
         },
         "name": "NFT-TwoLocal-valor_otimo_encontrado_simulador",
         "showlegend": false,
         "type": "bar",
         "x": [
          "valor_otimo_encontrado_simulador"
         ],
         "xaxis": "x15",
         "y": [
          -1.910839494468728
         ],
         "yaxis": "y15"
        },
        {
         "marker": {
          "color": "blue"
         },
         "name": "SLSQP-TwoLocal-valor_otimo_encontrado",
         "showlegend": false,
         "type": "bar",
         "x": [
          "valor_otimo_encontrado"
         ],
         "xaxis": "x16",
         "y": [
          1.3274893165016466
         ],
         "yaxis": "y16"
        },
        {
         "marker": {
          "color": "orange"
         },
         "name": "SLSQP-TwoLocal-valor_otimo_encontrado_simulador",
         "showlegend": false,
         "type": "bar",
         "x": [
          "valor_otimo_encontrado_simulador"
         ],
         "xaxis": "x16",
         "y": [
          1.4454209723440983
         ],
         "yaxis": "y16"
        }
       ],
       "layout": {
        "annotations": [
         {
          "font": {
           "size": 20
          },
          "showarrow": false,
          "text": "COBYLA e EfficientSU2",
          "x": 0.10625,
          "xanchor": "center",
          "xref": "paper",
          "y": 1,
          "yanchor": "bottom",
          "yref": "paper"
         },
         {
          "font": {
           "size": 20
          },
          "showarrow": false,
          "text": "L_BFGS_B e EfficientSU2",
          "x": 0.36875,
          "xanchor": "center",
          "xref": "paper",
          "y": 1,
          "yanchor": "bottom",
          "yref": "paper"
         },
         {
          "font": {
           "size": 20
          },
          "showarrow": false,
          "text": "NFT e EfficientSU2",
          "x": 0.6312500000000001,
          "xanchor": "center",
          "xref": "paper",
          "y": 1,
          "yanchor": "bottom",
          "yref": "paper"
         },
         {
          "font": {
           "size": 20
          },
          "showarrow": false,
          "text": "SLSQP e EfficientSU2",
          "x": 0.89375,
          "xanchor": "center",
          "xref": "paper",
          "y": 1,
          "yanchor": "bottom",
          "yref": "paper"
         },
         {
          "font": {
           "size": 20
          },
          "showarrow": false,
          "text": "COBYLA e PauliTwoDesign",
          "x": 0.10625,
          "xanchor": "center",
          "xref": "paper",
          "y": 0.71875,
          "yanchor": "bottom",
          "yref": "paper"
         },
         {
          "font": {
           "size": 20
          },
          "showarrow": false,
          "text": "L_BFGS_B e PauliTwoDesign",
          "x": 0.36875,
          "xanchor": "center",
          "xref": "paper",
          "y": 0.71875,
          "yanchor": "bottom",
          "yref": "paper"
         },
         {
          "font": {
           "size": 20
          },
          "showarrow": false,
          "text": "NFT e PauliTwoDesign",
          "x": 0.6312500000000001,
          "xanchor": "center",
          "xref": "paper",
          "y": 0.71875,
          "yanchor": "bottom",
          "yref": "paper"
         },
         {
          "font": {
           "size": 20
          },
          "showarrow": false,
          "text": "SLSQP e PauliTwoDesign",
          "x": 0.89375,
          "xanchor": "center",
          "xref": "paper",
          "y": 0.71875,
          "yanchor": "bottom",
          "yref": "paper"
         },
         {
          "font": {
           "size": 20
          },
          "showarrow": false,
          "text": "COBYLA e RealAmplitudes",
          "x": 0.10625,
          "xanchor": "center",
          "xref": "paper",
          "y": 0.4375,
          "yanchor": "bottom",
          "yref": "paper"
         },
         {
          "font": {
           "size": 20
          },
          "showarrow": false,
          "text": "L_BFGS_B e RealAmplitudes",
          "x": 0.36875,
          "xanchor": "center",
          "xref": "paper",
          "y": 0.4375,
          "yanchor": "bottom",
          "yref": "paper"
         },
         {
          "font": {
           "size": 20
          },
          "showarrow": false,
          "text": "NFT e RealAmplitudes",
          "x": 0.6312500000000001,
          "xanchor": "center",
          "xref": "paper",
          "y": 0.4375,
          "yanchor": "bottom",
          "yref": "paper"
         },
         {
          "font": {
           "size": 20
          },
          "showarrow": false,
          "text": "SLSQP e RealAmplitudes",
          "x": 0.89375,
          "xanchor": "center",
          "xref": "paper",
          "y": 0.4375,
          "yanchor": "bottom",
          "yref": "paper"
         },
         {
          "font": {
           "size": 20
          },
          "showarrow": false,
          "text": "COBYLA e TwoLocal",
          "x": 0.10625,
          "xanchor": "center",
          "xref": "paper",
          "y": 0.15625,
          "yanchor": "bottom",
          "yref": "paper"
         },
         {
          "font": {
           "size": 20
          },
          "showarrow": false,
          "text": "L_BFGS_B e TwoLocal",
          "x": 0.36875,
          "xanchor": "center",
          "xref": "paper",
          "y": 0.15625,
          "yanchor": "bottom",
          "yref": "paper"
         },
         {
          "font": {
           "size": 20
          },
          "showarrow": false,
          "text": "NFT e TwoLocal",
          "x": 0.6312500000000001,
          "xanchor": "center",
          "xref": "paper",
          "y": 0.15625,
          "yanchor": "bottom",
          "yref": "paper"
         },
         {
          "font": {
           "size": 20
          },
          "showarrow": false,
          "text": "SLSQP e TwoLocal",
          "x": 0.89375,
          "xanchor": "center",
          "xref": "paper",
          "y": 0.15625,
          "yanchor": "bottom",
          "yref": "paper"
         },
         {
          "font": {
           "size": 20
          },
          "showarrow": false,
          "text": "Métodos de execução",
          "x": 0.5,
          "xanchor": "center",
          "xref": "paper",
          "y": 0,
          "yanchor": "top",
          "yref": "paper",
          "yshift": -30
         },
         {
          "font": {
           "size": 20
          },
          "showarrow": false,
          "text": "Energia",
          "textangle": -90,
          "x": 0,
          "xanchor": "right",
          "xref": "paper",
          "xshift": -40,
          "y": 0.5,
          "yanchor": "middle",
          "yref": "paper"
         }
        ],
        "font": {
         "size": 20
        },
        "height": 700,
        "legend": {
         "itemsizing": "constant"
        },
        "margin": {
         "b": 75,
         "l": 35,
         "r": 35,
         "t": 35
        },
        "showlegend": true,
        "template": {
         "data": {
          "bar": [
           {
            "error_x": {
             "color": "#2a3f5f"
            },
            "error_y": {
             "color": "#2a3f5f"
            },
            "marker": {
             "line": {
              "color": "#E5ECF6",
              "width": 0.5
             },
             "pattern": {
              "fillmode": "overlay",
              "size": 10,
              "solidity": 0.2
             }
            },
            "type": "bar"
           }
          ],
          "barpolar": [
           {
            "marker": {
             "line": {
              "color": "#E5ECF6",
              "width": 0.5
             },
             "pattern": {
              "fillmode": "overlay",
              "size": 10,
              "solidity": 0.2
             }
            },
            "type": "barpolar"
           }
          ],
          "carpet": [
           {
            "aaxis": {
             "endlinecolor": "#2a3f5f",
             "gridcolor": "white",
             "linecolor": "white",
             "minorgridcolor": "white",
             "startlinecolor": "#2a3f5f"
            },
            "baxis": {
             "endlinecolor": "#2a3f5f",
             "gridcolor": "white",
             "linecolor": "white",
             "minorgridcolor": "white",
             "startlinecolor": "#2a3f5f"
            },
            "type": "carpet"
           }
          ],
          "choropleth": [
           {
            "colorbar": {
             "outlinewidth": 0,
             "ticks": ""
            },
            "type": "choropleth"
           }
          ],
          "contour": [
           {
            "colorbar": {
             "outlinewidth": 0,
             "ticks": ""
            },
            "colorscale": [
             [
              0,
              "#0d0887"
             ],
             [
              0.1111111111111111,
              "#46039f"
             ],
             [
              0.2222222222222222,
              "#7201a8"
             ],
             [
              0.3333333333333333,
              "#9c179e"
             ],
             [
              0.4444444444444444,
              "#bd3786"
             ],
             [
              0.5555555555555556,
              "#d8576b"
             ],
             [
              0.6666666666666666,
              "#ed7953"
             ],
             [
              0.7777777777777778,
              "#fb9f3a"
             ],
             [
              0.8888888888888888,
              "#fdca26"
             ],
             [
              1,
              "#f0f921"
             ]
            ],
            "type": "contour"
           }
          ],
          "contourcarpet": [
           {
            "colorbar": {
             "outlinewidth": 0,
             "ticks": ""
            },
            "type": "contourcarpet"
           }
          ],
          "heatmap": [
           {
            "colorbar": {
             "outlinewidth": 0,
             "ticks": ""
            },
            "colorscale": [
             [
              0,
              "#0d0887"
             ],
             [
              0.1111111111111111,
              "#46039f"
             ],
             [
              0.2222222222222222,
              "#7201a8"
             ],
             [
              0.3333333333333333,
              "#9c179e"
             ],
             [
              0.4444444444444444,
              "#bd3786"
             ],
             [
              0.5555555555555556,
              "#d8576b"
             ],
             [
              0.6666666666666666,
              "#ed7953"
             ],
             [
              0.7777777777777778,
              "#fb9f3a"
             ],
             [
              0.8888888888888888,
              "#fdca26"
             ],
             [
              1,
              "#f0f921"
             ]
            ],
            "type": "heatmap"
           }
          ],
          "heatmapgl": [
           {
            "colorbar": {
             "outlinewidth": 0,
             "ticks": ""
            },
            "colorscale": [
             [
              0,
              "#0d0887"
             ],
             [
              0.1111111111111111,
              "#46039f"
             ],
             [
              0.2222222222222222,
              "#7201a8"
             ],
             [
              0.3333333333333333,
              "#9c179e"
             ],
             [
              0.4444444444444444,
              "#bd3786"
             ],
             [
              0.5555555555555556,
              "#d8576b"
             ],
             [
              0.6666666666666666,
              "#ed7953"
             ],
             [
              0.7777777777777778,
              "#fb9f3a"
             ],
             [
              0.8888888888888888,
              "#fdca26"
             ],
             [
              1,
              "#f0f921"
             ]
            ],
            "type": "heatmapgl"
           }
          ],
          "histogram": [
           {
            "marker": {
             "pattern": {
              "fillmode": "overlay",
              "size": 10,
              "solidity": 0.2
             }
            },
            "type": "histogram"
           }
          ],
          "histogram2d": [
           {
            "colorbar": {
             "outlinewidth": 0,
             "ticks": ""
            },
            "colorscale": [
             [
              0,
              "#0d0887"
             ],
             [
              0.1111111111111111,
              "#46039f"
             ],
             [
              0.2222222222222222,
              "#7201a8"
             ],
             [
              0.3333333333333333,
              "#9c179e"
             ],
             [
              0.4444444444444444,
              "#bd3786"
             ],
             [
              0.5555555555555556,
              "#d8576b"
             ],
             [
              0.6666666666666666,
              "#ed7953"
             ],
             [
              0.7777777777777778,
              "#fb9f3a"
             ],
             [
              0.8888888888888888,
              "#fdca26"
             ],
             [
              1,
              "#f0f921"
             ]
            ],
            "type": "histogram2d"
           }
          ],
          "histogram2dcontour": [
           {
            "colorbar": {
             "outlinewidth": 0,
             "ticks": ""
            },
            "colorscale": [
             [
              0,
              "#0d0887"
             ],
             [
              0.1111111111111111,
              "#46039f"
             ],
             [
              0.2222222222222222,
              "#7201a8"
             ],
             [
              0.3333333333333333,
              "#9c179e"
             ],
             [
              0.4444444444444444,
              "#bd3786"
             ],
             [
              0.5555555555555556,
              "#d8576b"
             ],
             [
              0.6666666666666666,
              "#ed7953"
             ],
             [
              0.7777777777777778,
              "#fb9f3a"
             ],
             [
              0.8888888888888888,
              "#fdca26"
             ],
             [
              1,
              "#f0f921"
             ]
            ],
            "type": "histogram2dcontour"
           }
          ],
          "mesh3d": [
           {
            "colorbar": {
             "outlinewidth": 0,
             "ticks": ""
            },
            "type": "mesh3d"
           }
          ],
          "parcoords": [
           {
            "line": {
             "colorbar": {
              "outlinewidth": 0,
              "ticks": ""
             }
            },
            "type": "parcoords"
           }
          ],
          "pie": [
           {
            "automargin": true,
            "type": "pie"
           }
          ],
          "scatter": [
           {
            "fillpattern": {
             "fillmode": "overlay",
             "size": 10,
             "solidity": 0.2
            },
            "type": "scatter"
           }
          ],
          "scatter3d": [
           {
            "line": {
             "colorbar": {
              "outlinewidth": 0,
              "ticks": ""
             }
            },
            "marker": {
             "colorbar": {
              "outlinewidth": 0,
              "ticks": ""
             }
            },
            "type": "scatter3d"
           }
          ],
          "scattercarpet": [
           {
            "marker": {
             "colorbar": {
              "outlinewidth": 0,
              "ticks": ""
             }
            },
            "type": "scattercarpet"
           }
          ],
          "scattergeo": [
           {
            "marker": {
             "colorbar": {
              "outlinewidth": 0,
              "ticks": ""
             }
            },
            "type": "scattergeo"
           }
          ],
          "scattergl": [
           {
            "marker": {
             "colorbar": {
              "outlinewidth": 0,
              "ticks": ""
             }
            },
            "type": "scattergl"
           }
          ],
          "scattermapbox": [
           {
            "marker": {
             "colorbar": {
              "outlinewidth": 0,
              "ticks": ""
             }
            },
            "type": "scattermapbox"
           }
          ],
          "scatterpolar": [
           {
            "marker": {
             "colorbar": {
              "outlinewidth": 0,
              "ticks": ""
             }
            },
            "type": "scatterpolar"
           }
          ],
          "scatterpolargl": [
           {
            "marker": {
             "colorbar": {
              "outlinewidth": 0,
              "ticks": ""
             }
            },
            "type": "scatterpolargl"
           }
          ],
          "scatterternary": [
           {
            "marker": {
             "colorbar": {
              "outlinewidth": 0,
              "ticks": ""
             }
            },
            "type": "scatterternary"
           }
          ],
          "surface": [
           {
            "colorbar": {
             "outlinewidth": 0,
             "ticks": ""
            },
            "colorscale": [
             [
              0,
              "#0d0887"
             ],
             [
              0.1111111111111111,
              "#46039f"
             ],
             [
              0.2222222222222222,
              "#7201a8"
             ],
             [
              0.3333333333333333,
              "#9c179e"
             ],
             [
              0.4444444444444444,
              "#bd3786"
             ],
             [
              0.5555555555555556,
              "#d8576b"
             ],
             [
              0.6666666666666666,
              "#ed7953"
             ],
             [
              0.7777777777777778,
              "#fb9f3a"
             ],
             [
              0.8888888888888888,
              "#fdca26"
             ],
             [
              1,
              "#f0f921"
             ]
            ],
            "type": "surface"
           }
          ],
          "table": [
           {
            "cells": {
             "fill": {
              "color": "#EBF0F8"
             },
             "line": {
              "color": "white"
             }
            },
            "header": {
             "fill": {
              "color": "#C8D4E3"
             },
             "line": {
              "color": "white"
             }
            },
            "type": "table"
           }
          ]
         },
         "layout": {
          "annotationdefaults": {
           "arrowcolor": "#2a3f5f",
           "arrowhead": 0,
           "arrowwidth": 1
          },
          "autotypenumbers": "strict",
          "coloraxis": {
           "colorbar": {
            "outlinewidth": 0,
            "ticks": ""
           }
          },
          "colorscale": {
           "diverging": [
            [
             0,
             "#8e0152"
            ],
            [
             0.1,
             "#c51b7d"
            ],
            [
             0.2,
             "#de77ae"
            ],
            [
             0.3,
             "#f1b6da"
            ],
            [
             0.4,
             "#fde0ef"
            ],
            [
             0.5,
             "#f7f7f7"
            ],
            [
             0.6,
             "#e6f5d0"
            ],
            [
             0.7,
             "#b8e186"
            ],
            [
             0.8,
             "#7fbc41"
            ],
            [
             0.9,
             "#4d9221"
            ],
            [
             1,
             "#276419"
            ]
           ],
           "sequential": [
            [
             0,
             "#0d0887"
            ],
            [
             0.1111111111111111,
             "#46039f"
            ],
            [
             0.2222222222222222,
             "#7201a8"
            ],
            [
             0.3333333333333333,
             "#9c179e"
            ],
            [
             0.4444444444444444,
             "#bd3786"
            ],
            [
             0.5555555555555556,
             "#d8576b"
            ],
            [
             0.6666666666666666,
             "#ed7953"
            ],
            [
             0.7777777777777778,
             "#fb9f3a"
            ],
            [
             0.8888888888888888,
             "#fdca26"
            ],
            [
             1,
             "#f0f921"
            ]
           ],
           "sequentialminus": [
            [
             0,
             "#0d0887"
            ],
            [
             0.1111111111111111,
             "#46039f"
            ],
            [
             0.2222222222222222,
             "#7201a8"
            ],
            [
             0.3333333333333333,
             "#9c179e"
            ],
            [
             0.4444444444444444,
             "#bd3786"
            ],
            [
             0.5555555555555556,
             "#d8576b"
            ],
            [
             0.6666666666666666,
             "#ed7953"
            ],
            [
             0.7777777777777778,
             "#fb9f3a"
            ],
            [
             0.8888888888888888,
             "#fdca26"
            ],
            [
             1,
             "#f0f921"
            ]
           ]
          },
          "colorway": [
           "#636efa",
           "#EF553B",
           "#00cc96",
           "#ab63fa",
           "#FFA15A",
           "#19d3f3",
           "#FF6692",
           "#B6E880",
           "#FF97FF",
           "#FECB52"
          ],
          "font": {
           "color": "#2a3f5f"
          },
          "geo": {
           "bgcolor": "white",
           "lakecolor": "white",
           "landcolor": "#E5ECF6",
           "showlakes": true,
           "showland": true,
           "subunitcolor": "white"
          },
          "hoverlabel": {
           "align": "left"
          },
          "hovermode": "closest",
          "mapbox": {
           "style": "light"
          },
          "paper_bgcolor": "white",
          "plot_bgcolor": "#E5ECF6",
          "polar": {
           "angularaxis": {
            "gridcolor": "white",
            "linecolor": "white",
            "ticks": ""
           },
           "bgcolor": "#E5ECF6",
           "radialaxis": {
            "gridcolor": "white",
            "linecolor": "white",
            "ticks": ""
           }
          },
          "scene": {
           "xaxis": {
            "backgroundcolor": "#E5ECF6",
            "gridcolor": "white",
            "gridwidth": 2,
            "linecolor": "white",
            "showbackground": true,
            "ticks": "",
            "zerolinecolor": "white"
           },
           "yaxis": {
            "backgroundcolor": "#E5ECF6",
            "gridcolor": "white",
            "gridwidth": 2,
            "linecolor": "white",
            "showbackground": true,
            "ticks": "",
            "zerolinecolor": "white"
           },
           "zaxis": {
            "backgroundcolor": "#E5ECF6",
            "gridcolor": "white",
            "gridwidth": 2,
            "linecolor": "white",
            "showbackground": true,
            "ticks": "",
            "zerolinecolor": "white"
           }
          },
          "shapedefaults": {
           "line": {
            "color": "#2a3f5f"
           }
          },
          "ternary": {
           "aaxis": {
            "gridcolor": "white",
            "linecolor": "white",
            "ticks": ""
           },
           "baxis": {
            "gridcolor": "white",
            "linecolor": "white",
            "ticks": ""
           },
           "bgcolor": "#E5ECF6",
           "caxis": {
            "gridcolor": "white",
            "linecolor": "white",
            "ticks": ""
           }
          },
          "title": {
           "x": 0.05
          },
          "xaxis": {
           "automargin": true,
           "gridcolor": "white",
           "linecolor": "white",
           "ticks": "",
           "title": {
            "standoff": 15
           },
           "zerolinecolor": "white",
           "zerolinewidth": 2
          },
          "yaxis": {
           "automargin": true,
           "gridcolor": "white",
           "linecolor": "white",
           "ticks": "",
           "title": {
            "standoff": 15
           },
           "zerolinecolor": "white",
           "zerolinewidth": 2
          }
         }
        },
        "width": 2200,
        "xaxis": {
         "anchor": "y",
         "domain": [
          0,
          0.2125
         ],
         "showticklabels": false,
         "title": {
          "text": ""
         }
        },
        "xaxis10": {
         "anchor": "y10",
         "domain": [
          0.2625,
          0.475
         ],
         "showticklabels": false,
         "title": {
          "text": ""
         }
        },
        "xaxis11": {
         "anchor": "y11",
         "domain": [
          0.525,
          0.7375
         ],
         "showticklabels": false,
         "title": {
          "text": ""
         }
        },
        "xaxis12": {
         "anchor": "y12",
         "domain": [
          0.7875,
          1
         ],
         "showticklabels": false,
         "title": {
          "text": ""
         }
        },
        "xaxis13": {
         "anchor": "y13",
         "domain": [
          0,
          0.2125
         ],
         "showticklabels": false,
         "title": {
          "text": ""
         }
        },
        "xaxis14": {
         "anchor": "y14",
         "domain": [
          0.2625,
          0.475
         ],
         "showticklabels": false,
         "title": {
          "text": ""
         }
        },
        "xaxis15": {
         "anchor": "y15",
         "domain": [
          0.525,
          0.7375
         ],
         "showticklabels": false,
         "title": {
          "text": ""
         }
        },
        "xaxis16": {
         "anchor": "y16",
         "domain": [
          0.7875,
          1
         ],
         "showticklabels": false,
         "title": {
          "text": ""
         }
        },
        "xaxis2": {
         "anchor": "y2",
         "domain": [
          0.2625,
          0.475
         ],
         "showticklabels": false,
         "title": {
          "text": ""
         }
        },
        "xaxis3": {
         "anchor": "y3",
         "domain": [
          0.525,
          0.7375
         ],
         "showticklabels": false,
         "title": {
          "text": ""
         }
        },
        "xaxis4": {
         "anchor": "y4",
         "domain": [
          0.7875,
          1
         ],
         "showticklabels": false,
         "title": {
          "text": ""
         }
        },
        "xaxis5": {
         "anchor": "y5",
         "domain": [
          0,
          0.2125
         ],
         "showticklabels": false,
         "title": {
          "text": ""
         }
        },
        "xaxis6": {
         "anchor": "y6",
         "domain": [
          0.2625,
          0.475
         ],
         "showticklabels": false,
         "title": {
          "text": ""
         }
        },
        "xaxis7": {
         "anchor": "y7",
         "domain": [
          0.525,
          0.7375
         ],
         "showticklabels": false,
         "title": {
          "text": ""
         }
        },
        "xaxis8": {
         "anchor": "y8",
         "domain": [
          0.7875,
          1
         ],
         "showticklabels": false,
         "title": {
          "text": ""
         }
        },
        "xaxis9": {
         "anchor": "y9",
         "domain": [
          0,
          0.2125
         ],
         "showticklabels": false,
         "title": {
          "text": ""
         }
        },
        "yaxis": {
         "anchor": "x",
         "domain": [
          0.84375,
          1
         ],
         "title": {
          "text": ""
         }
        },
        "yaxis10": {
         "anchor": "x10",
         "domain": [
          0.28125,
          0.4375
         ]
        },
        "yaxis11": {
         "anchor": "x11",
         "domain": [
          0.28125,
          0.4375
         ]
        },
        "yaxis12": {
         "anchor": "x12",
         "domain": [
          0.28125,
          0.4375
         ]
        },
        "yaxis13": {
         "anchor": "x13",
         "domain": [
          0,
          0.15625
         ]
        },
        "yaxis14": {
         "anchor": "x14",
         "domain": [
          0,
          0.15625
         ]
        },
        "yaxis15": {
         "anchor": "x15",
         "domain": [
          0,
          0.15625
         ]
        },
        "yaxis16": {
         "anchor": "x16",
         "domain": [
          0,
          0.15625
         ]
        },
        "yaxis2": {
         "anchor": "x2",
         "domain": [
          0.84375,
          1
         ]
        },
        "yaxis3": {
         "anchor": "x3",
         "domain": [
          0.84375,
          1
         ]
        },
        "yaxis4": {
         "anchor": "x4",
         "domain": [
          0.84375,
          1
         ]
        },
        "yaxis5": {
         "anchor": "x5",
         "domain": [
          0.5625,
          0.71875
         ]
        },
        "yaxis6": {
         "anchor": "x6",
         "domain": [
          0.5625,
          0.71875
         ]
        },
        "yaxis7": {
         "anchor": "x7",
         "domain": [
          0.5625,
          0.71875
         ]
        },
        "yaxis8": {
         "anchor": "x8",
         "domain": [
          0.5625,
          0.71875
         ]
        },
        "yaxis9": {
         "anchor": "x9",
         "domain": [
          0.28125,
          0.4375
         ]
        }
       }
      }
     },
     "metadata": {},
     "output_type": "display_data"
    }
   ],
   "source": [
    "copia_resultados_vqe_4 = resultados_vqe_4.copy()\n",
    "\n",
    "combinacoes = [f\"{otimizador} e {ansatz}\" for otimizador, ansatz in copia_resultados_vqe_4.index.unique()]\n",
    "cores = {'valor_otimo_encontrado': 'blue', 'valor_otimo_encontrado_simulador': 'orange', 'valor_otimo_encontrado_computador_quantico':'cyan'}\n",
    "nomes = {'valor_otimo_encontrado': 'simulador local', 'valor_otimo_encontrado_simulador': 'simulador QASM', 'valor_otimo_encontrado_computador_quantico':'IBM Brisbane'}\n",
    "cols_appeared = []\n",
    "\n",
    "fig = make_subplots(rows=4, cols=4, subplot_titles=combinacoes, \n",
    "                    x_title='Métodos de execução', y_title='Energia', \n",
    "                    shared_xaxes=False, shared_yaxes=False)\n",
    "\n",
    "for i, (otimizador, ansatz) in enumerate(copia_resultados_vqe_4.index.unique()):\n",
    "\n",
    "    df_subset = copia_resultados_vqe_4.loc[\n",
    "        (copia_resultados_vqe_4.index.get_level_values(0) == otimizador) &\n",
    "        (copia_resultados_vqe_4.index.get_level_values(1) == ansatz)\n",
    "    ]\n",
    "\n",
    "    valores = df_subset[['valor_otimo_encontrado', 'valor_otimo_encontrado_simulador']]\n",
    "\n",
    "    for idx, col in enumerate(valores.columns):\n",
    "        nome_fig = f'{otimizador}-{ansatz}-{col}'\n",
    "        legenda_bool = False\n",
    "\n",
    "        if not col in cols_appeared:\n",
    "            nome_fig = f'{nomes[col]}'\n",
    "            legenda_bool = True\n",
    "        \n",
    "        fig.add_trace(\n",
    "            go.Bar(x=[col], \n",
    "                    y=[valores[col].values[0]],\n",
    "                    name=nome_fig,\n",
    "                    marker_color=cores[col],\n",
    "                    showlegend=legenda_bool),\n",
    "            row=(i // 4) + 1,\n",
    "            col=(i % 4) + 1\n",
    "        )\n",
    "        cols_appeared.append(col)\n",
    "\n",
    "        fig.update_xaxes(showticklabels=False, title_text='', row=(i // 4) + 1, col=(i % 4) + 1)\n",
    "\n",
    "fig.update_layout(\n",
    "                  showlegend=True,\n",
    "                  xaxis_title='',\n",
    "                  yaxis_title='',\n",
    "                  width = 2200,\n",
    "                  height = 700,\n",
    "                  font = dict(size=20),\n",
    "                  legend_itemsizing=\"constant\",\n",
    "                  margin = dict(l=35, r=35, t=35, b=75),\n",
    "                  )\n",
    "\n",
    "fig.update_annotations(font_size=20)\n",
    "\n",
    "nome_figura = f\"figuras_dados/vqe_4_comparacao_valor_metodos.png\"\n",
    "fig.write_image(nome_figura, width=2200, height=700)\n",
    "\n",
    "fig.show()"
   ]
  },
  {
   "cell_type": "code",
   "execution_count": 6,
   "metadata": {},
   "outputs": [
    {
     "data": {
      "application/vnd.plotly.v1+json": {
       "config": {
        "plotlyServerURL": "https://plot.ly"
       },
       "data": [
        {
         "marker": {
          "color": "blue"
         },
         "name": "simulador local",
         "showlegend": true,
         "type": "bar",
         "x": [
          "valor_otimo_encontrado"
         ],
         "xaxis": "x",
         "y": [
          -1.8165782021878871
         ],
         "yaxis": "y"
        },
        {
         "marker": {
          "color": "orange"
         },
         "name": "simulador QASM",
         "showlegend": true,
         "type": "bar",
         "x": [
          "valor_otimo_encontrado_simulador"
         ],
         "xaxis": "x",
         "y": [
          -1.84798479280308
         ],
         "yaxis": "y"
        },
        {
         "marker": {
          "color": "blue"
         },
         "name": "L_BFGS_B-EfficientSU2-valor_otimo_encontrado",
         "showlegend": false,
         "type": "bar",
         "x": [
          "valor_otimo_encontrado"
         ],
         "xaxis": "x2",
         "y": [
          -1.072014667207409
         ],
         "yaxis": "y2"
        },
        {
         "marker": {
          "color": "orange"
         },
         "name": "L_BFGS_B-EfficientSU2-valor_otimo_encontrado_simulador",
         "showlegend": false,
         "type": "bar",
         "x": [
          "valor_otimo_encontrado_simulador"
         ],
         "xaxis": "x2",
         "y": [
          -1.1458327476621362
         ],
         "yaxis": "y2"
        },
        {
         "marker": {
          "color": "blue"
         },
         "name": "NFT-EfficientSU2-valor_otimo_encontrado",
         "showlegend": false,
         "type": "bar",
         "x": [
          "valor_otimo_encontrado"
         ],
         "xaxis": "x3",
         "y": [
          -1.904452745991168
         ],
         "yaxis": "y3"
        },
        {
         "marker": {
          "color": "orange"
         },
         "name": "NFT-EfficientSU2-valor_otimo_encontrado_simulador",
         "showlegend": false,
         "type": "bar",
         "x": [
          "valor_otimo_encontrado_simulador"
         ],
         "xaxis": "x3",
         "y": [
          -1.9095183917632312
         ],
         "yaxis": "y3"
        },
        {
         "marker": {
          "color": "blue"
         },
         "name": "SLSQP-EfficientSU2-valor_otimo_encontrado",
         "showlegend": false,
         "type": "bar",
         "x": [
          "valor_otimo_encontrado"
         ],
         "xaxis": "x4",
         "y": [
          -1.2023632658774575
         ],
         "yaxis": "y4"
        },
        {
         "marker": {
          "color": "orange"
         },
         "name": "SLSQP-EfficientSU2-valor_otimo_encontrado_simulador",
         "showlegend": false,
         "type": "bar",
         "x": [
          "valor_otimo_encontrado_simulador"
         ],
         "xaxis": "x4",
         "y": [
          -1.2199974095403128
         ],
         "yaxis": "y4"
        },
        {
         "marker": {
          "color": "blue"
         },
         "name": "COBYLA-PauliTwoDesign-valor_otimo_encontrado",
         "showlegend": false,
         "type": "bar",
         "x": [
          "valor_otimo_encontrado"
         ],
         "xaxis": "x5",
         "y": [
          -1.6649215832278144
         ],
         "yaxis": "y5"
        },
        {
         "marker": {
          "color": "orange"
         },
         "name": "COBYLA-PauliTwoDesign-valor_otimo_encontrado_simulador",
         "showlegend": false,
         "type": "bar",
         "x": [
          "valor_otimo_encontrado_simulador"
         ],
         "xaxis": "x5",
         "y": [
          -1.5632553471695647
         ],
         "yaxis": "y5"
        },
        {
         "marker": {
          "color": "blue"
         },
         "name": "L_BFGS_B-PauliTwoDesign-valor_otimo_encontrado",
         "showlegend": false,
         "type": "bar",
         "x": [
          "valor_otimo_encontrado"
         ],
         "xaxis": "x6",
         "y": [
          -0.9629657648505369
         ],
         "yaxis": "y6"
        },
        {
         "marker": {
          "color": "orange"
         },
         "name": "L_BFGS_B-PauliTwoDesign-valor_otimo_encontrado_simulador",
         "showlegend": false,
         "type": "bar",
         "x": [
          "valor_otimo_encontrado_simulador"
         ],
         "xaxis": "x6",
         "y": [
          0.34245937496947204
         ],
         "yaxis": "y6"
        },
        {
         "marker": {
          "color": "blue"
         },
         "name": "NFT-PauliTwoDesign-valor_otimo_encontrado",
         "showlegend": false,
         "type": "bar",
         "x": [
          "valor_otimo_encontrado"
         ],
         "xaxis": "x7",
         "y": [
          -1.7503650326097813
         ],
         "yaxis": "y7"
        },
        {
         "marker": {
          "color": "orange"
         },
         "name": "NFT-PauliTwoDesign-valor_otimo_encontrado_simulador",
         "showlegend": false,
         "type": "bar",
         "x": [
          "valor_otimo_encontrado_simulador"
         ],
         "xaxis": "x7",
         "y": [
          -1.8172939208122365
         ],
         "yaxis": "y7"
        },
        {
         "marker": {
          "color": "blue"
         },
         "name": "SLSQP-PauliTwoDesign-valor_otimo_encontrado",
         "showlegend": false,
         "type": "bar",
         "x": [
          "valor_otimo_encontrado"
         ],
         "xaxis": "x8",
         "y": [
          -0.41133329910511096
         ],
         "yaxis": "y8"
        },
        {
         "marker": {
          "color": "orange"
         },
         "name": "SLSQP-PauliTwoDesign-valor_otimo_encontrado_simulador",
         "showlegend": false,
         "type": "bar",
         "x": [
          "valor_otimo_encontrado_simulador"
         ],
         "xaxis": "x8",
         "y": [
          -0.20039016871596743
         ],
         "yaxis": "y8"
        },
        {
         "marker": {
          "color": "blue"
         },
         "name": "COBYLA-RealAmplitudes-valor_otimo_encontrado",
         "showlegend": false,
         "type": "bar",
         "x": [
          "valor_otimo_encontrado"
         ],
         "xaxis": "x9",
         "y": [
          -1.822332490304827
         ],
         "yaxis": "y9"
        },
        {
         "marker": {
          "color": "orange"
         },
         "name": "COBYLA-RealAmplitudes-valor_otimo_encontrado_simulador",
         "showlegend": false,
         "type": "bar",
         "x": [
          "valor_otimo_encontrado_simulador"
         ],
         "xaxis": "x9",
         "y": [
          -1.8229428142616697
         ],
         "yaxis": "y9"
        },
        {
         "marker": {
          "color": "blue"
         },
         "name": "L_BFGS_B-RealAmplitudes-valor_otimo_encontrado",
         "showlegend": false,
         "type": "bar",
         "x": [
          "valor_otimo_encontrado"
         ],
         "xaxis": "x10",
         "y": [
          0.25973020999643637
         ],
         "yaxis": "y10"
        },
        {
         "marker": {
          "color": "orange"
         },
         "name": "L_BFGS_B-RealAmplitudes-valor_otimo_encontrado_simulador",
         "showlegend": false,
         "type": "bar",
         "x": [
          "valor_otimo_encontrado_simulador"
         ],
         "xaxis": "x10",
         "y": [
          0.25973020999643637
         ],
         "yaxis": "y10"
        },
        {
         "marker": {
          "color": "blue"
         },
         "name": "NFT-RealAmplitudes-valor_otimo_encontrado",
         "showlegend": false,
         "type": "bar",
         "x": [
          "valor_otimo_encontrado"
         ],
         "xaxis": "x11",
         "y": [
          -1.9121306673663612
         ],
         "yaxis": "y11"
        },
        {
         "marker": {
          "color": "orange"
         },
         "name": "NFT-RealAmplitudes-valor_otimo_encontrado_simulador",
         "showlegend": false,
         "type": "bar",
         "x": [
          "valor_otimo_encontrado_simulador"
         ],
         "xaxis": "x11",
         "y": [
          -1.9120776866688707
         ],
         "yaxis": "y11"
        },
        {
         "marker": {
          "color": "blue"
         },
         "name": "SLSQP-RealAmplitudes-valor_otimo_encontrado",
         "showlegend": false,
         "type": "bar",
         "x": [
          "valor_otimo_encontrado"
         ],
         "xaxis": "x12",
         "y": [
          -1.2445164493154262
         ],
         "yaxis": "y12"
        },
        {
         "marker": {
          "color": "orange"
         },
         "name": "SLSQP-RealAmplitudes-valor_otimo_encontrado_simulador",
         "showlegend": false,
         "type": "bar",
         "x": [
          "valor_otimo_encontrado_simulador"
         ],
         "xaxis": "x12",
         "y": [
          -1.323289310355102
         ],
         "yaxis": "y12"
        },
        {
         "marker": {
          "color": "blue"
         },
         "name": "COBYLA-TwoLocal-valor_otimo_encontrado",
         "showlegend": false,
         "type": "bar",
         "x": [
          "valor_otimo_encontrado"
         ],
         "xaxis": "x13",
         "y": [
          -1.8010129625630154
         ],
         "yaxis": "y13"
        },
        {
         "marker": {
          "color": "orange"
         },
         "name": "COBYLA-TwoLocal-valor_otimo_encontrado_simulador",
         "showlegend": false,
         "type": "bar",
         "x": [
          "valor_otimo_encontrado_simulador"
         ],
         "xaxis": "x13",
         "y": [
          -1.8101346568594734
         ],
         "yaxis": "y13"
        },
        {
         "marker": {
          "color": "blue"
         },
         "name": "L_BFGS_B-TwoLocal-valor_otimo_encontrado",
         "showlegend": false,
         "type": "bar",
         "x": [
          "valor_otimo_encontrado"
         ],
         "xaxis": "x14",
         "y": [
          -1.208804717394224
         ],
         "yaxis": "y14"
        },
        {
         "marker": {
          "color": "orange"
         },
         "name": "L_BFGS_B-TwoLocal-valor_otimo_encontrado_simulador",
         "showlegend": false,
         "type": "bar",
         "x": [
          "valor_otimo_encontrado_simulador"
         ],
         "xaxis": "x14",
         "y": [
          -1.2192656662489785
         ],
         "yaxis": "y14"
        },
        {
         "marker": {
          "color": "blue"
         },
         "name": "NFT-TwoLocal-valor_otimo_encontrado",
         "showlegend": false,
         "type": "bar",
         "x": [
          "valor_otimo_encontrado"
         ],
         "xaxis": "x15",
         "y": [
          -1.91085080863906
         ],
         "yaxis": "y15"
        },
        {
         "marker": {
          "color": "orange"
         },
         "name": "NFT-TwoLocal-valor_otimo_encontrado_simulador",
         "showlegend": false,
         "type": "bar",
         "x": [
          "valor_otimo_encontrado_simulador"
         ],
         "xaxis": "x15",
         "y": [
          -1.910839494468728
         ],
         "yaxis": "y15"
        },
        {
         "marker": {
          "color": "blue"
         },
         "name": "SLSQP-TwoLocal-valor_otimo_encontrado",
         "showlegend": false,
         "type": "bar",
         "x": [
          "valor_otimo_encontrado"
         ],
         "xaxis": "x16",
         "y": [
          1.3274893165016466
         ],
         "yaxis": "y16"
        },
        {
         "marker": {
          "color": "orange"
         },
         "name": "SLSQP-TwoLocal-valor_otimo_encontrado_simulador",
         "showlegend": false,
         "type": "bar",
         "x": [
          "valor_otimo_encontrado_simulador"
         ],
         "xaxis": "x16",
         "y": [
          1.4454209723440983
         ],
         "yaxis": "y16"
        }
       ],
       "layout": {
        "annotations": [
         {
          "font": {
           "size": 20
          },
          "showarrow": false,
          "text": "COBYLA e EfficientSU2",
          "x": 0.10625,
          "xanchor": "center",
          "xref": "paper",
          "y": 1,
          "yanchor": "bottom",
          "yref": "paper"
         },
         {
          "font": {
           "size": 20
          },
          "showarrow": false,
          "text": "L_BFGS_B e EfficientSU2",
          "x": 0.36875,
          "xanchor": "center",
          "xref": "paper",
          "y": 1,
          "yanchor": "bottom",
          "yref": "paper"
         },
         {
          "font": {
           "size": 20
          },
          "showarrow": false,
          "text": "NFT e EfficientSU2",
          "x": 0.6312500000000001,
          "xanchor": "center",
          "xref": "paper",
          "y": 1,
          "yanchor": "bottom",
          "yref": "paper"
         },
         {
          "font": {
           "size": 20
          },
          "showarrow": false,
          "text": "SLSQP e EfficientSU2",
          "x": 0.89375,
          "xanchor": "center",
          "xref": "paper",
          "y": 1,
          "yanchor": "bottom",
          "yref": "paper"
         },
         {
          "font": {
           "size": 20
          },
          "showarrow": false,
          "text": "COBYLA e PauliTwoDesign",
          "x": 0.10625,
          "xanchor": "center",
          "xref": "paper",
          "y": 0.71875,
          "yanchor": "bottom",
          "yref": "paper"
         },
         {
          "font": {
           "size": 20
          },
          "showarrow": false,
          "text": "L_BFGS_B e PauliTwoDesign",
          "x": 0.36875,
          "xanchor": "center",
          "xref": "paper",
          "y": 0.71875,
          "yanchor": "bottom",
          "yref": "paper"
         },
         {
          "font": {
           "size": 20
          },
          "showarrow": false,
          "text": "NFT e PauliTwoDesign",
          "x": 0.6312500000000001,
          "xanchor": "center",
          "xref": "paper",
          "y": 0.71875,
          "yanchor": "bottom",
          "yref": "paper"
         },
         {
          "font": {
           "size": 20
          },
          "showarrow": false,
          "text": "SLSQP e PauliTwoDesign",
          "x": 0.89375,
          "xanchor": "center",
          "xref": "paper",
          "y": 0.71875,
          "yanchor": "bottom",
          "yref": "paper"
         },
         {
          "font": {
           "size": 20
          },
          "showarrow": false,
          "text": "COBYLA e RealAmplitudes",
          "x": 0.10625,
          "xanchor": "center",
          "xref": "paper",
          "y": 0.4375,
          "yanchor": "bottom",
          "yref": "paper"
         },
         {
          "font": {
           "size": 20
          },
          "showarrow": false,
          "text": "L_BFGS_B e RealAmplitudes",
          "x": 0.36875,
          "xanchor": "center",
          "xref": "paper",
          "y": 0.4375,
          "yanchor": "bottom",
          "yref": "paper"
         },
         {
          "font": {
           "size": 20
          },
          "showarrow": false,
          "text": "NFT e RealAmplitudes",
          "x": 0.6312500000000001,
          "xanchor": "center",
          "xref": "paper",
          "y": 0.4375,
          "yanchor": "bottom",
          "yref": "paper"
         },
         {
          "font": {
           "size": 20
          },
          "showarrow": false,
          "text": "SLSQP e RealAmplitudes",
          "x": 0.89375,
          "xanchor": "center",
          "xref": "paper",
          "y": 0.4375,
          "yanchor": "bottom",
          "yref": "paper"
         },
         {
          "font": {
           "size": 20
          },
          "showarrow": false,
          "text": "COBYLA e TwoLocal",
          "x": 0.10625,
          "xanchor": "center",
          "xref": "paper",
          "y": 0.15625,
          "yanchor": "bottom",
          "yref": "paper"
         },
         {
          "font": {
           "size": 20
          },
          "showarrow": false,
          "text": "L_BFGS_B e TwoLocal",
          "x": 0.36875,
          "xanchor": "center",
          "xref": "paper",
          "y": 0.15625,
          "yanchor": "bottom",
          "yref": "paper"
         },
         {
          "font": {
           "size": 20
          },
          "showarrow": false,
          "text": "NFT e TwoLocal",
          "x": 0.6312500000000001,
          "xanchor": "center",
          "xref": "paper",
          "y": 0.15625,
          "yanchor": "bottom",
          "yref": "paper"
         },
         {
          "font": {
           "size": 20
          },
          "showarrow": false,
          "text": "SLSQP e TwoLocal",
          "x": 0.89375,
          "xanchor": "center",
          "xref": "paper",
          "y": 0.15625,
          "yanchor": "bottom",
          "yref": "paper"
         },
         {
          "font": {
           "size": 20
          },
          "showarrow": false,
          "text": "Métodos de execução",
          "x": 0.5,
          "xanchor": "center",
          "xref": "paper",
          "y": 0,
          "yanchor": "top",
          "yref": "paper",
          "yshift": -30
         },
         {
          "font": {
           "size": 20
          },
          "showarrow": false,
          "text": "Energia",
          "textangle": -90,
          "x": 0,
          "xanchor": "right",
          "xref": "paper",
          "xshift": -40,
          "y": 0.5,
          "yanchor": "middle",
          "yref": "paper"
         }
        ],
        "font": {
         "size": 20
        },
        "height": 700,
        "legend": {
         "itemsizing": "constant"
        },
        "margin": {
         "b": 75,
         "l": 35,
         "r": 35,
         "t": 35
        },
        "showlegend": true,
        "template": {
         "data": {
          "bar": [
           {
            "error_x": {
             "color": "#2a3f5f"
            },
            "error_y": {
             "color": "#2a3f5f"
            },
            "marker": {
             "line": {
              "color": "#E5ECF6",
              "width": 0.5
             },
             "pattern": {
              "fillmode": "overlay",
              "size": 10,
              "solidity": 0.2
             }
            },
            "type": "bar"
           }
          ],
          "barpolar": [
           {
            "marker": {
             "line": {
              "color": "#E5ECF6",
              "width": 0.5
             },
             "pattern": {
              "fillmode": "overlay",
              "size": 10,
              "solidity": 0.2
             }
            },
            "type": "barpolar"
           }
          ],
          "carpet": [
           {
            "aaxis": {
             "endlinecolor": "#2a3f5f",
             "gridcolor": "white",
             "linecolor": "white",
             "minorgridcolor": "white",
             "startlinecolor": "#2a3f5f"
            },
            "baxis": {
             "endlinecolor": "#2a3f5f",
             "gridcolor": "white",
             "linecolor": "white",
             "minorgridcolor": "white",
             "startlinecolor": "#2a3f5f"
            },
            "type": "carpet"
           }
          ],
          "choropleth": [
           {
            "colorbar": {
             "outlinewidth": 0,
             "ticks": ""
            },
            "type": "choropleth"
           }
          ],
          "contour": [
           {
            "colorbar": {
             "outlinewidth": 0,
             "ticks": ""
            },
            "colorscale": [
             [
              0,
              "#0d0887"
             ],
             [
              0.1111111111111111,
              "#46039f"
             ],
             [
              0.2222222222222222,
              "#7201a8"
             ],
             [
              0.3333333333333333,
              "#9c179e"
             ],
             [
              0.4444444444444444,
              "#bd3786"
             ],
             [
              0.5555555555555556,
              "#d8576b"
             ],
             [
              0.6666666666666666,
              "#ed7953"
             ],
             [
              0.7777777777777778,
              "#fb9f3a"
             ],
             [
              0.8888888888888888,
              "#fdca26"
             ],
             [
              1,
              "#f0f921"
             ]
            ],
            "type": "contour"
           }
          ],
          "contourcarpet": [
           {
            "colorbar": {
             "outlinewidth": 0,
             "ticks": ""
            },
            "type": "contourcarpet"
           }
          ],
          "heatmap": [
           {
            "colorbar": {
             "outlinewidth": 0,
             "ticks": ""
            },
            "colorscale": [
             [
              0,
              "#0d0887"
             ],
             [
              0.1111111111111111,
              "#46039f"
             ],
             [
              0.2222222222222222,
              "#7201a8"
             ],
             [
              0.3333333333333333,
              "#9c179e"
             ],
             [
              0.4444444444444444,
              "#bd3786"
             ],
             [
              0.5555555555555556,
              "#d8576b"
             ],
             [
              0.6666666666666666,
              "#ed7953"
             ],
             [
              0.7777777777777778,
              "#fb9f3a"
             ],
             [
              0.8888888888888888,
              "#fdca26"
             ],
             [
              1,
              "#f0f921"
             ]
            ],
            "type": "heatmap"
           }
          ],
          "heatmapgl": [
           {
            "colorbar": {
             "outlinewidth": 0,
             "ticks": ""
            },
            "colorscale": [
             [
              0,
              "#0d0887"
             ],
             [
              0.1111111111111111,
              "#46039f"
             ],
             [
              0.2222222222222222,
              "#7201a8"
             ],
             [
              0.3333333333333333,
              "#9c179e"
             ],
             [
              0.4444444444444444,
              "#bd3786"
             ],
             [
              0.5555555555555556,
              "#d8576b"
             ],
             [
              0.6666666666666666,
              "#ed7953"
             ],
             [
              0.7777777777777778,
              "#fb9f3a"
             ],
             [
              0.8888888888888888,
              "#fdca26"
             ],
             [
              1,
              "#f0f921"
             ]
            ],
            "type": "heatmapgl"
           }
          ],
          "histogram": [
           {
            "marker": {
             "pattern": {
              "fillmode": "overlay",
              "size": 10,
              "solidity": 0.2
             }
            },
            "type": "histogram"
           }
          ],
          "histogram2d": [
           {
            "colorbar": {
             "outlinewidth": 0,
             "ticks": ""
            },
            "colorscale": [
             [
              0,
              "#0d0887"
             ],
             [
              0.1111111111111111,
              "#46039f"
             ],
             [
              0.2222222222222222,
              "#7201a8"
             ],
             [
              0.3333333333333333,
              "#9c179e"
             ],
             [
              0.4444444444444444,
              "#bd3786"
             ],
             [
              0.5555555555555556,
              "#d8576b"
             ],
             [
              0.6666666666666666,
              "#ed7953"
             ],
             [
              0.7777777777777778,
              "#fb9f3a"
             ],
             [
              0.8888888888888888,
              "#fdca26"
             ],
             [
              1,
              "#f0f921"
             ]
            ],
            "type": "histogram2d"
           }
          ],
          "histogram2dcontour": [
           {
            "colorbar": {
             "outlinewidth": 0,
             "ticks": ""
            },
            "colorscale": [
             [
              0,
              "#0d0887"
             ],
             [
              0.1111111111111111,
              "#46039f"
             ],
             [
              0.2222222222222222,
              "#7201a8"
             ],
             [
              0.3333333333333333,
              "#9c179e"
             ],
             [
              0.4444444444444444,
              "#bd3786"
             ],
             [
              0.5555555555555556,
              "#d8576b"
             ],
             [
              0.6666666666666666,
              "#ed7953"
             ],
             [
              0.7777777777777778,
              "#fb9f3a"
             ],
             [
              0.8888888888888888,
              "#fdca26"
             ],
             [
              1,
              "#f0f921"
             ]
            ],
            "type": "histogram2dcontour"
           }
          ],
          "mesh3d": [
           {
            "colorbar": {
             "outlinewidth": 0,
             "ticks": ""
            },
            "type": "mesh3d"
           }
          ],
          "parcoords": [
           {
            "line": {
             "colorbar": {
              "outlinewidth": 0,
              "ticks": ""
             }
            },
            "type": "parcoords"
           }
          ],
          "pie": [
           {
            "automargin": true,
            "type": "pie"
           }
          ],
          "scatter": [
           {
            "fillpattern": {
             "fillmode": "overlay",
             "size": 10,
             "solidity": 0.2
            },
            "type": "scatter"
           }
          ],
          "scatter3d": [
           {
            "line": {
             "colorbar": {
              "outlinewidth": 0,
              "ticks": ""
             }
            },
            "marker": {
             "colorbar": {
              "outlinewidth": 0,
              "ticks": ""
             }
            },
            "type": "scatter3d"
           }
          ],
          "scattercarpet": [
           {
            "marker": {
             "colorbar": {
              "outlinewidth": 0,
              "ticks": ""
             }
            },
            "type": "scattercarpet"
           }
          ],
          "scattergeo": [
           {
            "marker": {
             "colorbar": {
              "outlinewidth": 0,
              "ticks": ""
             }
            },
            "type": "scattergeo"
           }
          ],
          "scattergl": [
           {
            "marker": {
             "colorbar": {
              "outlinewidth": 0,
              "ticks": ""
             }
            },
            "type": "scattergl"
           }
          ],
          "scattermapbox": [
           {
            "marker": {
             "colorbar": {
              "outlinewidth": 0,
              "ticks": ""
             }
            },
            "type": "scattermapbox"
           }
          ],
          "scatterpolar": [
           {
            "marker": {
             "colorbar": {
              "outlinewidth": 0,
              "ticks": ""
             }
            },
            "type": "scatterpolar"
           }
          ],
          "scatterpolargl": [
           {
            "marker": {
             "colorbar": {
              "outlinewidth": 0,
              "ticks": ""
             }
            },
            "type": "scatterpolargl"
           }
          ],
          "scatterternary": [
           {
            "marker": {
             "colorbar": {
              "outlinewidth": 0,
              "ticks": ""
             }
            },
            "type": "scatterternary"
           }
          ],
          "surface": [
           {
            "colorbar": {
             "outlinewidth": 0,
             "ticks": ""
            },
            "colorscale": [
             [
              0,
              "#0d0887"
             ],
             [
              0.1111111111111111,
              "#46039f"
             ],
             [
              0.2222222222222222,
              "#7201a8"
             ],
             [
              0.3333333333333333,
              "#9c179e"
             ],
             [
              0.4444444444444444,
              "#bd3786"
             ],
             [
              0.5555555555555556,
              "#d8576b"
             ],
             [
              0.6666666666666666,
              "#ed7953"
             ],
             [
              0.7777777777777778,
              "#fb9f3a"
             ],
             [
              0.8888888888888888,
              "#fdca26"
             ],
             [
              1,
              "#f0f921"
             ]
            ],
            "type": "surface"
           }
          ],
          "table": [
           {
            "cells": {
             "fill": {
              "color": "#EBF0F8"
             },
             "line": {
              "color": "white"
             }
            },
            "header": {
             "fill": {
              "color": "#C8D4E3"
             },
             "line": {
              "color": "white"
             }
            },
            "type": "table"
           }
          ]
         },
         "layout": {
          "annotationdefaults": {
           "arrowcolor": "#2a3f5f",
           "arrowhead": 0,
           "arrowwidth": 1
          },
          "autotypenumbers": "strict",
          "coloraxis": {
           "colorbar": {
            "outlinewidth": 0,
            "ticks": ""
           }
          },
          "colorscale": {
           "diverging": [
            [
             0,
             "#8e0152"
            ],
            [
             0.1,
             "#c51b7d"
            ],
            [
             0.2,
             "#de77ae"
            ],
            [
             0.3,
             "#f1b6da"
            ],
            [
             0.4,
             "#fde0ef"
            ],
            [
             0.5,
             "#f7f7f7"
            ],
            [
             0.6,
             "#e6f5d0"
            ],
            [
             0.7,
             "#b8e186"
            ],
            [
             0.8,
             "#7fbc41"
            ],
            [
             0.9,
             "#4d9221"
            ],
            [
             1,
             "#276419"
            ]
           ],
           "sequential": [
            [
             0,
             "#0d0887"
            ],
            [
             0.1111111111111111,
             "#46039f"
            ],
            [
             0.2222222222222222,
             "#7201a8"
            ],
            [
             0.3333333333333333,
             "#9c179e"
            ],
            [
             0.4444444444444444,
             "#bd3786"
            ],
            [
             0.5555555555555556,
             "#d8576b"
            ],
            [
             0.6666666666666666,
             "#ed7953"
            ],
            [
             0.7777777777777778,
             "#fb9f3a"
            ],
            [
             0.8888888888888888,
             "#fdca26"
            ],
            [
             1,
             "#f0f921"
            ]
           ],
           "sequentialminus": [
            [
             0,
             "#0d0887"
            ],
            [
             0.1111111111111111,
             "#46039f"
            ],
            [
             0.2222222222222222,
             "#7201a8"
            ],
            [
             0.3333333333333333,
             "#9c179e"
            ],
            [
             0.4444444444444444,
             "#bd3786"
            ],
            [
             0.5555555555555556,
             "#d8576b"
            ],
            [
             0.6666666666666666,
             "#ed7953"
            ],
            [
             0.7777777777777778,
             "#fb9f3a"
            ],
            [
             0.8888888888888888,
             "#fdca26"
            ],
            [
             1,
             "#f0f921"
            ]
           ]
          },
          "colorway": [
           "#636efa",
           "#EF553B",
           "#00cc96",
           "#ab63fa",
           "#FFA15A",
           "#19d3f3",
           "#FF6692",
           "#B6E880",
           "#FF97FF",
           "#FECB52"
          ],
          "font": {
           "color": "#2a3f5f"
          },
          "geo": {
           "bgcolor": "white",
           "lakecolor": "white",
           "landcolor": "#E5ECF6",
           "showlakes": true,
           "showland": true,
           "subunitcolor": "white"
          },
          "hoverlabel": {
           "align": "left"
          },
          "hovermode": "closest",
          "mapbox": {
           "style": "light"
          },
          "paper_bgcolor": "white",
          "plot_bgcolor": "#E5ECF6",
          "polar": {
           "angularaxis": {
            "gridcolor": "white",
            "linecolor": "white",
            "ticks": ""
           },
           "bgcolor": "#E5ECF6",
           "radialaxis": {
            "gridcolor": "white",
            "linecolor": "white",
            "ticks": ""
           }
          },
          "scene": {
           "xaxis": {
            "backgroundcolor": "#E5ECF6",
            "gridcolor": "white",
            "gridwidth": 2,
            "linecolor": "white",
            "showbackground": true,
            "ticks": "",
            "zerolinecolor": "white"
           },
           "yaxis": {
            "backgroundcolor": "#E5ECF6",
            "gridcolor": "white",
            "gridwidth": 2,
            "linecolor": "white",
            "showbackground": true,
            "ticks": "",
            "zerolinecolor": "white"
           },
           "zaxis": {
            "backgroundcolor": "#E5ECF6",
            "gridcolor": "white",
            "gridwidth": 2,
            "linecolor": "white",
            "showbackground": true,
            "ticks": "",
            "zerolinecolor": "white"
           }
          },
          "shapedefaults": {
           "line": {
            "color": "#2a3f5f"
           }
          },
          "ternary": {
           "aaxis": {
            "gridcolor": "white",
            "linecolor": "white",
            "ticks": ""
           },
           "baxis": {
            "gridcolor": "white",
            "linecolor": "white",
            "ticks": ""
           },
           "bgcolor": "#E5ECF6",
           "caxis": {
            "gridcolor": "white",
            "linecolor": "white",
            "ticks": ""
           }
          },
          "title": {
           "x": 0.05
          },
          "xaxis": {
           "automargin": true,
           "gridcolor": "white",
           "linecolor": "white",
           "ticks": "",
           "title": {
            "standoff": 15
           },
           "zerolinecolor": "white",
           "zerolinewidth": 2
          },
          "yaxis": {
           "automargin": true,
           "gridcolor": "white",
           "linecolor": "white",
           "ticks": "",
           "title": {
            "standoff": 15
           },
           "zerolinecolor": "white",
           "zerolinewidth": 2
          }
         }
        },
        "width": 2200,
        "xaxis": {
         "anchor": "y",
         "domain": [
          0,
          0.2125
         ],
         "matches": "x13",
         "showticklabels": false,
         "title": {
          "text": ""
         }
        },
        "xaxis10": {
         "anchor": "y10",
         "domain": [
          0.2625,
          0.475
         ],
         "matches": "x14",
         "showticklabels": false,
         "title": {
          "text": ""
         }
        },
        "xaxis11": {
         "anchor": "y11",
         "domain": [
          0.525,
          0.7375
         ],
         "matches": "x15",
         "showticklabels": false,
         "title": {
          "text": ""
         }
        },
        "xaxis12": {
         "anchor": "y12",
         "domain": [
          0.7875,
          1
         ],
         "matches": "x16",
         "showticklabels": false,
         "title": {
          "text": ""
         }
        },
        "xaxis13": {
         "anchor": "y13",
         "domain": [
          0,
          0.2125
         ],
         "showticklabels": false,
         "title": {
          "text": ""
         }
        },
        "xaxis14": {
         "anchor": "y14",
         "domain": [
          0.2625,
          0.475
         ],
         "showticklabels": false,
         "title": {
          "text": ""
         }
        },
        "xaxis15": {
         "anchor": "y15",
         "domain": [
          0.525,
          0.7375
         ],
         "showticklabels": false,
         "title": {
          "text": ""
         }
        },
        "xaxis16": {
         "anchor": "y16",
         "domain": [
          0.7875,
          1
         ],
         "showticklabels": false,
         "title": {
          "text": ""
         }
        },
        "xaxis2": {
         "anchor": "y2",
         "domain": [
          0.2625,
          0.475
         ],
         "matches": "x14",
         "showticklabels": false,
         "title": {
          "text": ""
         }
        },
        "xaxis3": {
         "anchor": "y3",
         "domain": [
          0.525,
          0.7375
         ],
         "matches": "x15",
         "showticklabels": false,
         "title": {
          "text": ""
         }
        },
        "xaxis4": {
         "anchor": "y4",
         "domain": [
          0.7875,
          1
         ],
         "matches": "x16",
         "showticklabels": false,
         "title": {
          "text": ""
         }
        },
        "xaxis5": {
         "anchor": "y5",
         "domain": [
          0,
          0.2125
         ],
         "matches": "x13",
         "showticklabels": false,
         "title": {
          "text": ""
         }
        },
        "xaxis6": {
         "anchor": "y6",
         "domain": [
          0.2625,
          0.475
         ],
         "matches": "x14",
         "showticklabels": false,
         "title": {
          "text": ""
         }
        },
        "xaxis7": {
         "anchor": "y7",
         "domain": [
          0.525,
          0.7375
         ],
         "matches": "x15",
         "showticklabels": false,
         "title": {
          "text": ""
         }
        },
        "xaxis8": {
         "anchor": "y8",
         "domain": [
          0.7875,
          1
         ],
         "matches": "x16",
         "showticklabels": false,
         "title": {
          "text": ""
         }
        },
        "xaxis9": {
         "anchor": "y9",
         "domain": [
          0,
          0.2125
         ],
         "matches": "x13",
         "showticklabels": false,
         "title": {
          "text": ""
         }
        },
        "yaxis": {
         "anchor": "x",
         "domain": [
          0.84375,
          1
         ],
         "title": {
          "text": ""
         }
        },
        "yaxis10": {
         "anchor": "x10",
         "domain": [
          0.28125,
          0.4375
         ],
         "matches": "y9",
         "showticklabels": false
        },
        "yaxis11": {
         "anchor": "x11",
         "domain": [
          0.28125,
          0.4375
         ],
         "matches": "y9",
         "showticklabels": false
        },
        "yaxis12": {
         "anchor": "x12",
         "domain": [
          0.28125,
          0.4375
         ],
         "matches": "y9",
         "showticklabels": false
        },
        "yaxis13": {
         "anchor": "x13",
         "domain": [
          0,
          0.15625
         ]
        },
        "yaxis14": {
         "anchor": "x14",
         "domain": [
          0,
          0.15625
         ],
         "matches": "y13",
         "showticklabels": false
        },
        "yaxis15": {
         "anchor": "x15",
         "domain": [
          0,
          0.15625
         ],
         "matches": "y13",
         "showticklabels": false
        },
        "yaxis16": {
         "anchor": "x16",
         "domain": [
          0,
          0.15625
         ],
         "matches": "y13",
         "showticklabels": false
        },
        "yaxis2": {
         "anchor": "x2",
         "domain": [
          0.84375,
          1
         ],
         "matches": "y",
         "showticklabels": false
        },
        "yaxis3": {
         "anchor": "x3",
         "domain": [
          0.84375,
          1
         ],
         "matches": "y",
         "showticklabels": false
        },
        "yaxis4": {
         "anchor": "x4",
         "domain": [
          0.84375,
          1
         ],
         "matches": "y",
         "showticklabels": false
        },
        "yaxis5": {
         "anchor": "x5",
         "domain": [
          0.5625,
          0.71875
         ]
        },
        "yaxis6": {
         "anchor": "x6",
         "domain": [
          0.5625,
          0.71875
         ],
         "matches": "y5",
         "showticklabels": false
        },
        "yaxis7": {
         "anchor": "x7",
         "domain": [
          0.5625,
          0.71875
         ],
         "matches": "y5",
         "showticklabels": false
        },
        "yaxis8": {
         "anchor": "x8",
         "domain": [
          0.5625,
          0.71875
         ],
         "matches": "y5",
         "showticklabels": false
        },
        "yaxis9": {
         "anchor": "x9",
         "domain": [
          0.28125,
          0.4375
         ]
        }
       }
      }
     },
     "metadata": {},
     "output_type": "display_data"
    }
   ],
   "source": [
    "copia_resultados_vqe_4 = resultados_vqe_4.copy()\n",
    "\n",
    "combinacoes = [f\"{otimizador} e {ansatz}\" for otimizador, ansatz in copia_resultados_vqe_4.index.unique()]\n",
    "cores = {'valor_otimo_encontrado': 'blue', 'valor_otimo_encontrado_simulador': 'orange', 'valor_otimo_encontrado_computador_quantico':'cyan'}\n",
    "nomes = {'valor_otimo_encontrado': 'simulador local', 'valor_otimo_encontrado_simulador': 'simulador QASM', 'valor_otimo_encontrado_computador_quantico':'IBM Brisbane'}\n",
    "cols_appeared = []\n",
    "\n",
    "fig = make_subplots(rows=4, cols=4, subplot_titles=combinacoes, \n",
    "                    x_title='Métodos de execução', y_title='Energia', \n",
    "                    shared_xaxes=True, shared_yaxes=True)\n",
    "\n",
    "for i, (otimizador, ansatz) in enumerate(copia_resultados_vqe_4.index.unique()):\n",
    "\n",
    "    df_subset = copia_resultados_vqe_4.loc[\n",
    "        (copia_resultados_vqe_4.index.get_level_values(0) == otimizador) &\n",
    "        (copia_resultados_vqe_4.index.get_level_values(1) == ansatz)\n",
    "    ]\n",
    "\n",
    "    valores = df_subset[['valor_otimo_encontrado', 'valor_otimo_encontrado_simulador']]\n",
    "\n",
    "    for idx, col in enumerate(valores.columns):\n",
    "        nome_fig = f'{otimizador}-{ansatz}-{col}'\n",
    "        legenda_bool = False\n",
    "\n",
    "        if not col in cols_appeared:\n",
    "            nome_fig = f'{nomes[col]}'\n",
    "            legenda_bool = True\n",
    "        \n",
    "        fig.add_trace(\n",
    "            go.Bar(x=[col], \n",
    "                    y=[valores[col].values[0]],\n",
    "                    name=nome_fig,\n",
    "                    marker_color=cores[col],\n",
    "                    showlegend=legenda_bool),\n",
    "            row=(i // 4) + 1,\n",
    "            col=(i % 4) + 1\n",
    "        )\n",
    "        cols_appeared.append(col)\n",
    "\n",
    "        fig.update_xaxes(showticklabels=False, title_text='', row=(i // 4) + 1, col=(i % 4) + 1)\n",
    "\n",
    "fig.update_layout(\n",
    "                  showlegend=True,\n",
    "                  xaxis_title='',\n",
    "                  yaxis_title='',\n",
    "                  width = 2200,\n",
    "                  height = 700,\n",
    "                  font = dict(size=20),\n",
    "                  legend_itemsizing=\"constant\",\n",
    "                  margin = dict(l=35, r=35, t=35, b=75),\n",
    "                  )\n",
    "\n",
    "fig.update_annotations(font_size=20)\n",
    "\n",
    "nome_figura = f\"figuras_dados/vqe_4_comparacao_valor_metodos_mesmo_y.png\"\n",
    "fig.write_image(nome_figura, width=2200, height=700)\n",
    "\n",
    "fig.show()"
   ]
  },
  {
   "cell_type": "code",
   "execution_count": 7,
   "metadata": {},
   "outputs": [
    {
     "data": {
      "application/vnd.plotly.v1+json": {
       "config": {
        "plotlyServerURL": "https://plot.ly"
       },
       "data": [
        {
         "marker": {
          "color": "blue"
         },
         "name": "simulador local",
         "showlegend": true,
         "type": "bar",
         "x": [
          "valor_otimo_encontrado"
         ],
         "xaxis": "x",
         "y": [
          -0.0753015262032718
         ],
         "yaxis": "y"
        },
        {
         "marker": {
          "color": "orange"
         },
         "name": "simulador QASM",
         "showlegend": true,
         "type": "bar",
         "x": [
          "valor_otimo_encontrado_simulador"
         ],
         "xaxis": "x",
         "y": [
          -0.10986263240378172
         ],
         "yaxis": "y"
        },
        {
         "marker": {
          "color": "blue"
         },
         "name": "L_BFGS_B-full_mixer-valor_otimo_encontrado",
         "showlegend": false,
         "type": "bar",
         "x": [
          "valor_otimo_encontrado"
         ],
         "xaxis": "x2",
         "y": [
          0.008450233903212182
         ],
         "yaxis": "y2"
        },
        {
         "marker": {
          "color": "orange"
         },
         "name": "L_BFGS_B-full_mixer-valor_otimo_encontrado_simulador",
         "showlegend": false,
         "type": "bar",
         "x": [
          "valor_otimo_encontrado_simulador"
         ],
         "xaxis": "x2",
         "y": [
          -0.00827213026523118
         ],
         "yaxis": "y2"
        },
        {
         "marker": {
          "color": "blue"
         },
         "name": "NFT-full_mixer-valor_otimo_encontrado",
         "showlegend": false,
         "type": "bar",
         "x": [
          "valor_otimo_encontrado"
         ],
         "xaxis": "x3",
         "y": [
          0.17409765880707861
         ],
         "yaxis": "y3"
        },
        {
         "marker": {
          "color": "orange"
         },
         "name": "NFT-full_mixer-valor_otimo_encontrado_simulador",
         "showlegend": false,
         "type": "bar",
         "x": [
          "valor_otimo_encontrado_simulador"
         ],
         "xaxis": "x3",
         "y": [
          -0.1136495817652304
         ],
         "yaxis": "y3"
        },
        {
         "marker": {
          "color": "blue"
         },
         "name": "SLSQP-full_mixer-valor_otimo_encontrado",
         "showlegend": false,
         "type": "bar",
         "x": [
          "valor_otimo_encontrado"
         ],
         "xaxis": "x4",
         "y": [
          -0.05725303636607668
         ],
         "yaxis": "y4"
        },
        {
         "marker": {
          "color": "orange"
         },
         "name": "SLSQP-full_mixer-valor_otimo_encontrado_simulador",
         "showlegend": false,
         "type": "bar",
         "x": [
          "valor_otimo_encontrado_simulador"
         ],
         "xaxis": "x4",
         "y": [
          0.04304765860980919
         ],
         "yaxis": "y4"
        },
        {
         "marker": {
          "color": "blue"
         },
         "name": "COBYLA-mixer_default-valor_otimo_encontrado",
         "showlegend": false,
         "type": "bar",
         "x": [
          "valor_otimo_encontrado"
         ],
         "xaxis": "x5",
         "y": [
          -0.7759684852119448
         ],
         "yaxis": "y5"
        },
        {
         "marker": {
          "color": "orange"
         },
         "name": "COBYLA-mixer_default-valor_otimo_encontrado_simulador",
         "showlegend": false,
         "type": "bar",
         "x": [
          "valor_otimo_encontrado_simulador"
         ],
         "xaxis": "x5",
         "y": [
          -0.7012079418809332
         ],
         "yaxis": "y5"
        },
        {
         "marker": {
          "color": "blue"
         },
         "name": "L_BFGS_B-mixer_default-valor_otimo_encontrado",
         "showlegend": false,
         "type": "bar",
         "x": [
          "valor_otimo_encontrado"
         ],
         "xaxis": "x6",
         "y": [
          -0.7872059972841141
         ],
         "yaxis": "y6"
        },
        {
         "marker": {
          "color": "orange"
         },
         "name": "L_BFGS_B-mixer_default-valor_otimo_encontrado_simulador",
         "showlegend": false,
         "type": "bar",
         "x": [
          "valor_otimo_encontrado_simulador"
         ],
         "xaxis": "x6",
         "y": [
          -0.7859488575490629
         ],
         "yaxis": "y6"
        },
        {
         "marker": {
          "color": "blue"
         },
         "name": "NFT-mixer_default-valor_otimo_encontrado",
         "showlegend": false,
         "type": "bar",
         "x": [
          "valor_otimo_encontrado"
         ],
         "xaxis": "x7",
         "y": [
          0.03333849368022505
         ],
         "yaxis": "y7"
        },
        {
         "marker": {
          "color": "orange"
         },
         "name": "NFT-mixer_default-valor_otimo_encontrado_simulador",
         "showlegend": false,
         "type": "bar",
         "x": [
          "valor_otimo_encontrado_simulador"
         ],
         "xaxis": "x7",
         "y": [
          -0.8966365726819462
         ],
         "yaxis": "y7"
        },
        {
         "marker": {
          "color": "blue"
         },
         "name": "SLSQP-mixer_default-valor_otimo_encontrado",
         "showlegend": false,
         "type": "bar",
         "x": [
          "valor_otimo_encontrado"
         ],
         "xaxis": "x8",
         "y": [
          0.40620350382749876
         ],
         "yaxis": "y8"
        },
        {
         "marker": {
          "color": "orange"
         },
         "name": "SLSQP-mixer_default-valor_otimo_encontrado_simulador",
         "showlegend": false,
         "type": "bar",
         "x": [
          "valor_otimo_encontrado_simulador"
         ],
         "xaxis": "x8",
         "y": [
          0.054473988263607054
         ],
         "yaxis": "y8"
        },
        {
         "marker": {
          "color": "blue"
         },
         "name": "COBYLA-parity_ring_mixer-valor_otimo_encontrado",
         "showlegend": false,
         "type": "bar",
         "x": [
          "valor_otimo_encontrado"
         ],
         "xaxis": "x9",
         "y": [
          -0.907474861145903
         ],
         "yaxis": "y9"
        },
        {
         "marker": {
          "color": "orange"
         },
         "name": "COBYLA-parity_ring_mixer-valor_otimo_encontrado_simulador",
         "showlegend": false,
         "type": "bar",
         "x": [
          "valor_otimo_encontrado_simulador"
         ],
         "xaxis": "x9",
         "y": [
          -0.8831323733672608
         ],
         "yaxis": "y9"
        },
        {
         "marker": {
          "color": "blue"
         },
         "name": "L_BFGS_B-parity_ring_mixer-valor_otimo_encontrado",
         "showlegend": false,
         "type": "bar",
         "x": [
          "valor_otimo_encontrado"
         ],
         "xaxis": "x10",
         "y": [
          -0.7638108587796946
         ],
         "yaxis": "y10"
        },
        {
         "marker": {
          "color": "orange"
         },
         "name": "L_BFGS_B-parity_ring_mixer-valor_otimo_encontrado_simulador",
         "showlegend": false,
         "type": "bar",
         "x": [
          "valor_otimo_encontrado_simulador"
         ],
         "xaxis": "x10",
         "y": [
          -0.7173185729496062
         ],
         "yaxis": "y10"
        },
        {
         "marker": {
          "color": "blue"
         },
         "name": "NFT-parity_ring_mixer-valor_otimo_encontrado",
         "showlegend": false,
         "type": "bar",
         "x": [
          "valor_otimo_encontrado"
         ],
         "xaxis": "x11",
         "y": [
          0.9176537468350007
         ],
         "yaxis": "y11"
        },
        {
         "marker": {
          "color": "orange"
         },
         "name": "NFT-parity_ring_mixer-valor_otimo_encontrado_simulador",
         "showlegend": false,
         "type": "bar",
         "x": [
          "valor_otimo_encontrado_simulador"
         ],
         "xaxis": "x11",
         "y": [
          0.8219661314955355
         ],
         "yaxis": "y11"
        },
        {
         "marker": {
          "color": "blue"
         },
         "name": "SLSQP-parity_ring_mixer-valor_otimo_encontrado",
         "showlegend": false,
         "type": "bar",
         "x": [
          "valor_otimo_encontrado"
         ],
         "xaxis": "x12",
         "y": [
          0.014530194440221883
         ],
         "yaxis": "y12"
        },
        {
         "marker": {
          "color": "orange"
         },
         "name": "SLSQP-parity_ring_mixer-valor_otimo_encontrado_simulador",
         "showlegend": false,
         "type": "bar",
         "x": [
          "valor_otimo_encontrado_simulador"
         ],
         "xaxis": "x12",
         "y": [
          0.06613461767295124
         ],
         "yaxis": "y12"
        },
        {
         "marker": {
          "color": "blue"
         },
         "name": "COBYLA-ring_mixer-valor_otimo_encontrado",
         "showlegend": false,
         "type": "bar",
         "x": [
          "valor_otimo_encontrado"
         ],
         "xaxis": "x13",
         "y": [
          -0.842604409623077
         ],
         "yaxis": "y13"
        },
        {
         "marker": {
          "color": "orange"
         },
         "name": "COBYLA-ring_mixer-valor_otimo_encontrado_simulador",
         "showlegend": false,
         "type": "bar",
         "x": [
          "valor_otimo_encontrado_simulador"
         ],
         "xaxis": "x13",
         "y": [
          -0.8669780813682708
         ],
         "yaxis": "y13"
        },
        {
         "marker": {
          "color": "blue"
         },
         "name": "L_BFGS_B-ring_mixer-valor_otimo_encontrado",
         "showlegend": false,
         "type": "bar",
         "x": [
          "valor_otimo_encontrado"
         ],
         "xaxis": "x14",
         "y": [
          -0.8220329827445713
         ],
         "yaxis": "y14"
        },
        {
         "marker": {
          "color": "orange"
         },
         "name": "L_BFGS_B-ring_mixer-valor_otimo_encontrado_simulador",
         "showlegend": false,
         "type": "bar",
         "x": [
          "valor_otimo_encontrado_simulador"
         ],
         "xaxis": "x14",
         "y": [
          -0.7829139271665182
         ],
         "yaxis": "y14"
        },
        {
         "marker": {
          "color": "blue"
         },
         "name": "NFT-ring_mixer-valor_otimo_encontrado",
         "showlegend": false,
         "type": "bar",
         "x": [
          "valor_otimo_encontrado"
         ],
         "xaxis": "x15",
         "y": [
          0.9168642220185842
         ],
         "yaxis": "y15"
        },
        {
         "marker": {
          "color": "orange"
         },
         "name": "NFT-ring_mixer-valor_otimo_encontrado_simulador",
         "showlegend": false,
         "type": "bar",
         "x": [
          "valor_otimo_encontrado_simulador"
         ],
         "xaxis": "x15",
         "y": [
          0.709052380973918
         ],
         "yaxis": "y15"
        },
        {
         "marker": {
          "color": "blue"
         },
         "name": "SLSQP-ring_mixer-valor_otimo_encontrado",
         "showlegend": false,
         "type": "bar",
         "x": [
          "valor_otimo_encontrado"
         ],
         "xaxis": "x16",
         "y": [
          0.29429127558237783
         ],
         "yaxis": "y16"
        },
        {
         "marker": {
          "color": "orange"
         },
         "name": "SLSQP-ring_mixer-valor_otimo_encontrado_simulador",
         "showlegend": false,
         "type": "bar",
         "x": [
          "valor_otimo_encontrado_simulador"
         ],
         "xaxis": "x16",
         "y": [
          0.4296756194268348
         ],
         "yaxis": "y16"
        }
       ],
       "layout": {
        "annotations": [
         {
          "font": {
           "size": 20
          },
          "showarrow": false,
          "text": "COBYLA e full_mixer",
          "x": 0.10625,
          "xanchor": "center",
          "xref": "paper",
          "y": 1,
          "yanchor": "bottom",
          "yref": "paper"
         },
         {
          "font": {
           "size": 20
          },
          "showarrow": false,
          "text": "L_BFGS_B e full_mixer",
          "x": 0.36875,
          "xanchor": "center",
          "xref": "paper",
          "y": 1,
          "yanchor": "bottom",
          "yref": "paper"
         },
         {
          "font": {
           "size": 20
          },
          "showarrow": false,
          "text": "NFT e full_mixer",
          "x": 0.6312500000000001,
          "xanchor": "center",
          "xref": "paper",
          "y": 1,
          "yanchor": "bottom",
          "yref": "paper"
         },
         {
          "font": {
           "size": 20
          },
          "showarrow": false,
          "text": "SLSQP e full_mixer",
          "x": 0.89375,
          "xanchor": "center",
          "xref": "paper",
          "y": 1,
          "yanchor": "bottom",
          "yref": "paper"
         },
         {
          "font": {
           "size": 20
          },
          "showarrow": false,
          "text": "COBYLA e mixer_default",
          "x": 0.10625,
          "xanchor": "center",
          "xref": "paper",
          "y": 0.71875,
          "yanchor": "bottom",
          "yref": "paper"
         },
         {
          "font": {
           "size": 20
          },
          "showarrow": false,
          "text": "L_BFGS_B e mixer_default",
          "x": 0.36875,
          "xanchor": "center",
          "xref": "paper",
          "y": 0.71875,
          "yanchor": "bottom",
          "yref": "paper"
         },
         {
          "font": {
           "size": 20
          },
          "showarrow": false,
          "text": "NFT e mixer_default",
          "x": 0.6312500000000001,
          "xanchor": "center",
          "xref": "paper",
          "y": 0.71875,
          "yanchor": "bottom",
          "yref": "paper"
         },
         {
          "font": {
           "size": 20
          },
          "showarrow": false,
          "text": "SLSQP e mixer_default",
          "x": 0.89375,
          "xanchor": "center",
          "xref": "paper",
          "y": 0.71875,
          "yanchor": "bottom",
          "yref": "paper"
         },
         {
          "font": {
           "size": 20
          },
          "showarrow": false,
          "text": "COBYLA e parity_ring_mixer",
          "x": 0.10625,
          "xanchor": "center",
          "xref": "paper",
          "y": 0.4375,
          "yanchor": "bottom",
          "yref": "paper"
         },
         {
          "font": {
           "size": 20
          },
          "showarrow": false,
          "text": "L_BFGS_B e parity_ring_mixer",
          "x": 0.36875,
          "xanchor": "center",
          "xref": "paper",
          "y": 0.4375,
          "yanchor": "bottom",
          "yref": "paper"
         },
         {
          "font": {
           "size": 20
          },
          "showarrow": false,
          "text": "NFT e parity_ring_mixer",
          "x": 0.6312500000000001,
          "xanchor": "center",
          "xref": "paper",
          "y": 0.4375,
          "yanchor": "bottom",
          "yref": "paper"
         },
         {
          "font": {
           "size": 20
          },
          "showarrow": false,
          "text": "SLSQP e parity_ring_mixer",
          "x": 0.89375,
          "xanchor": "center",
          "xref": "paper",
          "y": 0.4375,
          "yanchor": "bottom",
          "yref": "paper"
         },
         {
          "font": {
           "size": 20
          },
          "showarrow": false,
          "text": "COBYLA e ring_mixer",
          "x": 0.10625,
          "xanchor": "center",
          "xref": "paper",
          "y": 0.15625,
          "yanchor": "bottom",
          "yref": "paper"
         },
         {
          "font": {
           "size": 20
          },
          "showarrow": false,
          "text": "L_BFGS_B e ring_mixer",
          "x": 0.36875,
          "xanchor": "center",
          "xref": "paper",
          "y": 0.15625,
          "yanchor": "bottom",
          "yref": "paper"
         },
         {
          "font": {
           "size": 20
          },
          "showarrow": false,
          "text": "NFT e ring_mixer",
          "x": 0.6312500000000001,
          "xanchor": "center",
          "xref": "paper",
          "y": 0.15625,
          "yanchor": "bottom",
          "yref": "paper"
         },
         {
          "font": {
           "size": 20
          },
          "showarrow": false,
          "text": "SLSQP e ring_mixer",
          "x": 0.89375,
          "xanchor": "center",
          "xref": "paper",
          "y": 0.15625,
          "yanchor": "bottom",
          "yref": "paper"
         },
         {
          "font": {
           "size": 20
          },
          "showarrow": false,
          "text": "Métodos de execução",
          "x": 0.5,
          "xanchor": "center",
          "xref": "paper",
          "y": 0,
          "yanchor": "top",
          "yref": "paper",
          "yshift": -30
         },
         {
          "font": {
           "size": 20
          },
          "showarrow": false,
          "text": "Energia",
          "textangle": -90,
          "x": 0,
          "xanchor": "right",
          "xref": "paper",
          "xshift": -40,
          "y": 0.5,
          "yanchor": "middle",
          "yref": "paper"
         }
        ],
        "font": {
         "size": 20
        },
        "height": 700,
        "legend": {
         "itemsizing": "constant"
        },
        "margin": {
         "b": 75,
         "l": 35,
         "r": 35,
         "t": 35
        },
        "showlegend": true,
        "template": {
         "data": {
          "bar": [
           {
            "error_x": {
             "color": "#2a3f5f"
            },
            "error_y": {
             "color": "#2a3f5f"
            },
            "marker": {
             "line": {
              "color": "#E5ECF6",
              "width": 0.5
             },
             "pattern": {
              "fillmode": "overlay",
              "size": 10,
              "solidity": 0.2
             }
            },
            "type": "bar"
           }
          ],
          "barpolar": [
           {
            "marker": {
             "line": {
              "color": "#E5ECF6",
              "width": 0.5
             },
             "pattern": {
              "fillmode": "overlay",
              "size": 10,
              "solidity": 0.2
             }
            },
            "type": "barpolar"
           }
          ],
          "carpet": [
           {
            "aaxis": {
             "endlinecolor": "#2a3f5f",
             "gridcolor": "white",
             "linecolor": "white",
             "minorgridcolor": "white",
             "startlinecolor": "#2a3f5f"
            },
            "baxis": {
             "endlinecolor": "#2a3f5f",
             "gridcolor": "white",
             "linecolor": "white",
             "minorgridcolor": "white",
             "startlinecolor": "#2a3f5f"
            },
            "type": "carpet"
           }
          ],
          "choropleth": [
           {
            "colorbar": {
             "outlinewidth": 0,
             "ticks": ""
            },
            "type": "choropleth"
           }
          ],
          "contour": [
           {
            "colorbar": {
             "outlinewidth": 0,
             "ticks": ""
            },
            "colorscale": [
             [
              0,
              "#0d0887"
             ],
             [
              0.1111111111111111,
              "#46039f"
             ],
             [
              0.2222222222222222,
              "#7201a8"
             ],
             [
              0.3333333333333333,
              "#9c179e"
             ],
             [
              0.4444444444444444,
              "#bd3786"
             ],
             [
              0.5555555555555556,
              "#d8576b"
             ],
             [
              0.6666666666666666,
              "#ed7953"
             ],
             [
              0.7777777777777778,
              "#fb9f3a"
             ],
             [
              0.8888888888888888,
              "#fdca26"
             ],
             [
              1,
              "#f0f921"
             ]
            ],
            "type": "contour"
           }
          ],
          "contourcarpet": [
           {
            "colorbar": {
             "outlinewidth": 0,
             "ticks": ""
            },
            "type": "contourcarpet"
           }
          ],
          "heatmap": [
           {
            "colorbar": {
             "outlinewidth": 0,
             "ticks": ""
            },
            "colorscale": [
             [
              0,
              "#0d0887"
             ],
             [
              0.1111111111111111,
              "#46039f"
             ],
             [
              0.2222222222222222,
              "#7201a8"
             ],
             [
              0.3333333333333333,
              "#9c179e"
             ],
             [
              0.4444444444444444,
              "#bd3786"
             ],
             [
              0.5555555555555556,
              "#d8576b"
             ],
             [
              0.6666666666666666,
              "#ed7953"
             ],
             [
              0.7777777777777778,
              "#fb9f3a"
             ],
             [
              0.8888888888888888,
              "#fdca26"
             ],
             [
              1,
              "#f0f921"
             ]
            ],
            "type": "heatmap"
           }
          ],
          "heatmapgl": [
           {
            "colorbar": {
             "outlinewidth": 0,
             "ticks": ""
            },
            "colorscale": [
             [
              0,
              "#0d0887"
             ],
             [
              0.1111111111111111,
              "#46039f"
             ],
             [
              0.2222222222222222,
              "#7201a8"
             ],
             [
              0.3333333333333333,
              "#9c179e"
             ],
             [
              0.4444444444444444,
              "#bd3786"
             ],
             [
              0.5555555555555556,
              "#d8576b"
             ],
             [
              0.6666666666666666,
              "#ed7953"
             ],
             [
              0.7777777777777778,
              "#fb9f3a"
             ],
             [
              0.8888888888888888,
              "#fdca26"
             ],
             [
              1,
              "#f0f921"
             ]
            ],
            "type": "heatmapgl"
           }
          ],
          "histogram": [
           {
            "marker": {
             "pattern": {
              "fillmode": "overlay",
              "size": 10,
              "solidity": 0.2
             }
            },
            "type": "histogram"
           }
          ],
          "histogram2d": [
           {
            "colorbar": {
             "outlinewidth": 0,
             "ticks": ""
            },
            "colorscale": [
             [
              0,
              "#0d0887"
             ],
             [
              0.1111111111111111,
              "#46039f"
             ],
             [
              0.2222222222222222,
              "#7201a8"
             ],
             [
              0.3333333333333333,
              "#9c179e"
             ],
             [
              0.4444444444444444,
              "#bd3786"
             ],
             [
              0.5555555555555556,
              "#d8576b"
             ],
             [
              0.6666666666666666,
              "#ed7953"
             ],
             [
              0.7777777777777778,
              "#fb9f3a"
             ],
             [
              0.8888888888888888,
              "#fdca26"
             ],
             [
              1,
              "#f0f921"
             ]
            ],
            "type": "histogram2d"
           }
          ],
          "histogram2dcontour": [
           {
            "colorbar": {
             "outlinewidth": 0,
             "ticks": ""
            },
            "colorscale": [
             [
              0,
              "#0d0887"
             ],
             [
              0.1111111111111111,
              "#46039f"
             ],
             [
              0.2222222222222222,
              "#7201a8"
             ],
             [
              0.3333333333333333,
              "#9c179e"
             ],
             [
              0.4444444444444444,
              "#bd3786"
             ],
             [
              0.5555555555555556,
              "#d8576b"
             ],
             [
              0.6666666666666666,
              "#ed7953"
             ],
             [
              0.7777777777777778,
              "#fb9f3a"
             ],
             [
              0.8888888888888888,
              "#fdca26"
             ],
             [
              1,
              "#f0f921"
             ]
            ],
            "type": "histogram2dcontour"
           }
          ],
          "mesh3d": [
           {
            "colorbar": {
             "outlinewidth": 0,
             "ticks": ""
            },
            "type": "mesh3d"
           }
          ],
          "parcoords": [
           {
            "line": {
             "colorbar": {
              "outlinewidth": 0,
              "ticks": ""
             }
            },
            "type": "parcoords"
           }
          ],
          "pie": [
           {
            "automargin": true,
            "type": "pie"
           }
          ],
          "scatter": [
           {
            "fillpattern": {
             "fillmode": "overlay",
             "size": 10,
             "solidity": 0.2
            },
            "type": "scatter"
           }
          ],
          "scatter3d": [
           {
            "line": {
             "colorbar": {
              "outlinewidth": 0,
              "ticks": ""
             }
            },
            "marker": {
             "colorbar": {
              "outlinewidth": 0,
              "ticks": ""
             }
            },
            "type": "scatter3d"
           }
          ],
          "scattercarpet": [
           {
            "marker": {
             "colorbar": {
              "outlinewidth": 0,
              "ticks": ""
             }
            },
            "type": "scattercarpet"
           }
          ],
          "scattergeo": [
           {
            "marker": {
             "colorbar": {
              "outlinewidth": 0,
              "ticks": ""
             }
            },
            "type": "scattergeo"
           }
          ],
          "scattergl": [
           {
            "marker": {
             "colorbar": {
              "outlinewidth": 0,
              "ticks": ""
             }
            },
            "type": "scattergl"
           }
          ],
          "scattermapbox": [
           {
            "marker": {
             "colorbar": {
              "outlinewidth": 0,
              "ticks": ""
             }
            },
            "type": "scattermapbox"
           }
          ],
          "scatterpolar": [
           {
            "marker": {
             "colorbar": {
              "outlinewidth": 0,
              "ticks": ""
             }
            },
            "type": "scatterpolar"
           }
          ],
          "scatterpolargl": [
           {
            "marker": {
             "colorbar": {
              "outlinewidth": 0,
              "ticks": ""
             }
            },
            "type": "scatterpolargl"
           }
          ],
          "scatterternary": [
           {
            "marker": {
             "colorbar": {
              "outlinewidth": 0,
              "ticks": ""
             }
            },
            "type": "scatterternary"
           }
          ],
          "surface": [
           {
            "colorbar": {
             "outlinewidth": 0,
             "ticks": ""
            },
            "colorscale": [
             [
              0,
              "#0d0887"
             ],
             [
              0.1111111111111111,
              "#46039f"
             ],
             [
              0.2222222222222222,
              "#7201a8"
             ],
             [
              0.3333333333333333,
              "#9c179e"
             ],
             [
              0.4444444444444444,
              "#bd3786"
             ],
             [
              0.5555555555555556,
              "#d8576b"
             ],
             [
              0.6666666666666666,
              "#ed7953"
             ],
             [
              0.7777777777777778,
              "#fb9f3a"
             ],
             [
              0.8888888888888888,
              "#fdca26"
             ],
             [
              1,
              "#f0f921"
             ]
            ],
            "type": "surface"
           }
          ],
          "table": [
           {
            "cells": {
             "fill": {
              "color": "#EBF0F8"
             },
             "line": {
              "color": "white"
             }
            },
            "header": {
             "fill": {
              "color": "#C8D4E3"
             },
             "line": {
              "color": "white"
             }
            },
            "type": "table"
           }
          ]
         },
         "layout": {
          "annotationdefaults": {
           "arrowcolor": "#2a3f5f",
           "arrowhead": 0,
           "arrowwidth": 1
          },
          "autotypenumbers": "strict",
          "coloraxis": {
           "colorbar": {
            "outlinewidth": 0,
            "ticks": ""
           }
          },
          "colorscale": {
           "diverging": [
            [
             0,
             "#8e0152"
            ],
            [
             0.1,
             "#c51b7d"
            ],
            [
             0.2,
             "#de77ae"
            ],
            [
             0.3,
             "#f1b6da"
            ],
            [
             0.4,
             "#fde0ef"
            ],
            [
             0.5,
             "#f7f7f7"
            ],
            [
             0.6,
             "#e6f5d0"
            ],
            [
             0.7,
             "#b8e186"
            ],
            [
             0.8,
             "#7fbc41"
            ],
            [
             0.9,
             "#4d9221"
            ],
            [
             1,
             "#276419"
            ]
           ],
           "sequential": [
            [
             0,
             "#0d0887"
            ],
            [
             0.1111111111111111,
             "#46039f"
            ],
            [
             0.2222222222222222,
             "#7201a8"
            ],
            [
             0.3333333333333333,
             "#9c179e"
            ],
            [
             0.4444444444444444,
             "#bd3786"
            ],
            [
             0.5555555555555556,
             "#d8576b"
            ],
            [
             0.6666666666666666,
             "#ed7953"
            ],
            [
             0.7777777777777778,
             "#fb9f3a"
            ],
            [
             0.8888888888888888,
             "#fdca26"
            ],
            [
             1,
             "#f0f921"
            ]
           ],
           "sequentialminus": [
            [
             0,
             "#0d0887"
            ],
            [
             0.1111111111111111,
             "#46039f"
            ],
            [
             0.2222222222222222,
             "#7201a8"
            ],
            [
             0.3333333333333333,
             "#9c179e"
            ],
            [
             0.4444444444444444,
             "#bd3786"
            ],
            [
             0.5555555555555556,
             "#d8576b"
            ],
            [
             0.6666666666666666,
             "#ed7953"
            ],
            [
             0.7777777777777778,
             "#fb9f3a"
            ],
            [
             0.8888888888888888,
             "#fdca26"
            ],
            [
             1,
             "#f0f921"
            ]
           ]
          },
          "colorway": [
           "#636efa",
           "#EF553B",
           "#00cc96",
           "#ab63fa",
           "#FFA15A",
           "#19d3f3",
           "#FF6692",
           "#B6E880",
           "#FF97FF",
           "#FECB52"
          ],
          "font": {
           "color": "#2a3f5f"
          },
          "geo": {
           "bgcolor": "white",
           "lakecolor": "white",
           "landcolor": "#E5ECF6",
           "showlakes": true,
           "showland": true,
           "subunitcolor": "white"
          },
          "hoverlabel": {
           "align": "left"
          },
          "hovermode": "closest",
          "mapbox": {
           "style": "light"
          },
          "paper_bgcolor": "white",
          "plot_bgcolor": "#E5ECF6",
          "polar": {
           "angularaxis": {
            "gridcolor": "white",
            "linecolor": "white",
            "ticks": ""
           },
           "bgcolor": "#E5ECF6",
           "radialaxis": {
            "gridcolor": "white",
            "linecolor": "white",
            "ticks": ""
           }
          },
          "scene": {
           "xaxis": {
            "backgroundcolor": "#E5ECF6",
            "gridcolor": "white",
            "gridwidth": 2,
            "linecolor": "white",
            "showbackground": true,
            "ticks": "",
            "zerolinecolor": "white"
           },
           "yaxis": {
            "backgroundcolor": "#E5ECF6",
            "gridcolor": "white",
            "gridwidth": 2,
            "linecolor": "white",
            "showbackground": true,
            "ticks": "",
            "zerolinecolor": "white"
           },
           "zaxis": {
            "backgroundcolor": "#E5ECF6",
            "gridcolor": "white",
            "gridwidth": 2,
            "linecolor": "white",
            "showbackground": true,
            "ticks": "",
            "zerolinecolor": "white"
           }
          },
          "shapedefaults": {
           "line": {
            "color": "#2a3f5f"
           }
          },
          "ternary": {
           "aaxis": {
            "gridcolor": "white",
            "linecolor": "white",
            "ticks": ""
           },
           "baxis": {
            "gridcolor": "white",
            "linecolor": "white",
            "ticks": ""
           },
           "bgcolor": "#E5ECF6",
           "caxis": {
            "gridcolor": "white",
            "linecolor": "white",
            "ticks": ""
           }
          },
          "title": {
           "x": 0.05
          },
          "xaxis": {
           "automargin": true,
           "gridcolor": "white",
           "linecolor": "white",
           "ticks": "",
           "title": {
            "standoff": 15
           },
           "zerolinecolor": "white",
           "zerolinewidth": 2
          },
          "yaxis": {
           "automargin": true,
           "gridcolor": "white",
           "linecolor": "white",
           "ticks": "",
           "title": {
            "standoff": 15
           },
           "zerolinecolor": "white",
           "zerolinewidth": 2
          }
         }
        },
        "width": 2200,
        "xaxis": {
         "anchor": "y",
         "domain": [
          0,
          0.2125
         ],
         "showticklabels": false,
         "title": {
          "text": ""
         }
        },
        "xaxis10": {
         "anchor": "y10",
         "domain": [
          0.2625,
          0.475
         ],
         "showticklabels": false,
         "title": {
          "text": ""
         }
        },
        "xaxis11": {
         "anchor": "y11",
         "domain": [
          0.525,
          0.7375
         ],
         "showticklabels": false,
         "title": {
          "text": ""
         }
        },
        "xaxis12": {
         "anchor": "y12",
         "domain": [
          0.7875,
          1
         ],
         "showticklabels": false,
         "title": {
          "text": ""
         }
        },
        "xaxis13": {
         "anchor": "y13",
         "domain": [
          0,
          0.2125
         ],
         "showticklabels": false,
         "title": {
          "text": ""
         }
        },
        "xaxis14": {
         "anchor": "y14",
         "domain": [
          0.2625,
          0.475
         ],
         "showticklabels": false,
         "title": {
          "text": ""
         }
        },
        "xaxis15": {
         "anchor": "y15",
         "domain": [
          0.525,
          0.7375
         ],
         "showticklabels": false,
         "title": {
          "text": ""
         }
        },
        "xaxis16": {
         "anchor": "y16",
         "domain": [
          0.7875,
          1
         ],
         "showticklabels": false,
         "title": {
          "text": ""
         }
        },
        "xaxis2": {
         "anchor": "y2",
         "domain": [
          0.2625,
          0.475
         ],
         "showticklabels": false,
         "title": {
          "text": ""
         }
        },
        "xaxis3": {
         "anchor": "y3",
         "domain": [
          0.525,
          0.7375
         ],
         "showticklabels": false,
         "title": {
          "text": ""
         }
        },
        "xaxis4": {
         "anchor": "y4",
         "domain": [
          0.7875,
          1
         ],
         "showticklabels": false,
         "title": {
          "text": ""
         }
        },
        "xaxis5": {
         "anchor": "y5",
         "domain": [
          0,
          0.2125
         ],
         "showticklabels": false,
         "title": {
          "text": ""
         }
        },
        "xaxis6": {
         "anchor": "y6",
         "domain": [
          0.2625,
          0.475
         ],
         "showticklabels": false,
         "title": {
          "text": ""
         }
        },
        "xaxis7": {
         "anchor": "y7",
         "domain": [
          0.525,
          0.7375
         ],
         "showticklabels": false,
         "title": {
          "text": ""
         }
        },
        "xaxis8": {
         "anchor": "y8",
         "domain": [
          0.7875,
          1
         ],
         "showticklabels": false,
         "title": {
          "text": ""
         }
        },
        "xaxis9": {
         "anchor": "y9",
         "domain": [
          0,
          0.2125
         ],
         "showticklabels": false,
         "title": {
          "text": ""
         }
        },
        "yaxis": {
         "anchor": "x",
         "domain": [
          0.84375,
          1
         ],
         "title": {
          "text": ""
         }
        },
        "yaxis10": {
         "anchor": "x10",
         "domain": [
          0.28125,
          0.4375
         ]
        },
        "yaxis11": {
         "anchor": "x11",
         "domain": [
          0.28125,
          0.4375
         ]
        },
        "yaxis12": {
         "anchor": "x12",
         "domain": [
          0.28125,
          0.4375
         ]
        },
        "yaxis13": {
         "anchor": "x13",
         "domain": [
          0,
          0.15625
         ]
        },
        "yaxis14": {
         "anchor": "x14",
         "domain": [
          0,
          0.15625
         ]
        },
        "yaxis15": {
         "anchor": "x15",
         "domain": [
          0,
          0.15625
         ]
        },
        "yaxis16": {
         "anchor": "x16",
         "domain": [
          0,
          0.15625
         ]
        },
        "yaxis2": {
         "anchor": "x2",
         "domain": [
          0.84375,
          1
         ]
        },
        "yaxis3": {
         "anchor": "x3",
         "domain": [
          0.84375,
          1
         ]
        },
        "yaxis4": {
         "anchor": "x4",
         "domain": [
          0.84375,
          1
         ]
        },
        "yaxis5": {
         "anchor": "x5",
         "domain": [
          0.5625,
          0.71875
         ]
        },
        "yaxis6": {
         "anchor": "x6",
         "domain": [
          0.5625,
          0.71875
         ]
        },
        "yaxis7": {
         "anchor": "x7",
         "domain": [
          0.5625,
          0.71875
         ]
        },
        "yaxis8": {
         "anchor": "x8",
         "domain": [
          0.5625,
          0.71875
         ]
        },
        "yaxis9": {
         "anchor": "x9",
         "domain": [
          0.28125,
          0.4375
         ]
        }
       }
      }
     },
     "metadata": {},
     "output_type": "display_data"
    }
   ],
   "source": [
    "copia_resultados_qaoa_4 = resultados_qaoa_4.copy()\n",
    "\n",
    "combinacoes = [f\"{otimizador} e {mixer}\" for otimizador, mixer in copia_resultados_qaoa_4.index.unique()]\n",
    "cores = {'valor_otimo_encontrado': 'blue', 'valor_otimo_encontrado_simulador': 'orange', 'valor_otimo_encontrado_computador_quantico':'cyan'}\n",
    "nomes = {'valor_otimo_encontrado': 'simulador local', 'valor_otimo_encontrado_simulador': 'simulador QASM', 'valor_otimo_encontrado_computador_quantico':'IBM Brisbane'}\n",
    "cols_appeared = []\n",
    "\n",
    "fig = make_subplots(rows=4, cols=4, subplot_titles=combinacoes, \n",
    "                    x_title='Métodos de execução', y_title='Energia', \n",
    "                    shared_xaxes=False, shared_yaxes=False)\n",
    "\n",
    "for i, (otimizador, mixer) in enumerate(copia_resultados_qaoa_4.index.unique()):\n",
    "\n",
    "    df_subset = copia_resultados_qaoa_4.loc[\n",
    "        (copia_resultados_qaoa_4.index.get_level_values(0) == otimizador) &\n",
    "        (copia_resultados_qaoa_4.index.get_level_values(1) == mixer)\n",
    "    ]\n",
    "\n",
    "    valores = df_subset[['valor_otimo_encontrado', 'valor_otimo_encontrado_simulador']]\n",
    "\n",
    "    for idx, col in enumerate(valores.columns):\n",
    "        nome_fig = f'{otimizador}-{mixer}-{col}'\n",
    "        legenda_bool = False\n",
    "\n",
    "        if not col in cols_appeared:\n",
    "            nome_fig = f'{nomes[col]}'\n",
    "            legenda_bool = True\n",
    "        \n",
    "        fig.add_trace(\n",
    "            go.Bar(x=[col], \n",
    "                    y=[valores[col].values[0]],\n",
    "                    name=nome_fig,\n",
    "                    marker_color=cores[col],\n",
    "                    showlegend=legenda_bool),\n",
    "            row=(i // 4) + 1,\n",
    "            col=(i % 4) + 1\n",
    "        )\n",
    "        cols_appeared.append(col)\n",
    "\n",
    "        fig.update_xaxes(showticklabels=False, title_text='', row=(i // 4) + 1, col=(i % 4) + 1)\n",
    "\n",
    "fig.update_layout(\n",
    "                  showlegend=True,\n",
    "                  xaxis_title='',\n",
    "                  yaxis_title='',\n",
    "                  width = 2200,\n",
    "                  height = 700,\n",
    "                  font = dict(size=20),\n",
    "                  legend_itemsizing=\"constant\",\n",
    "                  margin = dict(l=35, r=35, t=35, b=75),\n",
    "                  )\n",
    "\n",
    "fig.update_annotations(font_size=20)\n",
    "\n",
    "nome_figura = f\"figuras_dados/qaoa_4_comparacao_valor_metodos.png\"\n",
    "fig.write_image(nome_figura, width=2200, height=700)\n",
    "\n",
    "fig.show()"
   ]
  },
  {
   "cell_type": "code",
   "execution_count": 8,
   "metadata": {},
   "outputs": [
    {
     "data": {
      "application/vnd.plotly.v1+json": {
       "config": {
        "plotlyServerURL": "https://plot.ly"
       },
       "data": [
        {
         "marker": {
          "color": "blue"
         },
         "name": "simulador local",
         "showlegend": true,
         "type": "bar",
         "x": [
          "valor_otimo_encontrado"
         ],
         "xaxis": "x",
         "y": [
          -0.0753015262032718
         ],
         "yaxis": "y"
        },
        {
         "marker": {
          "color": "orange"
         },
         "name": "simulador QASM",
         "showlegend": true,
         "type": "bar",
         "x": [
          "valor_otimo_encontrado_simulador"
         ],
         "xaxis": "x",
         "y": [
          -0.10986263240378172
         ],
         "yaxis": "y"
        },
        {
         "marker": {
          "color": "blue"
         },
         "name": "L_BFGS_B-full_mixer-valor_otimo_encontrado",
         "showlegend": false,
         "type": "bar",
         "x": [
          "valor_otimo_encontrado"
         ],
         "xaxis": "x2",
         "y": [
          0.008450233903212182
         ],
         "yaxis": "y2"
        },
        {
         "marker": {
          "color": "orange"
         },
         "name": "L_BFGS_B-full_mixer-valor_otimo_encontrado_simulador",
         "showlegend": false,
         "type": "bar",
         "x": [
          "valor_otimo_encontrado_simulador"
         ],
         "xaxis": "x2",
         "y": [
          -0.00827213026523118
         ],
         "yaxis": "y2"
        },
        {
         "marker": {
          "color": "blue"
         },
         "name": "NFT-full_mixer-valor_otimo_encontrado",
         "showlegend": false,
         "type": "bar",
         "x": [
          "valor_otimo_encontrado"
         ],
         "xaxis": "x3",
         "y": [
          0.17409765880707861
         ],
         "yaxis": "y3"
        },
        {
         "marker": {
          "color": "orange"
         },
         "name": "NFT-full_mixer-valor_otimo_encontrado_simulador",
         "showlegend": false,
         "type": "bar",
         "x": [
          "valor_otimo_encontrado_simulador"
         ],
         "xaxis": "x3",
         "y": [
          -0.1136495817652304
         ],
         "yaxis": "y3"
        },
        {
         "marker": {
          "color": "blue"
         },
         "name": "SLSQP-full_mixer-valor_otimo_encontrado",
         "showlegend": false,
         "type": "bar",
         "x": [
          "valor_otimo_encontrado"
         ],
         "xaxis": "x4",
         "y": [
          -0.05725303636607668
         ],
         "yaxis": "y4"
        },
        {
         "marker": {
          "color": "orange"
         },
         "name": "SLSQP-full_mixer-valor_otimo_encontrado_simulador",
         "showlegend": false,
         "type": "bar",
         "x": [
          "valor_otimo_encontrado_simulador"
         ],
         "xaxis": "x4",
         "y": [
          0.04304765860980919
         ],
         "yaxis": "y4"
        },
        {
         "marker": {
          "color": "blue"
         },
         "name": "COBYLA-mixer_default-valor_otimo_encontrado",
         "showlegend": false,
         "type": "bar",
         "x": [
          "valor_otimo_encontrado"
         ],
         "xaxis": "x5",
         "y": [
          -0.7759684852119448
         ],
         "yaxis": "y5"
        },
        {
         "marker": {
          "color": "orange"
         },
         "name": "COBYLA-mixer_default-valor_otimo_encontrado_simulador",
         "showlegend": false,
         "type": "bar",
         "x": [
          "valor_otimo_encontrado_simulador"
         ],
         "xaxis": "x5",
         "y": [
          -0.7012079418809332
         ],
         "yaxis": "y5"
        },
        {
         "marker": {
          "color": "blue"
         },
         "name": "L_BFGS_B-mixer_default-valor_otimo_encontrado",
         "showlegend": false,
         "type": "bar",
         "x": [
          "valor_otimo_encontrado"
         ],
         "xaxis": "x6",
         "y": [
          -0.7872059972841141
         ],
         "yaxis": "y6"
        },
        {
         "marker": {
          "color": "orange"
         },
         "name": "L_BFGS_B-mixer_default-valor_otimo_encontrado_simulador",
         "showlegend": false,
         "type": "bar",
         "x": [
          "valor_otimo_encontrado_simulador"
         ],
         "xaxis": "x6",
         "y": [
          -0.7859488575490629
         ],
         "yaxis": "y6"
        },
        {
         "marker": {
          "color": "blue"
         },
         "name": "NFT-mixer_default-valor_otimo_encontrado",
         "showlegend": false,
         "type": "bar",
         "x": [
          "valor_otimo_encontrado"
         ],
         "xaxis": "x7",
         "y": [
          0.03333849368022505
         ],
         "yaxis": "y7"
        },
        {
         "marker": {
          "color": "orange"
         },
         "name": "NFT-mixer_default-valor_otimo_encontrado_simulador",
         "showlegend": false,
         "type": "bar",
         "x": [
          "valor_otimo_encontrado_simulador"
         ],
         "xaxis": "x7",
         "y": [
          -0.8966365726819462
         ],
         "yaxis": "y7"
        },
        {
         "marker": {
          "color": "blue"
         },
         "name": "SLSQP-mixer_default-valor_otimo_encontrado",
         "showlegend": false,
         "type": "bar",
         "x": [
          "valor_otimo_encontrado"
         ],
         "xaxis": "x8",
         "y": [
          0.40620350382749876
         ],
         "yaxis": "y8"
        },
        {
         "marker": {
          "color": "orange"
         },
         "name": "SLSQP-mixer_default-valor_otimo_encontrado_simulador",
         "showlegend": false,
         "type": "bar",
         "x": [
          "valor_otimo_encontrado_simulador"
         ],
         "xaxis": "x8",
         "y": [
          0.054473988263607054
         ],
         "yaxis": "y8"
        },
        {
         "marker": {
          "color": "blue"
         },
         "name": "COBYLA-parity_ring_mixer-valor_otimo_encontrado",
         "showlegend": false,
         "type": "bar",
         "x": [
          "valor_otimo_encontrado"
         ],
         "xaxis": "x9",
         "y": [
          -0.907474861145903
         ],
         "yaxis": "y9"
        },
        {
         "marker": {
          "color": "orange"
         },
         "name": "COBYLA-parity_ring_mixer-valor_otimo_encontrado_simulador",
         "showlegend": false,
         "type": "bar",
         "x": [
          "valor_otimo_encontrado_simulador"
         ],
         "xaxis": "x9",
         "y": [
          -0.8831323733672608
         ],
         "yaxis": "y9"
        },
        {
         "marker": {
          "color": "blue"
         },
         "name": "L_BFGS_B-parity_ring_mixer-valor_otimo_encontrado",
         "showlegend": false,
         "type": "bar",
         "x": [
          "valor_otimo_encontrado"
         ],
         "xaxis": "x10",
         "y": [
          -0.7638108587796946
         ],
         "yaxis": "y10"
        },
        {
         "marker": {
          "color": "orange"
         },
         "name": "L_BFGS_B-parity_ring_mixer-valor_otimo_encontrado_simulador",
         "showlegend": false,
         "type": "bar",
         "x": [
          "valor_otimo_encontrado_simulador"
         ],
         "xaxis": "x10",
         "y": [
          -0.7173185729496062
         ],
         "yaxis": "y10"
        },
        {
         "marker": {
          "color": "blue"
         },
         "name": "NFT-parity_ring_mixer-valor_otimo_encontrado",
         "showlegend": false,
         "type": "bar",
         "x": [
          "valor_otimo_encontrado"
         ],
         "xaxis": "x11",
         "y": [
          0.9176537468350007
         ],
         "yaxis": "y11"
        },
        {
         "marker": {
          "color": "orange"
         },
         "name": "NFT-parity_ring_mixer-valor_otimo_encontrado_simulador",
         "showlegend": false,
         "type": "bar",
         "x": [
          "valor_otimo_encontrado_simulador"
         ],
         "xaxis": "x11",
         "y": [
          0.8219661314955355
         ],
         "yaxis": "y11"
        },
        {
         "marker": {
          "color": "blue"
         },
         "name": "SLSQP-parity_ring_mixer-valor_otimo_encontrado",
         "showlegend": false,
         "type": "bar",
         "x": [
          "valor_otimo_encontrado"
         ],
         "xaxis": "x12",
         "y": [
          0.014530194440221883
         ],
         "yaxis": "y12"
        },
        {
         "marker": {
          "color": "orange"
         },
         "name": "SLSQP-parity_ring_mixer-valor_otimo_encontrado_simulador",
         "showlegend": false,
         "type": "bar",
         "x": [
          "valor_otimo_encontrado_simulador"
         ],
         "xaxis": "x12",
         "y": [
          0.06613461767295124
         ],
         "yaxis": "y12"
        },
        {
         "marker": {
          "color": "blue"
         },
         "name": "COBYLA-ring_mixer-valor_otimo_encontrado",
         "showlegend": false,
         "type": "bar",
         "x": [
          "valor_otimo_encontrado"
         ],
         "xaxis": "x13",
         "y": [
          -0.842604409623077
         ],
         "yaxis": "y13"
        },
        {
         "marker": {
          "color": "orange"
         },
         "name": "COBYLA-ring_mixer-valor_otimo_encontrado_simulador",
         "showlegend": false,
         "type": "bar",
         "x": [
          "valor_otimo_encontrado_simulador"
         ],
         "xaxis": "x13",
         "y": [
          -0.8669780813682708
         ],
         "yaxis": "y13"
        },
        {
         "marker": {
          "color": "blue"
         },
         "name": "L_BFGS_B-ring_mixer-valor_otimo_encontrado",
         "showlegend": false,
         "type": "bar",
         "x": [
          "valor_otimo_encontrado"
         ],
         "xaxis": "x14",
         "y": [
          -0.8220329827445713
         ],
         "yaxis": "y14"
        },
        {
         "marker": {
          "color": "orange"
         },
         "name": "L_BFGS_B-ring_mixer-valor_otimo_encontrado_simulador",
         "showlegend": false,
         "type": "bar",
         "x": [
          "valor_otimo_encontrado_simulador"
         ],
         "xaxis": "x14",
         "y": [
          -0.7829139271665182
         ],
         "yaxis": "y14"
        },
        {
         "marker": {
          "color": "blue"
         },
         "name": "NFT-ring_mixer-valor_otimo_encontrado",
         "showlegend": false,
         "type": "bar",
         "x": [
          "valor_otimo_encontrado"
         ],
         "xaxis": "x15",
         "y": [
          0.9168642220185842
         ],
         "yaxis": "y15"
        },
        {
         "marker": {
          "color": "orange"
         },
         "name": "NFT-ring_mixer-valor_otimo_encontrado_simulador",
         "showlegend": false,
         "type": "bar",
         "x": [
          "valor_otimo_encontrado_simulador"
         ],
         "xaxis": "x15",
         "y": [
          0.709052380973918
         ],
         "yaxis": "y15"
        },
        {
         "marker": {
          "color": "blue"
         },
         "name": "SLSQP-ring_mixer-valor_otimo_encontrado",
         "showlegend": false,
         "type": "bar",
         "x": [
          "valor_otimo_encontrado"
         ],
         "xaxis": "x16",
         "y": [
          0.29429127558237783
         ],
         "yaxis": "y16"
        },
        {
         "marker": {
          "color": "orange"
         },
         "name": "SLSQP-ring_mixer-valor_otimo_encontrado_simulador",
         "showlegend": false,
         "type": "bar",
         "x": [
          "valor_otimo_encontrado_simulador"
         ],
         "xaxis": "x16",
         "y": [
          0.4296756194268348
         ],
         "yaxis": "y16"
        }
       ],
       "layout": {
        "annotations": [
         {
          "font": {
           "size": 20
          },
          "showarrow": false,
          "text": "COBYLA e full_mixer",
          "x": 0.10625,
          "xanchor": "center",
          "xref": "paper",
          "y": 1,
          "yanchor": "bottom",
          "yref": "paper"
         },
         {
          "font": {
           "size": 20
          },
          "showarrow": false,
          "text": "L_BFGS_B e full_mixer",
          "x": 0.36875,
          "xanchor": "center",
          "xref": "paper",
          "y": 1,
          "yanchor": "bottom",
          "yref": "paper"
         },
         {
          "font": {
           "size": 20
          },
          "showarrow": false,
          "text": "NFT e full_mixer",
          "x": 0.6312500000000001,
          "xanchor": "center",
          "xref": "paper",
          "y": 1,
          "yanchor": "bottom",
          "yref": "paper"
         },
         {
          "font": {
           "size": 20
          },
          "showarrow": false,
          "text": "SLSQP e full_mixer",
          "x": 0.89375,
          "xanchor": "center",
          "xref": "paper",
          "y": 1,
          "yanchor": "bottom",
          "yref": "paper"
         },
         {
          "font": {
           "size": 20
          },
          "showarrow": false,
          "text": "COBYLA e mixer_default",
          "x": 0.10625,
          "xanchor": "center",
          "xref": "paper",
          "y": 0.71875,
          "yanchor": "bottom",
          "yref": "paper"
         },
         {
          "font": {
           "size": 20
          },
          "showarrow": false,
          "text": "L_BFGS_B e mixer_default",
          "x": 0.36875,
          "xanchor": "center",
          "xref": "paper",
          "y": 0.71875,
          "yanchor": "bottom",
          "yref": "paper"
         },
         {
          "font": {
           "size": 20
          },
          "showarrow": false,
          "text": "NFT e mixer_default",
          "x": 0.6312500000000001,
          "xanchor": "center",
          "xref": "paper",
          "y": 0.71875,
          "yanchor": "bottom",
          "yref": "paper"
         },
         {
          "font": {
           "size": 20
          },
          "showarrow": false,
          "text": "SLSQP e mixer_default",
          "x": 0.89375,
          "xanchor": "center",
          "xref": "paper",
          "y": 0.71875,
          "yanchor": "bottom",
          "yref": "paper"
         },
         {
          "font": {
           "size": 20
          },
          "showarrow": false,
          "text": "COBYLA e parity_ring_mixer",
          "x": 0.10625,
          "xanchor": "center",
          "xref": "paper",
          "y": 0.4375,
          "yanchor": "bottom",
          "yref": "paper"
         },
         {
          "font": {
           "size": 20
          },
          "showarrow": false,
          "text": "L_BFGS_B e parity_ring_mixer",
          "x": 0.36875,
          "xanchor": "center",
          "xref": "paper",
          "y": 0.4375,
          "yanchor": "bottom",
          "yref": "paper"
         },
         {
          "font": {
           "size": 20
          },
          "showarrow": false,
          "text": "NFT e parity_ring_mixer",
          "x": 0.6312500000000001,
          "xanchor": "center",
          "xref": "paper",
          "y": 0.4375,
          "yanchor": "bottom",
          "yref": "paper"
         },
         {
          "font": {
           "size": 20
          },
          "showarrow": false,
          "text": "SLSQP e parity_ring_mixer",
          "x": 0.89375,
          "xanchor": "center",
          "xref": "paper",
          "y": 0.4375,
          "yanchor": "bottom",
          "yref": "paper"
         },
         {
          "font": {
           "size": 20
          },
          "showarrow": false,
          "text": "COBYLA e ring_mixer",
          "x": 0.10625,
          "xanchor": "center",
          "xref": "paper",
          "y": 0.15625,
          "yanchor": "bottom",
          "yref": "paper"
         },
         {
          "font": {
           "size": 20
          },
          "showarrow": false,
          "text": "L_BFGS_B e ring_mixer",
          "x": 0.36875,
          "xanchor": "center",
          "xref": "paper",
          "y": 0.15625,
          "yanchor": "bottom",
          "yref": "paper"
         },
         {
          "font": {
           "size": 20
          },
          "showarrow": false,
          "text": "NFT e ring_mixer",
          "x": 0.6312500000000001,
          "xanchor": "center",
          "xref": "paper",
          "y": 0.15625,
          "yanchor": "bottom",
          "yref": "paper"
         },
         {
          "font": {
           "size": 20
          },
          "showarrow": false,
          "text": "SLSQP e ring_mixer",
          "x": 0.89375,
          "xanchor": "center",
          "xref": "paper",
          "y": 0.15625,
          "yanchor": "bottom",
          "yref": "paper"
         },
         {
          "font": {
           "size": 20
          },
          "showarrow": false,
          "text": "Métodos de execução",
          "x": 0.5,
          "xanchor": "center",
          "xref": "paper",
          "y": 0,
          "yanchor": "top",
          "yref": "paper",
          "yshift": -30
         },
         {
          "font": {
           "size": 20
          },
          "showarrow": false,
          "text": "Energia",
          "textangle": -90,
          "x": 0,
          "xanchor": "right",
          "xref": "paper",
          "xshift": -40,
          "y": 0.5,
          "yanchor": "middle",
          "yref": "paper"
         }
        ],
        "font": {
         "size": 20
        },
        "height": 700,
        "legend": {
         "itemsizing": "constant"
        },
        "margin": {
         "b": 75,
         "l": 35,
         "r": 35,
         "t": 35
        },
        "showlegend": true,
        "template": {
         "data": {
          "bar": [
           {
            "error_x": {
             "color": "#2a3f5f"
            },
            "error_y": {
             "color": "#2a3f5f"
            },
            "marker": {
             "line": {
              "color": "#E5ECF6",
              "width": 0.5
             },
             "pattern": {
              "fillmode": "overlay",
              "size": 10,
              "solidity": 0.2
             }
            },
            "type": "bar"
           }
          ],
          "barpolar": [
           {
            "marker": {
             "line": {
              "color": "#E5ECF6",
              "width": 0.5
             },
             "pattern": {
              "fillmode": "overlay",
              "size": 10,
              "solidity": 0.2
             }
            },
            "type": "barpolar"
           }
          ],
          "carpet": [
           {
            "aaxis": {
             "endlinecolor": "#2a3f5f",
             "gridcolor": "white",
             "linecolor": "white",
             "minorgridcolor": "white",
             "startlinecolor": "#2a3f5f"
            },
            "baxis": {
             "endlinecolor": "#2a3f5f",
             "gridcolor": "white",
             "linecolor": "white",
             "minorgridcolor": "white",
             "startlinecolor": "#2a3f5f"
            },
            "type": "carpet"
           }
          ],
          "choropleth": [
           {
            "colorbar": {
             "outlinewidth": 0,
             "ticks": ""
            },
            "type": "choropleth"
           }
          ],
          "contour": [
           {
            "colorbar": {
             "outlinewidth": 0,
             "ticks": ""
            },
            "colorscale": [
             [
              0,
              "#0d0887"
             ],
             [
              0.1111111111111111,
              "#46039f"
             ],
             [
              0.2222222222222222,
              "#7201a8"
             ],
             [
              0.3333333333333333,
              "#9c179e"
             ],
             [
              0.4444444444444444,
              "#bd3786"
             ],
             [
              0.5555555555555556,
              "#d8576b"
             ],
             [
              0.6666666666666666,
              "#ed7953"
             ],
             [
              0.7777777777777778,
              "#fb9f3a"
             ],
             [
              0.8888888888888888,
              "#fdca26"
             ],
             [
              1,
              "#f0f921"
             ]
            ],
            "type": "contour"
           }
          ],
          "contourcarpet": [
           {
            "colorbar": {
             "outlinewidth": 0,
             "ticks": ""
            },
            "type": "contourcarpet"
           }
          ],
          "heatmap": [
           {
            "colorbar": {
             "outlinewidth": 0,
             "ticks": ""
            },
            "colorscale": [
             [
              0,
              "#0d0887"
             ],
             [
              0.1111111111111111,
              "#46039f"
             ],
             [
              0.2222222222222222,
              "#7201a8"
             ],
             [
              0.3333333333333333,
              "#9c179e"
             ],
             [
              0.4444444444444444,
              "#bd3786"
             ],
             [
              0.5555555555555556,
              "#d8576b"
             ],
             [
              0.6666666666666666,
              "#ed7953"
             ],
             [
              0.7777777777777778,
              "#fb9f3a"
             ],
             [
              0.8888888888888888,
              "#fdca26"
             ],
             [
              1,
              "#f0f921"
             ]
            ],
            "type": "heatmap"
           }
          ],
          "heatmapgl": [
           {
            "colorbar": {
             "outlinewidth": 0,
             "ticks": ""
            },
            "colorscale": [
             [
              0,
              "#0d0887"
             ],
             [
              0.1111111111111111,
              "#46039f"
             ],
             [
              0.2222222222222222,
              "#7201a8"
             ],
             [
              0.3333333333333333,
              "#9c179e"
             ],
             [
              0.4444444444444444,
              "#bd3786"
             ],
             [
              0.5555555555555556,
              "#d8576b"
             ],
             [
              0.6666666666666666,
              "#ed7953"
             ],
             [
              0.7777777777777778,
              "#fb9f3a"
             ],
             [
              0.8888888888888888,
              "#fdca26"
             ],
             [
              1,
              "#f0f921"
             ]
            ],
            "type": "heatmapgl"
           }
          ],
          "histogram": [
           {
            "marker": {
             "pattern": {
              "fillmode": "overlay",
              "size": 10,
              "solidity": 0.2
             }
            },
            "type": "histogram"
           }
          ],
          "histogram2d": [
           {
            "colorbar": {
             "outlinewidth": 0,
             "ticks": ""
            },
            "colorscale": [
             [
              0,
              "#0d0887"
             ],
             [
              0.1111111111111111,
              "#46039f"
             ],
             [
              0.2222222222222222,
              "#7201a8"
             ],
             [
              0.3333333333333333,
              "#9c179e"
             ],
             [
              0.4444444444444444,
              "#bd3786"
             ],
             [
              0.5555555555555556,
              "#d8576b"
             ],
             [
              0.6666666666666666,
              "#ed7953"
             ],
             [
              0.7777777777777778,
              "#fb9f3a"
             ],
             [
              0.8888888888888888,
              "#fdca26"
             ],
             [
              1,
              "#f0f921"
             ]
            ],
            "type": "histogram2d"
           }
          ],
          "histogram2dcontour": [
           {
            "colorbar": {
             "outlinewidth": 0,
             "ticks": ""
            },
            "colorscale": [
             [
              0,
              "#0d0887"
             ],
             [
              0.1111111111111111,
              "#46039f"
             ],
             [
              0.2222222222222222,
              "#7201a8"
             ],
             [
              0.3333333333333333,
              "#9c179e"
             ],
             [
              0.4444444444444444,
              "#bd3786"
             ],
             [
              0.5555555555555556,
              "#d8576b"
             ],
             [
              0.6666666666666666,
              "#ed7953"
             ],
             [
              0.7777777777777778,
              "#fb9f3a"
             ],
             [
              0.8888888888888888,
              "#fdca26"
             ],
             [
              1,
              "#f0f921"
             ]
            ],
            "type": "histogram2dcontour"
           }
          ],
          "mesh3d": [
           {
            "colorbar": {
             "outlinewidth": 0,
             "ticks": ""
            },
            "type": "mesh3d"
           }
          ],
          "parcoords": [
           {
            "line": {
             "colorbar": {
              "outlinewidth": 0,
              "ticks": ""
             }
            },
            "type": "parcoords"
           }
          ],
          "pie": [
           {
            "automargin": true,
            "type": "pie"
           }
          ],
          "scatter": [
           {
            "fillpattern": {
             "fillmode": "overlay",
             "size": 10,
             "solidity": 0.2
            },
            "type": "scatter"
           }
          ],
          "scatter3d": [
           {
            "line": {
             "colorbar": {
              "outlinewidth": 0,
              "ticks": ""
             }
            },
            "marker": {
             "colorbar": {
              "outlinewidth": 0,
              "ticks": ""
             }
            },
            "type": "scatter3d"
           }
          ],
          "scattercarpet": [
           {
            "marker": {
             "colorbar": {
              "outlinewidth": 0,
              "ticks": ""
             }
            },
            "type": "scattercarpet"
           }
          ],
          "scattergeo": [
           {
            "marker": {
             "colorbar": {
              "outlinewidth": 0,
              "ticks": ""
             }
            },
            "type": "scattergeo"
           }
          ],
          "scattergl": [
           {
            "marker": {
             "colorbar": {
              "outlinewidth": 0,
              "ticks": ""
             }
            },
            "type": "scattergl"
           }
          ],
          "scattermapbox": [
           {
            "marker": {
             "colorbar": {
              "outlinewidth": 0,
              "ticks": ""
             }
            },
            "type": "scattermapbox"
           }
          ],
          "scatterpolar": [
           {
            "marker": {
             "colorbar": {
              "outlinewidth": 0,
              "ticks": ""
             }
            },
            "type": "scatterpolar"
           }
          ],
          "scatterpolargl": [
           {
            "marker": {
             "colorbar": {
              "outlinewidth": 0,
              "ticks": ""
             }
            },
            "type": "scatterpolargl"
           }
          ],
          "scatterternary": [
           {
            "marker": {
             "colorbar": {
              "outlinewidth": 0,
              "ticks": ""
             }
            },
            "type": "scatterternary"
           }
          ],
          "surface": [
           {
            "colorbar": {
             "outlinewidth": 0,
             "ticks": ""
            },
            "colorscale": [
             [
              0,
              "#0d0887"
             ],
             [
              0.1111111111111111,
              "#46039f"
             ],
             [
              0.2222222222222222,
              "#7201a8"
             ],
             [
              0.3333333333333333,
              "#9c179e"
             ],
             [
              0.4444444444444444,
              "#bd3786"
             ],
             [
              0.5555555555555556,
              "#d8576b"
             ],
             [
              0.6666666666666666,
              "#ed7953"
             ],
             [
              0.7777777777777778,
              "#fb9f3a"
             ],
             [
              0.8888888888888888,
              "#fdca26"
             ],
             [
              1,
              "#f0f921"
             ]
            ],
            "type": "surface"
           }
          ],
          "table": [
           {
            "cells": {
             "fill": {
              "color": "#EBF0F8"
             },
             "line": {
              "color": "white"
             }
            },
            "header": {
             "fill": {
              "color": "#C8D4E3"
             },
             "line": {
              "color": "white"
             }
            },
            "type": "table"
           }
          ]
         },
         "layout": {
          "annotationdefaults": {
           "arrowcolor": "#2a3f5f",
           "arrowhead": 0,
           "arrowwidth": 1
          },
          "autotypenumbers": "strict",
          "coloraxis": {
           "colorbar": {
            "outlinewidth": 0,
            "ticks": ""
           }
          },
          "colorscale": {
           "diverging": [
            [
             0,
             "#8e0152"
            ],
            [
             0.1,
             "#c51b7d"
            ],
            [
             0.2,
             "#de77ae"
            ],
            [
             0.3,
             "#f1b6da"
            ],
            [
             0.4,
             "#fde0ef"
            ],
            [
             0.5,
             "#f7f7f7"
            ],
            [
             0.6,
             "#e6f5d0"
            ],
            [
             0.7,
             "#b8e186"
            ],
            [
             0.8,
             "#7fbc41"
            ],
            [
             0.9,
             "#4d9221"
            ],
            [
             1,
             "#276419"
            ]
           ],
           "sequential": [
            [
             0,
             "#0d0887"
            ],
            [
             0.1111111111111111,
             "#46039f"
            ],
            [
             0.2222222222222222,
             "#7201a8"
            ],
            [
             0.3333333333333333,
             "#9c179e"
            ],
            [
             0.4444444444444444,
             "#bd3786"
            ],
            [
             0.5555555555555556,
             "#d8576b"
            ],
            [
             0.6666666666666666,
             "#ed7953"
            ],
            [
             0.7777777777777778,
             "#fb9f3a"
            ],
            [
             0.8888888888888888,
             "#fdca26"
            ],
            [
             1,
             "#f0f921"
            ]
           ],
           "sequentialminus": [
            [
             0,
             "#0d0887"
            ],
            [
             0.1111111111111111,
             "#46039f"
            ],
            [
             0.2222222222222222,
             "#7201a8"
            ],
            [
             0.3333333333333333,
             "#9c179e"
            ],
            [
             0.4444444444444444,
             "#bd3786"
            ],
            [
             0.5555555555555556,
             "#d8576b"
            ],
            [
             0.6666666666666666,
             "#ed7953"
            ],
            [
             0.7777777777777778,
             "#fb9f3a"
            ],
            [
             0.8888888888888888,
             "#fdca26"
            ],
            [
             1,
             "#f0f921"
            ]
           ]
          },
          "colorway": [
           "#636efa",
           "#EF553B",
           "#00cc96",
           "#ab63fa",
           "#FFA15A",
           "#19d3f3",
           "#FF6692",
           "#B6E880",
           "#FF97FF",
           "#FECB52"
          ],
          "font": {
           "color": "#2a3f5f"
          },
          "geo": {
           "bgcolor": "white",
           "lakecolor": "white",
           "landcolor": "#E5ECF6",
           "showlakes": true,
           "showland": true,
           "subunitcolor": "white"
          },
          "hoverlabel": {
           "align": "left"
          },
          "hovermode": "closest",
          "mapbox": {
           "style": "light"
          },
          "paper_bgcolor": "white",
          "plot_bgcolor": "#E5ECF6",
          "polar": {
           "angularaxis": {
            "gridcolor": "white",
            "linecolor": "white",
            "ticks": ""
           },
           "bgcolor": "#E5ECF6",
           "radialaxis": {
            "gridcolor": "white",
            "linecolor": "white",
            "ticks": ""
           }
          },
          "scene": {
           "xaxis": {
            "backgroundcolor": "#E5ECF6",
            "gridcolor": "white",
            "gridwidth": 2,
            "linecolor": "white",
            "showbackground": true,
            "ticks": "",
            "zerolinecolor": "white"
           },
           "yaxis": {
            "backgroundcolor": "#E5ECF6",
            "gridcolor": "white",
            "gridwidth": 2,
            "linecolor": "white",
            "showbackground": true,
            "ticks": "",
            "zerolinecolor": "white"
           },
           "zaxis": {
            "backgroundcolor": "#E5ECF6",
            "gridcolor": "white",
            "gridwidth": 2,
            "linecolor": "white",
            "showbackground": true,
            "ticks": "",
            "zerolinecolor": "white"
           }
          },
          "shapedefaults": {
           "line": {
            "color": "#2a3f5f"
           }
          },
          "ternary": {
           "aaxis": {
            "gridcolor": "white",
            "linecolor": "white",
            "ticks": ""
           },
           "baxis": {
            "gridcolor": "white",
            "linecolor": "white",
            "ticks": ""
           },
           "bgcolor": "#E5ECF6",
           "caxis": {
            "gridcolor": "white",
            "linecolor": "white",
            "ticks": ""
           }
          },
          "title": {
           "x": 0.05
          },
          "xaxis": {
           "automargin": true,
           "gridcolor": "white",
           "linecolor": "white",
           "ticks": "",
           "title": {
            "standoff": 15
           },
           "zerolinecolor": "white",
           "zerolinewidth": 2
          },
          "yaxis": {
           "automargin": true,
           "gridcolor": "white",
           "linecolor": "white",
           "ticks": "",
           "title": {
            "standoff": 15
           },
           "zerolinecolor": "white",
           "zerolinewidth": 2
          }
         }
        },
        "width": 2200,
        "xaxis": {
         "anchor": "y",
         "domain": [
          0,
          0.2125
         ],
         "matches": "x13",
         "showticklabels": false,
         "title": {
          "text": ""
         }
        },
        "xaxis10": {
         "anchor": "y10",
         "domain": [
          0.2625,
          0.475
         ],
         "matches": "x14",
         "showticklabels": false,
         "title": {
          "text": ""
         }
        },
        "xaxis11": {
         "anchor": "y11",
         "domain": [
          0.525,
          0.7375
         ],
         "matches": "x15",
         "showticklabels": false,
         "title": {
          "text": ""
         }
        },
        "xaxis12": {
         "anchor": "y12",
         "domain": [
          0.7875,
          1
         ],
         "matches": "x16",
         "showticklabels": false,
         "title": {
          "text": ""
         }
        },
        "xaxis13": {
         "anchor": "y13",
         "domain": [
          0,
          0.2125
         ],
         "showticklabels": false,
         "title": {
          "text": ""
         }
        },
        "xaxis14": {
         "anchor": "y14",
         "domain": [
          0.2625,
          0.475
         ],
         "showticklabels": false,
         "title": {
          "text": ""
         }
        },
        "xaxis15": {
         "anchor": "y15",
         "domain": [
          0.525,
          0.7375
         ],
         "showticklabels": false,
         "title": {
          "text": ""
         }
        },
        "xaxis16": {
         "anchor": "y16",
         "domain": [
          0.7875,
          1
         ],
         "showticklabels": false,
         "title": {
          "text": ""
         }
        },
        "xaxis2": {
         "anchor": "y2",
         "domain": [
          0.2625,
          0.475
         ],
         "matches": "x14",
         "showticklabels": false,
         "title": {
          "text": ""
         }
        },
        "xaxis3": {
         "anchor": "y3",
         "domain": [
          0.525,
          0.7375
         ],
         "matches": "x15",
         "showticklabels": false,
         "title": {
          "text": ""
         }
        },
        "xaxis4": {
         "anchor": "y4",
         "domain": [
          0.7875,
          1
         ],
         "matches": "x16",
         "showticklabels": false,
         "title": {
          "text": ""
         }
        },
        "xaxis5": {
         "anchor": "y5",
         "domain": [
          0,
          0.2125
         ],
         "matches": "x13",
         "showticklabels": false,
         "title": {
          "text": ""
         }
        },
        "xaxis6": {
         "anchor": "y6",
         "domain": [
          0.2625,
          0.475
         ],
         "matches": "x14",
         "showticklabels": false,
         "title": {
          "text": ""
         }
        },
        "xaxis7": {
         "anchor": "y7",
         "domain": [
          0.525,
          0.7375
         ],
         "matches": "x15",
         "showticklabels": false,
         "title": {
          "text": ""
         }
        },
        "xaxis8": {
         "anchor": "y8",
         "domain": [
          0.7875,
          1
         ],
         "matches": "x16",
         "showticklabels": false,
         "title": {
          "text": ""
         }
        },
        "xaxis9": {
         "anchor": "y9",
         "domain": [
          0,
          0.2125
         ],
         "matches": "x13",
         "showticklabels": false,
         "title": {
          "text": ""
         }
        },
        "yaxis": {
         "anchor": "x",
         "domain": [
          0.84375,
          1
         ],
         "title": {
          "text": ""
         }
        },
        "yaxis10": {
         "anchor": "x10",
         "domain": [
          0.28125,
          0.4375
         ],
         "matches": "y9",
         "showticklabels": false
        },
        "yaxis11": {
         "anchor": "x11",
         "domain": [
          0.28125,
          0.4375
         ],
         "matches": "y9",
         "showticklabels": false
        },
        "yaxis12": {
         "anchor": "x12",
         "domain": [
          0.28125,
          0.4375
         ],
         "matches": "y9",
         "showticklabels": false
        },
        "yaxis13": {
         "anchor": "x13",
         "domain": [
          0,
          0.15625
         ]
        },
        "yaxis14": {
         "anchor": "x14",
         "domain": [
          0,
          0.15625
         ],
         "matches": "y13",
         "showticklabels": false
        },
        "yaxis15": {
         "anchor": "x15",
         "domain": [
          0,
          0.15625
         ],
         "matches": "y13",
         "showticklabels": false
        },
        "yaxis16": {
         "anchor": "x16",
         "domain": [
          0,
          0.15625
         ],
         "matches": "y13",
         "showticklabels": false
        },
        "yaxis2": {
         "anchor": "x2",
         "domain": [
          0.84375,
          1
         ],
         "matches": "y",
         "showticklabels": false
        },
        "yaxis3": {
         "anchor": "x3",
         "domain": [
          0.84375,
          1
         ],
         "matches": "y",
         "showticklabels": false
        },
        "yaxis4": {
         "anchor": "x4",
         "domain": [
          0.84375,
          1
         ],
         "matches": "y",
         "showticklabels": false
        },
        "yaxis5": {
         "anchor": "x5",
         "domain": [
          0.5625,
          0.71875
         ]
        },
        "yaxis6": {
         "anchor": "x6",
         "domain": [
          0.5625,
          0.71875
         ],
         "matches": "y5",
         "showticklabels": false
        },
        "yaxis7": {
         "anchor": "x7",
         "domain": [
          0.5625,
          0.71875
         ],
         "matches": "y5",
         "showticklabels": false
        },
        "yaxis8": {
         "anchor": "x8",
         "domain": [
          0.5625,
          0.71875
         ],
         "matches": "y5",
         "showticklabels": false
        },
        "yaxis9": {
         "anchor": "x9",
         "domain": [
          0.28125,
          0.4375
         ]
        }
       }
      }
     },
     "metadata": {},
     "output_type": "display_data"
    }
   ],
   "source": [
    "\n",
    "copia_resultados_qaoa_4 = resultados_qaoa_4.copy()\n",
    "\n",
    "combinacoes = [f\"{otimizador} e {mixer}\" for otimizador, mixer in copia_resultados_qaoa_4.index.unique()]\n",
    "cores = {'valor_otimo_encontrado': 'blue', 'valor_otimo_encontrado_simulador': 'orange', 'valor_otimo_encontrado_computador_quantico':'cyan'}\n",
    "nomes = {'valor_otimo_encontrado': 'simulador local', 'valor_otimo_encontrado_simulador': 'simulador QASM', 'valor_otimo_encontrado_computador_quantico':'IBM Brisbane'}\n",
    "cols_appeared = []\n",
    "\n",
    "fig = make_subplots(rows=4, cols=4, subplot_titles=combinacoes, \n",
    "                    x_title='Métodos de execução', y_title='Energia', \n",
    "                    shared_xaxes=True, shared_yaxes=True,)\n",
    "\n",
    "for i, (otimizador, mixer) in enumerate(copia_resultados_qaoa_4.index.unique()):\n",
    "\n",
    "    df_subset = copia_resultados_qaoa_4.loc[\n",
    "        (copia_resultados_qaoa_4.index.get_level_values(0) == otimizador) &\n",
    "        (copia_resultados_qaoa_4.index.get_level_values(1) == mixer)\n",
    "    ]\n",
    "\n",
    "    valores = df_subset[['valor_otimo_encontrado', 'valor_otimo_encontrado_simulador']]\n",
    "\n",
    "    for idx, col in enumerate(valores.columns):\n",
    "        nome_fig = f'{otimizador}-{mixer}-{col}'\n",
    "        legenda_bool = False\n",
    "\n",
    "        if not col in cols_appeared:\n",
    "            nome_fig = f'{nomes[col]}'\n",
    "            legenda_bool = True\n",
    "        \n",
    "        fig.add_trace(\n",
    "            go.Bar(x=[col], \n",
    "                    y=[valores[col].values[0]],\n",
    "                    name=nome_fig,\n",
    "                    marker_color=cores[col],\n",
    "                    showlegend=legenda_bool),\n",
    "            row=(i // 4) + 1,\n",
    "            col=(i % 4) + 1\n",
    "        )\n",
    "        cols_appeared.append(col)\n",
    "\n",
    "        fig.update_xaxes(showticklabels=False, title_text='', row=(i // 4) + 1, col=(i % 4) + 1)\n",
    "\n",
    "fig.update_layout(\n",
    "                  showlegend=True,\n",
    "                  xaxis_title='',\n",
    "                  yaxis_title='',\n",
    "                  width = 2200,\n",
    "                  height = 700,\n",
    "                  font = dict(size=20),\n",
    "                  legend_itemsizing=\"constant\",\n",
    "                  margin = dict(l=35, r=35, t=35, b=75),\n",
    "                  )\n",
    "\n",
    "fig.update_annotations(font_size=20)\n",
    "\n",
    "nome_figura = f\"figuras_dados/qaoa_4_comparacao_valor_metodos_mesmo_y.png\"\n",
    "fig.write_image(nome_figura, width=2200, height=700)\n",
    "\n",
    "fig.show()"
   ]
  },
  {
   "cell_type": "markdown",
   "metadata": {},
   "source": [
    "# Probabilidades"
   ]
  },
  {
   "cell_type": "code",
   "execution_count": 9,
   "metadata": {},
   "outputs": [
    {
     "data": {
      "text/html": [
       "<div>\n",
       "<style scoped>\n",
       "    .dataframe tbody tr th:only-of-type {\n",
       "        vertical-align: middle;\n",
       "    }\n",
       "\n",
       "    .dataframe tbody tr th {\n",
       "        vertical-align: top;\n",
       "    }\n",
       "\n",
       "    .dataframe thead th {\n",
       "        text-align: right;\n",
       "    }\n",
       "</style>\n",
       "<table border=\"1\" class=\"dataframe\">\n",
       "  <thead>\n",
       "    <tr style=\"text-align: right;\">\n",
       "      <th></th>\n",
       "      <th></th>\n",
       "      <th>parametros</th>\n",
       "      <th>valor_otimo_encontrado</th>\n",
       "      <th>tempo_elapsado_otimizador</th>\n",
       "      <th>probabilidade_valor_otimo</th>\n",
       "      <th>amostras_otimizacao</th>\n",
       "      <th>parametros_simulador</th>\n",
       "      <th>amostras_otimizacao_simulador</th>\n",
       "      <th>valor_otimo_encontrado_simulador</th>\n",
       "      <th>tempo_elapsado_otimizador_simulador</th>\n",
       "      <th>probabilidade_valor_otimo_simulador</th>\n",
       "      <th>parametros_computador_quantico</th>\n",
       "      <th>amostras_otimizacao_computador_quantico</th>\n",
       "      <th>valor_otimo_encontrado_computador_quantico</th>\n",
       "      <th>tempo_elapsado_otimizador_computador_quantico</th>\n",
       "      <th>probabilidade_valor_otimo_computador_quantico</th>\n",
       "    </tr>\n",
       "    <tr>\n",
       "      <th>otimizador</th>\n",
       "      <th>ansatz</th>\n",
       "      <th></th>\n",
       "      <th></th>\n",
       "      <th></th>\n",
       "      <th></th>\n",
       "      <th></th>\n",
       "      <th></th>\n",
       "      <th></th>\n",
       "      <th></th>\n",
       "      <th></th>\n",
       "      <th></th>\n",
       "      <th></th>\n",
       "      <th></th>\n",
       "      <th></th>\n",
       "      <th></th>\n",
       "      <th></th>\n",
       "    </tr>\n",
       "  </thead>\n",
       "  <tbody>\n",
       "    <tr>\n",
       "      <th>COBYLA</th>\n",
       "      <th>EfficientSU2</th>\n",
       "      <td>[-1.5142979390811262, 2.307387606411415, 1.759...</td>\n",
       "      <td>-1.816578</td>\n",
       "      <td>0.946133</td>\n",
       "      <td>0.932617</td>\n",
       "      <td>[SolutionSample(x=array([1., 0., 1., 0.]), fva...</td>\n",
       "      <td>[-1.5357360564375644, 2.436604980065447, 1.828...</td>\n",
       "      <td>[SolutionSample(x=array([1., 0., 1., 0.]), fva...</td>\n",
       "      <td>-1.847985</td>\n",
       "      <td>288.772233</td>\n",
       "      <td>0.92225</td>\n",
       "      <td>None</td>\n",
       "      <td>None</td>\n",
       "      <td>None</td>\n",
       "      <td>None</td>\n",
       "      <td>None</td>\n",
       "    </tr>\n",
       "    <tr>\n",
       "      <th>L_BFGS_B</th>\n",
       "      <th>EfficientSU2</th>\n",
       "      <td>[0.49936624880039365, 1.9533293316304563, 2.39...</td>\n",
       "      <td>-1.072015</td>\n",
       "      <td>3.667540</td>\n",
       "      <td>0.097656</td>\n",
       "      <td>[SolutionSample(x=array([1., 0., 1., 0.]), fva...</td>\n",
       "      <td>[0.49936707338507086, 1.9533297024630716, 2.39...</td>\n",
       "      <td>[SolutionSample(x=array([1., 0., 1., 0.]), fva...</td>\n",
       "      <td>-1.145833</td>\n",
       "      <td>1884.116073</td>\n",
       "      <td>0.11375</td>\n",
       "      <td>None</td>\n",
       "      <td>None</td>\n",
       "      <td>None</td>\n",
       "      <td>None</td>\n",
       "      <td>None</td>\n",
       "    </tr>\n",
       "    <tr>\n",
       "      <th>NFT</th>\n",
       "      <th>EfficientSU2</th>\n",
       "      <td>[3.118488217948747, -1.4596659418871876, 1.632...</td>\n",
       "      <td>-1.904453</td>\n",
       "      <td>3.149668</td>\n",
       "      <td>0.999023</td>\n",
       "      <td>[SolutionSample(x=array([1., 0., 1., 0.]), fva...</td>\n",
       "      <td>[3.0320149348350856, -1.4374697011616084, 1.62...</td>\n",
       "      <td>[SolutionSample(x=array([1., 0., 1., 0.]), fva...</td>\n",
       "      <td>-1.909518</td>\n",
       "      <td>543.244939</td>\n",
       "      <td>0.99625</td>\n",
       "      <td>None</td>\n",
       "      <td>None</td>\n",
       "      <td>None</td>\n",
       "      <td>None</td>\n",
       "      <td>None</td>\n",
       "    </tr>\n",
       "    <tr>\n",
       "      <th>SLSQP</th>\n",
       "      <th>EfficientSU2</th>\n",
       "      <td>[1.498474392455133, -0.7061383139985018, -1.44...</td>\n",
       "      <td>-1.202363</td>\n",
       "      <td>0.101660</td>\n",
       "      <td>0.007812</td>\n",
       "      <td>[SolutionSample(x=array([1., 0., 1., 0.]), fva...</td>\n",
       "      <td>[1.4984744073562941, -0.7061383139985018, -1.4...</td>\n",
       "      <td>[SolutionSample(x=array([1., 0., 1., 0.]), fva...</td>\n",
       "      <td>-1.219997</td>\n",
       "      <td>98.588065</td>\n",
       "      <td>0.00575</td>\n",
       "      <td>None</td>\n",
       "      <td>None</td>\n",
       "      <td>None</td>\n",
       "      <td>None</td>\n",
       "      <td>None</td>\n",
       "    </tr>\n",
       "    <tr>\n",
       "      <th>COBYLA</th>\n",
       "      <th>PauliTwoDesign</th>\n",
       "      <td>[1.0555042795323522, 1.4064360565941822, 1.877...</td>\n",
       "      <td>-1.664922</td>\n",
       "      <td>0.472108</td>\n",
       "      <td>0.015625</td>\n",
       "      <td>[SolutionSample(x=array([0., 0., 1., 1.]), fva...</td>\n",
       "      <td>[0.21023283973543536, 2.743906701009386, 1.329...</td>\n",
       "      <td>[SolutionSample(x=array([0., 0., 1., 1.]), fva...</td>\n",
       "      <td>-1.563255</td>\n",
       "      <td>260.891062</td>\n",
       "      <td>0.11575</td>\n",
       "      <td>None</td>\n",
       "      <td>None</td>\n",
       "      <td>None</td>\n",
       "      <td>None</td>\n",
       "      <td>None</td>\n",
       "    </tr>\n",
       "    <tr>\n",
       "      <th>L_BFGS_B</th>\n",
       "      <th>PauliTwoDesign</th>\n",
       "      <td>[3.4648036340805257, -0.0755097161375413, -5.3...</td>\n",
       "      <td>-0.962966</td>\n",
       "      <td>1.495825</td>\n",
       "      <td>0.013672</td>\n",
       "      <td>[SolutionSample(x=array([1., 0., 1., 0.]), fva...</td>\n",
       "      <td>[3.281898933090192, -0.4160716308498268, -5.94...</td>\n",
       "      <td>[SolutionSample(x=array([1., 0., 1., 0.]), fva...</td>\n",
       "      <td>0.342459</td>\n",
       "      <td>947.447119</td>\n",
       "      <td>0.016</td>\n",
       "      <td>None</td>\n",
       "      <td>None</td>\n",
       "      <td>None</td>\n",
       "      <td>None</td>\n",
       "      <td>None</td>\n",
       "    </tr>\n",
       "    <tr>\n",
       "      <th>NFT</th>\n",
       "      <th>PauliTwoDesign</th>\n",
       "      <td>[-5.892166807257425, -1.6385778915958227, 1.61...</td>\n",
       "      <td>-1.750365</td>\n",
       "      <td>3.828763</td>\n",
       "      <td>0.721680</td>\n",
       "      <td>[SolutionSample(x=array([1., 0., 1., 0.]), fva...</td>\n",
       "      <td>[-4.015853382926523, -0.7971771376589064, 1.53...</td>\n",
       "      <td>[SolutionSample(x=array([1., 0., 1., 0.]), fva...</td>\n",
       "      <td>-1.817294</td>\n",
       "      <td>547.744114</td>\n",
       "      <td>0.845</td>\n",
       "      <td>None</td>\n",
       "      <td>None</td>\n",
       "      <td>None</td>\n",
       "      <td>None</td>\n",
       "      <td>None</td>\n",
       "    </tr>\n",
       "    <tr>\n",
       "      <th>SLSQP</th>\n",
       "      <th>PauliTwoDesign</th>\n",
       "      <td>[-9323229.914351651, 12497636.437782174, 15129...</td>\n",
       "      <td>-0.411333</td>\n",
       "      <td>6.338441</td>\n",
       "      <td>0.832031</td>\n",
       "      <td>[SolutionSample(x=array([1., 0., 1., 0.]), fva...</td>\n",
       "      <td>[-44740297.558334984, -19162257.20332406, -348...</td>\n",
       "      <td>[SolutionSample(x=array([1., 0., 1., 0.]), fva...</td>\n",
       "      <td>-0.20039</td>\n",
       "      <td>6040.314015</td>\n",
       "      <td>0.682</td>\n",
       "      <td>None</td>\n",
       "      <td>None</td>\n",
       "      <td>None</td>\n",
       "      <td>None</td>\n",
       "      <td>None</td>\n",
       "    </tr>\n",
       "    <tr>\n",
       "      <th>COBYLA</th>\n",
       "      <th>RealAmplitudes</th>\n",
       "      <td>[0.12927802779352743, 2.8589781584164125, 1.98...</td>\n",
       "      <td>-1.822332</td>\n",
       "      <td>0.469526</td>\n",
       "      <td>0.138672</td>\n",
       "      <td>[SolutionSample(x=array([1., 0., 1., 0.]), fva...</td>\n",
       "      <td>[0.12790918753817143, 2.8589527756091035, 1.98...</td>\n",
       "      <td>[SolutionSample(x=array([1., 0., 1., 0.]), fva...</td>\n",
       "      <td>-1.822943</td>\n",
       "      <td>286.229142</td>\n",
       "      <td>0.153</td>\n",
       "      <td>None</td>\n",
       "      <td>None</td>\n",
       "      <td>None</td>\n",
       "      <td>None</td>\n",
       "      <td>None</td>\n",
       "    </tr>\n",
       "    <tr>\n",
       "      <th>L_BFGS_B</th>\n",
       "      <th>RealAmplitudes</th>\n",
       "      <td>[-3.141592653589793, -3.141592653589793, -3.14...</td>\n",
       "      <td>0.259730</td>\n",
       "      <td>0.091216</td>\n",
       "      <td>1.000000</td>\n",
       "      <td>[SolutionSample(x=array([0., 0., 0., 1.]), fva...</td>\n",
       "      <td>[-3.141592653589793, -3.141592653589793, -3.14...</td>\n",
       "      <td>[SolutionSample(x=array([0., 0., 0., 1.]), fva...</td>\n",
       "      <td>0.25973</td>\n",
       "      <td>45.862078</td>\n",
       "      <td>1.0</td>\n",
       "      <td>None</td>\n",
       "      <td>None</td>\n",
       "      <td>None</td>\n",
       "      <td>None</td>\n",
       "      <td>None</td>\n",
       "    </tr>\n",
       "    <tr>\n",
       "      <th>NFT</th>\n",
       "      <th>RealAmplitudes</th>\n",
       "      <td>[3.1166251936083076, -0.04468422381998054, 3.0...</td>\n",
       "      <td>-1.912131</td>\n",
       "      <td>3.464315</td>\n",
       "      <td>1.000000</td>\n",
       "      <td>[SolutionSample(x=array([1., 0., 1., 0.]), fva...</td>\n",
       "      <td>[3.155803589001603, -0.000746433415353109, 3.0...</td>\n",
       "      <td>[SolutionSample(x=array([1., 0., 1., 0.]), fva...</td>\n",
       "      <td>-1.912078</td>\n",
       "      <td>546.421005</td>\n",
       "      <td>1.0</td>\n",
       "      <td>None</td>\n",
       "      <td>None</td>\n",
       "      <td>None</td>\n",
       "      <td>None</td>\n",
       "      <td>None</td>\n",
       "    </tr>\n",
       "    <tr>\n",
       "      <th>SLSQP</th>\n",
       "      <th>RealAmplitudes</th>\n",
       "      <td>[-2.0084388933139725, -2.0946776448132267, -1....</td>\n",
       "      <td>-1.244516</td>\n",
       "      <td>0.413127</td>\n",
       "      <td>0.123047</td>\n",
       "      <td>[SolutionSample(x=array([1., 0., 1., 0.]), fva...</td>\n",
       "      <td>[-2.0084388933139725, -2.0946776448132267, -1....</td>\n",
       "      <td>[SolutionSample(x=array([1., 0., 1., 0.]), fva...</td>\n",
       "      <td>-1.323289</td>\n",
       "      <td>44.163075</td>\n",
       "      <td>0.011</td>\n",
       "      <td>None</td>\n",
       "      <td>None</td>\n",
       "      <td>None</td>\n",
       "      <td>None</td>\n",
       "      <td>None</td>\n",
       "    </tr>\n",
       "    <tr>\n",
       "      <th>COBYLA</th>\n",
       "      <th>TwoLocal</th>\n",
       "      <td>[0.6311713591006419, 3.3889384008713104, 3.603...</td>\n",
       "      <td>-1.801013</td>\n",
       "      <td>0.620883</td>\n",
       "      <td>0.127930</td>\n",
       "      <td>[SolutionSample(x=array([1., 0., 1., 0.]), fva...</td>\n",
       "      <td>[0.5546870232143292, 3.2744155470592538, 3.612...</td>\n",
       "      <td>[SolutionSample(x=array([1., 0., 1., 0.]), fva...</td>\n",
       "      <td>-1.810135</td>\n",
       "      <td>269.561094</td>\n",
       "      <td>0.13175</td>\n",
       "      <td>None</td>\n",
       "      <td>None</td>\n",
       "      <td>None</td>\n",
       "      <td>None</td>\n",
       "      <td>None</td>\n",
       "    </tr>\n",
       "    <tr>\n",
       "      <th>L_BFGS_B</th>\n",
       "      <th>TwoLocal</th>\n",
       "      <td>[-0.04087410253718721, -5.4048256792324265, -2...</td>\n",
       "      <td>-1.208805</td>\n",
       "      <td>1.059500</td>\n",
       "      <td>0.132812</td>\n",
       "      <td>[SolutionSample(x=array([1., 0., 1., 0.]), fva...</td>\n",
       "      <td>[-0.04086549267484599, -5.404848277436951, -2....</td>\n",
       "      <td>[SolutionSample(x=array([1., 0., 1., 0.]), fva...</td>\n",
       "      <td>-1.219266</td>\n",
       "      <td>947.684086</td>\n",
       "      <td>0.17425</td>\n",
       "      <td>None</td>\n",
       "      <td>None</td>\n",
       "      <td>None</td>\n",
       "      <td>None</td>\n",
       "      <td>None</td>\n",
       "    </tr>\n",
       "    <tr>\n",
       "      <th>NFT</th>\n",
       "      <th>TwoLocal</th>\n",
       "      <td>[-2.9500887785022343, 5.492133329553836, -2.36...</td>\n",
       "      <td>-1.910851</td>\n",
       "      <td>3.064721</td>\n",
       "      <td>0.998047</td>\n",
       "      <td>[SolutionSample(x=array([1., 0., 1., 0.]), fva...</td>\n",
       "      <td>[-3.0136120482711046, 5.493778436787448, -2.40...</td>\n",
       "      <td>[SolutionSample(x=array([1., 0., 1., 0.]), fva...</td>\n",
       "      <td>-1.910839</td>\n",
       "      <td>578.642117</td>\n",
       "      <td>0.9985</td>\n",
       "      <td>None</td>\n",
       "      <td>None</td>\n",
       "      <td>None</td>\n",
       "      <td>None</td>\n",
       "      <td>None</td>\n",
       "    </tr>\n",
       "    <tr>\n",
       "      <th>SLSQP</th>\n",
       "      <th>TwoLocal</th>\n",
       "      <td>[-201032926.2752137, -218778250.62102318, -384...</td>\n",
       "      <td>1.327489</td>\n",
       "      <td>6.868433</td>\n",
       "      <td>0.611328</td>\n",
       "      <td>[SolutionSample(x=array([0., 0., 1., 1.]), fva...</td>\n",
       "      <td>[-201032926.2752137, -218778250.62102318, -384...</td>\n",
       "      <td>[SolutionSample(x=array([1., 0., 1., 0.]), fva...</td>\n",
       "      <td>1.445421</td>\n",
       "      <td>7533.695039</td>\n",
       "      <td>0.61325</td>\n",
       "      <td>None</td>\n",
       "      <td>None</td>\n",
       "      <td>None</td>\n",
       "      <td>None</td>\n",
       "      <td>None</td>\n",
       "    </tr>\n",
       "  </tbody>\n",
       "</table>\n",
       "</div>"
      ],
      "text/plain": [
       "                                                                  parametros  \\\n",
       "otimizador ansatz                                                              \n",
       "COBYLA     EfficientSU2    [-1.5142979390811262, 2.307387606411415, 1.759...   \n",
       "L_BFGS_B   EfficientSU2    [0.49936624880039365, 1.9533293316304563, 2.39...   \n",
       "NFT        EfficientSU2    [3.118488217948747, -1.4596659418871876, 1.632...   \n",
       "SLSQP      EfficientSU2    [1.498474392455133, -0.7061383139985018, -1.44...   \n",
       "COBYLA     PauliTwoDesign  [1.0555042795323522, 1.4064360565941822, 1.877...   \n",
       "L_BFGS_B   PauliTwoDesign  [3.4648036340805257, -0.0755097161375413, -5.3...   \n",
       "NFT        PauliTwoDesign  [-5.892166807257425, -1.6385778915958227, 1.61...   \n",
       "SLSQP      PauliTwoDesign  [-9323229.914351651, 12497636.437782174, 15129...   \n",
       "COBYLA     RealAmplitudes  [0.12927802779352743, 2.8589781584164125, 1.98...   \n",
       "L_BFGS_B   RealAmplitudes  [-3.141592653589793, -3.141592653589793, -3.14...   \n",
       "NFT        RealAmplitudes  [3.1166251936083076, -0.04468422381998054, 3.0...   \n",
       "SLSQP      RealAmplitudes  [-2.0084388933139725, -2.0946776448132267, -1....   \n",
       "COBYLA     TwoLocal        [0.6311713591006419, 3.3889384008713104, 3.603...   \n",
       "L_BFGS_B   TwoLocal        [-0.04087410253718721, -5.4048256792324265, -2...   \n",
       "NFT        TwoLocal        [-2.9500887785022343, 5.492133329553836, -2.36...   \n",
       "SLSQP      TwoLocal        [-201032926.2752137, -218778250.62102318, -384...   \n",
       "\n",
       "                           valor_otimo_encontrado  tempo_elapsado_otimizador  \\\n",
       "otimizador ansatz                                                              \n",
       "COBYLA     EfficientSU2                 -1.816578                   0.946133   \n",
       "L_BFGS_B   EfficientSU2                 -1.072015                   3.667540   \n",
       "NFT        EfficientSU2                 -1.904453                   3.149668   \n",
       "SLSQP      EfficientSU2                 -1.202363                   0.101660   \n",
       "COBYLA     PauliTwoDesign               -1.664922                   0.472108   \n",
       "L_BFGS_B   PauliTwoDesign               -0.962966                   1.495825   \n",
       "NFT        PauliTwoDesign               -1.750365                   3.828763   \n",
       "SLSQP      PauliTwoDesign               -0.411333                   6.338441   \n",
       "COBYLA     RealAmplitudes               -1.822332                   0.469526   \n",
       "L_BFGS_B   RealAmplitudes                0.259730                   0.091216   \n",
       "NFT        RealAmplitudes               -1.912131                   3.464315   \n",
       "SLSQP      RealAmplitudes               -1.244516                   0.413127   \n",
       "COBYLA     TwoLocal                     -1.801013                   0.620883   \n",
       "L_BFGS_B   TwoLocal                     -1.208805                   1.059500   \n",
       "NFT        TwoLocal                     -1.910851                   3.064721   \n",
       "SLSQP      TwoLocal                      1.327489                   6.868433   \n",
       "\n",
       "                           probabilidade_valor_otimo  \\\n",
       "otimizador ansatz                                      \n",
       "COBYLA     EfficientSU2                     0.932617   \n",
       "L_BFGS_B   EfficientSU2                     0.097656   \n",
       "NFT        EfficientSU2                     0.999023   \n",
       "SLSQP      EfficientSU2                     0.007812   \n",
       "COBYLA     PauliTwoDesign                   0.015625   \n",
       "L_BFGS_B   PauliTwoDesign                   0.013672   \n",
       "NFT        PauliTwoDesign                   0.721680   \n",
       "SLSQP      PauliTwoDesign                   0.832031   \n",
       "COBYLA     RealAmplitudes                   0.138672   \n",
       "L_BFGS_B   RealAmplitudes                   1.000000   \n",
       "NFT        RealAmplitudes                   1.000000   \n",
       "SLSQP      RealAmplitudes                   0.123047   \n",
       "COBYLA     TwoLocal                         0.127930   \n",
       "L_BFGS_B   TwoLocal                         0.132812   \n",
       "NFT        TwoLocal                         0.998047   \n",
       "SLSQP      TwoLocal                         0.611328   \n",
       "\n",
       "                                                         amostras_otimizacao  \\\n",
       "otimizador ansatz                                                              \n",
       "COBYLA     EfficientSU2    [SolutionSample(x=array([1., 0., 1., 0.]), fva...   \n",
       "L_BFGS_B   EfficientSU2    [SolutionSample(x=array([1., 0., 1., 0.]), fva...   \n",
       "NFT        EfficientSU2    [SolutionSample(x=array([1., 0., 1., 0.]), fva...   \n",
       "SLSQP      EfficientSU2    [SolutionSample(x=array([1., 0., 1., 0.]), fva...   \n",
       "COBYLA     PauliTwoDesign  [SolutionSample(x=array([0., 0., 1., 1.]), fva...   \n",
       "L_BFGS_B   PauliTwoDesign  [SolutionSample(x=array([1., 0., 1., 0.]), fva...   \n",
       "NFT        PauliTwoDesign  [SolutionSample(x=array([1., 0., 1., 0.]), fva...   \n",
       "SLSQP      PauliTwoDesign  [SolutionSample(x=array([1., 0., 1., 0.]), fva...   \n",
       "COBYLA     RealAmplitudes  [SolutionSample(x=array([1., 0., 1., 0.]), fva...   \n",
       "L_BFGS_B   RealAmplitudes  [SolutionSample(x=array([0., 0., 0., 1.]), fva...   \n",
       "NFT        RealAmplitudes  [SolutionSample(x=array([1., 0., 1., 0.]), fva...   \n",
       "SLSQP      RealAmplitudes  [SolutionSample(x=array([1., 0., 1., 0.]), fva...   \n",
       "COBYLA     TwoLocal        [SolutionSample(x=array([1., 0., 1., 0.]), fva...   \n",
       "L_BFGS_B   TwoLocal        [SolutionSample(x=array([1., 0., 1., 0.]), fva...   \n",
       "NFT        TwoLocal        [SolutionSample(x=array([1., 0., 1., 0.]), fva...   \n",
       "SLSQP      TwoLocal        [SolutionSample(x=array([0., 0., 1., 1.]), fva...   \n",
       "\n",
       "                                                        parametros_simulador  \\\n",
       "otimizador ansatz                                                              \n",
       "COBYLA     EfficientSU2    [-1.5357360564375644, 2.436604980065447, 1.828...   \n",
       "L_BFGS_B   EfficientSU2    [0.49936707338507086, 1.9533297024630716, 2.39...   \n",
       "NFT        EfficientSU2    [3.0320149348350856, -1.4374697011616084, 1.62...   \n",
       "SLSQP      EfficientSU2    [1.4984744073562941, -0.7061383139985018, -1.4...   \n",
       "COBYLA     PauliTwoDesign  [0.21023283973543536, 2.743906701009386, 1.329...   \n",
       "L_BFGS_B   PauliTwoDesign  [3.281898933090192, -0.4160716308498268, -5.94...   \n",
       "NFT        PauliTwoDesign  [-4.015853382926523, -0.7971771376589064, 1.53...   \n",
       "SLSQP      PauliTwoDesign  [-44740297.558334984, -19162257.20332406, -348...   \n",
       "COBYLA     RealAmplitudes  [0.12790918753817143, 2.8589527756091035, 1.98...   \n",
       "L_BFGS_B   RealAmplitudes  [-3.141592653589793, -3.141592653589793, -3.14...   \n",
       "NFT        RealAmplitudes  [3.155803589001603, -0.000746433415353109, 3.0...   \n",
       "SLSQP      RealAmplitudes  [-2.0084388933139725, -2.0946776448132267, -1....   \n",
       "COBYLA     TwoLocal        [0.5546870232143292, 3.2744155470592538, 3.612...   \n",
       "L_BFGS_B   TwoLocal        [-0.04086549267484599, -5.404848277436951, -2....   \n",
       "NFT        TwoLocal        [-3.0136120482711046, 5.493778436787448, -2.40...   \n",
       "SLSQP      TwoLocal        [-201032926.2752137, -218778250.62102318, -384...   \n",
       "\n",
       "                                               amostras_otimizacao_simulador  \\\n",
       "otimizador ansatz                                                              \n",
       "COBYLA     EfficientSU2    [SolutionSample(x=array([1., 0., 1., 0.]), fva...   \n",
       "L_BFGS_B   EfficientSU2    [SolutionSample(x=array([1., 0., 1., 0.]), fva...   \n",
       "NFT        EfficientSU2    [SolutionSample(x=array([1., 0., 1., 0.]), fva...   \n",
       "SLSQP      EfficientSU2    [SolutionSample(x=array([1., 0., 1., 0.]), fva...   \n",
       "COBYLA     PauliTwoDesign  [SolutionSample(x=array([0., 0., 1., 1.]), fva...   \n",
       "L_BFGS_B   PauliTwoDesign  [SolutionSample(x=array([1., 0., 1., 0.]), fva...   \n",
       "NFT        PauliTwoDesign  [SolutionSample(x=array([1., 0., 1., 0.]), fva...   \n",
       "SLSQP      PauliTwoDesign  [SolutionSample(x=array([1., 0., 1., 0.]), fva...   \n",
       "COBYLA     RealAmplitudes  [SolutionSample(x=array([1., 0., 1., 0.]), fva...   \n",
       "L_BFGS_B   RealAmplitudes  [SolutionSample(x=array([0., 0., 0., 1.]), fva...   \n",
       "NFT        RealAmplitudes  [SolutionSample(x=array([1., 0., 1., 0.]), fva...   \n",
       "SLSQP      RealAmplitudes  [SolutionSample(x=array([1., 0., 1., 0.]), fva...   \n",
       "COBYLA     TwoLocal        [SolutionSample(x=array([1., 0., 1., 0.]), fva...   \n",
       "L_BFGS_B   TwoLocal        [SolutionSample(x=array([1., 0., 1., 0.]), fva...   \n",
       "NFT        TwoLocal        [SolutionSample(x=array([1., 0., 1., 0.]), fva...   \n",
       "SLSQP      TwoLocal        [SolutionSample(x=array([1., 0., 1., 0.]), fva...   \n",
       "\n",
       "                          valor_otimo_encontrado_simulador  \\\n",
       "otimizador ansatz                                            \n",
       "COBYLA     EfficientSU2                          -1.847985   \n",
       "L_BFGS_B   EfficientSU2                          -1.145833   \n",
       "NFT        EfficientSU2                          -1.909518   \n",
       "SLSQP      EfficientSU2                          -1.219997   \n",
       "COBYLA     PauliTwoDesign                        -1.563255   \n",
       "L_BFGS_B   PauliTwoDesign                         0.342459   \n",
       "NFT        PauliTwoDesign                        -1.817294   \n",
       "SLSQP      PauliTwoDesign                         -0.20039   \n",
       "COBYLA     RealAmplitudes                        -1.822943   \n",
       "L_BFGS_B   RealAmplitudes                          0.25973   \n",
       "NFT        RealAmplitudes                        -1.912078   \n",
       "SLSQP      RealAmplitudes                        -1.323289   \n",
       "COBYLA     TwoLocal                              -1.810135   \n",
       "L_BFGS_B   TwoLocal                              -1.219266   \n",
       "NFT        TwoLocal                              -1.910839   \n",
       "SLSQP      TwoLocal                               1.445421   \n",
       "\n",
       "                          tempo_elapsado_otimizador_simulador  \\\n",
       "otimizador ansatz                                               \n",
       "COBYLA     EfficientSU2                            288.772233   \n",
       "L_BFGS_B   EfficientSU2                           1884.116073   \n",
       "NFT        EfficientSU2                            543.244939   \n",
       "SLSQP      EfficientSU2                             98.588065   \n",
       "COBYLA     PauliTwoDesign                          260.891062   \n",
       "L_BFGS_B   PauliTwoDesign                          947.447119   \n",
       "NFT        PauliTwoDesign                          547.744114   \n",
       "SLSQP      PauliTwoDesign                         6040.314015   \n",
       "COBYLA     RealAmplitudes                          286.229142   \n",
       "L_BFGS_B   RealAmplitudes                           45.862078   \n",
       "NFT        RealAmplitudes                          546.421005   \n",
       "SLSQP      RealAmplitudes                           44.163075   \n",
       "COBYLA     TwoLocal                                269.561094   \n",
       "L_BFGS_B   TwoLocal                                947.684086   \n",
       "NFT        TwoLocal                                578.642117   \n",
       "SLSQP      TwoLocal                               7533.695039   \n",
       "\n",
       "                          probabilidade_valor_otimo_simulador  \\\n",
       "otimizador ansatz                                               \n",
       "COBYLA     EfficientSU2                               0.92225   \n",
       "L_BFGS_B   EfficientSU2                               0.11375   \n",
       "NFT        EfficientSU2                               0.99625   \n",
       "SLSQP      EfficientSU2                               0.00575   \n",
       "COBYLA     PauliTwoDesign                             0.11575   \n",
       "L_BFGS_B   PauliTwoDesign                               0.016   \n",
       "NFT        PauliTwoDesign                               0.845   \n",
       "SLSQP      PauliTwoDesign                               0.682   \n",
       "COBYLA     RealAmplitudes                               0.153   \n",
       "L_BFGS_B   RealAmplitudes                                 1.0   \n",
       "NFT        RealAmplitudes                                 1.0   \n",
       "SLSQP      RealAmplitudes                               0.011   \n",
       "COBYLA     TwoLocal                                   0.13175   \n",
       "L_BFGS_B   TwoLocal                                   0.17425   \n",
       "NFT        TwoLocal                                    0.9985   \n",
       "SLSQP      TwoLocal                                   0.61325   \n",
       "\n",
       "                          parametros_computador_quantico  \\\n",
       "otimizador ansatz                                          \n",
       "COBYLA     EfficientSU2                             None   \n",
       "L_BFGS_B   EfficientSU2                             None   \n",
       "NFT        EfficientSU2                             None   \n",
       "SLSQP      EfficientSU2                             None   \n",
       "COBYLA     PauliTwoDesign                           None   \n",
       "L_BFGS_B   PauliTwoDesign                           None   \n",
       "NFT        PauliTwoDesign                           None   \n",
       "SLSQP      PauliTwoDesign                           None   \n",
       "COBYLA     RealAmplitudes                           None   \n",
       "L_BFGS_B   RealAmplitudes                           None   \n",
       "NFT        RealAmplitudes                           None   \n",
       "SLSQP      RealAmplitudes                           None   \n",
       "COBYLA     TwoLocal                                 None   \n",
       "L_BFGS_B   TwoLocal                                 None   \n",
       "NFT        TwoLocal                                 None   \n",
       "SLSQP      TwoLocal                                 None   \n",
       "\n",
       "                          amostras_otimizacao_computador_quantico  \\\n",
       "otimizador ansatz                                                   \n",
       "COBYLA     EfficientSU2                                      None   \n",
       "L_BFGS_B   EfficientSU2                                      None   \n",
       "NFT        EfficientSU2                                      None   \n",
       "SLSQP      EfficientSU2                                      None   \n",
       "COBYLA     PauliTwoDesign                                    None   \n",
       "L_BFGS_B   PauliTwoDesign                                    None   \n",
       "NFT        PauliTwoDesign                                    None   \n",
       "SLSQP      PauliTwoDesign                                    None   \n",
       "COBYLA     RealAmplitudes                                    None   \n",
       "L_BFGS_B   RealAmplitudes                                    None   \n",
       "NFT        RealAmplitudes                                    None   \n",
       "SLSQP      RealAmplitudes                                    None   \n",
       "COBYLA     TwoLocal                                          None   \n",
       "L_BFGS_B   TwoLocal                                          None   \n",
       "NFT        TwoLocal                                          None   \n",
       "SLSQP      TwoLocal                                          None   \n",
       "\n",
       "                          valor_otimo_encontrado_computador_quantico  \\\n",
       "otimizador ansatz                                                      \n",
       "COBYLA     EfficientSU2                                         None   \n",
       "L_BFGS_B   EfficientSU2                                         None   \n",
       "NFT        EfficientSU2                                         None   \n",
       "SLSQP      EfficientSU2                                         None   \n",
       "COBYLA     PauliTwoDesign                                       None   \n",
       "L_BFGS_B   PauliTwoDesign                                       None   \n",
       "NFT        PauliTwoDesign                                       None   \n",
       "SLSQP      PauliTwoDesign                                       None   \n",
       "COBYLA     RealAmplitudes                                       None   \n",
       "L_BFGS_B   RealAmplitudes                                       None   \n",
       "NFT        RealAmplitudes                                       None   \n",
       "SLSQP      RealAmplitudes                                       None   \n",
       "COBYLA     TwoLocal                                             None   \n",
       "L_BFGS_B   TwoLocal                                             None   \n",
       "NFT        TwoLocal                                             None   \n",
       "SLSQP      TwoLocal                                             None   \n",
       "\n",
       "                          tempo_elapsado_otimizador_computador_quantico  \\\n",
       "otimizador ansatz                                                         \n",
       "COBYLA     EfficientSU2                                            None   \n",
       "L_BFGS_B   EfficientSU2                                            None   \n",
       "NFT        EfficientSU2                                            None   \n",
       "SLSQP      EfficientSU2                                            None   \n",
       "COBYLA     PauliTwoDesign                                          None   \n",
       "L_BFGS_B   PauliTwoDesign                                          None   \n",
       "NFT        PauliTwoDesign                                          None   \n",
       "SLSQP      PauliTwoDesign                                          None   \n",
       "COBYLA     RealAmplitudes                                          None   \n",
       "L_BFGS_B   RealAmplitudes                                          None   \n",
       "NFT        RealAmplitudes                                          None   \n",
       "SLSQP      RealAmplitudes                                          None   \n",
       "COBYLA     TwoLocal                                                None   \n",
       "L_BFGS_B   TwoLocal                                                None   \n",
       "NFT        TwoLocal                                                None   \n",
       "SLSQP      TwoLocal                                                None   \n",
       "\n",
       "                          probabilidade_valor_otimo_computador_quantico  \n",
       "otimizador ansatz                                                        \n",
       "COBYLA     EfficientSU2                                            None  \n",
       "L_BFGS_B   EfficientSU2                                            None  \n",
       "NFT        EfficientSU2                                            None  \n",
       "SLSQP      EfficientSU2                                            None  \n",
       "COBYLA     PauliTwoDesign                                          None  \n",
       "L_BFGS_B   PauliTwoDesign                                          None  \n",
       "NFT        PauliTwoDesign                                          None  \n",
       "SLSQP      PauliTwoDesign                                          None  \n",
       "COBYLA     RealAmplitudes                                          None  \n",
       "L_BFGS_B   RealAmplitudes                                          None  \n",
       "NFT        RealAmplitudes                                          None  \n",
       "SLSQP      RealAmplitudes                                          None  \n",
       "COBYLA     TwoLocal                                                None  \n",
       "L_BFGS_B   TwoLocal                                                None  \n",
       "NFT        TwoLocal                                                None  \n",
       "SLSQP      TwoLocal                                                None  "
      ]
     },
     "execution_count": 9,
     "metadata": {},
     "output_type": "execute_result"
    }
   ],
   "source": [
    "resultados_vqe_4"
   ]
  },
  {
   "cell_type": "code",
   "execution_count": 10,
   "metadata": {},
   "outputs": [
    {
     "data": {
      "application/vnd.plotly.v1+json": {
       "config": {
        "plotlyServerURL": "https://plot.ly"
       },
       "data": [
        {
         "marker": {
          "color": "blue"
         },
         "name": "simulador local",
         "showlegend": true,
         "type": "bar",
         "x": [
          "probabilidade_valor_otimo"
         ],
         "xaxis": "x",
         "y": [
          0.9326171875
         ],
         "yaxis": "y"
        },
        {
         "marker": {
          "color": "orange"
         },
         "name": "simulador QASM",
         "showlegend": true,
         "type": "bar",
         "x": [
          "probabilidade_valor_otimo_simulador"
         ],
         "xaxis": "x",
         "y": [
          0.92225
         ],
         "yaxis": "y"
        },
        {
         "marker": {
          "color": "blue"
         },
         "name": "L_BFGS_B-EfficientSU2-probabilidade_valor_otimo",
         "showlegend": false,
         "type": "bar",
         "x": [
          "probabilidade_valor_otimo"
         ],
         "xaxis": "x2",
         "y": [
          0.09765625
         ],
         "yaxis": "y2"
        },
        {
         "marker": {
          "color": "orange"
         },
         "name": "L_BFGS_B-EfficientSU2-probabilidade_valor_otimo_simulador",
         "showlegend": false,
         "type": "bar",
         "x": [
          "probabilidade_valor_otimo_simulador"
         ],
         "xaxis": "x2",
         "y": [
          0.11375
         ],
         "yaxis": "y2"
        },
        {
         "marker": {
          "color": "blue"
         },
         "name": "NFT-EfficientSU2-probabilidade_valor_otimo",
         "showlegend": false,
         "type": "bar",
         "x": [
          "probabilidade_valor_otimo"
         ],
         "xaxis": "x3",
         "y": [
          0.9990234375
         ],
         "yaxis": "y3"
        },
        {
         "marker": {
          "color": "orange"
         },
         "name": "NFT-EfficientSU2-probabilidade_valor_otimo_simulador",
         "showlegend": false,
         "type": "bar",
         "x": [
          "probabilidade_valor_otimo_simulador"
         ],
         "xaxis": "x3",
         "y": [
          0.99625
         ],
         "yaxis": "y3"
        },
        {
         "marker": {
          "color": "blue"
         },
         "name": "SLSQP-EfficientSU2-probabilidade_valor_otimo",
         "showlegend": false,
         "type": "bar",
         "x": [
          "probabilidade_valor_otimo"
         ],
         "xaxis": "x4",
         "y": [
          0.0078125
         ],
         "yaxis": "y4"
        },
        {
         "marker": {
          "color": "orange"
         },
         "name": "SLSQP-EfficientSU2-probabilidade_valor_otimo_simulador",
         "showlegend": false,
         "type": "bar",
         "x": [
          "probabilidade_valor_otimo_simulador"
         ],
         "xaxis": "x4",
         "y": [
          0.00575
         ],
         "yaxis": "y4"
        },
        {
         "marker": {
          "color": "blue"
         },
         "name": "COBYLA-PauliTwoDesign-probabilidade_valor_otimo",
         "showlegend": false,
         "type": "bar",
         "x": [
          "probabilidade_valor_otimo"
         ],
         "xaxis": "x5",
         "y": [
          0.015625
         ],
         "yaxis": "y5"
        },
        {
         "marker": {
          "color": "orange"
         },
         "name": "COBYLA-PauliTwoDesign-probabilidade_valor_otimo_simulador",
         "showlegend": false,
         "type": "bar",
         "x": [
          "probabilidade_valor_otimo_simulador"
         ],
         "xaxis": "x5",
         "y": [
          0.11575
         ],
         "yaxis": "y5"
        },
        {
         "marker": {
          "color": "blue"
         },
         "name": "L_BFGS_B-PauliTwoDesign-probabilidade_valor_otimo",
         "showlegend": false,
         "type": "bar",
         "x": [
          "probabilidade_valor_otimo"
         ],
         "xaxis": "x6",
         "y": [
          0.013671875
         ],
         "yaxis": "y6"
        },
        {
         "marker": {
          "color": "orange"
         },
         "name": "L_BFGS_B-PauliTwoDesign-probabilidade_valor_otimo_simulador",
         "showlegend": false,
         "type": "bar",
         "x": [
          "probabilidade_valor_otimo_simulador"
         ],
         "xaxis": "x6",
         "y": [
          0.016
         ],
         "yaxis": "y6"
        },
        {
         "marker": {
          "color": "blue"
         },
         "name": "NFT-PauliTwoDesign-probabilidade_valor_otimo",
         "showlegend": false,
         "type": "bar",
         "x": [
          "probabilidade_valor_otimo"
         ],
         "xaxis": "x7",
         "y": [
          0.7216796875
         ],
         "yaxis": "y7"
        },
        {
         "marker": {
          "color": "orange"
         },
         "name": "NFT-PauliTwoDesign-probabilidade_valor_otimo_simulador",
         "showlegend": false,
         "type": "bar",
         "x": [
          "probabilidade_valor_otimo_simulador"
         ],
         "xaxis": "x7",
         "y": [
          0.845
         ],
         "yaxis": "y7"
        },
        {
         "marker": {
          "color": "blue"
         },
         "name": "SLSQP-PauliTwoDesign-probabilidade_valor_otimo",
         "showlegend": false,
         "type": "bar",
         "x": [
          "probabilidade_valor_otimo"
         ],
         "xaxis": "x8",
         "y": [
          0.83203125
         ],
         "yaxis": "y8"
        },
        {
         "marker": {
          "color": "orange"
         },
         "name": "SLSQP-PauliTwoDesign-probabilidade_valor_otimo_simulador",
         "showlegend": false,
         "type": "bar",
         "x": [
          "probabilidade_valor_otimo_simulador"
         ],
         "xaxis": "x8",
         "y": [
          0.682
         ],
         "yaxis": "y8"
        },
        {
         "marker": {
          "color": "blue"
         },
         "name": "COBYLA-RealAmplitudes-probabilidade_valor_otimo",
         "showlegend": false,
         "type": "bar",
         "x": [
          "probabilidade_valor_otimo"
         ],
         "xaxis": "x9",
         "y": [
          0.138671875
         ],
         "yaxis": "y9"
        },
        {
         "marker": {
          "color": "orange"
         },
         "name": "COBYLA-RealAmplitudes-probabilidade_valor_otimo_simulador",
         "showlegend": false,
         "type": "bar",
         "x": [
          "probabilidade_valor_otimo_simulador"
         ],
         "xaxis": "x9",
         "y": [
          0.153
         ],
         "yaxis": "y9"
        },
        {
         "marker": {
          "color": "blue"
         },
         "name": "L_BFGS_B-RealAmplitudes-probabilidade_valor_otimo",
         "showlegend": false,
         "type": "bar",
         "x": [
          "probabilidade_valor_otimo"
         ],
         "xaxis": "x10",
         "y": [
          1
         ],
         "yaxis": "y10"
        },
        {
         "marker": {
          "color": "orange"
         },
         "name": "L_BFGS_B-RealAmplitudes-probabilidade_valor_otimo_simulador",
         "showlegend": false,
         "type": "bar",
         "x": [
          "probabilidade_valor_otimo_simulador"
         ],
         "xaxis": "x10",
         "y": [
          1
         ],
         "yaxis": "y10"
        },
        {
         "marker": {
          "color": "blue"
         },
         "name": "NFT-RealAmplitudes-probabilidade_valor_otimo",
         "showlegend": false,
         "type": "bar",
         "x": [
          "probabilidade_valor_otimo"
         ],
         "xaxis": "x11",
         "y": [
          1
         ],
         "yaxis": "y11"
        },
        {
         "marker": {
          "color": "orange"
         },
         "name": "NFT-RealAmplitudes-probabilidade_valor_otimo_simulador",
         "showlegend": false,
         "type": "bar",
         "x": [
          "probabilidade_valor_otimo_simulador"
         ],
         "xaxis": "x11",
         "y": [
          1
         ],
         "yaxis": "y11"
        },
        {
         "marker": {
          "color": "blue"
         },
         "name": "SLSQP-RealAmplitudes-probabilidade_valor_otimo",
         "showlegend": false,
         "type": "bar",
         "x": [
          "probabilidade_valor_otimo"
         ],
         "xaxis": "x12",
         "y": [
          0.123046875
         ],
         "yaxis": "y12"
        },
        {
         "marker": {
          "color": "orange"
         },
         "name": "SLSQP-RealAmplitudes-probabilidade_valor_otimo_simulador",
         "showlegend": false,
         "type": "bar",
         "x": [
          "probabilidade_valor_otimo_simulador"
         ],
         "xaxis": "x12",
         "y": [
          0.011
         ],
         "yaxis": "y12"
        },
        {
         "marker": {
          "color": "blue"
         },
         "name": "COBYLA-TwoLocal-probabilidade_valor_otimo",
         "showlegend": false,
         "type": "bar",
         "x": [
          "probabilidade_valor_otimo"
         ],
         "xaxis": "x13",
         "y": [
          0.1279296875
         ],
         "yaxis": "y13"
        },
        {
         "marker": {
          "color": "orange"
         },
         "name": "COBYLA-TwoLocal-probabilidade_valor_otimo_simulador",
         "showlegend": false,
         "type": "bar",
         "x": [
          "probabilidade_valor_otimo_simulador"
         ],
         "xaxis": "x13",
         "y": [
          0.13175
         ],
         "yaxis": "y13"
        },
        {
         "marker": {
          "color": "blue"
         },
         "name": "L_BFGS_B-TwoLocal-probabilidade_valor_otimo",
         "showlegend": false,
         "type": "bar",
         "x": [
          "probabilidade_valor_otimo"
         ],
         "xaxis": "x14",
         "y": [
          0.1328125
         ],
         "yaxis": "y14"
        },
        {
         "marker": {
          "color": "orange"
         },
         "name": "L_BFGS_B-TwoLocal-probabilidade_valor_otimo_simulador",
         "showlegend": false,
         "type": "bar",
         "x": [
          "probabilidade_valor_otimo_simulador"
         ],
         "xaxis": "x14",
         "y": [
          0.17425
         ],
         "yaxis": "y14"
        },
        {
         "marker": {
          "color": "blue"
         },
         "name": "NFT-TwoLocal-probabilidade_valor_otimo",
         "showlegend": false,
         "type": "bar",
         "x": [
          "probabilidade_valor_otimo"
         ],
         "xaxis": "x15",
         "y": [
          0.998046875
         ],
         "yaxis": "y15"
        },
        {
         "marker": {
          "color": "orange"
         },
         "name": "NFT-TwoLocal-probabilidade_valor_otimo_simulador",
         "showlegend": false,
         "type": "bar",
         "x": [
          "probabilidade_valor_otimo_simulador"
         ],
         "xaxis": "x15",
         "y": [
          0.9985
         ],
         "yaxis": "y15"
        },
        {
         "marker": {
          "color": "blue"
         },
         "name": "SLSQP-TwoLocal-probabilidade_valor_otimo",
         "showlegend": false,
         "type": "bar",
         "x": [
          "probabilidade_valor_otimo"
         ],
         "xaxis": "x16",
         "y": [
          0.611328125
         ],
         "yaxis": "y16"
        },
        {
         "marker": {
          "color": "orange"
         },
         "name": "SLSQP-TwoLocal-probabilidade_valor_otimo_simulador",
         "showlegend": false,
         "type": "bar",
         "x": [
          "probabilidade_valor_otimo_simulador"
         ],
         "xaxis": "x16",
         "y": [
          0.61325
         ],
         "yaxis": "y16"
        }
       ],
       "layout": {
        "annotations": [
         {
          "font": {
           "size": 20
          },
          "showarrow": false,
          "text": "COBYLA e EfficientSU2",
          "x": 0.10625,
          "xanchor": "center",
          "xref": "paper",
          "y": 1,
          "yanchor": "bottom",
          "yref": "paper"
         },
         {
          "font": {
           "size": 20
          },
          "showarrow": false,
          "text": "L_BFGS_B e EfficientSU2",
          "x": 0.36875,
          "xanchor": "center",
          "xref": "paper",
          "y": 1,
          "yanchor": "bottom",
          "yref": "paper"
         },
         {
          "font": {
           "size": 20
          },
          "showarrow": false,
          "text": "NFT e EfficientSU2",
          "x": 0.6312500000000001,
          "xanchor": "center",
          "xref": "paper",
          "y": 1,
          "yanchor": "bottom",
          "yref": "paper"
         },
         {
          "font": {
           "size": 20
          },
          "showarrow": false,
          "text": "SLSQP e EfficientSU2",
          "x": 0.89375,
          "xanchor": "center",
          "xref": "paper",
          "y": 1,
          "yanchor": "bottom",
          "yref": "paper"
         },
         {
          "font": {
           "size": 20
          },
          "showarrow": false,
          "text": "COBYLA e PauliTwoDesign",
          "x": 0.10625,
          "xanchor": "center",
          "xref": "paper",
          "y": 0.71875,
          "yanchor": "bottom",
          "yref": "paper"
         },
         {
          "font": {
           "size": 20
          },
          "showarrow": false,
          "text": "L_BFGS_B e PauliTwoDesign",
          "x": 0.36875,
          "xanchor": "center",
          "xref": "paper",
          "y": 0.71875,
          "yanchor": "bottom",
          "yref": "paper"
         },
         {
          "font": {
           "size": 20
          },
          "showarrow": false,
          "text": "NFT e PauliTwoDesign",
          "x": 0.6312500000000001,
          "xanchor": "center",
          "xref": "paper",
          "y": 0.71875,
          "yanchor": "bottom",
          "yref": "paper"
         },
         {
          "font": {
           "size": 20
          },
          "showarrow": false,
          "text": "SLSQP e PauliTwoDesign",
          "x": 0.89375,
          "xanchor": "center",
          "xref": "paper",
          "y": 0.71875,
          "yanchor": "bottom",
          "yref": "paper"
         },
         {
          "font": {
           "size": 20
          },
          "showarrow": false,
          "text": "COBYLA e RealAmplitudes",
          "x": 0.10625,
          "xanchor": "center",
          "xref": "paper",
          "y": 0.4375,
          "yanchor": "bottom",
          "yref": "paper"
         },
         {
          "font": {
           "size": 20
          },
          "showarrow": false,
          "text": "L_BFGS_B e RealAmplitudes",
          "x": 0.36875,
          "xanchor": "center",
          "xref": "paper",
          "y": 0.4375,
          "yanchor": "bottom",
          "yref": "paper"
         },
         {
          "font": {
           "size": 20
          },
          "showarrow": false,
          "text": "NFT e RealAmplitudes",
          "x": 0.6312500000000001,
          "xanchor": "center",
          "xref": "paper",
          "y": 0.4375,
          "yanchor": "bottom",
          "yref": "paper"
         },
         {
          "font": {
           "size": 20
          },
          "showarrow": false,
          "text": "SLSQP e RealAmplitudes",
          "x": 0.89375,
          "xanchor": "center",
          "xref": "paper",
          "y": 0.4375,
          "yanchor": "bottom",
          "yref": "paper"
         },
         {
          "font": {
           "size": 20
          },
          "showarrow": false,
          "text": "COBYLA e TwoLocal",
          "x": 0.10625,
          "xanchor": "center",
          "xref": "paper",
          "y": 0.15625,
          "yanchor": "bottom",
          "yref": "paper"
         },
         {
          "font": {
           "size": 20
          },
          "showarrow": false,
          "text": "L_BFGS_B e TwoLocal",
          "x": 0.36875,
          "xanchor": "center",
          "xref": "paper",
          "y": 0.15625,
          "yanchor": "bottom",
          "yref": "paper"
         },
         {
          "font": {
           "size": 20
          },
          "showarrow": false,
          "text": "NFT e TwoLocal",
          "x": 0.6312500000000001,
          "xanchor": "center",
          "xref": "paper",
          "y": 0.15625,
          "yanchor": "bottom",
          "yref": "paper"
         },
         {
          "font": {
           "size": 20
          },
          "showarrow": false,
          "text": "SLSQP e TwoLocal",
          "x": 0.89375,
          "xanchor": "center",
          "xref": "paper",
          "y": 0.15625,
          "yanchor": "bottom",
          "yref": "paper"
         },
         {
          "font": {
           "size": 20
          },
          "showarrow": false,
          "text": "Métodos de execução",
          "x": 0.5,
          "xanchor": "center",
          "xref": "paper",
          "y": 0,
          "yanchor": "top",
          "yref": "paper",
          "yshift": -30
         },
         {
          "font": {
           "size": 20
          },
          "showarrow": false,
          "text": "Energia",
          "textangle": -90,
          "x": 0,
          "xanchor": "right",
          "xref": "paper",
          "xshift": -40,
          "y": 0.5,
          "yanchor": "middle",
          "yref": "paper"
         }
        ],
        "font": {
         "size": 20
        },
        "height": 700,
        "legend": {
         "itemsizing": "constant"
        },
        "margin": {
         "b": 75,
         "l": 35,
         "r": 35,
         "t": 35
        },
        "showlegend": true,
        "template": {
         "data": {
          "bar": [
           {
            "error_x": {
             "color": "#2a3f5f"
            },
            "error_y": {
             "color": "#2a3f5f"
            },
            "marker": {
             "line": {
              "color": "#E5ECF6",
              "width": 0.5
             },
             "pattern": {
              "fillmode": "overlay",
              "size": 10,
              "solidity": 0.2
             }
            },
            "type": "bar"
           }
          ],
          "barpolar": [
           {
            "marker": {
             "line": {
              "color": "#E5ECF6",
              "width": 0.5
             },
             "pattern": {
              "fillmode": "overlay",
              "size": 10,
              "solidity": 0.2
             }
            },
            "type": "barpolar"
           }
          ],
          "carpet": [
           {
            "aaxis": {
             "endlinecolor": "#2a3f5f",
             "gridcolor": "white",
             "linecolor": "white",
             "minorgridcolor": "white",
             "startlinecolor": "#2a3f5f"
            },
            "baxis": {
             "endlinecolor": "#2a3f5f",
             "gridcolor": "white",
             "linecolor": "white",
             "minorgridcolor": "white",
             "startlinecolor": "#2a3f5f"
            },
            "type": "carpet"
           }
          ],
          "choropleth": [
           {
            "colorbar": {
             "outlinewidth": 0,
             "ticks": ""
            },
            "type": "choropleth"
           }
          ],
          "contour": [
           {
            "colorbar": {
             "outlinewidth": 0,
             "ticks": ""
            },
            "colorscale": [
             [
              0,
              "#0d0887"
             ],
             [
              0.1111111111111111,
              "#46039f"
             ],
             [
              0.2222222222222222,
              "#7201a8"
             ],
             [
              0.3333333333333333,
              "#9c179e"
             ],
             [
              0.4444444444444444,
              "#bd3786"
             ],
             [
              0.5555555555555556,
              "#d8576b"
             ],
             [
              0.6666666666666666,
              "#ed7953"
             ],
             [
              0.7777777777777778,
              "#fb9f3a"
             ],
             [
              0.8888888888888888,
              "#fdca26"
             ],
             [
              1,
              "#f0f921"
             ]
            ],
            "type": "contour"
           }
          ],
          "contourcarpet": [
           {
            "colorbar": {
             "outlinewidth": 0,
             "ticks": ""
            },
            "type": "contourcarpet"
           }
          ],
          "heatmap": [
           {
            "colorbar": {
             "outlinewidth": 0,
             "ticks": ""
            },
            "colorscale": [
             [
              0,
              "#0d0887"
             ],
             [
              0.1111111111111111,
              "#46039f"
             ],
             [
              0.2222222222222222,
              "#7201a8"
             ],
             [
              0.3333333333333333,
              "#9c179e"
             ],
             [
              0.4444444444444444,
              "#bd3786"
             ],
             [
              0.5555555555555556,
              "#d8576b"
             ],
             [
              0.6666666666666666,
              "#ed7953"
             ],
             [
              0.7777777777777778,
              "#fb9f3a"
             ],
             [
              0.8888888888888888,
              "#fdca26"
             ],
             [
              1,
              "#f0f921"
             ]
            ],
            "type": "heatmap"
           }
          ],
          "heatmapgl": [
           {
            "colorbar": {
             "outlinewidth": 0,
             "ticks": ""
            },
            "colorscale": [
             [
              0,
              "#0d0887"
             ],
             [
              0.1111111111111111,
              "#46039f"
             ],
             [
              0.2222222222222222,
              "#7201a8"
             ],
             [
              0.3333333333333333,
              "#9c179e"
             ],
             [
              0.4444444444444444,
              "#bd3786"
             ],
             [
              0.5555555555555556,
              "#d8576b"
             ],
             [
              0.6666666666666666,
              "#ed7953"
             ],
             [
              0.7777777777777778,
              "#fb9f3a"
             ],
             [
              0.8888888888888888,
              "#fdca26"
             ],
             [
              1,
              "#f0f921"
             ]
            ],
            "type": "heatmapgl"
           }
          ],
          "histogram": [
           {
            "marker": {
             "pattern": {
              "fillmode": "overlay",
              "size": 10,
              "solidity": 0.2
             }
            },
            "type": "histogram"
           }
          ],
          "histogram2d": [
           {
            "colorbar": {
             "outlinewidth": 0,
             "ticks": ""
            },
            "colorscale": [
             [
              0,
              "#0d0887"
             ],
             [
              0.1111111111111111,
              "#46039f"
             ],
             [
              0.2222222222222222,
              "#7201a8"
             ],
             [
              0.3333333333333333,
              "#9c179e"
             ],
             [
              0.4444444444444444,
              "#bd3786"
             ],
             [
              0.5555555555555556,
              "#d8576b"
             ],
             [
              0.6666666666666666,
              "#ed7953"
             ],
             [
              0.7777777777777778,
              "#fb9f3a"
             ],
             [
              0.8888888888888888,
              "#fdca26"
             ],
             [
              1,
              "#f0f921"
             ]
            ],
            "type": "histogram2d"
           }
          ],
          "histogram2dcontour": [
           {
            "colorbar": {
             "outlinewidth": 0,
             "ticks": ""
            },
            "colorscale": [
             [
              0,
              "#0d0887"
             ],
             [
              0.1111111111111111,
              "#46039f"
             ],
             [
              0.2222222222222222,
              "#7201a8"
             ],
             [
              0.3333333333333333,
              "#9c179e"
             ],
             [
              0.4444444444444444,
              "#bd3786"
             ],
             [
              0.5555555555555556,
              "#d8576b"
             ],
             [
              0.6666666666666666,
              "#ed7953"
             ],
             [
              0.7777777777777778,
              "#fb9f3a"
             ],
             [
              0.8888888888888888,
              "#fdca26"
             ],
             [
              1,
              "#f0f921"
             ]
            ],
            "type": "histogram2dcontour"
           }
          ],
          "mesh3d": [
           {
            "colorbar": {
             "outlinewidth": 0,
             "ticks": ""
            },
            "type": "mesh3d"
           }
          ],
          "parcoords": [
           {
            "line": {
             "colorbar": {
              "outlinewidth": 0,
              "ticks": ""
             }
            },
            "type": "parcoords"
           }
          ],
          "pie": [
           {
            "automargin": true,
            "type": "pie"
           }
          ],
          "scatter": [
           {
            "fillpattern": {
             "fillmode": "overlay",
             "size": 10,
             "solidity": 0.2
            },
            "type": "scatter"
           }
          ],
          "scatter3d": [
           {
            "line": {
             "colorbar": {
              "outlinewidth": 0,
              "ticks": ""
             }
            },
            "marker": {
             "colorbar": {
              "outlinewidth": 0,
              "ticks": ""
             }
            },
            "type": "scatter3d"
           }
          ],
          "scattercarpet": [
           {
            "marker": {
             "colorbar": {
              "outlinewidth": 0,
              "ticks": ""
             }
            },
            "type": "scattercarpet"
           }
          ],
          "scattergeo": [
           {
            "marker": {
             "colorbar": {
              "outlinewidth": 0,
              "ticks": ""
             }
            },
            "type": "scattergeo"
           }
          ],
          "scattergl": [
           {
            "marker": {
             "colorbar": {
              "outlinewidth": 0,
              "ticks": ""
             }
            },
            "type": "scattergl"
           }
          ],
          "scattermapbox": [
           {
            "marker": {
             "colorbar": {
              "outlinewidth": 0,
              "ticks": ""
             }
            },
            "type": "scattermapbox"
           }
          ],
          "scatterpolar": [
           {
            "marker": {
             "colorbar": {
              "outlinewidth": 0,
              "ticks": ""
             }
            },
            "type": "scatterpolar"
           }
          ],
          "scatterpolargl": [
           {
            "marker": {
             "colorbar": {
              "outlinewidth": 0,
              "ticks": ""
             }
            },
            "type": "scatterpolargl"
           }
          ],
          "scatterternary": [
           {
            "marker": {
             "colorbar": {
              "outlinewidth": 0,
              "ticks": ""
             }
            },
            "type": "scatterternary"
           }
          ],
          "surface": [
           {
            "colorbar": {
             "outlinewidth": 0,
             "ticks": ""
            },
            "colorscale": [
             [
              0,
              "#0d0887"
             ],
             [
              0.1111111111111111,
              "#46039f"
             ],
             [
              0.2222222222222222,
              "#7201a8"
             ],
             [
              0.3333333333333333,
              "#9c179e"
             ],
             [
              0.4444444444444444,
              "#bd3786"
             ],
             [
              0.5555555555555556,
              "#d8576b"
             ],
             [
              0.6666666666666666,
              "#ed7953"
             ],
             [
              0.7777777777777778,
              "#fb9f3a"
             ],
             [
              0.8888888888888888,
              "#fdca26"
             ],
             [
              1,
              "#f0f921"
             ]
            ],
            "type": "surface"
           }
          ],
          "table": [
           {
            "cells": {
             "fill": {
              "color": "#EBF0F8"
             },
             "line": {
              "color": "white"
             }
            },
            "header": {
             "fill": {
              "color": "#C8D4E3"
             },
             "line": {
              "color": "white"
             }
            },
            "type": "table"
           }
          ]
         },
         "layout": {
          "annotationdefaults": {
           "arrowcolor": "#2a3f5f",
           "arrowhead": 0,
           "arrowwidth": 1
          },
          "autotypenumbers": "strict",
          "coloraxis": {
           "colorbar": {
            "outlinewidth": 0,
            "ticks": ""
           }
          },
          "colorscale": {
           "diverging": [
            [
             0,
             "#8e0152"
            ],
            [
             0.1,
             "#c51b7d"
            ],
            [
             0.2,
             "#de77ae"
            ],
            [
             0.3,
             "#f1b6da"
            ],
            [
             0.4,
             "#fde0ef"
            ],
            [
             0.5,
             "#f7f7f7"
            ],
            [
             0.6,
             "#e6f5d0"
            ],
            [
             0.7,
             "#b8e186"
            ],
            [
             0.8,
             "#7fbc41"
            ],
            [
             0.9,
             "#4d9221"
            ],
            [
             1,
             "#276419"
            ]
           ],
           "sequential": [
            [
             0,
             "#0d0887"
            ],
            [
             0.1111111111111111,
             "#46039f"
            ],
            [
             0.2222222222222222,
             "#7201a8"
            ],
            [
             0.3333333333333333,
             "#9c179e"
            ],
            [
             0.4444444444444444,
             "#bd3786"
            ],
            [
             0.5555555555555556,
             "#d8576b"
            ],
            [
             0.6666666666666666,
             "#ed7953"
            ],
            [
             0.7777777777777778,
             "#fb9f3a"
            ],
            [
             0.8888888888888888,
             "#fdca26"
            ],
            [
             1,
             "#f0f921"
            ]
           ],
           "sequentialminus": [
            [
             0,
             "#0d0887"
            ],
            [
             0.1111111111111111,
             "#46039f"
            ],
            [
             0.2222222222222222,
             "#7201a8"
            ],
            [
             0.3333333333333333,
             "#9c179e"
            ],
            [
             0.4444444444444444,
             "#bd3786"
            ],
            [
             0.5555555555555556,
             "#d8576b"
            ],
            [
             0.6666666666666666,
             "#ed7953"
            ],
            [
             0.7777777777777778,
             "#fb9f3a"
            ],
            [
             0.8888888888888888,
             "#fdca26"
            ],
            [
             1,
             "#f0f921"
            ]
           ]
          },
          "colorway": [
           "#636efa",
           "#EF553B",
           "#00cc96",
           "#ab63fa",
           "#FFA15A",
           "#19d3f3",
           "#FF6692",
           "#B6E880",
           "#FF97FF",
           "#FECB52"
          ],
          "font": {
           "color": "#2a3f5f"
          },
          "geo": {
           "bgcolor": "white",
           "lakecolor": "white",
           "landcolor": "#E5ECF6",
           "showlakes": true,
           "showland": true,
           "subunitcolor": "white"
          },
          "hoverlabel": {
           "align": "left"
          },
          "hovermode": "closest",
          "mapbox": {
           "style": "light"
          },
          "paper_bgcolor": "white",
          "plot_bgcolor": "#E5ECF6",
          "polar": {
           "angularaxis": {
            "gridcolor": "white",
            "linecolor": "white",
            "ticks": ""
           },
           "bgcolor": "#E5ECF6",
           "radialaxis": {
            "gridcolor": "white",
            "linecolor": "white",
            "ticks": ""
           }
          },
          "scene": {
           "xaxis": {
            "backgroundcolor": "#E5ECF6",
            "gridcolor": "white",
            "gridwidth": 2,
            "linecolor": "white",
            "showbackground": true,
            "ticks": "",
            "zerolinecolor": "white"
           },
           "yaxis": {
            "backgroundcolor": "#E5ECF6",
            "gridcolor": "white",
            "gridwidth": 2,
            "linecolor": "white",
            "showbackground": true,
            "ticks": "",
            "zerolinecolor": "white"
           },
           "zaxis": {
            "backgroundcolor": "#E5ECF6",
            "gridcolor": "white",
            "gridwidth": 2,
            "linecolor": "white",
            "showbackground": true,
            "ticks": "",
            "zerolinecolor": "white"
           }
          },
          "shapedefaults": {
           "line": {
            "color": "#2a3f5f"
           }
          },
          "ternary": {
           "aaxis": {
            "gridcolor": "white",
            "linecolor": "white",
            "ticks": ""
           },
           "baxis": {
            "gridcolor": "white",
            "linecolor": "white",
            "ticks": ""
           },
           "bgcolor": "#E5ECF6",
           "caxis": {
            "gridcolor": "white",
            "linecolor": "white",
            "ticks": ""
           }
          },
          "title": {
           "x": 0.05
          },
          "xaxis": {
           "automargin": true,
           "gridcolor": "white",
           "linecolor": "white",
           "ticks": "",
           "title": {
            "standoff": 15
           },
           "zerolinecolor": "white",
           "zerolinewidth": 2
          },
          "yaxis": {
           "automargin": true,
           "gridcolor": "white",
           "linecolor": "white",
           "ticks": "",
           "title": {
            "standoff": 15
           },
           "zerolinecolor": "white",
           "zerolinewidth": 2
          }
         }
        },
        "width": 2200,
        "xaxis": {
         "anchor": "y",
         "domain": [
          0,
          0.2125
         ],
         "showticklabels": false,
         "title": {
          "text": ""
         }
        },
        "xaxis10": {
         "anchor": "y10",
         "domain": [
          0.2625,
          0.475
         ],
         "showticklabels": false,
         "title": {
          "text": ""
         }
        },
        "xaxis11": {
         "anchor": "y11",
         "domain": [
          0.525,
          0.7375
         ],
         "showticklabels": false,
         "title": {
          "text": ""
         }
        },
        "xaxis12": {
         "anchor": "y12",
         "domain": [
          0.7875,
          1
         ],
         "showticklabels": false,
         "title": {
          "text": ""
         }
        },
        "xaxis13": {
         "anchor": "y13",
         "domain": [
          0,
          0.2125
         ],
         "showticklabels": false,
         "title": {
          "text": ""
         }
        },
        "xaxis14": {
         "anchor": "y14",
         "domain": [
          0.2625,
          0.475
         ],
         "showticklabels": false,
         "title": {
          "text": ""
         }
        },
        "xaxis15": {
         "anchor": "y15",
         "domain": [
          0.525,
          0.7375
         ],
         "showticklabels": false,
         "title": {
          "text": ""
         }
        },
        "xaxis16": {
         "anchor": "y16",
         "domain": [
          0.7875,
          1
         ],
         "showticklabels": false,
         "title": {
          "text": ""
         }
        },
        "xaxis2": {
         "anchor": "y2",
         "domain": [
          0.2625,
          0.475
         ],
         "showticklabels": false,
         "title": {
          "text": ""
         }
        },
        "xaxis3": {
         "anchor": "y3",
         "domain": [
          0.525,
          0.7375
         ],
         "showticklabels": false,
         "title": {
          "text": ""
         }
        },
        "xaxis4": {
         "anchor": "y4",
         "domain": [
          0.7875,
          1
         ],
         "showticklabels": false,
         "title": {
          "text": ""
         }
        },
        "xaxis5": {
         "anchor": "y5",
         "domain": [
          0,
          0.2125
         ],
         "showticklabels": false,
         "title": {
          "text": ""
         }
        },
        "xaxis6": {
         "anchor": "y6",
         "domain": [
          0.2625,
          0.475
         ],
         "showticklabels": false,
         "title": {
          "text": ""
         }
        },
        "xaxis7": {
         "anchor": "y7",
         "domain": [
          0.525,
          0.7375
         ],
         "showticklabels": false,
         "title": {
          "text": ""
         }
        },
        "xaxis8": {
         "anchor": "y8",
         "domain": [
          0.7875,
          1
         ],
         "showticklabels": false,
         "title": {
          "text": ""
         }
        },
        "xaxis9": {
         "anchor": "y9",
         "domain": [
          0,
          0.2125
         ],
         "showticklabels": false,
         "title": {
          "text": ""
         }
        },
        "yaxis": {
         "anchor": "x",
         "domain": [
          0.84375,
          1
         ],
         "title": {
          "text": ""
         }
        },
        "yaxis10": {
         "anchor": "x10",
         "domain": [
          0.28125,
          0.4375
         ]
        },
        "yaxis11": {
         "anchor": "x11",
         "domain": [
          0.28125,
          0.4375
         ]
        },
        "yaxis12": {
         "anchor": "x12",
         "domain": [
          0.28125,
          0.4375
         ]
        },
        "yaxis13": {
         "anchor": "x13",
         "domain": [
          0,
          0.15625
         ]
        },
        "yaxis14": {
         "anchor": "x14",
         "domain": [
          0,
          0.15625
         ]
        },
        "yaxis15": {
         "anchor": "x15",
         "domain": [
          0,
          0.15625
         ]
        },
        "yaxis16": {
         "anchor": "x16",
         "domain": [
          0,
          0.15625
         ]
        },
        "yaxis2": {
         "anchor": "x2",
         "domain": [
          0.84375,
          1
         ]
        },
        "yaxis3": {
         "anchor": "x3",
         "domain": [
          0.84375,
          1
         ]
        },
        "yaxis4": {
         "anchor": "x4",
         "domain": [
          0.84375,
          1
         ]
        },
        "yaxis5": {
         "anchor": "x5",
         "domain": [
          0.5625,
          0.71875
         ]
        },
        "yaxis6": {
         "anchor": "x6",
         "domain": [
          0.5625,
          0.71875
         ]
        },
        "yaxis7": {
         "anchor": "x7",
         "domain": [
          0.5625,
          0.71875
         ]
        },
        "yaxis8": {
         "anchor": "x8",
         "domain": [
          0.5625,
          0.71875
         ]
        },
        "yaxis9": {
         "anchor": "x9",
         "domain": [
          0.28125,
          0.4375
         ]
        }
       }
      }
     },
     "metadata": {},
     "output_type": "display_data"
    }
   ],
   "source": [
    "copia_resultados_vqe_4 = resultados_vqe_4.copy()\n",
    "\n",
    "combinacoes = [f\"{otimizador} e {ansatz}\" for otimizador, ansatz in copia_resultados_vqe_4.index.unique()]\n",
    "cores = {'probabilidade_valor_otimo': 'blue', 'probabilidade_valor_otimo_simulador': 'orange', 'probabilidade_valor_otimo_computador_quantico':'cyan'}\n",
    "nomes = {'probabilidade_valor_otimo': 'simulador local', 'probabilidade_valor_otimo_simulador': 'simulador QASM', 'probabilidade_valor_otimo_computador_quantico':'IBM Brisbane'}\n",
    "cols_appeared = []\n",
    "\n",
    "fig = make_subplots(rows=4, cols=4, subplot_titles=combinacoes, \n",
    "                    x_title='Métodos de execução', y_title='Energia', \n",
    "                    shared_xaxes=False, shared_yaxes=False)\n",
    "\n",
    "for i, (otimizador, ansatz) in enumerate(copia_resultados_vqe_4.index.unique()):\n",
    "\n",
    "    df_subset = copia_resultados_vqe_4.loc[\n",
    "        (copia_resultados_vqe_4.index.get_level_values(0) == otimizador) &\n",
    "        (copia_resultados_vqe_4.index.get_level_values(1) == ansatz)\n",
    "    ]\n",
    "\n",
    "    valores = df_subset[['probabilidade_valor_otimo', 'probabilidade_valor_otimo_simulador']]\n",
    "\n",
    "    for idx, col in enumerate(valores.columns):\n",
    "        nome_fig = f'{otimizador}-{ansatz}-{col}'\n",
    "        legenda_bool = False\n",
    "\n",
    "        if not col in cols_appeared:\n",
    "            nome_fig = f'{nomes[col]}'\n",
    "            legenda_bool = True\n",
    "        \n",
    "        fig.add_trace(\n",
    "            go.Bar(x=[col], \n",
    "                    y=[valores[col].values[0]],\n",
    "                    name=nome_fig,\n",
    "                    marker_color=cores[col],\n",
    "                    showlegend=legenda_bool),\n",
    "            row=(i // 4) + 1,\n",
    "            col=(i % 4) + 1\n",
    "        )\n",
    "        cols_appeared.append(col)\n",
    "\n",
    "        fig.update_xaxes(showticklabels=False, title_text='', row=(i // 4) + 1, col=(i % 4) + 1)\n",
    "\n",
    "fig.update_layout(\n",
    "                  showlegend=True,\n",
    "                  xaxis_title='',\n",
    "                  yaxis_title='',\n",
    "                  width = 2200,\n",
    "                  height = 700,\n",
    "                  font = dict(size=20),\n",
    "                  legend_itemsizing=\"constant\",\n",
    "                  margin = dict(l=35, r=35, t=35, b=75),\n",
    "                  )\n",
    "\n",
    "fig.update_annotations(font_size=20)\n",
    "\n",
    "nome_figura = f\"figuras_dados/vqe_4_comparacao_probabilidade_metodos.png\"\n",
    "fig.write_image(nome_figura, width=2200, height=700)\n",
    "\n",
    "fig.show()"
   ]
  },
  {
   "cell_type": "code",
   "execution_count": 11,
   "metadata": {},
   "outputs": [
    {
     "data": {
      "application/vnd.plotly.v1+json": {
       "config": {
        "plotlyServerURL": "https://plot.ly"
       },
       "data": [
        {
         "marker": {
          "color": "blue"
         },
         "name": "simulador local",
         "showlegend": true,
         "type": "bar",
         "x": [
          "probabilidade_valor_otimo"
         ],
         "xaxis": "x",
         "y": [
          0.9326171875
         ],
         "yaxis": "y"
        },
        {
         "marker": {
          "color": "orange"
         },
         "name": "simulador QASM",
         "showlegend": true,
         "type": "bar",
         "x": [
          "probabilidade_valor_otimo_simulador"
         ],
         "xaxis": "x",
         "y": [
          0.92225
         ],
         "yaxis": "y"
        },
        {
         "marker": {
          "color": "blue"
         },
         "name": "L_BFGS_B-EfficientSU2-probabilidade_valor_otimo",
         "showlegend": false,
         "type": "bar",
         "x": [
          "probabilidade_valor_otimo"
         ],
         "xaxis": "x2",
         "y": [
          0.09765625
         ],
         "yaxis": "y2"
        },
        {
         "marker": {
          "color": "orange"
         },
         "name": "L_BFGS_B-EfficientSU2-probabilidade_valor_otimo_simulador",
         "showlegend": false,
         "type": "bar",
         "x": [
          "probabilidade_valor_otimo_simulador"
         ],
         "xaxis": "x2",
         "y": [
          0.11375
         ],
         "yaxis": "y2"
        },
        {
         "marker": {
          "color": "blue"
         },
         "name": "NFT-EfficientSU2-probabilidade_valor_otimo",
         "showlegend": false,
         "type": "bar",
         "x": [
          "probabilidade_valor_otimo"
         ],
         "xaxis": "x3",
         "y": [
          0.9990234375
         ],
         "yaxis": "y3"
        },
        {
         "marker": {
          "color": "orange"
         },
         "name": "NFT-EfficientSU2-probabilidade_valor_otimo_simulador",
         "showlegend": false,
         "type": "bar",
         "x": [
          "probabilidade_valor_otimo_simulador"
         ],
         "xaxis": "x3",
         "y": [
          0.99625
         ],
         "yaxis": "y3"
        },
        {
         "marker": {
          "color": "blue"
         },
         "name": "SLSQP-EfficientSU2-probabilidade_valor_otimo",
         "showlegend": false,
         "type": "bar",
         "x": [
          "probabilidade_valor_otimo"
         ],
         "xaxis": "x4",
         "y": [
          0.0078125
         ],
         "yaxis": "y4"
        },
        {
         "marker": {
          "color": "orange"
         },
         "name": "SLSQP-EfficientSU2-probabilidade_valor_otimo_simulador",
         "showlegend": false,
         "type": "bar",
         "x": [
          "probabilidade_valor_otimo_simulador"
         ],
         "xaxis": "x4",
         "y": [
          0.00575
         ],
         "yaxis": "y4"
        },
        {
         "marker": {
          "color": "blue"
         },
         "name": "COBYLA-PauliTwoDesign-probabilidade_valor_otimo",
         "showlegend": false,
         "type": "bar",
         "x": [
          "probabilidade_valor_otimo"
         ],
         "xaxis": "x5",
         "y": [
          0.015625
         ],
         "yaxis": "y5"
        },
        {
         "marker": {
          "color": "orange"
         },
         "name": "COBYLA-PauliTwoDesign-probabilidade_valor_otimo_simulador",
         "showlegend": false,
         "type": "bar",
         "x": [
          "probabilidade_valor_otimo_simulador"
         ],
         "xaxis": "x5",
         "y": [
          0.11575
         ],
         "yaxis": "y5"
        },
        {
         "marker": {
          "color": "blue"
         },
         "name": "L_BFGS_B-PauliTwoDesign-probabilidade_valor_otimo",
         "showlegend": false,
         "type": "bar",
         "x": [
          "probabilidade_valor_otimo"
         ],
         "xaxis": "x6",
         "y": [
          0.013671875
         ],
         "yaxis": "y6"
        },
        {
         "marker": {
          "color": "orange"
         },
         "name": "L_BFGS_B-PauliTwoDesign-probabilidade_valor_otimo_simulador",
         "showlegend": false,
         "type": "bar",
         "x": [
          "probabilidade_valor_otimo_simulador"
         ],
         "xaxis": "x6",
         "y": [
          0.016
         ],
         "yaxis": "y6"
        },
        {
         "marker": {
          "color": "blue"
         },
         "name": "NFT-PauliTwoDesign-probabilidade_valor_otimo",
         "showlegend": false,
         "type": "bar",
         "x": [
          "probabilidade_valor_otimo"
         ],
         "xaxis": "x7",
         "y": [
          0.7216796875
         ],
         "yaxis": "y7"
        },
        {
         "marker": {
          "color": "orange"
         },
         "name": "NFT-PauliTwoDesign-probabilidade_valor_otimo_simulador",
         "showlegend": false,
         "type": "bar",
         "x": [
          "probabilidade_valor_otimo_simulador"
         ],
         "xaxis": "x7",
         "y": [
          0.845
         ],
         "yaxis": "y7"
        },
        {
         "marker": {
          "color": "blue"
         },
         "name": "SLSQP-PauliTwoDesign-probabilidade_valor_otimo",
         "showlegend": false,
         "type": "bar",
         "x": [
          "probabilidade_valor_otimo"
         ],
         "xaxis": "x8",
         "y": [
          0.83203125
         ],
         "yaxis": "y8"
        },
        {
         "marker": {
          "color": "orange"
         },
         "name": "SLSQP-PauliTwoDesign-probabilidade_valor_otimo_simulador",
         "showlegend": false,
         "type": "bar",
         "x": [
          "probabilidade_valor_otimo_simulador"
         ],
         "xaxis": "x8",
         "y": [
          0.682
         ],
         "yaxis": "y8"
        },
        {
         "marker": {
          "color": "blue"
         },
         "name": "COBYLA-RealAmplitudes-probabilidade_valor_otimo",
         "showlegend": false,
         "type": "bar",
         "x": [
          "probabilidade_valor_otimo"
         ],
         "xaxis": "x9",
         "y": [
          0.138671875
         ],
         "yaxis": "y9"
        },
        {
         "marker": {
          "color": "orange"
         },
         "name": "COBYLA-RealAmplitudes-probabilidade_valor_otimo_simulador",
         "showlegend": false,
         "type": "bar",
         "x": [
          "probabilidade_valor_otimo_simulador"
         ],
         "xaxis": "x9",
         "y": [
          0.153
         ],
         "yaxis": "y9"
        },
        {
         "marker": {
          "color": "blue"
         },
         "name": "L_BFGS_B-RealAmplitudes-probabilidade_valor_otimo",
         "showlegend": false,
         "type": "bar",
         "x": [
          "probabilidade_valor_otimo"
         ],
         "xaxis": "x10",
         "y": [
          1
         ],
         "yaxis": "y10"
        },
        {
         "marker": {
          "color": "orange"
         },
         "name": "L_BFGS_B-RealAmplitudes-probabilidade_valor_otimo_simulador",
         "showlegend": false,
         "type": "bar",
         "x": [
          "probabilidade_valor_otimo_simulador"
         ],
         "xaxis": "x10",
         "y": [
          1
         ],
         "yaxis": "y10"
        },
        {
         "marker": {
          "color": "blue"
         },
         "name": "NFT-RealAmplitudes-probabilidade_valor_otimo",
         "showlegend": false,
         "type": "bar",
         "x": [
          "probabilidade_valor_otimo"
         ],
         "xaxis": "x11",
         "y": [
          1
         ],
         "yaxis": "y11"
        },
        {
         "marker": {
          "color": "orange"
         },
         "name": "NFT-RealAmplitudes-probabilidade_valor_otimo_simulador",
         "showlegend": false,
         "type": "bar",
         "x": [
          "probabilidade_valor_otimo_simulador"
         ],
         "xaxis": "x11",
         "y": [
          1
         ],
         "yaxis": "y11"
        },
        {
         "marker": {
          "color": "blue"
         },
         "name": "SLSQP-RealAmplitudes-probabilidade_valor_otimo",
         "showlegend": false,
         "type": "bar",
         "x": [
          "probabilidade_valor_otimo"
         ],
         "xaxis": "x12",
         "y": [
          0.123046875
         ],
         "yaxis": "y12"
        },
        {
         "marker": {
          "color": "orange"
         },
         "name": "SLSQP-RealAmplitudes-probabilidade_valor_otimo_simulador",
         "showlegend": false,
         "type": "bar",
         "x": [
          "probabilidade_valor_otimo_simulador"
         ],
         "xaxis": "x12",
         "y": [
          0.011
         ],
         "yaxis": "y12"
        },
        {
         "marker": {
          "color": "blue"
         },
         "name": "COBYLA-TwoLocal-probabilidade_valor_otimo",
         "showlegend": false,
         "type": "bar",
         "x": [
          "probabilidade_valor_otimo"
         ],
         "xaxis": "x13",
         "y": [
          0.1279296875
         ],
         "yaxis": "y13"
        },
        {
         "marker": {
          "color": "orange"
         },
         "name": "COBYLA-TwoLocal-probabilidade_valor_otimo_simulador",
         "showlegend": false,
         "type": "bar",
         "x": [
          "probabilidade_valor_otimo_simulador"
         ],
         "xaxis": "x13",
         "y": [
          0.13175
         ],
         "yaxis": "y13"
        },
        {
         "marker": {
          "color": "blue"
         },
         "name": "L_BFGS_B-TwoLocal-probabilidade_valor_otimo",
         "showlegend": false,
         "type": "bar",
         "x": [
          "probabilidade_valor_otimo"
         ],
         "xaxis": "x14",
         "y": [
          0.1328125
         ],
         "yaxis": "y14"
        },
        {
         "marker": {
          "color": "orange"
         },
         "name": "L_BFGS_B-TwoLocal-probabilidade_valor_otimo_simulador",
         "showlegend": false,
         "type": "bar",
         "x": [
          "probabilidade_valor_otimo_simulador"
         ],
         "xaxis": "x14",
         "y": [
          0.17425
         ],
         "yaxis": "y14"
        },
        {
         "marker": {
          "color": "blue"
         },
         "name": "NFT-TwoLocal-probabilidade_valor_otimo",
         "showlegend": false,
         "type": "bar",
         "x": [
          "probabilidade_valor_otimo"
         ],
         "xaxis": "x15",
         "y": [
          0.998046875
         ],
         "yaxis": "y15"
        },
        {
         "marker": {
          "color": "orange"
         },
         "name": "NFT-TwoLocal-probabilidade_valor_otimo_simulador",
         "showlegend": false,
         "type": "bar",
         "x": [
          "probabilidade_valor_otimo_simulador"
         ],
         "xaxis": "x15",
         "y": [
          0.9985
         ],
         "yaxis": "y15"
        },
        {
         "marker": {
          "color": "blue"
         },
         "name": "SLSQP-TwoLocal-probabilidade_valor_otimo",
         "showlegend": false,
         "type": "bar",
         "x": [
          "probabilidade_valor_otimo"
         ],
         "xaxis": "x16",
         "y": [
          0.611328125
         ],
         "yaxis": "y16"
        },
        {
         "marker": {
          "color": "orange"
         },
         "name": "SLSQP-TwoLocal-probabilidade_valor_otimo_simulador",
         "showlegend": false,
         "type": "bar",
         "x": [
          "probabilidade_valor_otimo_simulador"
         ],
         "xaxis": "x16",
         "y": [
          0.61325
         ],
         "yaxis": "y16"
        }
       ],
       "layout": {
        "annotations": [
         {
          "font": {
           "size": 20
          },
          "showarrow": false,
          "text": "COBYLA e EfficientSU2",
          "x": 0.10625,
          "xanchor": "center",
          "xref": "paper",
          "y": 1,
          "yanchor": "bottom",
          "yref": "paper"
         },
         {
          "font": {
           "size": 20
          },
          "showarrow": false,
          "text": "L_BFGS_B e EfficientSU2",
          "x": 0.36875,
          "xanchor": "center",
          "xref": "paper",
          "y": 1,
          "yanchor": "bottom",
          "yref": "paper"
         },
         {
          "font": {
           "size": 20
          },
          "showarrow": false,
          "text": "NFT e EfficientSU2",
          "x": 0.6312500000000001,
          "xanchor": "center",
          "xref": "paper",
          "y": 1,
          "yanchor": "bottom",
          "yref": "paper"
         },
         {
          "font": {
           "size": 20
          },
          "showarrow": false,
          "text": "SLSQP e EfficientSU2",
          "x": 0.89375,
          "xanchor": "center",
          "xref": "paper",
          "y": 1,
          "yanchor": "bottom",
          "yref": "paper"
         },
         {
          "font": {
           "size": 20
          },
          "showarrow": false,
          "text": "COBYLA e PauliTwoDesign",
          "x": 0.10625,
          "xanchor": "center",
          "xref": "paper",
          "y": 0.71875,
          "yanchor": "bottom",
          "yref": "paper"
         },
         {
          "font": {
           "size": 20
          },
          "showarrow": false,
          "text": "L_BFGS_B e PauliTwoDesign",
          "x": 0.36875,
          "xanchor": "center",
          "xref": "paper",
          "y": 0.71875,
          "yanchor": "bottom",
          "yref": "paper"
         },
         {
          "font": {
           "size": 20
          },
          "showarrow": false,
          "text": "NFT e PauliTwoDesign",
          "x": 0.6312500000000001,
          "xanchor": "center",
          "xref": "paper",
          "y": 0.71875,
          "yanchor": "bottom",
          "yref": "paper"
         },
         {
          "font": {
           "size": 20
          },
          "showarrow": false,
          "text": "SLSQP e PauliTwoDesign",
          "x": 0.89375,
          "xanchor": "center",
          "xref": "paper",
          "y": 0.71875,
          "yanchor": "bottom",
          "yref": "paper"
         },
         {
          "font": {
           "size": 20
          },
          "showarrow": false,
          "text": "COBYLA e RealAmplitudes",
          "x": 0.10625,
          "xanchor": "center",
          "xref": "paper",
          "y": 0.4375,
          "yanchor": "bottom",
          "yref": "paper"
         },
         {
          "font": {
           "size": 20
          },
          "showarrow": false,
          "text": "L_BFGS_B e RealAmplitudes",
          "x": 0.36875,
          "xanchor": "center",
          "xref": "paper",
          "y": 0.4375,
          "yanchor": "bottom",
          "yref": "paper"
         },
         {
          "font": {
           "size": 20
          },
          "showarrow": false,
          "text": "NFT e RealAmplitudes",
          "x": 0.6312500000000001,
          "xanchor": "center",
          "xref": "paper",
          "y": 0.4375,
          "yanchor": "bottom",
          "yref": "paper"
         },
         {
          "font": {
           "size": 20
          },
          "showarrow": false,
          "text": "SLSQP e RealAmplitudes",
          "x": 0.89375,
          "xanchor": "center",
          "xref": "paper",
          "y": 0.4375,
          "yanchor": "bottom",
          "yref": "paper"
         },
         {
          "font": {
           "size": 20
          },
          "showarrow": false,
          "text": "COBYLA e TwoLocal",
          "x": 0.10625,
          "xanchor": "center",
          "xref": "paper",
          "y": 0.15625,
          "yanchor": "bottom",
          "yref": "paper"
         },
         {
          "font": {
           "size": 20
          },
          "showarrow": false,
          "text": "L_BFGS_B e TwoLocal",
          "x": 0.36875,
          "xanchor": "center",
          "xref": "paper",
          "y": 0.15625,
          "yanchor": "bottom",
          "yref": "paper"
         },
         {
          "font": {
           "size": 20
          },
          "showarrow": false,
          "text": "NFT e TwoLocal",
          "x": 0.6312500000000001,
          "xanchor": "center",
          "xref": "paper",
          "y": 0.15625,
          "yanchor": "bottom",
          "yref": "paper"
         },
         {
          "font": {
           "size": 20
          },
          "showarrow": false,
          "text": "SLSQP e TwoLocal",
          "x": 0.89375,
          "xanchor": "center",
          "xref": "paper",
          "y": 0.15625,
          "yanchor": "bottom",
          "yref": "paper"
         },
         {
          "font": {
           "size": 20
          },
          "showarrow": false,
          "text": "Métodos de execução",
          "x": 0.5,
          "xanchor": "center",
          "xref": "paper",
          "y": 0,
          "yanchor": "top",
          "yref": "paper",
          "yshift": -30
         },
         {
          "font": {
           "size": 20
          },
          "showarrow": false,
          "text": "Energia",
          "textangle": -90,
          "x": 0,
          "xanchor": "right",
          "xref": "paper",
          "xshift": -40,
          "y": 0.5,
          "yanchor": "middle",
          "yref": "paper"
         }
        ],
        "font": {
         "size": 20
        },
        "height": 700,
        "legend": {
         "itemsizing": "constant"
        },
        "margin": {
         "b": 75,
         "l": 35,
         "r": 35,
         "t": 35
        },
        "showlegend": true,
        "template": {
         "data": {
          "bar": [
           {
            "error_x": {
             "color": "#2a3f5f"
            },
            "error_y": {
             "color": "#2a3f5f"
            },
            "marker": {
             "line": {
              "color": "#E5ECF6",
              "width": 0.5
             },
             "pattern": {
              "fillmode": "overlay",
              "size": 10,
              "solidity": 0.2
             }
            },
            "type": "bar"
           }
          ],
          "barpolar": [
           {
            "marker": {
             "line": {
              "color": "#E5ECF6",
              "width": 0.5
             },
             "pattern": {
              "fillmode": "overlay",
              "size": 10,
              "solidity": 0.2
             }
            },
            "type": "barpolar"
           }
          ],
          "carpet": [
           {
            "aaxis": {
             "endlinecolor": "#2a3f5f",
             "gridcolor": "white",
             "linecolor": "white",
             "minorgridcolor": "white",
             "startlinecolor": "#2a3f5f"
            },
            "baxis": {
             "endlinecolor": "#2a3f5f",
             "gridcolor": "white",
             "linecolor": "white",
             "minorgridcolor": "white",
             "startlinecolor": "#2a3f5f"
            },
            "type": "carpet"
           }
          ],
          "choropleth": [
           {
            "colorbar": {
             "outlinewidth": 0,
             "ticks": ""
            },
            "type": "choropleth"
           }
          ],
          "contour": [
           {
            "colorbar": {
             "outlinewidth": 0,
             "ticks": ""
            },
            "colorscale": [
             [
              0,
              "#0d0887"
             ],
             [
              0.1111111111111111,
              "#46039f"
             ],
             [
              0.2222222222222222,
              "#7201a8"
             ],
             [
              0.3333333333333333,
              "#9c179e"
             ],
             [
              0.4444444444444444,
              "#bd3786"
             ],
             [
              0.5555555555555556,
              "#d8576b"
             ],
             [
              0.6666666666666666,
              "#ed7953"
             ],
             [
              0.7777777777777778,
              "#fb9f3a"
             ],
             [
              0.8888888888888888,
              "#fdca26"
             ],
             [
              1,
              "#f0f921"
             ]
            ],
            "type": "contour"
           }
          ],
          "contourcarpet": [
           {
            "colorbar": {
             "outlinewidth": 0,
             "ticks": ""
            },
            "type": "contourcarpet"
           }
          ],
          "heatmap": [
           {
            "colorbar": {
             "outlinewidth": 0,
             "ticks": ""
            },
            "colorscale": [
             [
              0,
              "#0d0887"
             ],
             [
              0.1111111111111111,
              "#46039f"
             ],
             [
              0.2222222222222222,
              "#7201a8"
             ],
             [
              0.3333333333333333,
              "#9c179e"
             ],
             [
              0.4444444444444444,
              "#bd3786"
             ],
             [
              0.5555555555555556,
              "#d8576b"
             ],
             [
              0.6666666666666666,
              "#ed7953"
             ],
             [
              0.7777777777777778,
              "#fb9f3a"
             ],
             [
              0.8888888888888888,
              "#fdca26"
             ],
             [
              1,
              "#f0f921"
             ]
            ],
            "type": "heatmap"
           }
          ],
          "heatmapgl": [
           {
            "colorbar": {
             "outlinewidth": 0,
             "ticks": ""
            },
            "colorscale": [
             [
              0,
              "#0d0887"
             ],
             [
              0.1111111111111111,
              "#46039f"
             ],
             [
              0.2222222222222222,
              "#7201a8"
             ],
             [
              0.3333333333333333,
              "#9c179e"
             ],
             [
              0.4444444444444444,
              "#bd3786"
             ],
             [
              0.5555555555555556,
              "#d8576b"
             ],
             [
              0.6666666666666666,
              "#ed7953"
             ],
             [
              0.7777777777777778,
              "#fb9f3a"
             ],
             [
              0.8888888888888888,
              "#fdca26"
             ],
             [
              1,
              "#f0f921"
             ]
            ],
            "type": "heatmapgl"
           }
          ],
          "histogram": [
           {
            "marker": {
             "pattern": {
              "fillmode": "overlay",
              "size": 10,
              "solidity": 0.2
             }
            },
            "type": "histogram"
           }
          ],
          "histogram2d": [
           {
            "colorbar": {
             "outlinewidth": 0,
             "ticks": ""
            },
            "colorscale": [
             [
              0,
              "#0d0887"
             ],
             [
              0.1111111111111111,
              "#46039f"
             ],
             [
              0.2222222222222222,
              "#7201a8"
             ],
             [
              0.3333333333333333,
              "#9c179e"
             ],
             [
              0.4444444444444444,
              "#bd3786"
             ],
             [
              0.5555555555555556,
              "#d8576b"
             ],
             [
              0.6666666666666666,
              "#ed7953"
             ],
             [
              0.7777777777777778,
              "#fb9f3a"
             ],
             [
              0.8888888888888888,
              "#fdca26"
             ],
             [
              1,
              "#f0f921"
             ]
            ],
            "type": "histogram2d"
           }
          ],
          "histogram2dcontour": [
           {
            "colorbar": {
             "outlinewidth": 0,
             "ticks": ""
            },
            "colorscale": [
             [
              0,
              "#0d0887"
             ],
             [
              0.1111111111111111,
              "#46039f"
             ],
             [
              0.2222222222222222,
              "#7201a8"
             ],
             [
              0.3333333333333333,
              "#9c179e"
             ],
             [
              0.4444444444444444,
              "#bd3786"
             ],
             [
              0.5555555555555556,
              "#d8576b"
             ],
             [
              0.6666666666666666,
              "#ed7953"
             ],
             [
              0.7777777777777778,
              "#fb9f3a"
             ],
             [
              0.8888888888888888,
              "#fdca26"
             ],
             [
              1,
              "#f0f921"
             ]
            ],
            "type": "histogram2dcontour"
           }
          ],
          "mesh3d": [
           {
            "colorbar": {
             "outlinewidth": 0,
             "ticks": ""
            },
            "type": "mesh3d"
           }
          ],
          "parcoords": [
           {
            "line": {
             "colorbar": {
              "outlinewidth": 0,
              "ticks": ""
             }
            },
            "type": "parcoords"
           }
          ],
          "pie": [
           {
            "automargin": true,
            "type": "pie"
           }
          ],
          "scatter": [
           {
            "fillpattern": {
             "fillmode": "overlay",
             "size": 10,
             "solidity": 0.2
            },
            "type": "scatter"
           }
          ],
          "scatter3d": [
           {
            "line": {
             "colorbar": {
              "outlinewidth": 0,
              "ticks": ""
             }
            },
            "marker": {
             "colorbar": {
              "outlinewidth": 0,
              "ticks": ""
             }
            },
            "type": "scatter3d"
           }
          ],
          "scattercarpet": [
           {
            "marker": {
             "colorbar": {
              "outlinewidth": 0,
              "ticks": ""
             }
            },
            "type": "scattercarpet"
           }
          ],
          "scattergeo": [
           {
            "marker": {
             "colorbar": {
              "outlinewidth": 0,
              "ticks": ""
             }
            },
            "type": "scattergeo"
           }
          ],
          "scattergl": [
           {
            "marker": {
             "colorbar": {
              "outlinewidth": 0,
              "ticks": ""
             }
            },
            "type": "scattergl"
           }
          ],
          "scattermapbox": [
           {
            "marker": {
             "colorbar": {
              "outlinewidth": 0,
              "ticks": ""
             }
            },
            "type": "scattermapbox"
           }
          ],
          "scatterpolar": [
           {
            "marker": {
             "colorbar": {
              "outlinewidth": 0,
              "ticks": ""
             }
            },
            "type": "scatterpolar"
           }
          ],
          "scatterpolargl": [
           {
            "marker": {
             "colorbar": {
              "outlinewidth": 0,
              "ticks": ""
             }
            },
            "type": "scatterpolargl"
           }
          ],
          "scatterternary": [
           {
            "marker": {
             "colorbar": {
              "outlinewidth": 0,
              "ticks": ""
             }
            },
            "type": "scatterternary"
           }
          ],
          "surface": [
           {
            "colorbar": {
             "outlinewidth": 0,
             "ticks": ""
            },
            "colorscale": [
             [
              0,
              "#0d0887"
             ],
             [
              0.1111111111111111,
              "#46039f"
             ],
             [
              0.2222222222222222,
              "#7201a8"
             ],
             [
              0.3333333333333333,
              "#9c179e"
             ],
             [
              0.4444444444444444,
              "#bd3786"
             ],
             [
              0.5555555555555556,
              "#d8576b"
             ],
             [
              0.6666666666666666,
              "#ed7953"
             ],
             [
              0.7777777777777778,
              "#fb9f3a"
             ],
             [
              0.8888888888888888,
              "#fdca26"
             ],
             [
              1,
              "#f0f921"
             ]
            ],
            "type": "surface"
           }
          ],
          "table": [
           {
            "cells": {
             "fill": {
              "color": "#EBF0F8"
             },
             "line": {
              "color": "white"
             }
            },
            "header": {
             "fill": {
              "color": "#C8D4E3"
             },
             "line": {
              "color": "white"
             }
            },
            "type": "table"
           }
          ]
         },
         "layout": {
          "annotationdefaults": {
           "arrowcolor": "#2a3f5f",
           "arrowhead": 0,
           "arrowwidth": 1
          },
          "autotypenumbers": "strict",
          "coloraxis": {
           "colorbar": {
            "outlinewidth": 0,
            "ticks": ""
           }
          },
          "colorscale": {
           "diverging": [
            [
             0,
             "#8e0152"
            ],
            [
             0.1,
             "#c51b7d"
            ],
            [
             0.2,
             "#de77ae"
            ],
            [
             0.3,
             "#f1b6da"
            ],
            [
             0.4,
             "#fde0ef"
            ],
            [
             0.5,
             "#f7f7f7"
            ],
            [
             0.6,
             "#e6f5d0"
            ],
            [
             0.7,
             "#b8e186"
            ],
            [
             0.8,
             "#7fbc41"
            ],
            [
             0.9,
             "#4d9221"
            ],
            [
             1,
             "#276419"
            ]
           ],
           "sequential": [
            [
             0,
             "#0d0887"
            ],
            [
             0.1111111111111111,
             "#46039f"
            ],
            [
             0.2222222222222222,
             "#7201a8"
            ],
            [
             0.3333333333333333,
             "#9c179e"
            ],
            [
             0.4444444444444444,
             "#bd3786"
            ],
            [
             0.5555555555555556,
             "#d8576b"
            ],
            [
             0.6666666666666666,
             "#ed7953"
            ],
            [
             0.7777777777777778,
             "#fb9f3a"
            ],
            [
             0.8888888888888888,
             "#fdca26"
            ],
            [
             1,
             "#f0f921"
            ]
           ],
           "sequentialminus": [
            [
             0,
             "#0d0887"
            ],
            [
             0.1111111111111111,
             "#46039f"
            ],
            [
             0.2222222222222222,
             "#7201a8"
            ],
            [
             0.3333333333333333,
             "#9c179e"
            ],
            [
             0.4444444444444444,
             "#bd3786"
            ],
            [
             0.5555555555555556,
             "#d8576b"
            ],
            [
             0.6666666666666666,
             "#ed7953"
            ],
            [
             0.7777777777777778,
             "#fb9f3a"
            ],
            [
             0.8888888888888888,
             "#fdca26"
            ],
            [
             1,
             "#f0f921"
            ]
           ]
          },
          "colorway": [
           "#636efa",
           "#EF553B",
           "#00cc96",
           "#ab63fa",
           "#FFA15A",
           "#19d3f3",
           "#FF6692",
           "#B6E880",
           "#FF97FF",
           "#FECB52"
          ],
          "font": {
           "color": "#2a3f5f"
          },
          "geo": {
           "bgcolor": "white",
           "lakecolor": "white",
           "landcolor": "#E5ECF6",
           "showlakes": true,
           "showland": true,
           "subunitcolor": "white"
          },
          "hoverlabel": {
           "align": "left"
          },
          "hovermode": "closest",
          "mapbox": {
           "style": "light"
          },
          "paper_bgcolor": "white",
          "plot_bgcolor": "#E5ECF6",
          "polar": {
           "angularaxis": {
            "gridcolor": "white",
            "linecolor": "white",
            "ticks": ""
           },
           "bgcolor": "#E5ECF6",
           "radialaxis": {
            "gridcolor": "white",
            "linecolor": "white",
            "ticks": ""
           }
          },
          "scene": {
           "xaxis": {
            "backgroundcolor": "#E5ECF6",
            "gridcolor": "white",
            "gridwidth": 2,
            "linecolor": "white",
            "showbackground": true,
            "ticks": "",
            "zerolinecolor": "white"
           },
           "yaxis": {
            "backgroundcolor": "#E5ECF6",
            "gridcolor": "white",
            "gridwidth": 2,
            "linecolor": "white",
            "showbackground": true,
            "ticks": "",
            "zerolinecolor": "white"
           },
           "zaxis": {
            "backgroundcolor": "#E5ECF6",
            "gridcolor": "white",
            "gridwidth": 2,
            "linecolor": "white",
            "showbackground": true,
            "ticks": "",
            "zerolinecolor": "white"
           }
          },
          "shapedefaults": {
           "line": {
            "color": "#2a3f5f"
           }
          },
          "ternary": {
           "aaxis": {
            "gridcolor": "white",
            "linecolor": "white",
            "ticks": ""
           },
           "baxis": {
            "gridcolor": "white",
            "linecolor": "white",
            "ticks": ""
           },
           "bgcolor": "#E5ECF6",
           "caxis": {
            "gridcolor": "white",
            "linecolor": "white",
            "ticks": ""
           }
          },
          "title": {
           "x": 0.05
          },
          "xaxis": {
           "automargin": true,
           "gridcolor": "white",
           "linecolor": "white",
           "ticks": "",
           "title": {
            "standoff": 15
           },
           "zerolinecolor": "white",
           "zerolinewidth": 2
          },
          "yaxis": {
           "automargin": true,
           "gridcolor": "white",
           "linecolor": "white",
           "ticks": "",
           "title": {
            "standoff": 15
           },
           "zerolinecolor": "white",
           "zerolinewidth": 2
          }
         }
        },
        "width": 2200,
        "xaxis": {
         "anchor": "y",
         "domain": [
          0,
          0.2125
         ],
         "matches": "x13",
         "showticklabels": false,
         "title": {
          "text": ""
         }
        },
        "xaxis10": {
         "anchor": "y10",
         "domain": [
          0.2625,
          0.475
         ],
         "matches": "x14",
         "showticklabels": false,
         "title": {
          "text": ""
         }
        },
        "xaxis11": {
         "anchor": "y11",
         "domain": [
          0.525,
          0.7375
         ],
         "matches": "x15",
         "showticklabels": false,
         "title": {
          "text": ""
         }
        },
        "xaxis12": {
         "anchor": "y12",
         "domain": [
          0.7875,
          1
         ],
         "matches": "x16",
         "showticklabels": false,
         "title": {
          "text": ""
         }
        },
        "xaxis13": {
         "anchor": "y13",
         "domain": [
          0,
          0.2125
         ],
         "showticklabels": false,
         "title": {
          "text": ""
         }
        },
        "xaxis14": {
         "anchor": "y14",
         "domain": [
          0.2625,
          0.475
         ],
         "showticklabels": false,
         "title": {
          "text": ""
         }
        },
        "xaxis15": {
         "anchor": "y15",
         "domain": [
          0.525,
          0.7375
         ],
         "showticklabels": false,
         "title": {
          "text": ""
         }
        },
        "xaxis16": {
         "anchor": "y16",
         "domain": [
          0.7875,
          1
         ],
         "showticklabels": false,
         "title": {
          "text": ""
         }
        },
        "xaxis2": {
         "anchor": "y2",
         "domain": [
          0.2625,
          0.475
         ],
         "matches": "x14",
         "showticklabels": false,
         "title": {
          "text": ""
         }
        },
        "xaxis3": {
         "anchor": "y3",
         "domain": [
          0.525,
          0.7375
         ],
         "matches": "x15",
         "showticklabels": false,
         "title": {
          "text": ""
         }
        },
        "xaxis4": {
         "anchor": "y4",
         "domain": [
          0.7875,
          1
         ],
         "matches": "x16",
         "showticklabels": false,
         "title": {
          "text": ""
         }
        },
        "xaxis5": {
         "anchor": "y5",
         "domain": [
          0,
          0.2125
         ],
         "matches": "x13",
         "showticklabels": false,
         "title": {
          "text": ""
         }
        },
        "xaxis6": {
         "anchor": "y6",
         "domain": [
          0.2625,
          0.475
         ],
         "matches": "x14",
         "showticklabels": false,
         "title": {
          "text": ""
         }
        },
        "xaxis7": {
         "anchor": "y7",
         "domain": [
          0.525,
          0.7375
         ],
         "matches": "x15",
         "showticklabels": false,
         "title": {
          "text": ""
         }
        },
        "xaxis8": {
         "anchor": "y8",
         "domain": [
          0.7875,
          1
         ],
         "matches": "x16",
         "showticklabels": false,
         "title": {
          "text": ""
         }
        },
        "xaxis9": {
         "anchor": "y9",
         "domain": [
          0,
          0.2125
         ],
         "matches": "x13",
         "showticklabels": false,
         "title": {
          "text": ""
         }
        },
        "yaxis": {
         "anchor": "x",
         "domain": [
          0.84375,
          1
         ],
         "title": {
          "text": ""
         }
        },
        "yaxis10": {
         "anchor": "x10",
         "domain": [
          0.28125,
          0.4375
         ],
         "matches": "y9",
         "showticklabels": false
        },
        "yaxis11": {
         "anchor": "x11",
         "domain": [
          0.28125,
          0.4375
         ],
         "matches": "y9",
         "showticklabels": false
        },
        "yaxis12": {
         "anchor": "x12",
         "domain": [
          0.28125,
          0.4375
         ],
         "matches": "y9",
         "showticklabels": false
        },
        "yaxis13": {
         "anchor": "x13",
         "domain": [
          0,
          0.15625
         ]
        },
        "yaxis14": {
         "anchor": "x14",
         "domain": [
          0,
          0.15625
         ],
         "matches": "y13",
         "showticklabels": false
        },
        "yaxis15": {
         "anchor": "x15",
         "domain": [
          0,
          0.15625
         ],
         "matches": "y13",
         "showticklabels": false
        },
        "yaxis16": {
         "anchor": "x16",
         "domain": [
          0,
          0.15625
         ],
         "matches": "y13",
         "showticklabels": false
        },
        "yaxis2": {
         "anchor": "x2",
         "domain": [
          0.84375,
          1
         ],
         "matches": "y",
         "showticklabels": false
        },
        "yaxis3": {
         "anchor": "x3",
         "domain": [
          0.84375,
          1
         ],
         "matches": "y",
         "showticklabels": false
        },
        "yaxis4": {
         "anchor": "x4",
         "domain": [
          0.84375,
          1
         ],
         "matches": "y",
         "showticklabels": false
        },
        "yaxis5": {
         "anchor": "x5",
         "domain": [
          0.5625,
          0.71875
         ]
        },
        "yaxis6": {
         "anchor": "x6",
         "domain": [
          0.5625,
          0.71875
         ],
         "matches": "y5",
         "showticklabels": false
        },
        "yaxis7": {
         "anchor": "x7",
         "domain": [
          0.5625,
          0.71875
         ],
         "matches": "y5",
         "showticklabels": false
        },
        "yaxis8": {
         "anchor": "x8",
         "domain": [
          0.5625,
          0.71875
         ],
         "matches": "y5",
         "showticklabels": false
        },
        "yaxis9": {
         "anchor": "x9",
         "domain": [
          0.28125,
          0.4375
         ]
        }
       }
      }
     },
     "metadata": {},
     "output_type": "display_data"
    }
   ],
   "source": [
    "copia_resultados_vqe_4 = resultados_vqe_4.copy()\n",
    "\n",
    "combinacoes = [f\"{otimizador} e {ansatz}\" for otimizador, ansatz in copia_resultados_vqe_4.index.unique()]\n",
    "cores = {'probabilidade_valor_otimo': 'blue', 'probabilidade_valor_otimo_simulador': 'orange', 'probabilidade_valor_otimo_computador_quantico':'cyan'}\n",
    "nomes = {'probabilidade_valor_otimo': 'simulador local', 'probabilidade_valor_otimo_simulador': 'simulador QASM', 'probabilidade_valor_otimo_computador_quantico':'IBM Brisbane'}\n",
    "cols_appeared = []\n",
    "\n",
    "fig = make_subplots(rows=4, cols=4, subplot_titles=combinacoes, \n",
    "                    x_title='Métodos de execução', y_title='Energia', \n",
    "                    shared_xaxes=True, shared_yaxes=True)\n",
    "\n",
    "for i, (otimizador, ansatz) in enumerate(copia_resultados_vqe_4.index.unique()):\n",
    "\n",
    "    df_subset = copia_resultados_vqe_4.loc[\n",
    "        (copia_resultados_vqe_4.index.get_level_values(0) == otimizador) &\n",
    "        (copia_resultados_vqe_4.index.get_level_values(1) == ansatz)\n",
    "    ]\n",
    "\n",
    "    valores = df_subset[['probabilidade_valor_otimo', 'probabilidade_valor_otimo_simulador']]\n",
    "\n",
    "    for idx, col in enumerate(valores.columns):\n",
    "        nome_fig = f'{otimizador}-{ansatz}-{col}'\n",
    "        legenda_bool = False\n",
    "\n",
    "        if not col in cols_appeared:\n",
    "            nome_fig = f'{nomes[col]}'\n",
    "            legenda_bool = True\n",
    "        \n",
    "        fig.add_trace(\n",
    "            go.Bar(x=[col], \n",
    "                    y=[valores[col].values[0]],\n",
    "                    name=nome_fig,\n",
    "                    marker_color=cores[col],\n",
    "                    showlegend=legenda_bool),\n",
    "            row=(i // 4) + 1,\n",
    "            col=(i % 4) + 1\n",
    "        )\n",
    "        cols_appeared.append(col)\n",
    "\n",
    "        fig.update_xaxes(showticklabels=False, title_text='', row=(i // 4) + 1, col=(i % 4) + 1)\n",
    "\n",
    "fig.update_layout(\n",
    "                  showlegend=True,\n",
    "                  xaxis_title='',\n",
    "                  yaxis_title='',\n",
    "                  width = 2200,\n",
    "                  height = 700,\n",
    "                  font = dict(size=20),\n",
    "                  legend_itemsizing=\"constant\",\n",
    "                  margin = dict(l=35, r=35, t=35, b=75),\n",
    "                  )\n",
    "\n",
    "fig.update_annotations(font_size=20)\n",
    "\n",
    "nome_figura = f\"figuras_dados/vqe_4_comparacao_probabilidade_metodos_mesmo_y.png\"\n",
    "fig.write_image(nome_figura, width=2200, height=700)\n",
    "\n",
    "fig.show()"
   ]
  },
  {
   "cell_type": "code",
   "execution_count": 12,
   "metadata": {},
   "outputs": [
    {
     "data": {
      "application/vnd.plotly.v1+json": {
       "config": {
        "plotlyServerURL": "https://plot.ly"
       },
       "data": [
        {
         "marker": {
          "color": "blue"
         },
         "name": "simulador local",
         "showlegend": true,
         "type": "bar",
         "x": [
          "probabilidade_valor_otimo"
         ],
         "xaxis": "x",
         "y": [
          0.1083984375
         ],
         "yaxis": "y"
        },
        {
         "marker": {
          "color": "orange"
         },
         "name": "simulador QASM",
         "showlegend": true,
         "type": "bar",
         "x": [
          "probabilidade_valor_otimo_simulador"
         ],
         "xaxis": "x",
         "y": [
          0.132
         ],
         "yaxis": "y"
        },
        {
         "marker": {
          "color": "blue"
         },
         "name": "L_BFGS_B-full_mixer-probabilidade_valor_otimo",
         "showlegend": false,
         "type": "bar",
         "x": [
          "probabilidade_valor_otimo"
         ],
         "xaxis": "x2",
         "y": [
          0.150390625
         ],
         "yaxis": "y2"
        },
        {
         "marker": {
          "color": "orange"
         },
         "name": "L_BFGS_B-full_mixer-probabilidade_valor_otimo_simulador",
         "showlegend": false,
         "type": "bar",
         "x": [
          "probabilidade_valor_otimo_simulador"
         ],
         "xaxis": "x2",
         "y": [
          0.1345
         ],
         "yaxis": "y2"
        },
        {
         "marker": {
          "color": "blue"
         },
         "name": "NFT-full_mixer-probabilidade_valor_otimo",
         "showlegend": false,
         "type": "bar",
         "x": [
          "probabilidade_valor_otimo"
         ],
         "xaxis": "x3",
         "y": [
          0.1416015625
         ],
         "yaxis": "y3"
        },
        {
         "marker": {
          "color": "orange"
         },
         "name": "NFT-full_mixer-probabilidade_valor_otimo_simulador",
         "showlegend": false,
         "type": "bar",
         "x": [
          "probabilidade_valor_otimo_simulador"
         ],
         "xaxis": "x3",
         "y": [
          0.13425
         ],
         "yaxis": "y3"
        },
        {
         "marker": {
          "color": "blue"
         },
         "name": "SLSQP-full_mixer-probabilidade_valor_otimo",
         "showlegend": false,
         "type": "bar",
         "x": [
          "probabilidade_valor_otimo"
         ],
         "xaxis": "x4",
         "y": [
          0.126953125
         ],
         "yaxis": "y4"
        },
        {
         "marker": {
          "color": "orange"
         },
         "name": "SLSQP-full_mixer-probabilidade_valor_otimo_simulador",
         "showlegend": false,
         "type": "bar",
         "x": [
          "probabilidade_valor_otimo_simulador"
         ],
         "xaxis": "x4",
         "y": [
          0.118
         ],
         "yaxis": "y4"
        },
        {
         "marker": {
          "color": "blue"
         },
         "name": "COBYLA-mixer_default-probabilidade_valor_otimo",
         "showlegend": false,
         "type": "bar",
         "x": [
          "probabilidade_valor_otimo"
         ],
         "xaxis": "x5",
         "y": [
          0.12109375
         ],
         "yaxis": "y5"
        },
        {
         "marker": {
          "color": "orange"
         },
         "name": "COBYLA-mixer_default-probabilidade_valor_otimo_simulador",
         "showlegend": false,
         "type": "bar",
         "x": [
          "probabilidade_valor_otimo_simulador"
         ],
         "xaxis": "x5",
         "y": [
          0.1155
         ],
         "yaxis": "y5"
        },
        {
         "marker": {
          "color": "blue"
         },
         "name": "L_BFGS_B-mixer_default-probabilidade_valor_otimo",
         "showlegend": false,
         "type": "bar",
         "x": [
          "probabilidade_valor_otimo"
         ],
         "xaxis": "x6",
         "y": [
          0.1005859375
         ],
         "yaxis": "y6"
        },
        {
         "marker": {
          "color": "orange"
         },
         "name": "L_BFGS_B-mixer_default-probabilidade_valor_otimo_simulador",
         "showlegend": false,
         "type": "bar",
         "x": [
          "probabilidade_valor_otimo_simulador"
         ],
         "xaxis": "x6",
         "y": [
          0.09725
         ],
         "yaxis": "y6"
        },
        {
         "marker": {
          "color": "blue"
         },
         "name": "NFT-mixer_default-probabilidade_valor_otimo",
         "showlegend": false,
         "type": "bar",
         "x": [
          "probabilidade_valor_otimo"
         ],
         "xaxis": "x7",
         "y": [
          0.900390625
         ],
         "yaxis": "y7"
        },
        {
         "marker": {
          "color": "orange"
         },
         "name": "NFT-mixer_default-probabilidade_valor_otimo_simulador",
         "showlegend": false,
         "type": "bar",
         "x": [
          "probabilidade_valor_otimo_simulador"
         ],
         "xaxis": "x7",
         "y": [
          0.88675
         ],
         "yaxis": "y7"
        },
        {
         "marker": {
          "color": "blue"
         },
         "name": "SLSQP-mixer_default-probabilidade_valor_otimo",
         "showlegend": false,
         "type": "bar",
         "x": [
          "probabilidade_valor_otimo"
         ],
         "xaxis": "x8",
         "y": [
          0.2421875
         ],
         "yaxis": "y8"
        },
        {
         "marker": {
          "color": "orange"
         },
         "name": "SLSQP-mixer_default-probabilidade_valor_otimo_simulador",
         "showlegend": false,
         "type": "bar",
         "x": [
          "probabilidade_valor_otimo_simulador"
         ],
         "xaxis": "x8",
         "y": [
          0.1845
         ],
         "yaxis": "y8"
        },
        {
         "marker": {
          "color": "blue"
         },
         "name": "COBYLA-parity_ring_mixer-probabilidade_valor_otimo",
         "showlegend": false,
         "type": "bar",
         "x": [
          "probabilidade_valor_otimo"
         ],
         "xaxis": "x9",
         "y": [
          0.083984375
         ],
         "yaxis": "y9"
        },
        {
         "marker": {
          "color": "orange"
         },
         "name": "COBYLA-parity_ring_mixer-probabilidade_valor_otimo_simulador",
         "showlegend": false,
         "type": "bar",
         "x": [
          "probabilidade_valor_otimo_simulador"
         ],
         "xaxis": "x9",
         "y": [
          0.07025
         ],
         "yaxis": "y9"
        },
        {
         "marker": {
          "color": "blue"
         },
         "name": "L_BFGS_B-parity_ring_mixer-probabilidade_valor_otimo",
         "showlegend": false,
         "type": "bar",
         "x": [
          "probabilidade_valor_otimo"
         ],
         "xaxis": "x10",
         "y": [
          0.0712890625
         ],
         "yaxis": "y10"
        },
        {
         "marker": {
          "color": "orange"
         },
         "name": "L_BFGS_B-parity_ring_mixer-probabilidade_valor_otimo_simulador",
         "showlegend": false,
         "type": "bar",
         "x": [
          "probabilidade_valor_otimo_simulador"
         ],
         "xaxis": "x10",
         "y": [
          0.06475
         ],
         "yaxis": "y10"
        },
        {
         "marker": {
          "color": "blue"
         },
         "name": "NFT-parity_ring_mixer-probabilidade_valor_otimo",
         "showlegend": false,
         "type": "bar",
         "x": [
          "probabilidade_valor_otimo"
         ],
         "xaxis": "x11",
         "y": [
          0.1376953125
         ],
         "yaxis": "y11"
        },
        {
         "marker": {
          "color": "orange"
         },
         "name": "NFT-parity_ring_mixer-probabilidade_valor_otimo_simulador",
         "showlegend": false,
         "type": "bar",
         "x": [
          "probabilidade_valor_otimo_simulador"
         ],
         "xaxis": "x11",
         "y": [
          0.11975
         ],
         "yaxis": "y11"
        },
        {
         "marker": {
          "color": "blue"
         },
         "name": "SLSQP-parity_ring_mixer-probabilidade_valor_otimo",
         "showlegend": false,
         "type": "bar",
         "x": [
          "probabilidade_valor_otimo"
         ],
         "xaxis": "x12",
         "y": [
          0.1337890625
         ],
         "yaxis": "y12"
        },
        {
         "marker": {
          "color": "orange"
         },
         "name": "SLSQP-parity_ring_mixer-probabilidade_valor_otimo_simulador",
         "showlegend": false,
         "type": "bar",
         "x": [
          "probabilidade_valor_otimo_simulador"
         ],
         "xaxis": "x12",
         "y": [
          0.1295
         ],
         "yaxis": "y12"
        },
        {
         "marker": {
          "color": "blue"
         },
         "name": "COBYLA-ring_mixer-probabilidade_valor_otimo",
         "showlegend": false,
         "type": "bar",
         "x": [
          "probabilidade_valor_otimo"
         ],
         "xaxis": "x13",
         "y": [
          0.1328125
         ],
         "yaxis": "y13"
        },
        {
         "marker": {
          "color": "orange"
         },
         "name": "COBYLA-ring_mixer-probabilidade_valor_otimo_simulador",
         "showlegend": false,
         "type": "bar",
         "x": [
          "probabilidade_valor_otimo_simulador"
         ],
         "xaxis": "x13",
         "y": [
          0.134
         ],
         "yaxis": "y13"
        },
        {
         "marker": {
          "color": "blue"
         },
         "name": "L_BFGS_B-ring_mixer-probabilidade_valor_otimo",
         "showlegend": false,
         "type": "bar",
         "x": [
          "probabilidade_valor_otimo"
         ],
         "xaxis": "x14",
         "y": [
          0.138671875
         ],
         "yaxis": "y14"
        },
        {
         "marker": {
          "color": "orange"
         },
         "name": "L_BFGS_B-ring_mixer-probabilidade_valor_otimo_simulador",
         "showlegend": false,
         "type": "bar",
         "x": [
          "probabilidade_valor_otimo_simulador"
         ],
         "xaxis": "x14",
         "y": [
          0.1215
         ],
         "yaxis": "y14"
        },
        {
         "marker": {
          "color": "blue"
         },
         "name": "NFT-ring_mixer-probabilidade_valor_otimo",
         "showlegend": false,
         "type": "bar",
         "x": [
          "probabilidade_valor_otimo"
         ],
         "xaxis": "x15",
         "y": [
          0.158203125
         ],
         "yaxis": "y15"
        },
        {
         "marker": {
          "color": "orange"
         },
         "name": "NFT-ring_mixer-probabilidade_valor_otimo_simulador",
         "showlegend": false,
         "type": "bar",
         "x": [
          "probabilidade_valor_otimo_simulador"
         ],
         "xaxis": "x15",
         "y": [
          0.1295
         ],
         "yaxis": "y15"
        },
        {
         "marker": {
          "color": "blue"
         },
         "name": "SLSQP-ring_mixer-probabilidade_valor_otimo",
         "showlegend": false,
         "type": "bar",
         "x": [
          "probabilidade_valor_otimo"
         ],
         "xaxis": "x16",
         "y": [
          0.1435546875
         ],
         "yaxis": "y16"
        },
        {
         "marker": {
          "color": "orange"
         },
         "name": "SLSQP-ring_mixer-probabilidade_valor_otimo_simulador",
         "showlegend": false,
         "type": "bar",
         "x": [
          "probabilidade_valor_otimo_simulador"
         ],
         "xaxis": "x16",
         "y": [
          0.12825
         ],
         "yaxis": "y16"
        }
       ],
       "layout": {
        "annotations": [
         {
          "font": {
           "size": 20
          },
          "showarrow": false,
          "text": "COBYLA e full_mixer",
          "x": 0.10625,
          "xanchor": "center",
          "xref": "paper",
          "y": 1,
          "yanchor": "bottom",
          "yref": "paper"
         },
         {
          "font": {
           "size": 20
          },
          "showarrow": false,
          "text": "L_BFGS_B e full_mixer",
          "x": 0.36875,
          "xanchor": "center",
          "xref": "paper",
          "y": 1,
          "yanchor": "bottom",
          "yref": "paper"
         },
         {
          "font": {
           "size": 20
          },
          "showarrow": false,
          "text": "NFT e full_mixer",
          "x": 0.6312500000000001,
          "xanchor": "center",
          "xref": "paper",
          "y": 1,
          "yanchor": "bottom",
          "yref": "paper"
         },
         {
          "font": {
           "size": 20
          },
          "showarrow": false,
          "text": "SLSQP e full_mixer",
          "x": 0.89375,
          "xanchor": "center",
          "xref": "paper",
          "y": 1,
          "yanchor": "bottom",
          "yref": "paper"
         },
         {
          "font": {
           "size": 20
          },
          "showarrow": false,
          "text": "COBYLA e mixer_default",
          "x": 0.10625,
          "xanchor": "center",
          "xref": "paper",
          "y": 0.71875,
          "yanchor": "bottom",
          "yref": "paper"
         },
         {
          "font": {
           "size": 20
          },
          "showarrow": false,
          "text": "L_BFGS_B e mixer_default",
          "x": 0.36875,
          "xanchor": "center",
          "xref": "paper",
          "y": 0.71875,
          "yanchor": "bottom",
          "yref": "paper"
         },
         {
          "font": {
           "size": 20
          },
          "showarrow": false,
          "text": "NFT e mixer_default",
          "x": 0.6312500000000001,
          "xanchor": "center",
          "xref": "paper",
          "y": 0.71875,
          "yanchor": "bottom",
          "yref": "paper"
         },
         {
          "font": {
           "size": 20
          },
          "showarrow": false,
          "text": "SLSQP e mixer_default",
          "x": 0.89375,
          "xanchor": "center",
          "xref": "paper",
          "y": 0.71875,
          "yanchor": "bottom",
          "yref": "paper"
         },
         {
          "font": {
           "size": 20
          },
          "showarrow": false,
          "text": "COBYLA e parity_ring_mixer",
          "x": 0.10625,
          "xanchor": "center",
          "xref": "paper",
          "y": 0.4375,
          "yanchor": "bottom",
          "yref": "paper"
         },
         {
          "font": {
           "size": 20
          },
          "showarrow": false,
          "text": "L_BFGS_B e parity_ring_mixer",
          "x": 0.36875,
          "xanchor": "center",
          "xref": "paper",
          "y": 0.4375,
          "yanchor": "bottom",
          "yref": "paper"
         },
         {
          "font": {
           "size": 20
          },
          "showarrow": false,
          "text": "NFT e parity_ring_mixer",
          "x": 0.6312500000000001,
          "xanchor": "center",
          "xref": "paper",
          "y": 0.4375,
          "yanchor": "bottom",
          "yref": "paper"
         },
         {
          "font": {
           "size": 20
          },
          "showarrow": false,
          "text": "SLSQP e parity_ring_mixer",
          "x": 0.89375,
          "xanchor": "center",
          "xref": "paper",
          "y": 0.4375,
          "yanchor": "bottom",
          "yref": "paper"
         },
         {
          "font": {
           "size": 20
          },
          "showarrow": false,
          "text": "COBYLA e ring_mixer",
          "x": 0.10625,
          "xanchor": "center",
          "xref": "paper",
          "y": 0.15625,
          "yanchor": "bottom",
          "yref": "paper"
         },
         {
          "font": {
           "size": 20
          },
          "showarrow": false,
          "text": "L_BFGS_B e ring_mixer",
          "x": 0.36875,
          "xanchor": "center",
          "xref": "paper",
          "y": 0.15625,
          "yanchor": "bottom",
          "yref": "paper"
         },
         {
          "font": {
           "size": 20
          },
          "showarrow": false,
          "text": "NFT e ring_mixer",
          "x": 0.6312500000000001,
          "xanchor": "center",
          "xref": "paper",
          "y": 0.15625,
          "yanchor": "bottom",
          "yref": "paper"
         },
         {
          "font": {
           "size": 20
          },
          "showarrow": false,
          "text": "SLSQP e ring_mixer",
          "x": 0.89375,
          "xanchor": "center",
          "xref": "paper",
          "y": 0.15625,
          "yanchor": "bottom",
          "yref": "paper"
         },
         {
          "font": {
           "size": 20
          },
          "showarrow": false,
          "text": "Métodos de execução",
          "x": 0.5,
          "xanchor": "center",
          "xref": "paper",
          "y": 0,
          "yanchor": "top",
          "yref": "paper",
          "yshift": -30
         },
         {
          "font": {
           "size": 20
          },
          "showarrow": false,
          "text": "Energia",
          "textangle": -90,
          "x": 0,
          "xanchor": "right",
          "xref": "paper",
          "xshift": -40,
          "y": 0.5,
          "yanchor": "middle",
          "yref": "paper"
         }
        ],
        "font": {
         "size": 20
        },
        "height": 700,
        "legend": {
         "itemsizing": "constant"
        },
        "margin": {
         "b": 75,
         "l": 35,
         "r": 35,
         "t": 35
        },
        "showlegend": true,
        "template": {
         "data": {
          "bar": [
           {
            "error_x": {
             "color": "#2a3f5f"
            },
            "error_y": {
             "color": "#2a3f5f"
            },
            "marker": {
             "line": {
              "color": "#E5ECF6",
              "width": 0.5
             },
             "pattern": {
              "fillmode": "overlay",
              "size": 10,
              "solidity": 0.2
             }
            },
            "type": "bar"
           }
          ],
          "barpolar": [
           {
            "marker": {
             "line": {
              "color": "#E5ECF6",
              "width": 0.5
             },
             "pattern": {
              "fillmode": "overlay",
              "size": 10,
              "solidity": 0.2
             }
            },
            "type": "barpolar"
           }
          ],
          "carpet": [
           {
            "aaxis": {
             "endlinecolor": "#2a3f5f",
             "gridcolor": "white",
             "linecolor": "white",
             "minorgridcolor": "white",
             "startlinecolor": "#2a3f5f"
            },
            "baxis": {
             "endlinecolor": "#2a3f5f",
             "gridcolor": "white",
             "linecolor": "white",
             "minorgridcolor": "white",
             "startlinecolor": "#2a3f5f"
            },
            "type": "carpet"
           }
          ],
          "choropleth": [
           {
            "colorbar": {
             "outlinewidth": 0,
             "ticks": ""
            },
            "type": "choropleth"
           }
          ],
          "contour": [
           {
            "colorbar": {
             "outlinewidth": 0,
             "ticks": ""
            },
            "colorscale": [
             [
              0,
              "#0d0887"
             ],
             [
              0.1111111111111111,
              "#46039f"
             ],
             [
              0.2222222222222222,
              "#7201a8"
             ],
             [
              0.3333333333333333,
              "#9c179e"
             ],
             [
              0.4444444444444444,
              "#bd3786"
             ],
             [
              0.5555555555555556,
              "#d8576b"
             ],
             [
              0.6666666666666666,
              "#ed7953"
             ],
             [
              0.7777777777777778,
              "#fb9f3a"
             ],
             [
              0.8888888888888888,
              "#fdca26"
             ],
             [
              1,
              "#f0f921"
             ]
            ],
            "type": "contour"
           }
          ],
          "contourcarpet": [
           {
            "colorbar": {
             "outlinewidth": 0,
             "ticks": ""
            },
            "type": "contourcarpet"
           }
          ],
          "heatmap": [
           {
            "colorbar": {
             "outlinewidth": 0,
             "ticks": ""
            },
            "colorscale": [
             [
              0,
              "#0d0887"
             ],
             [
              0.1111111111111111,
              "#46039f"
             ],
             [
              0.2222222222222222,
              "#7201a8"
             ],
             [
              0.3333333333333333,
              "#9c179e"
             ],
             [
              0.4444444444444444,
              "#bd3786"
             ],
             [
              0.5555555555555556,
              "#d8576b"
             ],
             [
              0.6666666666666666,
              "#ed7953"
             ],
             [
              0.7777777777777778,
              "#fb9f3a"
             ],
             [
              0.8888888888888888,
              "#fdca26"
             ],
             [
              1,
              "#f0f921"
             ]
            ],
            "type": "heatmap"
           }
          ],
          "heatmapgl": [
           {
            "colorbar": {
             "outlinewidth": 0,
             "ticks": ""
            },
            "colorscale": [
             [
              0,
              "#0d0887"
             ],
             [
              0.1111111111111111,
              "#46039f"
             ],
             [
              0.2222222222222222,
              "#7201a8"
             ],
             [
              0.3333333333333333,
              "#9c179e"
             ],
             [
              0.4444444444444444,
              "#bd3786"
             ],
             [
              0.5555555555555556,
              "#d8576b"
             ],
             [
              0.6666666666666666,
              "#ed7953"
             ],
             [
              0.7777777777777778,
              "#fb9f3a"
             ],
             [
              0.8888888888888888,
              "#fdca26"
             ],
             [
              1,
              "#f0f921"
             ]
            ],
            "type": "heatmapgl"
           }
          ],
          "histogram": [
           {
            "marker": {
             "pattern": {
              "fillmode": "overlay",
              "size": 10,
              "solidity": 0.2
             }
            },
            "type": "histogram"
           }
          ],
          "histogram2d": [
           {
            "colorbar": {
             "outlinewidth": 0,
             "ticks": ""
            },
            "colorscale": [
             [
              0,
              "#0d0887"
             ],
             [
              0.1111111111111111,
              "#46039f"
             ],
             [
              0.2222222222222222,
              "#7201a8"
             ],
             [
              0.3333333333333333,
              "#9c179e"
             ],
             [
              0.4444444444444444,
              "#bd3786"
             ],
             [
              0.5555555555555556,
              "#d8576b"
             ],
             [
              0.6666666666666666,
              "#ed7953"
             ],
             [
              0.7777777777777778,
              "#fb9f3a"
             ],
             [
              0.8888888888888888,
              "#fdca26"
             ],
             [
              1,
              "#f0f921"
             ]
            ],
            "type": "histogram2d"
           }
          ],
          "histogram2dcontour": [
           {
            "colorbar": {
             "outlinewidth": 0,
             "ticks": ""
            },
            "colorscale": [
             [
              0,
              "#0d0887"
             ],
             [
              0.1111111111111111,
              "#46039f"
             ],
             [
              0.2222222222222222,
              "#7201a8"
             ],
             [
              0.3333333333333333,
              "#9c179e"
             ],
             [
              0.4444444444444444,
              "#bd3786"
             ],
             [
              0.5555555555555556,
              "#d8576b"
             ],
             [
              0.6666666666666666,
              "#ed7953"
             ],
             [
              0.7777777777777778,
              "#fb9f3a"
             ],
             [
              0.8888888888888888,
              "#fdca26"
             ],
             [
              1,
              "#f0f921"
             ]
            ],
            "type": "histogram2dcontour"
           }
          ],
          "mesh3d": [
           {
            "colorbar": {
             "outlinewidth": 0,
             "ticks": ""
            },
            "type": "mesh3d"
           }
          ],
          "parcoords": [
           {
            "line": {
             "colorbar": {
              "outlinewidth": 0,
              "ticks": ""
             }
            },
            "type": "parcoords"
           }
          ],
          "pie": [
           {
            "automargin": true,
            "type": "pie"
           }
          ],
          "scatter": [
           {
            "fillpattern": {
             "fillmode": "overlay",
             "size": 10,
             "solidity": 0.2
            },
            "type": "scatter"
           }
          ],
          "scatter3d": [
           {
            "line": {
             "colorbar": {
              "outlinewidth": 0,
              "ticks": ""
             }
            },
            "marker": {
             "colorbar": {
              "outlinewidth": 0,
              "ticks": ""
             }
            },
            "type": "scatter3d"
           }
          ],
          "scattercarpet": [
           {
            "marker": {
             "colorbar": {
              "outlinewidth": 0,
              "ticks": ""
             }
            },
            "type": "scattercarpet"
           }
          ],
          "scattergeo": [
           {
            "marker": {
             "colorbar": {
              "outlinewidth": 0,
              "ticks": ""
             }
            },
            "type": "scattergeo"
           }
          ],
          "scattergl": [
           {
            "marker": {
             "colorbar": {
              "outlinewidth": 0,
              "ticks": ""
             }
            },
            "type": "scattergl"
           }
          ],
          "scattermapbox": [
           {
            "marker": {
             "colorbar": {
              "outlinewidth": 0,
              "ticks": ""
             }
            },
            "type": "scattermapbox"
           }
          ],
          "scatterpolar": [
           {
            "marker": {
             "colorbar": {
              "outlinewidth": 0,
              "ticks": ""
             }
            },
            "type": "scatterpolar"
           }
          ],
          "scatterpolargl": [
           {
            "marker": {
             "colorbar": {
              "outlinewidth": 0,
              "ticks": ""
             }
            },
            "type": "scatterpolargl"
           }
          ],
          "scatterternary": [
           {
            "marker": {
             "colorbar": {
              "outlinewidth": 0,
              "ticks": ""
             }
            },
            "type": "scatterternary"
           }
          ],
          "surface": [
           {
            "colorbar": {
             "outlinewidth": 0,
             "ticks": ""
            },
            "colorscale": [
             [
              0,
              "#0d0887"
             ],
             [
              0.1111111111111111,
              "#46039f"
             ],
             [
              0.2222222222222222,
              "#7201a8"
             ],
             [
              0.3333333333333333,
              "#9c179e"
             ],
             [
              0.4444444444444444,
              "#bd3786"
             ],
             [
              0.5555555555555556,
              "#d8576b"
             ],
             [
              0.6666666666666666,
              "#ed7953"
             ],
             [
              0.7777777777777778,
              "#fb9f3a"
             ],
             [
              0.8888888888888888,
              "#fdca26"
             ],
             [
              1,
              "#f0f921"
             ]
            ],
            "type": "surface"
           }
          ],
          "table": [
           {
            "cells": {
             "fill": {
              "color": "#EBF0F8"
             },
             "line": {
              "color": "white"
             }
            },
            "header": {
             "fill": {
              "color": "#C8D4E3"
             },
             "line": {
              "color": "white"
             }
            },
            "type": "table"
           }
          ]
         },
         "layout": {
          "annotationdefaults": {
           "arrowcolor": "#2a3f5f",
           "arrowhead": 0,
           "arrowwidth": 1
          },
          "autotypenumbers": "strict",
          "coloraxis": {
           "colorbar": {
            "outlinewidth": 0,
            "ticks": ""
           }
          },
          "colorscale": {
           "diverging": [
            [
             0,
             "#8e0152"
            ],
            [
             0.1,
             "#c51b7d"
            ],
            [
             0.2,
             "#de77ae"
            ],
            [
             0.3,
             "#f1b6da"
            ],
            [
             0.4,
             "#fde0ef"
            ],
            [
             0.5,
             "#f7f7f7"
            ],
            [
             0.6,
             "#e6f5d0"
            ],
            [
             0.7,
             "#b8e186"
            ],
            [
             0.8,
             "#7fbc41"
            ],
            [
             0.9,
             "#4d9221"
            ],
            [
             1,
             "#276419"
            ]
           ],
           "sequential": [
            [
             0,
             "#0d0887"
            ],
            [
             0.1111111111111111,
             "#46039f"
            ],
            [
             0.2222222222222222,
             "#7201a8"
            ],
            [
             0.3333333333333333,
             "#9c179e"
            ],
            [
             0.4444444444444444,
             "#bd3786"
            ],
            [
             0.5555555555555556,
             "#d8576b"
            ],
            [
             0.6666666666666666,
             "#ed7953"
            ],
            [
             0.7777777777777778,
             "#fb9f3a"
            ],
            [
             0.8888888888888888,
             "#fdca26"
            ],
            [
             1,
             "#f0f921"
            ]
           ],
           "sequentialminus": [
            [
             0,
             "#0d0887"
            ],
            [
             0.1111111111111111,
             "#46039f"
            ],
            [
             0.2222222222222222,
             "#7201a8"
            ],
            [
             0.3333333333333333,
             "#9c179e"
            ],
            [
             0.4444444444444444,
             "#bd3786"
            ],
            [
             0.5555555555555556,
             "#d8576b"
            ],
            [
             0.6666666666666666,
             "#ed7953"
            ],
            [
             0.7777777777777778,
             "#fb9f3a"
            ],
            [
             0.8888888888888888,
             "#fdca26"
            ],
            [
             1,
             "#f0f921"
            ]
           ]
          },
          "colorway": [
           "#636efa",
           "#EF553B",
           "#00cc96",
           "#ab63fa",
           "#FFA15A",
           "#19d3f3",
           "#FF6692",
           "#B6E880",
           "#FF97FF",
           "#FECB52"
          ],
          "font": {
           "color": "#2a3f5f"
          },
          "geo": {
           "bgcolor": "white",
           "lakecolor": "white",
           "landcolor": "#E5ECF6",
           "showlakes": true,
           "showland": true,
           "subunitcolor": "white"
          },
          "hoverlabel": {
           "align": "left"
          },
          "hovermode": "closest",
          "mapbox": {
           "style": "light"
          },
          "paper_bgcolor": "white",
          "plot_bgcolor": "#E5ECF6",
          "polar": {
           "angularaxis": {
            "gridcolor": "white",
            "linecolor": "white",
            "ticks": ""
           },
           "bgcolor": "#E5ECF6",
           "radialaxis": {
            "gridcolor": "white",
            "linecolor": "white",
            "ticks": ""
           }
          },
          "scene": {
           "xaxis": {
            "backgroundcolor": "#E5ECF6",
            "gridcolor": "white",
            "gridwidth": 2,
            "linecolor": "white",
            "showbackground": true,
            "ticks": "",
            "zerolinecolor": "white"
           },
           "yaxis": {
            "backgroundcolor": "#E5ECF6",
            "gridcolor": "white",
            "gridwidth": 2,
            "linecolor": "white",
            "showbackground": true,
            "ticks": "",
            "zerolinecolor": "white"
           },
           "zaxis": {
            "backgroundcolor": "#E5ECF6",
            "gridcolor": "white",
            "gridwidth": 2,
            "linecolor": "white",
            "showbackground": true,
            "ticks": "",
            "zerolinecolor": "white"
           }
          },
          "shapedefaults": {
           "line": {
            "color": "#2a3f5f"
           }
          },
          "ternary": {
           "aaxis": {
            "gridcolor": "white",
            "linecolor": "white",
            "ticks": ""
           },
           "baxis": {
            "gridcolor": "white",
            "linecolor": "white",
            "ticks": ""
           },
           "bgcolor": "#E5ECF6",
           "caxis": {
            "gridcolor": "white",
            "linecolor": "white",
            "ticks": ""
           }
          },
          "title": {
           "x": 0.05
          },
          "xaxis": {
           "automargin": true,
           "gridcolor": "white",
           "linecolor": "white",
           "ticks": "",
           "title": {
            "standoff": 15
           },
           "zerolinecolor": "white",
           "zerolinewidth": 2
          },
          "yaxis": {
           "automargin": true,
           "gridcolor": "white",
           "linecolor": "white",
           "ticks": "",
           "title": {
            "standoff": 15
           },
           "zerolinecolor": "white",
           "zerolinewidth": 2
          }
         }
        },
        "width": 2200,
        "xaxis": {
         "anchor": "y",
         "domain": [
          0,
          0.2125
         ],
         "showticklabels": false,
         "title": {
          "text": ""
         }
        },
        "xaxis10": {
         "anchor": "y10",
         "domain": [
          0.2625,
          0.475
         ],
         "showticklabels": false,
         "title": {
          "text": ""
         }
        },
        "xaxis11": {
         "anchor": "y11",
         "domain": [
          0.525,
          0.7375
         ],
         "showticklabels": false,
         "title": {
          "text": ""
         }
        },
        "xaxis12": {
         "anchor": "y12",
         "domain": [
          0.7875,
          1
         ],
         "showticklabels": false,
         "title": {
          "text": ""
         }
        },
        "xaxis13": {
         "anchor": "y13",
         "domain": [
          0,
          0.2125
         ],
         "showticklabels": false,
         "title": {
          "text": ""
         }
        },
        "xaxis14": {
         "anchor": "y14",
         "domain": [
          0.2625,
          0.475
         ],
         "showticklabels": false,
         "title": {
          "text": ""
         }
        },
        "xaxis15": {
         "anchor": "y15",
         "domain": [
          0.525,
          0.7375
         ],
         "showticklabels": false,
         "title": {
          "text": ""
         }
        },
        "xaxis16": {
         "anchor": "y16",
         "domain": [
          0.7875,
          1
         ],
         "showticklabels": false,
         "title": {
          "text": ""
         }
        },
        "xaxis2": {
         "anchor": "y2",
         "domain": [
          0.2625,
          0.475
         ],
         "showticklabels": false,
         "title": {
          "text": ""
         }
        },
        "xaxis3": {
         "anchor": "y3",
         "domain": [
          0.525,
          0.7375
         ],
         "showticklabels": false,
         "title": {
          "text": ""
         }
        },
        "xaxis4": {
         "anchor": "y4",
         "domain": [
          0.7875,
          1
         ],
         "showticklabels": false,
         "title": {
          "text": ""
         }
        },
        "xaxis5": {
         "anchor": "y5",
         "domain": [
          0,
          0.2125
         ],
         "showticklabels": false,
         "title": {
          "text": ""
         }
        },
        "xaxis6": {
         "anchor": "y6",
         "domain": [
          0.2625,
          0.475
         ],
         "showticklabels": false,
         "title": {
          "text": ""
         }
        },
        "xaxis7": {
         "anchor": "y7",
         "domain": [
          0.525,
          0.7375
         ],
         "showticklabels": false,
         "title": {
          "text": ""
         }
        },
        "xaxis8": {
         "anchor": "y8",
         "domain": [
          0.7875,
          1
         ],
         "showticklabels": false,
         "title": {
          "text": ""
         }
        },
        "xaxis9": {
         "anchor": "y9",
         "domain": [
          0,
          0.2125
         ],
         "showticklabels": false,
         "title": {
          "text": ""
         }
        },
        "yaxis": {
         "anchor": "x",
         "domain": [
          0.84375,
          1
         ],
         "title": {
          "text": ""
         }
        },
        "yaxis10": {
         "anchor": "x10",
         "domain": [
          0.28125,
          0.4375
         ]
        },
        "yaxis11": {
         "anchor": "x11",
         "domain": [
          0.28125,
          0.4375
         ]
        },
        "yaxis12": {
         "anchor": "x12",
         "domain": [
          0.28125,
          0.4375
         ]
        },
        "yaxis13": {
         "anchor": "x13",
         "domain": [
          0,
          0.15625
         ]
        },
        "yaxis14": {
         "anchor": "x14",
         "domain": [
          0,
          0.15625
         ]
        },
        "yaxis15": {
         "anchor": "x15",
         "domain": [
          0,
          0.15625
         ]
        },
        "yaxis16": {
         "anchor": "x16",
         "domain": [
          0,
          0.15625
         ]
        },
        "yaxis2": {
         "anchor": "x2",
         "domain": [
          0.84375,
          1
         ]
        },
        "yaxis3": {
         "anchor": "x3",
         "domain": [
          0.84375,
          1
         ]
        },
        "yaxis4": {
         "anchor": "x4",
         "domain": [
          0.84375,
          1
         ]
        },
        "yaxis5": {
         "anchor": "x5",
         "domain": [
          0.5625,
          0.71875
         ]
        },
        "yaxis6": {
         "anchor": "x6",
         "domain": [
          0.5625,
          0.71875
         ]
        },
        "yaxis7": {
         "anchor": "x7",
         "domain": [
          0.5625,
          0.71875
         ]
        },
        "yaxis8": {
         "anchor": "x8",
         "domain": [
          0.5625,
          0.71875
         ]
        },
        "yaxis9": {
         "anchor": "x9",
         "domain": [
          0.28125,
          0.4375
         ]
        }
       }
      }
     },
     "metadata": {},
     "output_type": "display_data"
    }
   ],
   "source": [
    "copia_resultados_qaoa_4 = resultados_qaoa_4.copy()\n",
    "\n",
    "combinacoes = [f\"{otimizador} e {mixer}\" for otimizador, mixer in copia_resultados_qaoa_4.index.unique()]\n",
    "cores = {'probabilidade_valor_otimo': 'blue', 'probabilidade_valor_otimo_simulador': 'orange', 'probabilidade_valor_otimo_computador_quantico':'cyan'}\n",
    "nomes = {'probabilidade_valor_otimo': 'simulador local', 'probabilidade_valor_otimo_simulador': 'simulador QASM', 'probabilidade_valor_otimo_computador_quantico':'IBM Brisbane'}\n",
    "cols_appeared = []\n",
    "\n",
    "fig = make_subplots(rows=4, cols=4, subplot_titles=combinacoes, \n",
    "                    x_title='Métodos de execução', y_title='Energia', \n",
    "                    shared_xaxes=False, shared_yaxes=False)\n",
    "\n",
    "for i, (otimizador, mixer) in enumerate(copia_resultados_qaoa_4.index.unique()):\n",
    "\n",
    "    df_subset = copia_resultados_qaoa_4.loc[\n",
    "        (copia_resultados_qaoa_4.index.get_level_values(0) == otimizador) &\n",
    "        (copia_resultados_qaoa_4.index.get_level_values(1) == mixer)\n",
    "    ]\n",
    "\n",
    "    valores = df_subset[['probabilidade_valor_otimo', 'probabilidade_valor_otimo_simulador']]\n",
    "\n",
    "    for idx, col in enumerate(valores.columns):\n",
    "        nome_fig = f'{otimizador}-{mixer}-{col}'\n",
    "        legenda_bool = False\n",
    "\n",
    "        if not col in cols_appeared:\n",
    "            nome_fig = f'{nomes[col]}'\n",
    "            legenda_bool = True\n",
    "        \n",
    "        fig.add_trace(\n",
    "            go.Bar(x=[col], \n",
    "                    y=[valores[col].values[0]],\n",
    "                    name=nome_fig,\n",
    "                    marker_color=cores[col],\n",
    "                    showlegend=legenda_bool),\n",
    "            row=(i // 4) + 1,\n",
    "            col=(i % 4) + 1\n",
    "        )\n",
    "        cols_appeared.append(col)\n",
    "\n",
    "        fig.update_xaxes(showticklabels=False, title_text='', row=(i // 4) + 1, col=(i % 4) + 1)\n",
    "\n",
    "fig.update_layout(\n",
    "                  showlegend=True,\n",
    "                  xaxis_title='',\n",
    "                  yaxis_title='',\n",
    "                  width = 2200,\n",
    "                  height = 700,\n",
    "                  font = dict(size=20),\n",
    "                  legend_itemsizing=\"constant\",\n",
    "                  margin = dict(l=35, r=35, t=35, b=75),\n",
    "                  )\n",
    "\n",
    "fig.update_annotations(font_size=20)\n",
    "\n",
    "nome_figura = f\"figuras_dados/qaoa_4_comparacao_probabilidade_metodos.png\"\n",
    "fig.write_image(nome_figura, width=2200, height=700)\n",
    "\n",
    "fig.show()"
   ]
  },
  {
   "cell_type": "code",
   "execution_count": 13,
   "metadata": {},
   "outputs": [
    {
     "data": {
      "application/vnd.plotly.v1+json": {
       "config": {
        "plotlyServerURL": "https://plot.ly"
       },
       "data": [
        {
         "marker": {
          "color": "blue"
         },
         "name": "simulador local",
         "showlegend": true,
         "type": "bar",
         "x": [
          "probabilidade_valor_otimo"
         ],
         "xaxis": "x",
         "y": [
          0.1083984375
         ],
         "yaxis": "y"
        },
        {
         "marker": {
          "color": "orange"
         },
         "name": "simulador QASM",
         "showlegend": true,
         "type": "bar",
         "x": [
          "probabilidade_valor_otimo_simulador"
         ],
         "xaxis": "x",
         "y": [
          0.132
         ],
         "yaxis": "y"
        },
        {
         "marker": {
          "color": "blue"
         },
         "name": "L_BFGS_B-full_mixer-probabilidade_valor_otimo",
         "showlegend": false,
         "type": "bar",
         "x": [
          "probabilidade_valor_otimo"
         ],
         "xaxis": "x2",
         "y": [
          0.150390625
         ],
         "yaxis": "y2"
        },
        {
         "marker": {
          "color": "orange"
         },
         "name": "L_BFGS_B-full_mixer-probabilidade_valor_otimo_simulador",
         "showlegend": false,
         "type": "bar",
         "x": [
          "probabilidade_valor_otimo_simulador"
         ],
         "xaxis": "x2",
         "y": [
          0.1345
         ],
         "yaxis": "y2"
        },
        {
         "marker": {
          "color": "blue"
         },
         "name": "NFT-full_mixer-probabilidade_valor_otimo",
         "showlegend": false,
         "type": "bar",
         "x": [
          "probabilidade_valor_otimo"
         ],
         "xaxis": "x3",
         "y": [
          0.1416015625
         ],
         "yaxis": "y3"
        },
        {
         "marker": {
          "color": "orange"
         },
         "name": "NFT-full_mixer-probabilidade_valor_otimo_simulador",
         "showlegend": false,
         "type": "bar",
         "x": [
          "probabilidade_valor_otimo_simulador"
         ],
         "xaxis": "x3",
         "y": [
          0.13425
         ],
         "yaxis": "y3"
        },
        {
         "marker": {
          "color": "blue"
         },
         "name": "SLSQP-full_mixer-probabilidade_valor_otimo",
         "showlegend": false,
         "type": "bar",
         "x": [
          "probabilidade_valor_otimo"
         ],
         "xaxis": "x4",
         "y": [
          0.126953125
         ],
         "yaxis": "y4"
        },
        {
         "marker": {
          "color": "orange"
         },
         "name": "SLSQP-full_mixer-probabilidade_valor_otimo_simulador",
         "showlegend": false,
         "type": "bar",
         "x": [
          "probabilidade_valor_otimo_simulador"
         ],
         "xaxis": "x4",
         "y": [
          0.118
         ],
         "yaxis": "y4"
        },
        {
         "marker": {
          "color": "blue"
         },
         "name": "COBYLA-mixer_default-probabilidade_valor_otimo",
         "showlegend": false,
         "type": "bar",
         "x": [
          "probabilidade_valor_otimo"
         ],
         "xaxis": "x5",
         "y": [
          0.12109375
         ],
         "yaxis": "y5"
        },
        {
         "marker": {
          "color": "orange"
         },
         "name": "COBYLA-mixer_default-probabilidade_valor_otimo_simulador",
         "showlegend": false,
         "type": "bar",
         "x": [
          "probabilidade_valor_otimo_simulador"
         ],
         "xaxis": "x5",
         "y": [
          0.1155
         ],
         "yaxis": "y5"
        },
        {
         "marker": {
          "color": "blue"
         },
         "name": "L_BFGS_B-mixer_default-probabilidade_valor_otimo",
         "showlegend": false,
         "type": "bar",
         "x": [
          "probabilidade_valor_otimo"
         ],
         "xaxis": "x6",
         "y": [
          0.1005859375
         ],
         "yaxis": "y6"
        },
        {
         "marker": {
          "color": "orange"
         },
         "name": "L_BFGS_B-mixer_default-probabilidade_valor_otimo_simulador",
         "showlegend": false,
         "type": "bar",
         "x": [
          "probabilidade_valor_otimo_simulador"
         ],
         "xaxis": "x6",
         "y": [
          0.09725
         ],
         "yaxis": "y6"
        },
        {
         "marker": {
          "color": "blue"
         },
         "name": "NFT-mixer_default-probabilidade_valor_otimo",
         "showlegend": false,
         "type": "bar",
         "x": [
          "probabilidade_valor_otimo"
         ],
         "xaxis": "x7",
         "y": [
          0.900390625
         ],
         "yaxis": "y7"
        },
        {
         "marker": {
          "color": "orange"
         },
         "name": "NFT-mixer_default-probabilidade_valor_otimo_simulador",
         "showlegend": false,
         "type": "bar",
         "x": [
          "probabilidade_valor_otimo_simulador"
         ],
         "xaxis": "x7",
         "y": [
          0.88675
         ],
         "yaxis": "y7"
        },
        {
         "marker": {
          "color": "blue"
         },
         "name": "SLSQP-mixer_default-probabilidade_valor_otimo",
         "showlegend": false,
         "type": "bar",
         "x": [
          "probabilidade_valor_otimo"
         ],
         "xaxis": "x8",
         "y": [
          0.2421875
         ],
         "yaxis": "y8"
        },
        {
         "marker": {
          "color": "orange"
         },
         "name": "SLSQP-mixer_default-probabilidade_valor_otimo_simulador",
         "showlegend": false,
         "type": "bar",
         "x": [
          "probabilidade_valor_otimo_simulador"
         ],
         "xaxis": "x8",
         "y": [
          0.1845
         ],
         "yaxis": "y8"
        },
        {
         "marker": {
          "color": "blue"
         },
         "name": "COBYLA-parity_ring_mixer-probabilidade_valor_otimo",
         "showlegend": false,
         "type": "bar",
         "x": [
          "probabilidade_valor_otimo"
         ],
         "xaxis": "x9",
         "y": [
          0.083984375
         ],
         "yaxis": "y9"
        },
        {
         "marker": {
          "color": "orange"
         },
         "name": "COBYLA-parity_ring_mixer-probabilidade_valor_otimo_simulador",
         "showlegend": false,
         "type": "bar",
         "x": [
          "probabilidade_valor_otimo_simulador"
         ],
         "xaxis": "x9",
         "y": [
          0.07025
         ],
         "yaxis": "y9"
        },
        {
         "marker": {
          "color": "blue"
         },
         "name": "L_BFGS_B-parity_ring_mixer-probabilidade_valor_otimo",
         "showlegend": false,
         "type": "bar",
         "x": [
          "probabilidade_valor_otimo"
         ],
         "xaxis": "x10",
         "y": [
          0.0712890625
         ],
         "yaxis": "y10"
        },
        {
         "marker": {
          "color": "orange"
         },
         "name": "L_BFGS_B-parity_ring_mixer-probabilidade_valor_otimo_simulador",
         "showlegend": false,
         "type": "bar",
         "x": [
          "probabilidade_valor_otimo_simulador"
         ],
         "xaxis": "x10",
         "y": [
          0.06475
         ],
         "yaxis": "y10"
        },
        {
         "marker": {
          "color": "blue"
         },
         "name": "NFT-parity_ring_mixer-probabilidade_valor_otimo",
         "showlegend": false,
         "type": "bar",
         "x": [
          "probabilidade_valor_otimo"
         ],
         "xaxis": "x11",
         "y": [
          0.1376953125
         ],
         "yaxis": "y11"
        },
        {
         "marker": {
          "color": "orange"
         },
         "name": "NFT-parity_ring_mixer-probabilidade_valor_otimo_simulador",
         "showlegend": false,
         "type": "bar",
         "x": [
          "probabilidade_valor_otimo_simulador"
         ],
         "xaxis": "x11",
         "y": [
          0.11975
         ],
         "yaxis": "y11"
        },
        {
         "marker": {
          "color": "blue"
         },
         "name": "SLSQP-parity_ring_mixer-probabilidade_valor_otimo",
         "showlegend": false,
         "type": "bar",
         "x": [
          "probabilidade_valor_otimo"
         ],
         "xaxis": "x12",
         "y": [
          0.1337890625
         ],
         "yaxis": "y12"
        },
        {
         "marker": {
          "color": "orange"
         },
         "name": "SLSQP-parity_ring_mixer-probabilidade_valor_otimo_simulador",
         "showlegend": false,
         "type": "bar",
         "x": [
          "probabilidade_valor_otimo_simulador"
         ],
         "xaxis": "x12",
         "y": [
          0.1295
         ],
         "yaxis": "y12"
        },
        {
         "marker": {
          "color": "blue"
         },
         "name": "COBYLA-ring_mixer-probabilidade_valor_otimo",
         "showlegend": false,
         "type": "bar",
         "x": [
          "probabilidade_valor_otimo"
         ],
         "xaxis": "x13",
         "y": [
          0.1328125
         ],
         "yaxis": "y13"
        },
        {
         "marker": {
          "color": "orange"
         },
         "name": "COBYLA-ring_mixer-probabilidade_valor_otimo_simulador",
         "showlegend": false,
         "type": "bar",
         "x": [
          "probabilidade_valor_otimo_simulador"
         ],
         "xaxis": "x13",
         "y": [
          0.134
         ],
         "yaxis": "y13"
        },
        {
         "marker": {
          "color": "blue"
         },
         "name": "L_BFGS_B-ring_mixer-probabilidade_valor_otimo",
         "showlegend": false,
         "type": "bar",
         "x": [
          "probabilidade_valor_otimo"
         ],
         "xaxis": "x14",
         "y": [
          0.138671875
         ],
         "yaxis": "y14"
        },
        {
         "marker": {
          "color": "orange"
         },
         "name": "L_BFGS_B-ring_mixer-probabilidade_valor_otimo_simulador",
         "showlegend": false,
         "type": "bar",
         "x": [
          "probabilidade_valor_otimo_simulador"
         ],
         "xaxis": "x14",
         "y": [
          0.1215
         ],
         "yaxis": "y14"
        },
        {
         "marker": {
          "color": "blue"
         },
         "name": "NFT-ring_mixer-probabilidade_valor_otimo",
         "showlegend": false,
         "type": "bar",
         "x": [
          "probabilidade_valor_otimo"
         ],
         "xaxis": "x15",
         "y": [
          0.158203125
         ],
         "yaxis": "y15"
        },
        {
         "marker": {
          "color": "orange"
         },
         "name": "NFT-ring_mixer-probabilidade_valor_otimo_simulador",
         "showlegend": false,
         "type": "bar",
         "x": [
          "probabilidade_valor_otimo_simulador"
         ],
         "xaxis": "x15",
         "y": [
          0.1295
         ],
         "yaxis": "y15"
        },
        {
         "marker": {
          "color": "blue"
         },
         "name": "SLSQP-ring_mixer-probabilidade_valor_otimo",
         "showlegend": false,
         "type": "bar",
         "x": [
          "probabilidade_valor_otimo"
         ],
         "xaxis": "x16",
         "y": [
          0.1435546875
         ],
         "yaxis": "y16"
        },
        {
         "marker": {
          "color": "orange"
         },
         "name": "SLSQP-ring_mixer-probabilidade_valor_otimo_simulador",
         "showlegend": false,
         "type": "bar",
         "x": [
          "probabilidade_valor_otimo_simulador"
         ],
         "xaxis": "x16",
         "y": [
          0.12825
         ],
         "yaxis": "y16"
        }
       ],
       "layout": {
        "annotations": [
         {
          "font": {
           "size": 20
          },
          "showarrow": false,
          "text": "COBYLA e full_mixer",
          "x": 0.10625,
          "xanchor": "center",
          "xref": "paper",
          "y": 1,
          "yanchor": "bottom",
          "yref": "paper"
         },
         {
          "font": {
           "size": 20
          },
          "showarrow": false,
          "text": "L_BFGS_B e full_mixer",
          "x": 0.36875,
          "xanchor": "center",
          "xref": "paper",
          "y": 1,
          "yanchor": "bottom",
          "yref": "paper"
         },
         {
          "font": {
           "size": 20
          },
          "showarrow": false,
          "text": "NFT e full_mixer",
          "x": 0.6312500000000001,
          "xanchor": "center",
          "xref": "paper",
          "y": 1,
          "yanchor": "bottom",
          "yref": "paper"
         },
         {
          "font": {
           "size": 20
          },
          "showarrow": false,
          "text": "SLSQP e full_mixer",
          "x": 0.89375,
          "xanchor": "center",
          "xref": "paper",
          "y": 1,
          "yanchor": "bottom",
          "yref": "paper"
         },
         {
          "font": {
           "size": 20
          },
          "showarrow": false,
          "text": "COBYLA e mixer_default",
          "x": 0.10625,
          "xanchor": "center",
          "xref": "paper",
          "y": 0.71875,
          "yanchor": "bottom",
          "yref": "paper"
         },
         {
          "font": {
           "size": 20
          },
          "showarrow": false,
          "text": "L_BFGS_B e mixer_default",
          "x": 0.36875,
          "xanchor": "center",
          "xref": "paper",
          "y": 0.71875,
          "yanchor": "bottom",
          "yref": "paper"
         },
         {
          "font": {
           "size": 20
          },
          "showarrow": false,
          "text": "NFT e mixer_default",
          "x": 0.6312500000000001,
          "xanchor": "center",
          "xref": "paper",
          "y": 0.71875,
          "yanchor": "bottom",
          "yref": "paper"
         },
         {
          "font": {
           "size": 20
          },
          "showarrow": false,
          "text": "SLSQP e mixer_default",
          "x": 0.89375,
          "xanchor": "center",
          "xref": "paper",
          "y": 0.71875,
          "yanchor": "bottom",
          "yref": "paper"
         },
         {
          "font": {
           "size": 20
          },
          "showarrow": false,
          "text": "COBYLA e parity_ring_mixer",
          "x": 0.10625,
          "xanchor": "center",
          "xref": "paper",
          "y": 0.4375,
          "yanchor": "bottom",
          "yref": "paper"
         },
         {
          "font": {
           "size": 20
          },
          "showarrow": false,
          "text": "L_BFGS_B e parity_ring_mixer",
          "x": 0.36875,
          "xanchor": "center",
          "xref": "paper",
          "y": 0.4375,
          "yanchor": "bottom",
          "yref": "paper"
         },
         {
          "font": {
           "size": 20
          },
          "showarrow": false,
          "text": "NFT e parity_ring_mixer",
          "x": 0.6312500000000001,
          "xanchor": "center",
          "xref": "paper",
          "y": 0.4375,
          "yanchor": "bottom",
          "yref": "paper"
         },
         {
          "font": {
           "size": 20
          },
          "showarrow": false,
          "text": "SLSQP e parity_ring_mixer",
          "x": 0.89375,
          "xanchor": "center",
          "xref": "paper",
          "y": 0.4375,
          "yanchor": "bottom",
          "yref": "paper"
         },
         {
          "font": {
           "size": 20
          },
          "showarrow": false,
          "text": "COBYLA e ring_mixer",
          "x": 0.10625,
          "xanchor": "center",
          "xref": "paper",
          "y": 0.15625,
          "yanchor": "bottom",
          "yref": "paper"
         },
         {
          "font": {
           "size": 20
          },
          "showarrow": false,
          "text": "L_BFGS_B e ring_mixer",
          "x": 0.36875,
          "xanchor": "center",
          "xref": "paper",
          "y": 0.15625,
          "yanchor": "bottom",
          "yref": "paper"
         },
         {
          "font": {
           "size": 20
          },
          "showarrow": false,
          "text": "NFT e ring_mixer",
          "x": 0.6312500000000001,
          "xanchor": "center",
          "xref": "paper",
          "y": 0.15625,
          "yanchor": "bottom",
          "yref": "paper"
         },
         {
          "font": {
           "size": 20
          },
          "showarrow": false,
          "text": "SLSQP e ring_mixer",
          "x": 0.89375,
          "xanchor": "center",
          "xref": "paper",
          "y": 0.15625,
          "yanchor": "bottom",
          "yref": "paper"
         },
         {
          "font": {
           "size": 20
          },
          "showarrow": false,
          "text": "Métodos de execução",
          "x": 0.5,
          "xanchor": "center",
          "xref": "paper",
          "y": 0,
          "yanchor": "top",
          "yref": "paper",
          "yshift": -30
         },
         {
          "font": {
           "size": 20
          },
          "showarrow": false,
          "text": "Energia",
          "textangle": -90,
          "x": 0,
          "xanchor": "right",
          "xref": "paper",
          "xshift": -40,
          "y": 0.5,
          "yanchor": "middle",
          "yref": "paper"
         }
        ],
        "font": {
         "size": 20
        },
        "height": 700,
        "legend": {
         "itemsizing": "constant"
        },
        "margin": {
         "b": 75,
         "l": 35,
         "r": 35,
         "t": 35
        },
        "showlegend": true,
        "template": {
         "data": {
          "bar": [
           {
            "error_x": {
             "color": "#2a3f5f"
            },
            "error_y": {
             "color": "#2a3f5f"
            },
            "marker": {
             "line": {
              "color": "#E5ECF6",
              "width": 0.5
             },
             "pattern": {
              "fillmode": "overlay",
              "size": 10,
              "solidity": 0.2
             }
            },
            "type": "bar"
           }
          ],
          "barpolar": [
           {
            "marker": {
             "line": {
              "color": "#E5ECF6",
              "width": 0.5
             },
             "pattern": {
              "fillmode": "overlay",
              "size": 10,
              "solidity": 0.2
             }
            },
            "type": "barpolar"
           }
          ],
          "carpet": [
           {
            "aaxis": {
             "endlinecolor": "#2a3f5f",
             "gridcolor": "white",
             "linecolor": "white",
             "minorgridcolor": "white",
             "startlinecolor": "#2a3f5f"
            },
            "baxis": {
             "endlinecolor": "#2a3f5f",
             "gridcolor": "white",
             "linecolor": "white",
             "minorgridcolor": "white",
             "startlinecolor": "#2a3f5f"
            },
            "type": "carpet"
           }
          ],
          "choropleth": [
           {
            "colorbar": {
             "outlinewidth": 0,
             "ticks": ""
            },
            "type": "choropleth"
           }
          ],
          "contour": [
           {
            "colorbar": {
             "outlinewidth": 0,
             "ticks": ""
            },
            "colorscale": [
             [
              0,
              "#0d0887"
             ],
             [
              0.1111111111111111,
              "#46039f"
             ],
             [
              0.2222222222222222,
              "#7201a8"
             ],
             [
              0.3333333333333333,
              "#9c179e"
             ],
             [
              0.4444444444444444,
              "#bd3786"
             ],
             [
              0.5555555555555556,
              "#d8576b"
             ],
             [
              0.6666666666666666,
              "#ed7953"
             ],
             [
              0.7777777777777778,
              "#fb9f3a"
             ],
             [
              0.8888888888888888,
              "#fdca26"
             ],
             [
              1,
              "#f0f921"
             ]
            ],
            "type": "contour"
           }
          ],
          "contourcarpet": [
           {
            "colorbar": {
             "outlinewidth": 0,
             "ticks": ""
            },
            "type": "contourcarpet"
           }
          ],
          "heatmap": [
           {
            "colorbar": {
             "outlinewidth": 0,
             "ticks": ""
            },
            "colorscale": [
             [
              0,
              "#0d0887"
             ],
             [
              0.1111111111111111,
              "#46039f"
             ],
             [
              0.2222222222222222,
              "#7201a8"
             ],
             [
              0.3333333333333333,
              "#9c179e"
             ],
             [
              0.4444444444444444,
              "#bd3786"
             ],
             [
              0.5555555555555556,
              "#d8576b"
             ],
             [
              0.6666666666666666,
              "#ed7953"
             ],
             [
              0.7777777777777778,
              "#fb9f3a"
             ],
             [
              0.8888888888888888,
              "#fdca26"
             ],
             [
              1,
              "#f0f921"
             ]
            ],
            "type": "heatmap"
           }
          ],
          "heatmapgl": [
           {
            "colorbar": {
             "outlinewidth": 0,
             "ticks": ""
            },
            "colorscale": [
             [
              0,
              "#0d0887"
             ],
             [
              0.1111111111111111,
              "#46039f"
             ],
             [
              0.2222222222222222,
              "#7201a8"
             ],
             [
              0.3333333333333333,
              "#9c179e"
             ],
             [
              0.4444444444444444,
              "#bd3786"
             ],
             [
              0.5555555555555556,
              "#d8576b"
             ],
             [
              0.6666666666666666,
              "#ed7953"
             ],
             [
              0.7777777777777778,
              "#fb9f3a"
             ],
             [
              0.8888888888888888,
              "#fdca26"
             ],
             [
              1,
              "#f0f921"
             ]
            ],
            "type": "heatmapgl"
           }
          ],
          "histogram": [
           {
            "marker": {
             "pattern": {
              "fillmode": "overlay",
              "size": 10,
              "solidity": 0.2
             }
            },
            "type": "histogram"
           }
          ],
          "histogram2d": [
           {
            "colorbar": {
             "outlinewidth": 0,
             "ticks": ""
            },
            "colorscale": [
             [
              0,
              "#0d0887"
             ],
             [
              0.1111111111111111,
              "#46039f"
             ],
             [
              0.2222222222222222,
              "#7201a8"
             ],
             [
              0.3333333333333333,
              "#9c179e"
             ],
             [
              0.4444444444444444,
              "#bd3786"
             ],
             [
              0.5555555555555556,
              "#d8576b"
             ],
             [
              0.6666666666666666,
              "#ed7953"
             ],
             [
              0.7777777777777778,
              "#fb9f3a"
             ],
             [
              0.8888888888888888,
              "#fdca26"
             ],
             [
              1,
              "#f0f921"
             ]
            ],
            "type": "histogram2d"
           }
          ],
          "histogram2dcontour": [
           {
            "colorbar": {
             "outlinewidth": 0,
             "ticks": ""
            },
            "colorscale": [
             [
              0,
              "#0d0887"
             ],
             [
              0.1111111111111111,
              "#46039f"
             ],
             [
              0.2222222222222222,
              "#7201a8"
             ],
             [
              0.3333333333333333,
              "#9c179e"
             ],
             [
              0.4444444444444444,
              "#bd3786"
             ],
             [
              0.5555555555555556,
              "#d8576b"
             ],
             [
              0.6666666666666666,
              "#ed7953"
             ],
             [
              0.7777777777777778,
              "#fb9f3a"
             ],
             [
              0.8888888888888888,
              "#fdca26"
             ],
             [
              1,
              "#f0f921"
             ]
            ],
            "type": "histogram2dcontour"
           }
          ],
          "mesh3d": [
           {
            "colorbar": {
             "outlinewidth": 0,
             "ticks": ""
            },
            "type": "mesh3d"
           }
          ],
          "parcoords": [
           {
            "line": {
             "colorbar": {
              "outlinewidth": 0,
              "ticks": ""
             }
            },
            "type": "parcoords"
           }
          ],
          "pie": [
           {
            "automargin": true,
            "type": "pie"
           }
          ],
          "scatter": [
           {
            "fillpattern": {
             "fillmode": "overlay",
             "size": 10,
             "solidity": 0.2
            },
            "type": "scatter"
           }
          ],
          "scatter3d": [
           {
            "line": {
             "colorbar": {
              "outlinewidth": 0,
              "ticks": ""
             }
            },
            "marker": {
             "colorbar": {
              "outlinewidth": 0,
              "ticks": ""
             }
            },
            "type": "scatter3d"
           }
          ],
          "scattercarpet": [
           {
            "marker": {
             "colorbar": {
              "outlinewidth": 0,
              "ticks": ""
             }
            },
            "type": "scattercarpet"
           }
          ],
          "scattergeo": [
           {
            "marker": {
             "colorbar": {
              "outlinewidth": 0,
              "ticks": ""
             }
            },
            "type": "scattergeo"
           }
          ],
          "scattergl": [
           {
            "marker": {
             "colorbar": {
              "outlinewidth": 0,
              "ticks": ""
             }
            },
            "type": "scattergl"
           }
          ],
          "scattermapbox": [
           {
            "marker": {
             "colorbar": {
              "outlinewidth": 0,
              "ticks": ""
             }
            },
            "type": "scattermapbox"
           }
          ],
          "scatterpolar": [
           {
            "marker": {
             "colorbar": {
              "outlinewidth": 0,
              "ticks": ""
             }
            },
            "type": "scatterpolar"
           }
          ],
          "scatterpolargl": [
           {
            "marker": {
             "colorbar": {
              "outlinewidth": 0,
              "ticks": ""
             }
            },
            "type": "scatterpolargl"
           }
          ],
          "scatterternary": [
           {
            "marker": {
             "colorbar": {
              "outlinewidth": 0,
              "ticks": ""
             }
            },
            "type": "scatterternary"
           }
          ],
          "surface": [
           {
            "colorbar": {
             "outlinewidth": 0,
             "ticks": ""
            },
            "colorscale": [
             [
              0,
              "#0d0887"
             ],
             [
              0.1111111111111111,
              "#46039f"
             ],
             [
              0.2222222222222222,
              "#7201a8"
             ],
             [
              0.3333333333333333,
              "#9c179e"
             ],
             [
              0.4444444444444444,
              "#bd3786"
             ],
             [
              0.5555555555555556,
              "#d8576b"
             ],
             [
              0.6666666666666666,
              "#ed7953"
             ],
             [
              0.7777777777777778,
              "#fb9f3a"
             ],
             [
              0.8888888888888888,
              "#fdca26"
             ],
             [
              1,
              "#f0f921"
             ]
            ],
            "type": "surface"
           }
          ],
          "table": [
           {
            "cells": {
             "fill": {
              "color": "#EBF0F8"
             },
             "line": {
              "color": "white"
             }
            },
            "header": {
             "fill": {
              "color": "#C8D4E3"
             },
             "line": {
              "color": "white"
             }
            },
            "type": "table"
           }
          ]
         },
         "layout": {
          "annotationdefaults": {
           "arrowcolor": "#2a3f5f",
           "arrowhead": 0,
           "arrowwidth": 1
          },
          "autotypenumbers": "strict",
          "coloraxis": {
           "colorbar": {
            "outlinewidth": 0,
            "ticks": ""
           }
          },
          "colorscale": {
           "diverging": [
            [
             0,
             "#8e0152"
            ],
            [
             0.1,
             "#c51b7d"
            ],
            [
             0.2,
             "#de77ae"
            ],
            [
             0.3,
             "#f1b6da"
            ],
            [
             0.4,
             "#fde0ef"
            ],
            [
             0.5,
             "#f7f7f7"
            ],
            [
             0.6,
             "#e6f5d0"
            ],
            [
             0.7,
             "#b8e186"
            ],
            [
             0.8,
             "#7fbc41"
            ],
            [
             0.9,
             "#4d9221"
            ],
            [
             1,
             "#276419"
            ]
           ],
           "sequential": [
            [
             0,
             "#0d0887"
            ],
            [
             0.1111111111111111,
             "#46039f"
            ],
            [
             0.2222222222222222,
             "#7201a8"
            ],
            [
             0.3333333333333333,
             "#9c179e"
            ],
            [
             0.4444444444444444,
             "#bd3786"
            ],
            [
             0.5555555555555556,
             "#d8576b"
            ],
            [
             0.6666666666666666,
             "#ed7953"
            ],
            [
             0.7777777777777778,
             "#fb9f3a"
            ],
            [
             0.8888888888888888,
             "#fdca26"
            ],
            [
             1,
             "#f0f921"
            ]
           ],
           "sequentialminus": [
            [
             0,
             "#0d0887"
            ],
            [
             0.1111111111111111,
             "#46039f"
            ],
            [
             0.2222222222222222,
             "#7201a8"
            ],
            [
             0.3333333333333333,
             "#9c179e"
            ],
            [
             0.4444444444444444,
             "#bd3786"
            ],
            [
             0.5555555555555556,
             "#d8576b"
            ],
            [
             0.6666666666666666,
             "#ed7953"
            ],
            [
             0.7777777777777778,
             "#fb9f3a"
            ],
            [
             0.8888888888888888,
             "#fdca26"
            ],
            [
             1,
             "#f0f921"
            ]
           ]
          },
          "colorway": [
           "#636efa",
           "#EF553B",
           "#00cc96",
           "#ab63fa",
           "#FFA15A",
           "#19d3f3",
           "#FF6692",
           "#B6E880",
           "#FF97FF",
           "#FECB52"
          ],
          "font": {
           "color": "#2a3f5f"
          },
          "geo": {
           "bgcolor": "white",
           "lakecolor": "white",
           "landcolor": "#E5ECF6",
           "showlakes": true,
           "showland": true,
           "subunitcolor": "white"
          },
          "hoverlabel": {
           "align": "left"
          },
          "hovermode": "closest",
          "mapbox": {
           "style": "light"
          },
          "paper_bgcolor": "white",
          "plot_bgcolor": "#E5ECF6",
          "polar": {
           "angularaxis": {
            "gridcolor": "white",
            "linecolor": "white",
            "ticks": ""
           },
           "bgcolor": "#E5ECF6",
           "radialaxis": {
            "gridcolor": "white",
            "linecolor": "white",
            "ticks": ""
           }
          },
          "scene": {
           "xaxis": {
            "backgroundcolor": "#E5ECF6",
            "gridcolor": "white",
            "gridwidth": 2,
            "linecolor": "white",
            "showbackground": true,
            "ticks": "",
            "zerolinecolor": "white"
           },
           "yaxis": {
            "backgroundcolor": "#E5ECF6",
            "gridcolor": "white",
            "gridwidth": 2,
            "linecolor": "white",
            "showbackground": true,
            "ticks": "",
            "zerolinecolor": "white"
           },
           "zaxis": {
            "backgroundcolor": "#E5ECF6",
            "gridcolor": "white",
            "gridwidth": 2,
            "linecolor": "white",
            "showbackground": true,
            "ticks": "",
            "zerolinecolor": "white"
           }
          },
          "shapedefaults": {
           "line": {
            "color": "#2a3f5f"
           }
          },
          "ternary": {
           "aaxis": {
            "gridcolor": "white",
            "linecolor": "white",
            "ticks": ""
           },
           "baxis": {
            "gridcolor": "white",
            "linecolor": "white",
            "ticks": ""
           },
           "bgcolor": "#E5ECF6",
           "caxis": {
            "gridcolor": "white",
            "linecolor": "white",
            "ticks": ""
           }
          },
          "title": {
           "x": 0.05
          },
          "xaxis": {
           "automargin": true,
           "gridcolor": "white",
           "linecolor": "white",
           "ticks": "",
           "title": {
            "standoff": 15
           },
           "zerolinecolor": "white",
           "zerolinewidth": 2
          },
          "yaxis": {
           "automargin": true,
           "gridcolor": "white",
           "linecolor": "white",
           "ticks": "",
           "title": {
            "standoff": 15
           },
           "zerolinecolor": "white",
           "zerolinewidth": 2
          }
         }
        },
        "width": 2200,
        "xaxis": {
         "anchor": "y",
         "domain": [
          0,
          0.2125
         ],
         "matches": "x13",
         "showticklabels": false,
         "title": {
          "text": ""
         }
        },
        "xaxis10": {
         "anchor": "y10",
         "domain": [
          0.2625,
          0.475
         ],
         "matches": "x14",
         "showticklabels": false,
         "title": {
          "text": ""
         }
        },
        "xaxis11": {
         "anchor": "y11",
         "domain": [
          0.525,
          0.7375
         ],
         "matches": "x15",
         "showticklabels": false,
         "title": {
          "text": ""
         }
        },
        "xaxis12": {
         "anchor": "y12",
         "domain": [
          0.7875,
          1
         ],
         "matches": "x16",
         "showticklabels": false,
         "title": {
          "text": ""
         }
        },
        "xaxis13": {
         "anchor": "y13",
         "domain": [
          0,
          0.2125
         ],
         "showticklabels": false,
         "title": {
          "text": ""
         }
        },
        "xaxis14": {
         "anchor": "y14",
         "domain": [
          0.2625,
          0.475
         ],
         "showticklabels": false,
         "title": {
          "text": ""
         }
        },
        "xaxis15": {
         "anchor": "y15",
         "domain": [
          0.525,
          0.7375
         ],
         "showticklabels": false,
         "title": {
          "text": ""
         }
        },
        "xaxis16": {
         "anchor": "y16",
         "domain": [
          0.7875,
          1
         ],
         "showticklabels": false,
         "title": {
          "text": ""
         }
        },
        "xaxis2": {
         "anchor": "y2",
         "domain": [
          0.2625,
          0.475
         ],
         "matches": "x14",
         "showticklabels": false,
         "title": {
          "text": ""
         }
        },
        "xaxis3": {
         "anchor": "y3",
         "domain": [
          0.525,
          0.7375
         ],
         "matches": "x15",
         "showticklabels": false,
         "title": {
          "text": ""
         }
        },
        "xaxis4": {
         "anchor": "y4",
         "domain": [
          0.7875,
          1
         ],
         "matches": "x16",
         "showticklabels": false,
         "title": {
          "text": ""
         }
        },
        "xaxis5": {
         "anchor": "y5",
         "domain": [
          0,
          0.2125
         ],
         "matches": "x13",
         "showticklabels": false,
         "title": {
          "text": ""
         }
        },
        "xaxis6": {
         "anchor": "y6",
         "domain": [
          0.2625,
          0.475
         ],
         "matches": "x14",
         "showticklabels": false,
         "title": {
          "text": ""
         }
        },
        "xaxis7": {
         "anchor": "y7",
         "domain": [
          0.525,
          0.7375
         ],
         "matches": "x15",
         "showticklabels": false,
         "title": {
          "text": ""
         }
        },
        "xaxis8": {
         "anchor": "y8",
         "domain": [
          0.7875,
          1
         ],
         "matches": "x16",
         "showticklabels": false,
         "title": {
          "text": ""
         }
        },
        "xaxis9": {
         "anchor": "y9",
         "domain": [
          0,
          0.2125
         ],
         "matches": "x13",
         "showticklabels": false,
         "title": {
          "text": ""
         }
        },
        "yaxis": {
         "anchor": "x",
         "domain": [
          0.84375,
          1
         ],
         "title": {
          "text": ""
         }
        },
        "yaxis10": {
         "anchor": "x10",
         "domain": [
          0.28125,
          0.4375
         ],
         "matches": "y9",
         "showticklabels": false
        },
        "yaxis11": {
         "anchor": "x11",
         "domain": [
          0.28125,
          0.4375
         ],
         "matches": "y9",
         "showticklabels": false
        },
        "yaxis12": {
         "anchor": "x12",
         "domain": [
          0.28125,
          0.4375
         ],
         "matches": "y9",
         "showticklabels": false
        },
        "yaxis13": {
         "anchor": "x13",
         "domain": [
          0,
          0.15625
         ]
        },
        "yaxis14": {
         "anchor": "x14",
         "domain": [
          0,
          0.15625
         ],
         "matches": "y13",
         "showticklabels": false
        },
        "yaxis15": {
         "anchor": "x15",
         "domain": [
          0,
          0.15625
         ],
         "matches": "y13",
         "showticklabels": false
        },
        "yaxis16": {
         "anchor": "x16",
         "domain": [
          0,
          0.15625
         ],
         "matches": "y13",
         "showticklabels": false
        },
        "yaxis2": {
         "anchor": "x2",
         "domain": [
          0.84375,
          1
         ],
         "matches": "y",
         "showticklabels": false
        },
        "yaxis3": {
         "anchor": "x3",
         "domain": [
          0.84375,
          1
         ],
         "matches": "y",
         "showticklabels": false
        },
        "yaxis4": {
         "anchor": "x4",
         "domain": [
          0.84375,
          1
         ],
         "matches": "y",
         "showticklabels": false
        },
        "yaxis5": {
         "anchor": "x5",
         "domain": [
          0.5625,
          0.71875
         ]
        },
        "yaxis6": {
         "anchor": "x6",
         "domain": [
          0.5625,
          0.71875
         ],
         "matches": "y5",
         "showticklabels": false
        },
        "yaxis7": {
         "anchor": "x7",
         "domain": [
          0.5625,
          0.71875
         ],
         "matches": "y5",
         "showticklabels": false
        },
        "yaxis8": {
         "anchor": "x8",
         "domain": [
          0.5625,
          0.71875
         ],
         "matches": "y5",
         "showticklabels": false
        },
        "yaxis9": {
         "anchor": "x9",
         "domain": [
          0.28125,
          0.4375
         ]
        }
       }
      }
     },
     "metadata": {},
     "output_type": "display_data"
    }
   ],
   "source": [
    "\n",
    "copia_resultados_qaoa_4 = resultados_qaoa_4.copy()\n",
    "\n",
    "combinacoes = [f\"{otimizador} e {mixer}\" for otimizador, mixer in copia_resultados_qaoa_4.index.unique()]\n",
    "cores = {'probabilidade_valor_otimo': 'blue', 'probabilidade_valor_otimo_simulador': 'orange', 'probabilidade_valor_otimo_computador_quantico':'cyan'}\n",
    "nomes = {'probabilidade_valor_otimo': 'simulador local', 'probabilidade_valor_otimo_simulador': 'simulador QASM', 'probabilidade_valor_otimo_computador_quantico':'IBM Brisbane'}\n",
    "cols_appeared = []\n",
    "\n",
    "fig = make_subplots(rows=4, cols=4, subplot_titles=combinacoes, \n",
    "                    x_title='Métodos de execução', y_title='Energia', \n",
    "                    shared_xaxes=True, shared_yaxes=True,)\n",
    "\n",
    "for i, (otimizador, mixer) in enumerate(copia_resultados_qaoa_4.index.unique()):\n",
    "\n",
    "    df_subset = copia_resultados_qaoa_4.loc[\n",
    "        (copia_resultados_qaoa_4.index.get_level_values(0) == otimizador) &\n",
    "        (copia_resultados_qaoa_4.index.get_level_values(1) == mixer)\n",
    "    ]\n",
    "\n",
    "    valores = df_subset[['probabilidade_valor_otimo', 'probabilidade_valor_otimo_simulador']]\n",
    "\n",
    "    for idx, col in enumerate(valores.columns):\n",
    "        nome_fig = f'{otimizador}-{mixer}-{col}'\n",
    "        legenda_bool = False\n",
    "\n",
    "        if not col in cols_appeared:\n",
    "            nome_fig = f'{nomes[col]}'\n",
    "            legenda_bool = True\n",
    "        \n",
    "        fig.add_trace(\n",
    "            go.Bar(x=[col], \n",
    "                    y=[valores[col].values[0]],\n",
    "                    name=nome_fig,\n",
    "                    marker_color=cores[col],\n",
    "                    showlegend=legenda_bool),\n",
    "            row=(i // 4) + 1,\n",
    "            col=(i % 4) + 1\n",
    "        )\n",
    "        cols_appeared.append(col)\n",
    "\n",
    "        fig.update_xaxes(showticklabels=False, title_text='', row=(i // 4) + 1, col=(i % 4) + 1)\n",
    "\n",
    "fig.update_layout(\n",
    "                  showlegend=True,\n",
    "                  xaxis_title='',\n",
    "                  yaxis_title='',\n",
    "                  width = 2200,\n",
    "                  height = 700,\n",
    "                  font = dict(size=20),\n",
    "                  legend_itemsizing=\"constant\",\n",
    "                  margin = dict(l=35, r=35, t=35, b=75),\n",
    "                  )\n",
    "\n",
    "fig.update_annotations(font_size=20)\n",
    "\n",
    "nome_figura = f\"figuras_dados/qaoa_4_comparacao_probabilidade_metodos_mesmo_y.png\"\n",
    "fig.write_image(nome_figura, width=2200, height=700)\n",
    "\n",
    "fig.show()"
   ]
  }
 ],
 "metadata": {
  "colab": {
   "include_colab_link": true,
   "name": "Quantum_Finance_DualQ.ipynb",
   "provenance": [],
   "toc_visible": true
  },
  "kernelspec": {
   "display_name": "Python 3 (ipykernel)",
   "language": "python",
   "name": "python3"
  },
  "language_info": {
   "codemirror_mode": {
    "name": "ipython",
    "version": 3
   },
   "file_extension": ".py",
   "mimetype": "text/x-python",
   "name": "python",
   "nbconvert_exporter": "python",
   "pygments_lexer": "ipython3",
   "version": "3.10.11"
  },
  "widgets": {
   "application/vnd.jupyter.widget-state+json": {
    "state": {},
    "version_major": 2,
    "version_minor": 0
   }
  }
 },
 "nbformat": 4,
 "nbformat_minor": 4
}
