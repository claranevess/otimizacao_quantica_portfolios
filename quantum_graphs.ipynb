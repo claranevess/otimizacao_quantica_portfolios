{
 "cells": [
  {
   "cell_type": "code",
   "execution_count": 1,
   "metadata": {},
   "outputs": [],
   "source": [
    "# ! pip install qiskit-finance    # se estiver rodando no JupyterLab da IBM basta descomentar estas linhas\n",
    "# ! pip install -U kaleido        # se estiver rodando no JupyterLab da IBM basta descomentar estas linhas\n",
    "# ! pip install jinja2            # se estiver rodando no JupyterLab da IBM basta descomentar estas linhas\n",
    "# ! pip install pylatexenc\n",
    "\n",
    "# # se, no entanto, estiver rodando localmente é recomendado que seja instalado o python 3.10.11 e instaladas as bibliotecas no requirements.txt\n",
    "# # !pip install -r requirements.txt"
   ]
  },
  {
   "cell_type": "code",
   "execution_count": 2,
   "metadata": {
    "id": "YzGPEGrkyauf",
    "tags": []
   },
   "outputs": [],
   "source": [
    "from qiskit.circuit.library import PauliTwoDesign, TwoLocal, EfficientSU2, RealAmplitudes\n",
    "from qiskit_finance.applications.optimization import PortfolioOptimization\n",
    "from qiskit_algorithms.optimizers import COBYLA, L_BFGS_B, SLSQP, NFT\n",
    "from qiskit_optimization.algorithms import MinimumEigenOptimizer\n",
    "from qiskit_algorithms import QAOA, SamplingVQE\n",
    "from qiskit_aer.primitives import Sampler\n",
    "from qiskit.quantum_info import Pauli\n",
    "\n",
    "from IPython.display import clear_output\n",
    "\n",
    "import plotly.graph_objects as go\n",
    "import plotly.express as px\n",
    "\n",
    "import pandas as pd\n",
    "import numpy as np\n",
    "import pickle\n",
    "import time"
   ]
  },
  {
   "cell_type": "markdown",
   "metadata": {},
   "source": [
    "# Define Variaveis"
   ]
  },
  {
   "cell_type": "code",
   "execution_count": 3,
   "metadata": {},
   "outputs": [],
   "source": [
    "ambiente_backend = 'local'\n",
    "sampler = Sampler()\n",
    "\n",
    "seed = 123\n",
    "fator_risco = 0.5\n",
    "records_tempo = []\n",
    "\n",
    "quantidade_epocas_QAOA = 30\n",
    "quantidade_epocas_VQE = 30"
   ]
  },
  {
   "cell_type": "code",
   "execution_count": 4,
   "metadata": {},
   "outputs": [],
   "source": [
    "mostrar_figuras = True\n",
    "salvar_figuras = False\n",
    "\n",
    "width_padrao_display = 1400\n",
    "height_padrao_display = 700\n",
    "\n",
    "width_padrao_salvar = 1400\n",
    "height_padrao_salvar = 700\n",
    "\n",
    "width_padrao_display_junto = 3200\n",
    "height_padrao_display_junto = 700\n",
    "\n",
    "width_padrao_salvar_junto = 3200\n",
    "height_padrao_salvar_junto = 700\n",
    "\n",
    "tamanho_padrao_fonte = dict(size=35)\n",
    "tamanho_padrao_margem = dict(l=90, r=90, t=90, b=90)"
   ]
  },
  {
   "cell_type": "code",
   "execution_count": 5,
   "metadata": {},
   "outputs": [],
   "source": [
    "global lista_parametros_epoca_algoritmo_quantico\n",
    "global lista_parametros_iteracao_otimizador\n",
    "global otimizador_atual\n",
    "global ansatz_atual\n",
    "global mixer_atual\n",
    "\n",
    "def guardar_parametros_iteracao_otimizador_QAOA(parametros):\n",
    "    lista_parametros_iteracao_otimizador.append((otimizador_atual, mixer_atual, parametros))\n",
    "\n",
    "def guardar_parametros_iteracao_otimizador_VQE(parametros):\n",
    "    lista_parametros_iteracao_otimizador.append((otimizador_atual, ansatz_atual, parametros))\n",
    "\n",
    "otimizadores_QAOA = [COBYLA(maxiter=500, callback=guardar_parametros_iteracao_otimizador_QAOA),\n",
    "            L_BFGS_B(maxiter=500, callback=guardar_parametros_iteracao_otimizador_QAOA),\n",
    "            SLSQP(maxiter=500, callback=guardar_parametros_iteracao_otimizador_QAOA),\n",
    "            NFT(maxiter=500, callback=guardar_parametros_iteracao_otimizador_QAOA)]\n",
    "\n",
    "otimizadores_VQE = [COBYLA(maxiter=500, callback=guardar_parametros_iteracao_otimizador_VQE), \n",
    "            L_BFGS_B(maxiter=500, callback=guardar_parametros_iteracao_otimizador_VQE), \n",
    "            SLSQP(maxiter=500, callback=guardar_parametros_iteracao_otimizador_VQE),\n",
    "            NFT(maxiter=500, callback=guardar_parametros_iteracao_otimizador_VQE)]\n"
   ]
  },
  {
   "cell_type": "markdown",
   "metadata": {},
   "source": [
    "# 4 Ativos"
   ]
  },
  {
   "cell_type": "code",
   "execution_count": 6,
   "metadata": {},
   "outputs": [],
   "source": [
    "num_ativos = 4"
   ]
  },
  {
   "cell_type": "code",
   "execution_count": 7,
   "metadata": {},
   "outputs": [],
   "source": [
    "df_vqe = pd.DataFrame()\n",
    "\n",
    "with open('pickles/vqe_4_local.pickle', 'rb') as file:\n",
    "    df_vqe = pickle.load(file)"
   ]
  },
  {
   "cell_type": "code",
   "execution_count": 8,
   "metadata": {},
   "outputs": [],
   "source": [
    "# for otimizador in df_vqe['otimizador'].unique():\n",
    "#     fig = go.Figure()\n",
    "\n",
    "#     df_otimizador = df_vqe[df_vqe['otimizador'] == otimizador]\n",
    "\n",
    "#     for ansatz in df_otimizador['ansatz'].unique():\n",
    "#         df_ansatz = df_otimizador[df_otimizador['ansatz'] == ansatz]\n",
    "#         df_ansatz = df_ansatz.sort_values(by='avaliacao_funcao_custo')\n",
    "\n",
    "#         x_data = df_ansatz['avaliacao_funcao_custo']\n",
    "#         y_data = df_ansatz['valor_energia']\n",
    "\n",
    "#         # Handling complex numbers by extracting real and imaginary parts\n",
    "#         y_real = y_data.apply(lambda x: x.real if isinstance(x, complex) else x)\n",
    "\n",
    "#         fig.add_trace(go.Scatter(\n",
    "#             x=x_data,\n",
    "#             y=y_real,\n",
    "#             mode='lines',\n",
    "#             name=ansatz\n",
    "#         ))\n",
    "\n",
    "#     fig.update_layout(\n",
    "#         xaxis_title='Chamada de função de custo',\n",
    "#         yaxis_title='Energia',\n",
    "#         title='',\n",
    "#         legend_title='Ansatzes',\n",
    "#         width=width_padrao_display,\n",
    "#         height=height_padrao_display,\n",
    "#         font=tamanho_padrao_fonte,\n",
    "#         margin=tamanho_padrao_margem)\n",
    "\n",
    "#     if salvar_figuras:\n",
    "#         nome_figura = f\"figuras_vqe/{num_ativos}_{ambiente_backend}_{otimizador}_energia_por_funcao_custo_vqe.png\"\n",
    "#         fig.write_image(nome_figura, width=width_padrao_salvar, height=height_padrao_salvar)\n",
    "\n",
    "#     if mostrar_figuras:\n",
    "#         fig.show()"
   ]
  },
  {
   "cell_type": "code",
   "execution_count": 9,
   "metadata": {},
   "outputs": [],
   "source": [
    "# df_vqe_real = df_vqe.copy()\n",
    "# df_vqe_real['valor_energia'] = df_vqe['valor_energia'].apply(lambda x: x.real if isinstance(x, complex) else x)\n",
    "# df_vqe_real = df_vqe_real.sort_values(by='avaliacao_funcao_custo')\n",
    "\n",
    "# fig = px.line(df_vqe_real, x='avaliacao_funcao_custo', y='valor_energia', color='ansatz',\n",
    "#               facet_col='otimizador', facet_col_wrap=df_vqe_real['otimizador'].nunique(),\n",
    "#               labels={'avaliacao_funcao_custo': '', 'valor_energia': 'Energia'},\n",
    "#               title='')\n",
    "\n",
    "# fig.update_layout(width=width_padrao_display_junto, height=height_padrao_display_junto, legend_title='ansatzs', font=tamanho_padrao_fonte, margin=tamanho_padrao_margem)\n",
    "\n",
    "# fig.add_annotation(\n",
    "#     text='Chamada de função de custo',\n",
    "#     xref='paper',\n",
    "#     yref='paper',\n",
    "#     x=0.5,\n",
    "#     y=-0.178,\n",
    "#     showarrow=False,\n",
    "#     font=tamanho_padrao_fonte\n",
    "# )\n",
    "\n",
    "# if salvar_figuras:\n",
    "#     nome_figura = f\"figuras_vqe/{num_ativos}_{ambiente_backend}_energia_por_funcao_custo_juntos_vqe.png\"\n",
    "#     fig.write_image(nome_figura, width=width_padrao_salvar_junto, height=height_padrao_salvar_junto)\n",
    "\n",
    "# if mostrar_figuras:\n",
    "#     fig.show()"
   ]
  },
  {
   "cell_type": "code",
   "execution_count": 10,
   "metadata": {},
   "outputs": [],
   "source": [
    "# df_vqe_iteracao_otimizador = df_vqe.loc[df_vqe['bool_fim_iteracao_otimizador'] == True]\n",
    "\n",
    "# for otimizador in df_vqe_iteracao_otimizador['otimizador'].unique():\n",
    "#     fig = go.Figure()\n",
    "\n",
    "#     df_otimizador = df_vqe_iteracao_otimizador[df_vqe_iteracao_otimizador['otimizador'] == otimizador]\n",
    "\n",
    "#     for ansatz in df_otimizador['ansatz'].unique():\n",
    "#         df_ansatz = df_otimizador[df_otimizador['ansatz'] == ansatz]\n",
    "#         df_ansatz = df_ansatz.sort_values(by='iteracao_otimizador')\n",
    "\n",
    "#         x_data = df_ansatz['iteracao_otimizador']\n",
    "#         y_data = df_ansatz['valor_energia']\n",
    "\n",
    "#         y_real = y_data.apply(lambda x: x.real if isinstance(x, complex) else x)\n",
    "\n",
    "#         fig.add_trace(go.Scatter(\n",
    "#             x=x_data,\n",
    "#             y=y_real,\n",
    "#             mode='lines',\n",
    "#             name=ansatz\n",
    "#         ))\n",
    "\n",
    "#     fig.update_layout(\n",
    "#         xaxis_title='Iteração do otimizador',\n",
    "#         yaxis_title='Energia',\n",
    "#         title='',\n",
    "#         legend_title='Ansatzes',\n",
    "#         width=width_padrao_display,\n",
    "#         height=height_padrao_display, \n",
    "#         font=tamanho_padrao_fonte, \n",
    "#         margin=tamanho_padrao_margem\n",
    "#     )\n",
    "\n",
    "#     if salvar_figuras:\n",
    "#         nome_figura = f\"figuras_vqe/{num_ativos}_{ambiente_backend}_{otimizador}_energia_por_otimizador_vqe.png\"\n",
    "#         fig.write_image(nome_figura, width=width_padrao_salvar, height=height_padrao_salvar)\n",
    "\n",
    "#     if mostrar_figuras:\n",
    "#         fig.show()"
   ]
  },
  {
   "cell_type": "code",
   "execution_count": 11,
   "metadata": {},
   "outputs": [],
   "source": [
    "# df_vqe_real = df_vqe.copy()\n",
    "# df_vqe_real['valor_energia'] = df_vqe['valor_energia'].apply(lambda x: x.real if isinstance(x, complex) else x)\n",
    "# df_vqe_real_iteracao_otimizador = df_vqe_real.loc[df_vqe_real['bool_fim_iteracao_otimizador'] == True]\n",
    "# df_vqe_real_iteracao_otimizador = df_vqe_real_iteracao_otimizador.sort_values(by='iteracao_otimizador')\n",
    "\n",
    "# fig = px.line(df_vqe_real_iteracao_otimizador, x='iteracao_otimizador', y='valor_energia', color='ansatz',\n",
    "#               facet_col='otimizador', facet_col_wrap=df_vqe_real_iteracao_otimizador['otimizador'].nunique(),\n",
    "#               labels={'iteracao_otimizador': '', 'valor_energia': 'Energia'},\n",
    "#               title='')\n",
    "\n",
    "# fig.update_layout(width=width_padrao_display_junto, height=height_padrao_display_junto, legend_title='ansatzs', font=tamanho_padrao_fonte, margin=tamanho_padrao_margem)\n",
    "\n",
    "# fig.add_annotation(\n",
    "#     text='Iteração do otimizador',\n",
    "#     xref='paper',\n",
    "#     yref='paper',\n",
    "#     x=0.5,\n",
    "#     y=-0.178,\n",
    "#     showarrow=False,\n",
    "#     font=tamanho_padrao_fonte\n",
    "# )\n",
    "\n",
    "# if salvar_figuras:\n",
    "#     nome_figura = f\"figuras_vqe/{num_ativos}_{ambiente_backend}_energia_por_otimizador_juntos_vqe.png\"\n",
    "#     fig.write_image(nome_figura, width=width_padrao_salvar_junto, height=height_padrao_salvar_junto)\n",
    "\n",
    "# if mostrar_figuras:\n",
    "#     fig.show()"
   ]
  },
  {
   "cell_type": "code",
   "execution_count": 12,
   "metadata": {},
   "outputs": [],
   "source": [
    "# df_vqe_epoca = df_vqe.loc[df_vqe['nova_epoca'] == True]\n",
    "\n",
    "# for otimizador in df_vqe_epoca['otimizador'].unique():\n",
    "#     df_otimizador = df_vqe_epoca[df_vqe_epoca['otimizador'] == otimizador]\n",
    "\n",
    "#     fig = go.Figure()\n",
    "\n",
    "#     for ansatz in df_otimizador['ansatz'].unique():\n",
    "#         df_ansatz = df_otimizador[df_otimizador['ansatz'] == ansatz]\n",
    "#         df_ansatz = df_ansatz.sort_values(by='epoca')\n",
    "\n",
    "#         x_data = df_ansatz['epoca']\n",
    "#         y_data = df_ansatz['valor_energia']\n",
    "\n",
    "#         # Handling complex numbers by extracting real and imaginary parts\n",
    "#         y_real = y_data.apply(lambda x: x.real if isinstance(x, complex) else x)\n",
    "\n",
    "#         fig.add_trace(go.Scatter(\n",
    "#             x=x_data,\n",
    "#             y=y_real,\n",
    "#             mode='lines',\n",
    "#             name=ansatz\n",
    "#         ))\n",
    "\n",
    "#     fig.update_layout(\n",
    "#         xaxis_title='Epoca',\n",
    "#         yaxis_title='Energia',\n",
    "#         title='',\n",
    "#         legend_title='ansatzs',\n",
    "#         width=width_padrao_display,\n",
    "#         height=height_padrao_display, \n",
    "#         font=tamanho_padrao_fonte, \n",
    "#         margin=tamanho_padrao_margem\n",
    "#     )\n",
    "\n",
    "#     if salvar_figuras:\n",
    "#         nome_figura = f\"figuras_vqe/{num_ativos}_{ambiente_backend}_{otimizador}_energia_por_epoca_vqe.png\"\n",
    "#         fig.write_image(nome_figura, width=width_padrao_salvar, height=height_padrao_salvar)\n",
    "\n",
    "#     if mostrar_figuras:\n",
    "#         fig.show()"
   ]
  },
  {
   "cell_type": "code",
   "execution_count": 13,
   "metadata": {},
   "outputs": [
    {
     "data": {
      "application/vnd.plotly.v1+json": {
       "config": {
        "plotlyServerURL": "https://plot.ly"
       },
       "data": [
        {
         "hovertemplate": "ansatz=EfficientSU2<br>otimizador=COBYLA<br>=%{x}<br>Energia=%{y}<extra></extra>",
         "legendgroup": "EfficientSU2",
         "line": {
          "color": "#636efa",
          "dash": "solid"
         },
         "marker": {
          "symbol": "circle"
         },
         "mode": "lines",
         "name": "EfficientSU2",
         "orientation": "v",
         "showlegend": true,
         "type": "scatter",
         "x": [
          1,
          2,
          3,
          4,
          5,
          6,
          7,
          8,
          9,
          10,
          11,
          12,
          13,
          14,
          15,
          16,
          17,
          18,
          19,
          20,
          21,
          22,
          23,
          24,
          25,
          26,
          27,
          28,
          29,
          30
         ],
         "xaxis": "x",
         "y": [
          0.1212650816022519,
          -1.5828652685175275,
          -1.6233730707285023,
          -1.6096875573769929,
          -1.615965485636278,
          -1.6587254774349116,
          -1.672417802052591,
          -1.7006055183778743,
          -1.7002742412357874,
          -1.7092325650579747,
          -1.7285714276479673,
          -1.756871286870614,
          -1.7466931869813562,
          -1.719997189504888,
          -1.7511838964489648,
          -1.7543852606545633,
          -1.7467715218121125,
          -1.769290412589551,
          -1.7612736055216007,
          -1.7592026168115613,
          -1.7623745615991768,
          -1.732112762033854,
          -1.743573195970565,
          -1.74064268241123,
          -1.7401947328862835,
          -1.7530218349086122,
          -1.7441250453503796,
          -1.7554796894717097,
          -1.7583991197714592,
          -1.7554594733770832
         ],
         "yaxis": "y"
        },
        {
         "hovertemplate": "ansatz=EfficientSU2<br>otimizador=L_BFGS_B<br>=%{x}<br>Energia=%{y}<extra></extra>",
         "legendgroup": "EfficientSU2",
         "line": {
          "color": "#636efa",
          "dash": "solid"
         },
         "marker": {
          "symbol": "circle"
         },
         "mode": "lines",
         "name": "EfficientSU2",
         "orientation": "v",
         "showlegend": false,
         "type": "scatter",
         "x": [
          1,
          2,
          3,
          4,
          5,
          6,
          7,
          8,
          9,
          10,
          11,
          12,
          13,
          14,
          15,
          16,
          17,
          18,
          19,
          20,
          21,
          22,
          23,
          24,
          25,
          26,
          27,
          28,
          29,
          30
         ],
         "xaxis": "x2",
         "y": [
          -0.17661766931348855,
          -0.1778046635922756,
          -0.33246622215384947,
          -0.5453059471485668,
          -0.6166825979738236,
          -0.7964435849188386,
          -0.7263022124881549,
          -0.8015683094826633,
          -0.7521414678582731,
          -1.0293099041611593,
          -1.0625324794431352,
          -1.0892053321644755,
          -1.0853646929777745,
          -1.0227268696420981,
          -1.1031838332449215,
          -1.0210285363592673,
          -1.0761225585296934,
          -1.1245613470677365,
          -1.0748801820956766,
          -1.101289936765876,
          -1.0614472019584953,
          -1.0863068603075274,
          -1.0577700216772459,
          -1.1008490909433504,
          -1.1350196340173904,
          -1.117184414876676,
          -1.1296919328144455,
          -1.1458498364363678,
          -1.0618182989693505,
          -1.1589314659110892
         ],
         "yaxis": "y2"
        },
        {
         "hovertemplate": "ansatz=EfficientSU2<br>otimizador=NFT<br>=%{x}<br>Energia=%{y}<extra></extra>",
         "legendgroup": "EfficientSU2",
         "line": {
          "color": "#636efa",
          "dash": "solid"
         },
         "marker": {
          "symbol": "circle"
         },
         "mode": "lines",
         "name": "EfficientSU2",
         "orientation": "v",
         "showlegend": false,
         "type": "scatter",
         "x": [
          1,
          2,
          3,
          4,
          5,
          6,
          7,
          8,
          9,
          10,
          11,
          12,
          13,
          14,
          15,
          16,
          17,
          18,
          19,
          20,
          21,
          22,
          23,
          24,
          25,
          26,
          27,
          28,
          29,
          30
         ],
         "xaxis": "x3",
         "y": [
          -0.019636915407544857,
          -1.899827395126572,
          -1.9083169971936287,
          -1.9045898825463676,
          -1.9022966418659837,
          -1.910310007695853,
          -1.910137678496682,
          -1.9117504525275648,
          -1.9033412824070508,
          -1.90911364347635,
          -1.905304067727578,
          -1.9121306673663612,
          -1.9120515810826,
          -1.907316716872179,
          -1.9038679482953846,
          -1.9105245570139868,
          -1.9121306673663612,
          -1.9119160501422463,
          -1.8974627169494835,
          -1.9087603666409623,
          -1.905503672169376,
          -1.9067587323229112,
          -1.9061960609381243,
          -1.9061807333204452,
          -1.9103662750410573,
          -1.9084100380621745,
          -1.9102385396549455,
          -1.9101594748703281,
          -1.9084741473296416,
          -1.9083960686559462
         ],
         "yaxis": "y3"
        },
        {
         "hovertemplate": "ansatz=EfficientSU2<br>otimizador=SLSQP<br>=%{x}<br>Energia=%{y}<extra></extra>",
         "legendgroup": "EfficientSU2",
         "line": {
          "color": "#636efa",
          "dash": "solid"
         },
         "marker": {
          "symbol": "circle"
         },
         "mode": "lines",
         "name": "EfficientSU2",
         "orientation": "v",
         "showlegend": false,
         "type": "scatter",
         "x": [
          1,
          2,
          3,
          4,
          5,
          6,
          7,
          8,
          9,
          10,
          11,
          12,
          13,
          14,
          15,
          16,
          17,
          18,
          19,
          20,
          21,
          22,
          23,
          24,
          25,
          26,
          27,
          28,
          29,
          30
         ],
         "xaxis": "x4",
         "y": [
          -0.6095403601612158,
          -0.6908263255022089,
          -0.7433711143054481,
          -0.6676401501992654,
          -0.6681428915372418,
          -0.6413088984953893,
          -0.7023238099894143,
          -0.6814185645652434,
          -0.6668088658594504,
          -0.7668476712923743,
          -0.7782405423411917,
          -0.7730474948608145,
          -0.6648920710520313,
          -0.7362326213431258,
          -0.769323805568495,
          -0.9961773896825312,
          -0.9594457579079226,
          -1.0064522871669255,
          -1.0049755671885647,
          -0.9863234705054241,
          -0.9699892939057866,
          -0.97381101257327,
          -1.01536211513669,
          -0.9447757301075355,
          -0.9799704335276708,
          -0.9614040545017876,
          -0.961097999755231,
          -0.9987917560380638,
          -1.013123492953308,
          -1.0190302459066682
         ],
         "yaxis": "y4"
        },
        {
         "hovertemplate": "ansatz=PauliTwoDesign<br>otimizador=COBYLA<br>=%{x}<br>Energia=%{y}<extra></extra>",
         "legendgroup": "PauliTwoDesign",
         "line": {
          "color": "#EF553B",
          "dash": "solid"
         },
         "marker": {
          "symbol": "circle"
         },
         "mode": "lines",
         "name": "PauliTwoDesign",
         "orientation": "v",
         "showlegend": true,
         "type": "scatter",
         "x": [
          2,
          3,
          4,
          5,
          6,
          7,
          8,
          9,
          10,
          11,
          12,
          13,
          14,
          15,
          16,
          17,
          18,
          19,
          20,
          21,
          22,
          23,
          24,
          25,
          26,
          27,
          28,
          29,
          30
         ],
         "xaxis": "x",
         "y": [
          -0.9749779933809137,
          -1.1581421166039247,
          -1.1954928852868303,
          -1.2694180699265305,
          -1.2995686622567433,
          -1.2879065734771271,
          -1.2692275776861426,
          -1.263005927535311,
          -1.2409090458985406,
          -1.2405918201357164,
          -1.2827797948695572,
          -1.2490711190428485,
          -1.2684886797414123,
          -1.2402284802531247,
          -1.2136142472215874,
          -1.2337927710481056,
          -1.2438437343262607,
          -1.2643312548821006,
          -1.272044673111617,
          -1.2472039592694448,
          -1.2408572783259098,
          -1.2452306603808598,
          -1.2387409358566237,
          -1.2312349651006333,
          -1.2177428763289198,
          -1.2277209648284724,
          -1.2452364807805198,
          -1.2230918621939955,
          -1.2216497981001024
         ],
         "yaxis": "y"
        },
        {
         "hovertemplate": "ansatz=PauliTwoDesign<br>otimizador=L_BFGS_B<br>=%{x}<br>Energia=%{y}<extra></extra>",
         "legendgroup": "PauliTwoDesign",
         "line": {
          "color": "#EF553B",
          "dash": "solid"
         },
         "marker": {
          "symbol": "circle"
         },
         "mode": "lines",
         "name": "PauliTwoDesign",
         "orientation": "v",
         "showlegend": false,
         "type": "scatter",
         "x": [
          1,
          2,
          3,
          4,
          5,
          6,
          7,
          8,
          9,
          10,
          11,
          12,
          13,
          14,
          15,
          16,
          17,
          18,
          19,
          20,
          21,
          22,
          23,
          24,
          25,
          26,
          27,
          28,
          29,
          30
         ],
         "xaxis": "x2",
         "y": [
          0.13813385093267455,
          0.03876434917360765,
          -0.05441511377689283,
          0.12639990329496234,
          0.11097083926642301,
          -0.2907043312306396,
          -0.5169236447893794,
          -0.5247646198208292,
          -0.5325711559996791,
          -0.42310267610062513,
          -0.5823466335906285,
          -0.6066425622175615,
          -0.5456480716011209,
          -0.5713603495545101,
          -0.5968169684186843,
          -0.6190606313649493,
          -0.593135708823484,
          -0.5983490154687089,
          -0.585118886006134,
          -0.5566000330568984,
          -0.5444404794676672,
          -0.8237254003797985,
          -1.1636686033735775,
          -1.1744080648474169,
          -1.0860849568610942,
          -1.1584728910172912,
          -1.1750725329656981,
          -1.1601166572833337,
          -1.20797326335942,
          -1.148434912853057
         ],
         "yaxis": "y2"
        },
        {
         "hovertemplate": "ansatz=PauliTwoDesign<br>otimizador=NFT<br>=%{x}<br>Energia=%{y}<extra></extra>",
         "legendgroup": "PauliTwoDesign",
         "line": {
          "color": "#EF553B",
          "dash": "solid"
         },
         "marker": {
          "symbol": "circle"
         },
         "mode": "lines",
         "name": "PauliTwoDesign",
         "orientation": "v",
         "showlegend": false,
         "type": "scatter",
         "x": [
          1,
          2,
          3,
          4,
          5,
          6,
          7,
          8,
          9,
          10,
          11,
          12,
          13,
          14,
          15,
          16,
          17,
          18,
          19,
          20,
          21,
          22,
          23,
          24,
          25,
          26,
          27,
          28,
          29,
          30
         ],
         "xaxis": "x3",
         "y": [
          0.7474537331342676,
          -1.2621471831243842,
          -1.2255497607866823,
          -1.29809385834405,
          -1.270338718732716,
          -1.2559348638237828,
          -1.284233858964241,
          -1.2911343858304187,
          -1.2316785008248885,
          -1.2711724270549454,
          -1.2576068321684162,
          -1.2592953479716207,
          -1.3115066701833569,
          -1.277468488691325,
          -1.2499403477293678,
          -1.3003630113296671,
          -1.2768066350547944,
          -1.2223902156726414,
          -1.2790350583504888,
          -1.2927723074146322,
          -1.2550093630905255,
          -1.243435812502526,
          -1.2779443993494222,
          -1.264502733029314,
          -1.2719698555271692,
          -1.2457339143586812,
          -1.2725938731757542,
          -1.290127808170892,
          -1.2760924032995926,
          -1.2225729104728478
         ],
         "yaxis": "y3"
        },
        {
         "hovertemplate": "ansatz=PauliTwoDesign<br>otimizador=SLSQP<br>=%{x}<br>Energia=%{y}<extra></extra>",
         "legendgroup": "PauliTwoDesign",
         "line": {
          "color": "#EF553B",
          "dash": "solid"
         },
         "marker": {
          "symbol": "circle"
         },
         "mode": "lines",
         "name": "PauliTwoDesign",
         "orientation": "v",
         "showlegend": false,
         "type": "scatter",
         "x": [
          1,
          2,
          3,
          4,
          5,
          6,
          7,
          8,
          9,
          10,
          11,
          12,
          13,
          14,
          15,
          16,
          17,
          18,
          19,
          20,
          21,
          22,
          23,
          24,
          25,
          26,
          27,
          28,
          29,
          30
         ],
         "xaxis": "x4",
         "y": [
          0.2859604150420596,
          -1.2390746844060483,
          -1.2544578259539139,
          -1.1684900526135846,
          -1.2232993224081061,
          -1.225856024846239,
          -1.2351224310128868,
          -1.2144649195294568,
          -1.2357500269278958,
          -1.2348810103008416,
          -1.1406517305066617,
          -1.2419169651434847,
          -1.2457052998401055,
          -1.2969060023350694,
          -1.2172400988596237,
          -1.2491134592499988,
          -1.1961893106301675,
          -1.243042863143147,
          -1.223597917601328,
          -1.245615520275397,
          -1.2365778796624969,
          -1.251727967561702,
          -1.2690451477574833,
          -1.2371953843858603,
          -1.271543136211998,
          -1.287328063683598,
          -1.24842982142173,
          -1.2957217236175411,
          -1.1956137405204472,
          -1.2319887221997579
         ],
         "yaxis": "y4"
        },
        {
         "hovertemplate": "ansatz=RealAmplitudes<br>otimizador=COBYLA<br>=%{x}<br>Energia=%{y}<extra></extra>",
         "legendgroup": "RealAmplitudes",
         "line": {
          "color": "#00cc96",
          "dash": "solid"
         },
         "marker": {
          "symbol": "circle"
         },
         "mode": "lines",
         "name": "RealAmplitudes",
         "orientation": "v",
         "showlegend": true,
         "type": "scatter",
         "x": [
          1,
          2,
          3,
          4,
          5,
          6,
          7,
          8,
          9,
          10,
          11,
          12,
          13,
          14,
          15,
          16,
          17,
          18,
          19,
          20,
          21,
          22,
          23,
          24,
          25,
          26,
          27,
          28,
          29,
          30
         ],
         "xaxis": "x",
         "y": [
          -1.2356537317060188,
          -1.7960726990483233,
          -1.803702147611744,
          -1.8063397172293962,
          -1.840072512662374,
          -1.8413191040603956,
          -1.825778789022368,
          -1.866948709401674,
          -1.8696048959281606,
          -1.8618760222675719,
          -1.8695574991167565,
          -1.8523760758746695,
          -1.8333276580651794,
          -1.850144541496346,
          -1.8367795955347919,
          -1.8348551741592016,
          -1.8374300844219886,
          -1.851402646019096,
          -1.8266676943096645,
          -1.8646254123212367,
          -1.870464810272234,
          -1.8621331616713734,
          -1.8733105650262585,
          -1.8820146116261012,
          -1.8724495084923296,
          -1.8613947397418877,
          -1.8696083709626383,
          -1.8724430918732498,
          -1.867723163411576,
          -1.862250966239926
         ],
         "yaxis": "y"
        },
        {
         "hovertemplate": "ansatz=RealAmplitudes<br>otimizador=L_BFGS_B<br>=%{x}<br>Energia=%{y}<extra></extra>",
         "legendgroup": "RealAmplitudes",
         "line": {
          "color": "#00cc96",
          "dash": "solid"
         },
         "marker": {
          "symbol": "circle"
         },
         "mode": "lines",
         "name": "RealAmplitudes",
         "orientation": "v",
         "showlegend": false,
         "type": "scatter",
         "x": [
          1,
          2,
          3,
          4,
          5,
          6,
          7,
          8,
          9,
          10,
          11,
          12,
          13,
          14,
          15,
          16,
          17,
          18,
          19,
          20,
          21,
          22,
          23,
          24,
          25,
          26,
          27,
          28,
          29,
          30
         ],
         "xaxis": "x2",
         "y": [
          1.068287380553482,
          -0.28028692639315544,
          -0.42178290695525156,
          -0.7116503722580909,
          -0.9685674711877967,
          -1.0078994456153922,
          -0.9852306443637644,
          -0.9529132154949271,
          -0.8833224507638245,
          -1.1485450771114256,
          -1.143006875609578,
          -1.3417419199095832,
          -1.4106504561936888,
          -1.3931598929663136,
          -1.428687261065192,
          -1.3637956659077515,
          -1.4017237701831402,
          -1.3593280986057008,
          -1.418836320483238,
          -1.3954091799440362,
          -1.4262610854841475,
          -1.393408087865529,
          -1.4119629839693806,
          -1.4081684350474024,
          -1.4084123238911461,
          -1.435965755449278,
          -1.4161718736548201,
          -1.4271131681540155,
          -1.4526068900172417,
          -1.4805983588635363
         ],
         "yaxis": "y2"
        },
        {
         "hovertemplate": "ansatz=RealAmplitudes<br>otimizador=NFT<br>=%{x}<br>Energia=%{y}<extra></extra>",
         "legendgroup": "RealAmplitudes",
         "line": {
          "color": "#00cc96",
          "dash": "solid"
         },
         "marker": {
          "symbol": "circle"
         },
         "mode": "lines",
         "name": "RealAmplitudes",
         "orientation": "v",
         "showlegend": false,
         "type": "scatter",
         "x": [
          1,
          2,
          3,
          4,
          5,
          6,
          7,
          8,
          9,
          10,
          11,
          12,
          13,
          14,
          15,
          16,
          17,
          18,
          19,
          20,
          21,
          22,
          23,
          24,
          25,
          26,
          27,
          28,
          29,
          30
         ],
         "xaxis": "x3",
         "y": [
          0.8747669165948987,
          -1.8593113671922448,
          -1.8628515916808277,
          -1.8754360346432475,
          -1.87610179274304,
          -1.8643774401354412,
          -1.8660973053936638,
          -1.8702081768930539,
          -1.8761680266942722,
          -1.8522882742922615,
          -1.8727441415554296,
          -1.8734411458737905,
          -1.8758301948817746,
          -1.8709385548283997,
          -1.8745771607095973,
          -1.8697474759388861,
          -1.8783302207700603,
          -1.877765980335721,
          -1.8832110762075471,
          -1.9097422470778767,
          -1.911972494798839,
          -1.9025675668718671,
          -1.9117731720135633,
          -1.9103586667510526,
          -1.90744701175167,
          -1.9101291255951816,
          -1.9096631607941155,
          -1.8951782793945917,
          -1.9113927491576297,
          -1.8964285151241633
         ],
         "yaxis": "y3"
        },
        {
         "hovertemplate": "ansatz=RealAmplitudes<br>otimizador=SLSQP<br>=%{x}<br>Energia=%{y}<extra></extra>",
         "legendgroup": "RealAmplitudes",
         "line": {
          "color": "#00cc96",
          "dash": "solid"
         },
         "marker": {
          "symbol": "circle"
         },
         "mode": "lines",
         "name": "RealAmplitudes",
         "orientation": "v",
         "showlegend": false,
         "type": "scatter",
         "x": [
          1,
          2,
          3,
          4,
          5,
          6,
          7,
          8,
          9,
          10,
          11,
          12,
          13,
          14,
          15,
          16,
          17,
          18,
          19,
          20,
          21,
          22,
          23,
          24,
          25,
          26,
          27,
          28,
          29,
          30
         ],
         "xaxis": "x4",
         "y": [
          -0.496144090982076,
          -0.48694093151464596,
          -0.4069367604261922,
          -0.817734458462524,
          -1.0395216834851426,
          -1.0522817120839112,
          -1.0921437288186968,
          -1.4172710097134955,
          -1.3939551057913258,
          -1.4232488242169963,
          -1.4148652178033079,
          -1.4410396575855249,
          -1.3768594585961311,
          -1.4527813463496426,
          -1.4150440139653926,
          -1.3347392749243165,
          -1.3679858993070455,
          -1.3979385775442543,
          -1.392442913556825,
          -1.3806723428154706,
          -1.3593785304096673,
          -1.3292299948083373,
          -1.3421896174390826,
          -1.3603452838674723,
          -1.4259450048712503,
          -1.3436207080607634,
          -1.4138462080050604,
          -1.3924372345027651,
          -1.4029241523722868,
          -1.3508771503106893
         ],
         "yaxis": "y4"
        },
        {
         "hovertemplate": "ansatz=TwoLocal<br>otimizador=COBYLA<br>=%{x}<br>Energia=%{y}<extra></extra>",
         "legendgroup": "TwoLocal",
         "line": {
          "color": "#ab63fa",
          "dash": "solid"
         },
         "marker": {
          "symbol": "circle"
         },
         "mode": "lines",
         "name": "TwoLocal",
         "orientation": "v",
         "showlegend": true,
         "type": "scatter",
         "x": [
          1,
          2,
          3,
          4,
          5,
          6,
          7,
          8,
          9,
          10,
          11,
          12,
          13,
          14,
          15,
          16,
          17,
          18,
          19,
          20,
          21,
          22,
          23,
          24,
          25,
          26,
          27,
          28,
          29,
          30
         ],
         "xaxis": "x",
         "y": [
          0.7165644332362794,
          -1.782948888998257,
          -1.8357204224221215,
          -1.8388915520196962,
          -1.8356870321518237,
          -1.8364206016848375,
          -1.830832337361465,
          -1.8336967245081217,
          -1.8388230774096548,
          -1.833149614651075,
          -1.8372550547807394,
          -1.8222921224004165,
          -1.8317285749915393,
          -1.827544125398061,
          -1.797791227166892,
          -1.790341287750242,
          -1.8122658628560007,
          -1.786940726214079,
          -1.8240687649157352,
          -1.827360310562479,
          -1.8385081230291536,
          -1.8348231496179792,
          -1.8361481900110177,
          -1.815809638441207,
          -1.8357038947004383,
          -1.8183696921699923,
          -1.8255670057310238,
          -1.8226550615166863,
          -1.813562400160392,
          -1.8049672661372034
         ],
         "yaxis": "y"
        },
        {
         "hovertemplate": "ansatz=TwoLocal<br>otimizador=L_BFGS_B<br>=%{x}<br>Energia=%{y}<extra></extra>",
         "legendgroup": "TwoLocal",
         "line": {
          "color": "#ab63fa",
          "dash": "solid"
         },
         "marker": {
          "symbol": "circle"
         },
         "mode": "lines",
         "name": "TwoLocal",
         "orientation": "v",
         "showlegend": false,
         "type": "scatter",
         "x": [
          1,
          2,
          3,
          4,
          5,
          6,
          7,
          8,
          9,
          10,
          11,
          12,
          13,
          14,
          15,
          16,
          17,
          18,
          19,
          20,
          21,
          22,
          23,
          24,
          25,
          26,
          27,
          28,
          29,
          30
         ],
         "xaxis": "x2",
         "y": [
          2.180010908866705,
          0.6659919981186803,
          0.6448294665198391,
          0.0013135366234521373,
          -0.7683750625136396,
          -0.7789139607865184,
          -0.6795470667515696,
          -0.9801632762912167,
          -0.8590372161745898,
          -1.0558396952451412,
          -1.2739270174478974,
          -1.2514540640869696,
          -1.6483469199381977,
          -1.6258675229980954,
          -1.6325073675653816,
          -1.6657236202356072,
          -1.6386864233174514,
          -1.6163644840267202,
          -1.6268531293168764,
          -1.6309262759277219,
          -1.6525118034613666,
          -1.6670233796454914,
          -1.6405829965758905,
          -1.6218438411349105,
          -1.6296399004723894,
          -1.6101636328152384,
          -1.64929473226842,
          -1.662203856010438,
          -1.6624420683368606,
          -1.6751212078399076
         ],
         "yaxis": "y2"
        },
        {
         "hovertemplate": "ansatz=TwoLocal<br>otimizador=NFT<br>=%{x}<br>Energia=%{y}<extra></extra>",
         "legendgroup": "TwoLocal",
         "line": {
          "color": "#ab63fa",
          "dash": "solid"
         },
         "marker": {
          "symbol": "circle"
         },
         "mode": "lines",
         "name": "TwoLocal",
         "orientation": "v",
         "showlegend": false,
         "type": "scatter",
         "x": [
          1,
          2,
          3,
          4,
          5,
          6,
          7,
          8,
          9,
          10,
          11,
          12,
          13,
          14,
          15,
          16,
          17,
          18,
          19,
          20,
          21,
          22,
          23,
          24,
          25,
          26,
          27,
          28,
          29,
          30
         ],
         "xaxis": "x3",
         "y": [
          -0.36178759778839237,
          -1.8296115710310077,
          -1.82461783832757,
          -1.8309469900097572,
          -1.825543266449587,
          -1.831316698558849,
          -1.831199570825065,
          -1.831199570825065,
          -1.8312071791150697,
          -1.8311843542450559,
          -1.829165363831651,
          -1.8297409119610855,
          -1.8291349306716327,
          -1.8246664914513127,
          -1.8296191793210124,
          -1.8316999167813603,
          -1.9090463022996798,
          -1.9102004941835307,
          -1.911735235947556,
          -1.911972494798839,
          -1.9121306673663612,
          -1.9073123363092386,
          -1.9105245570139868,
          -1.9121306673663612,
          -1.9121306673663612,
          -1.9121306673663612,
          -1.9105168393185747,
          -1.9121306673663612,
          -1.9121306673663612,
          -1.9121306673663612
         ],
         "yaxis": "y3"
        },
        {
         "hovertemplate": "ansatz=TwoLocal<br>otimizador=SLSQP<br>=%{x}<br>Energia=%{y}<extra></extra>",
         "legendgroup": "TwoLocal",
         "line": {
          "color": "#ab63fa",
          "dash": "solid"
         },
         "marker": {
          "symbol": "circle"
         },
         "mode": "lines",
         "name": "TwoLocal",
         "orientation": "v",
         "showlegend": false,
         "type": "scatter",
         "x": [
          1,
          2,
          3,
          4,
          5,
          6,
          7,
          8,
          9,
          10,
          11,
          12,
          13,
          14,
          15,
          16,
          17,
          18,
          19,
          20,
          21,
          22,
          23,
          24,
          25,
          26,
          27,
          28,
          29,
          30
         ],
         "xaxis": "x4",
         "y": [
          -0.08978716557702071,
          -1.4360636155493813,
          -1.4891891355053846,
          -1.6751648999020008,
          -1.6544051506204684,
          -1.682941561220191,
          -1.6863154228324664,
          -1.6751172870508377,
          -1.638477484784059,
          -1.663906483085632,
          -1.6795769098799307,
          -1.6382749148843536,
          -1.7224877992039234,
          -1.7227900196624262,
          -1.741694934875159,
          -1.724567441036202,
          -1.7260179738336467,
          -1.7300089406909807,
          -1.727910816474942,
          -1.7125346023321448,
          -1.7229474513235299,
          -1.7493119287176486,
          -1.7413951296869448,
          -1.7186007629451805,
          -1.724988142023477,
          -1.737922114919937,
          -1.7333136944678744,
          -1.7214992529780204,
          -1.7131743456293307,
          -1.7398031439403723
         ],
         "yaxis": "y4"
        }
       ],
       "layout": {
        "annotations": [
         {
          "showarrow": false,
          "text": "otimizador=COBYLA",
          "x": 0.1175,
          "xanchor": "center",
          "xref": "paper",
          "y": 1,
          "yanchor": "bottom",
          "yref": "paper"
         },
         {
          "showarrow": false,
          "text": "otimizador=L_BFGS_B",
          "x": 0.3725,
          "xanchor": "center",
          "xref": "paper",
          "y": 1,
          "yanchor": "bottom",
          "yref": "paper"
         },
         {
          "showarrow": false,
          "text": "otimizador=NFT",
          "x": 0.6275,
          "xanchor": "center",
          "xref": "paper",
          "y": 1,
          "yanchor": "bottom",
          "yref": "paper"
         },
         {
          "showarrow": false,
          "text": "otimizador=SLSQP",
          "x": 0.8824999999999998,
          "xanchor": "center",
          "xref": "paper",
          "y": 1,
          "yanchor": "bottom",
          "yref": "paper"
         },
         {
          "font": {
           "size": 35
          },
          "showarrow": false,
          "text": "Rodada de epocas (até 500 epocas por rodada)",
          "x": 0.5,
          "xref": "paper",
          "y": -0.17,
          "yref": "paper"
         }
        ],
        "font": {
         "size": 35
        },
        "height": 700,
        "legend": {
         "title": {
          "text": "ansatzs"
         },
         "tracegroupgap": 0
        },
        "margin": {
         "b": 90,
         "l": 90,
         "r": 90,
         "t": 90
        },
        "template": {
         "data": {
          "bar": [
           {
            "error_x": {
             "color": "#2a3f5f"
            },
            "error_y": {
             "color": "#2a3f5f"
            },
            "marker": {
             "line": {
              "color": "#E5ECF6",
              "width": 0.5
             },
             "pattern": {
              "fillmode": "overlay",
              "size": 10,
              "solidity": 0.2
             }
            },
            "type": "bar"
           }
          ],
          "barpolar": [
           {
            "marker": {
             "line": {
              "color": "#E5ECF6",
              "width": 0.5
             },
             "pattern": {
              "fillmode": "overlay",
              "size": 10,
              "solidity": 0.2
             }
            },
            "type": "barpolar"
           }
          ],
          "carpet": [
           {
            "aaxis": {
             "endlinecolor": "#2a3f5f",
             "gridcolor": "white",
             "linecolor": "white",
             "minorgridcolor": "white",
             "startlinecolor": "#2a3f5f"
            },
            "baxis": {
             "endlinecolor": "#2a3f5f",
             "gridcolor": "white",
             "linecolor": "white",
             "minorgridcolor": "white",
             "startlinecolor": "#2a3f5f"
            },
            "type": "carpet"
           }
          ],
          "choropleth": [
           {
            "colorbar": {
             "outlinewidth": 0,
             "ticks": ""
            },
            "type": "choropleth"
           }
          ],
          "contour": [
           {
            "colorbar": {
             "outlinewidth": 0,
             "ticks": ""
            },
            "colorscale": [
             [
              0,
              "#0d0887"
             ],
             [
              0.1111111111111111,
              "#46039f"
             ],
             [
              0.2222222222222222,
              "#7201a8"
             ],
             [
              0.3333333333333333,
              "#9c179e"
             ],
             [
              0.4444444444444444,
              "#bd3786"
             ],
             [
              0.5555555555555556,
              "#d8576b"
             ],
             [
              0.6666666666666666,
              "#ed7953"
             ],
             [
              0.7777777777777778,
              "#fb9f3a"
             ],
             [
              0.8888888888888888,
              "#fdca26"
             ],
             [
              1,
              "#f0f921"
             ]
            ],
            "type": "contour"
           }
          ],
          "contourcarpet": [
           {
            "colorbar": {
             "outlinewidth": 0,
             "ticks": ""
            },
            "type": "contourcarpet"
           }
          ],
          "heatmap": [
           {
            "colorbar": {
             "outlinewidth": 0,
             "ticks": ""
            },
            "colorscale": [
             [
              0,
              "#0d0887"
             ],
             [
              0.1111111111111111,
              "#46039f"
             ],
             [
              0.2222222222222222,
              "#7201a8"
             ],
             [
              0.3333333333333333,
              "#9c179e"
             ],
             [
              0.4444444444444444,
              "#bd3786"
             ],
             [
              0.5555555555555556,
              "#d8576b"
             ],
             [
              0.6666666666666666,
              "#ed7953"
             ],
             [
              0.7777777777777778,
              "#fb9f3a"
             ],
             [
              0.8888888888888888,
              "#fdca26"
             ],
             [
              1,
              "#f0f921"
             ]
            ],
            "type": "heatmap"
           }
          ],
          "heatmapgl": [
           {
            "colorbar": {
             "outlinewidth": 0,
             "ticks": ""
            },
            "colorscale": [
             [
              0,
              "#0d0887"
             ],
             [
              0.1111111111111111,
              "#46039f"
             ],
             [
              0.2222222222222222,
              "#7201a8"
             ],
             [
              0.3333333333333333,
              "#9c179e"
             ],
             [
              0.4444444444444444,
              "#bd3786"
             ],
             [
              0.5555555555555556,
              "#d8576b"
             ],
             [
              0.6666666666666666,
              "#ed7953"
             ],
             [
              0.7777777777777778,
              "#fb9f3a"
             ],
             [
              0.8888888888888888,
              "#fdca26"
             ],
             [
              1,
              "#f0f921"
             ]
            ],
            "type": "heatmapgl"
           }
          ],
          "histogram": [
           {
            "marker": {
             "pattern": {
              "fillmode": "overlay",
              "size": 10,
              "solidity": 0.2
             }
            },
            "type": "histogram"
           }
          ],
          "histogram2d": [
           {
            "colorbar": {
             "outlinewidth": 0,
             "ticks": ""
            },
            "colorscale": [
             [
              0,
              "#0d0887"
             ],
             [
              0.1111111111111111,
              "#46039f"
             ],
             [
              0.2222222222222222,
              "#7201a8"
             ],
             [
              0.3333333333333333,
              "#9c179e"
             ],
             [
              0.4444444444444444,
              "#bd3786"
             ],
             [
              0.5555555555555556,
              "#d8576b"
             ],
             [
              0.6666666666666666,
              "#ed7953"
             ],
             [
              0.7777777777777778,
              "#fb9f3a"
             ],
             [
              0.8888888888888888,
              "#fdca26"
             ],
             [
              1,
              "#f0f921"
             ]
            ],
            "type": "histogram2d"
           }
          ],
          "histogram2dcontour": [
           {
            "colorbar": {
             "outlinewidth": 0,
             "ticks": ""
            },
            "colorscale": [
             [
              0,
              "#0d0887"
             ],
             [
              0.1111111111111111,
              "#46039f"
             ],
             [
              0.2222222222222222,
              "#7201a8"
             ],
             [
              0.3333333333333333,
              "#9c179e"
             ],
             [
              0.4444444444444444,
              "#bd3786"
             ],
             [
              0.5555555555555556,
              "#d8576b"
             ],
             [
              0.6666666666666666,
              "#ed7953"
             ],
             [
              0.7777777777777778,
              "#fb9f3a"
             ],
             [
              0.8888888888888888,
              "#fdca26"
             ],
             [
              1,
              "#f0f921"
             ]
            ],
            "type": "histogram2dcontour"
           }
          ],
          "mesh3d": [
           {
            "colorbar": {
             "outlinewidth": 0,
             "ticks": ""
            },
            "type": "mesh3d"
           }
          ],
          "parcoords": [
           {
            "line": {
             "colorbar": {
              "outlinewidth": 0,
              "ticks": ""
             }
            },
            "type": "parcoords"
           }
          ],
          "pie": [
           {
            "automargin": true,
            "type": "pie"
           }
          ],
          "scatter": [
           {
            "fillpattern": {
             "fillmode": "overlay",
             "size": 10,
             "solidity": 0.2
            },
            "type": "scatter"
           }
          ],
          "scatter3d": [
           {
            "line": {
             "colorbar": {
              "outlinewidth": 0,
              "ticks": ""
             }
            },
            "marker": {
             "colorbar": {
              "outlinewidth": 0,
              "ticks": ""
             }
            },
            "type": "scatter3d"
           }
          ],
          "scattercarpet": [
           {
            "marker": {
             "colorbar": {
              "outlinewidth": 0,
              "ticks": ""
             }
            },
            "type": "scattercarpet"
           }
          ],
          "scattergeo": [
           {
            "marker": {
             "colorbar": {
              "outlinewidth": 0,
              "ticks": ""
             }
            },
            "type": "scattergeo"
           }
          ],
          "scattergl": [
           {
            "marker": {
             "colorbar": {
              "outlinewidth": 0,
              "ticks": ""
             }
            },
            "type": "scattergl"
           }
          ],
          "scattermapbox": [
           {
            "marker": {
             "colorbar": {
              "outlinewidth": 0,
              "ticks": ""
             }
            },
            "type": "scattermapbox"
           }
          ],
          "scatterpolar": [
           {
            "marker": {
             "colorbar": {
              "outlinewidth": 0,
              "ticks": ""
             }
            },
            "type": "scatterpolar"
           }
          ],
          "scatterpolargl": [
           {
            "marker": {
             "colorbar": {
              "outlinewidth": 0,
              "ticks": ""
             }
            },
            "type": "scatterpolargl"
           }
          ],
          "scatterternary": [
           {
            "marker": {
             "colorbar": {
              "outlinewidth": 0,
              "ticks": ""
             }
            },
            "type": "scatterternary"
           }
          ],
          "surface": [
           {
            "colorbar": {
             "outlinewidth": 0,
             "ticks": ""
            },
            "colorscale": [
             [
              0,
              "#0d0887"
             ],
             [
              0.1111111111111111,
              "#46039f"
             ],
             [
              0.2222222222222222,
              "#7201a8"
             ],
             [
              0.3333333333333333,
              "#9c179e"
             ],
             [
              0.4444444444444444,
              "#bd3786"
             ],
             [
              0.5555555555555556,
              "#d8576b"
             ],
             [
              0.6666666666666666,
              "#ed7953"
             ],
             [
              0.7777777777777778,
              "#fb9f3a"
             ],
             [
              0.8888888888888888,
              "#fdca26"
             ],
             [
              1,
              "#f0f921"
             ]
            ],
            "type": "surface"
           }
          ],
          "table": [
           {
            "cells": {
             "fill": {
              "color": "#EBF0F8"
             },
             "line": {
              "color": "white"
             }
            },
            "header": {
             "fill": {
              "color": "#C8D4E3"
             },
             "line": {
              "color": "white"
             }
            },
            "type": "table"
           }
          ]
         },
         "layout": {
          "annotationdefaults": {
           "arrowcolor": "#2a3f5f",
           "arrowhead": 0,
           "arrowwidth": 1
          },
          "autotypenumbers": "strict",
          "coloraxis": {
           "colorbar": {
            "outlinewidth": 0,
            "ticks": ""
           }
          },
          "colorscale": {
           "diverging": [
            [
             0,
             "#8e0152"
            ],
            [
             0.1,
             "#c51b7d"
            ],
            [
             0.2,
             "#de77ae"
            ],
            [
             0.3,
             "#f1b6da"
            ],
            [
             0.4,
             "#fde0ef"
            ],
            [
             0.5,
             "#f7f7f7"
            ],
            [
             0.6,
             "#e6f5d0"
            ],
            [
             0.7,
             "#b8e186"
            ],
            [
             0.8,
             "#7fbc41"
            ],
            [
             0.9,
             "#4d9221"
            ],
            [
             1,
             "#276419"
            ]
           ],
           "sequential": [
            [
             0,
             "#0d0887"
            ],
            [
             0.1111111111111111,
             "#46039f"
            ],
            [
             0.2222222222222222,
             "#7201a8"
            ],
            [
             0.3333333333333333,
             "#9c179e"
            ],
            [
             0.4444444444444444,
             "#bd3786"
            ],
            [
             0.5555555555555556,
             "#d8576b"
            ],
            [
             0.6666666666666666,
             "#ed7953"
            ],
            [
             0.7777777777777778,
             "#fb9f3a"
            ],
            [
             0.8888888888888888,
             "#fdca26"
            ],
            [
             1,
             "#f0f921"
            ]
           ],
           "sequentialminus": [
            [
             0,
             "#0d0887"
            ],
            [
             0.1111111111111111,
             "#46039f"
            ],
            [
             0.2222222222222222,
             "#7201a8"
            ],
            [
             0.3333333333333333,
             "#9c179e"
            ],
            [
             0.4444444444444444,
             "#bd3786"
            ],
            [
             0.5555555555555556,
             "#d8576b"
            ],
            [
             0.6666666666666666,
             "#ed7953"
            ],
            [
             0.7777777777777778,
             "#fb9f3a"
            ],
            [
             0.8888888888888888,
             "#fdca26"
            ],
            [
             1,
             "#f0f921"
            ]
           ]
          },
          "colorway": [
           "#636efa",
           "#EF553B",
           "#00cc96",
           "#ab63fa",
           "#FFA15A",
           "#19d3f3",
           "#FF6692",
           "#B6E880",
           "#FF97FF",
           "#FECB52"
          ],
          "font": {
           "color": "#2a3f5f"
          },
          "geo": {
           "bgcolor": "white",
           "lakecolor": "white",
           "landcolor": "#E5ECF6",
           "showlakes": true,
           "showland": true,
           "subunitcolor": "white"
          },
          "hoverlabel": {
           "align": "left"
          },
          "hovermode": "closest",
          "mapbox": {
           "style": "light"
          },
          "paper_bgcolor": "white",
          "plot_bgcolor": "#E5ECF6",
          "polar": {
           "angularaxis": {
            "gridcolor": "white",
            "linecolor": "white",
            "ticks": ""
           },
           "bgcolor": "#E5ECF6",
           "radialaxis": {
            "gridcolor": "white",
            "linecolor": "white",
            "ticks": ""
           }
          },
          "scene": {
           "xaxis": {
            "backgroundcolor": "#E5ECF6",
            "gridcolor": "white",
            "gridwidth": 2,
            "linecolor": "white",
            "showbackground": true,
            "ticks": "",
            "zerolinecolor": "white"
           },
           "yaxis": {
            "backgroundcolor": "#E5ECF6",
            "gridcolor": "white",
            "gridwidth": 2,
            "linecolor": "white",
            "showbackground": true,
            "ticks": "",
            "zerolinecolor": "white"
           },
           "zaxis": {
            "backgroundcolor": "#E5ECF6",
            "gridcolor": "white",
            "gridwidth": 2,
            "linecolor": "white",
            "showbackground": true,
            "ticks": "",
            "zerolinecolor": "white"
           }
          },
          "shapedefaults": {
           "line": {
            "color": "#2a3f5f"
           }
          },
          "ternary": {
           "aaxis": {
            "gridcolor": "white",
            "linecolor": "white",
            "ticks": ""
           },
           "baxis": {
            "gridcolor": "white",
            "linecolor": "white",
            "ticks": ""
           },
           "bgcolor": "#E5ECF6",
           "caxis": {
            "gridcolor": "white",
            "linecolor": "white",
            "ticks": ""
           }
          },
          "title": {
           "x": 0.05
          },
          "xaxis": {
           "automargin": true,
           "gridcolor": "white",
           "linecolor": "white",
           "ticks": "",
           "title": {
            "standoff": 15
           },
           "zerolinecolor": "white",
           "zerolinewidth": 2
          },
          "yaxis": {
           "automargin": true,
           "gridcolor": "white",
           "linecolor": "white",
           "ticks": "",
           "title": {
            "standoff": 15
           },
           "zerolinecolor": "white",
           "zerolinewidth": 2
          }
         }
        },
        "width": 3200,
        "xaxis": {
         "anchor": "y",
         "domain": [
          0,
          0.235
         ],
         "showticklabels": true,
         "title": {
          "text": ""
         }
        },
        "xaxis2": {
         "anchor": "y2",
         "domain": [
          0.255,
          0.49
         ],
         "matches": "x",
         "showticklabels": true,
         "title": {
          "text": ""
         }
        },
        "xaxis3": {
         "anchor": "y3",
         "domain": [
          0.51,
          0.745
         ],
         "matches": "x",
         "showticklabels": true,
         "title": {
          "text": ""
         }
        },
        "xaxis4": {
         "anchor": "y4",
         "domain": [
          0.7649999999999999,
          0.9999999999999999
         ],
         "matches": "x",
         "showticklabels": true,
         "title": {
          "text": ""
         }
        },
        "yaxis": {
         "anchor": "x",
         "domain": [
          0,
          1
         ],
         "title": {
          "text": "Energia"
         }
        },
        "yaxis2": {
         "anchor": "x2",
         "domain": [
          0,
          1
         ],
         "matches": "y",
         "showticklabels": false
        },
        "yaxis3": {
         "anchor": "x3",
         "domain": [
          0,
          1
         ],
         "matches": "y",
         "showticklabels": false
        },
        "yaxis4": {
         "anchor": "x4",
         "domain": [
          0,
          1
         ],
         "matches": "y",
         "showticklabels": false
        }
       }
      }
     },
     "metadata": {},
     "output_type": "display_data"
    }
   ],
   "source": [
    "df_vqe_real = df_vqe.copy()\n",
    "df_vqe_real['valor_energia'] = df_vqe['valor_energia'].apply(lambda x: x.real if isinstance(x, complex) else x)\n",
    "df_vqe_real_epoca = df_vqe_real.loc[df_vqe_real['nova_epoca'] == True]\n",
    "df_vqe_real_epoca = df_vqe_real_epoca.sort_values(by='epoca')\n",
    "df_vqe_real_epoca = df_vqe_real_epoca.sort_values(by=['ansatz', 'otimizador'])\n",
    "\n",
    "\n",
    "fig = px.line(df_vqe_real_epoca, x='epoca', y='valor_energia', color='ansatz',\n",
    "              facet_col='otimizador', facet_col_wrap=df_vqe_real_epoca['otimizador'].nunique(),\n",
    "              labels={'epoca': '', 'valor_energia': 'Energia'},\n",
    "              title='')\n",
    "\n",
    "fig.update_layout(width=width_padrao_display_junto, height=height_padrao_display_junto, legend_title='ansatzs', font=tamanho_padrao_fonte, margin=tamanho_padrao_margem)\n",
    "fig.update_xaxes(showticklabels=True, title_text='')\n",
    "\n",
    "fig.add_annotation(\n",
    "    text='Rodada de epocas (até 500 epocas por rodada)',\n",
    "    xref='paper',\n",
    "    yref='paper',\n",
    "    x=0.5,\n",
    "    y=-0.17,\n",
    "    showarrow=False,\n",
    "    font=tamanho_padrao_fonte\n",
    ")\n",
    "\n",
    "if salvar_figuras:\n",
    "    nome_figura = f\"figuras_vqe/{num_ativos}_{ambiente_backend}_energia_por_epoca_junto_vqe.png\"\n",
    "    fig.write_image(nome_figura, width=width_padrao_salvar_junto, height=height_padrao_salvar_junto)\n",
    "\n",
    "if mostrar_figuras:\n",
    "    fig.show()"
   ]
  },
  {
   "cell_type": "code",
   "execution_count": 14,
   "metadata": {},
   "outputs": [],
   "source": [
    "# df_agg = df_vqe.groupby(['ansatz', 'otimizador'], as_index=False)['valor_otimo_encontrado'].mean() # pode ser média, max, min, pois todos os valores sao iguais\n",
    "\n",
    "# fig = px.bar(df_agg, x='ansatz', y='valor_otimo_encontrado', color='ansatz', facet_col='otimizador',\n",
    "#              title='',\n",
    "#              width=width_padrao_display_junto, height=height_padrao_display_junto, \n",
    "#              )\n",
    "\n",
    "# fig.update_layout(xaxis_title='', yaxis_title='Energia', font=tamanho_padrao_fonte, margin=tamanho_padrao_margem)\n",
    "# fig.update_xaxes(showticklabels=False, title_text='')\n",
    "\n",
    "# fig.add_annotation(\n",
    "#     text='Ansatz',\n",
    "#     xref='paper',\n",
    "#     yref='paper',\n",
    "#     x=0.5,\n",
    "#     y=-0.13,\n",
    "#     showarrow=False,\n",
    "#     font=tamanho_padrao_fonte\n",
    "# )\n",
    "\n",
    "# if salvar_figuras:\n",
    "#     nome_figura = f\"figuras_vqe/{num_ativos}_{ambiente_backend}_valor_otimo_vqe.png\"\n",
    "#     fig.write_image(nome_figura, width=width_padrao_salvar_junto, height=height_padrao_salvar_junto)\n",
    "\n",
    "# if mostrar_figuras:\n",
    "#     fig.show()"
   ]
  },
  {
   "cell_type": "code",
   "execution_count": 15,
   "metadata": {},
   "outputs": [
    {
     "data": {
      "application/vnd.plotly.v1+json": {
       "config": {
        "plotlyServerURL": "https://plot.ly"
       },
       "data": [
        {
         "alignmentgroup": "True",
         "hovertemplate": "ansatz=%{x}<br>otimizador=COBYLA<br>probabilidade_valor_otimo=%{y}<extra></extra>",
         "legendgroup": "EfficientSU2",
         "marker": {
          "color": "#636efa",
          "pattern": {
           "shape": ""
          }
         },
         "name": "EfficientSU2",
         "offsetgroup": "EfficientSU2",
         "orientation": "v",
         "showlegend": true,
         "textposition": "auto",
         "type": "bar",
         "x": [
          "EfficientSU2"
         ],
         "xaxis": "x",
         "y": [
          0.05557398049228163
         ],
         "yaxis": "y"
        },
        {
         "alignmentgroup": "True",
         "hovertemplate": "ansatz=%{x}<br>otimizador=L_BFGS_B<br>probabilidade_valor_otimo=%{y}<extra></extra>",
         "legendgroup": "EfficientSU2",
         "marker": {
          "color": "#636efa",
          "pattern": {
           "shape": ""
          }
         },
         "name": "EfficientSU2",
         "offsetgroup": "EfficientSU2",
         "orientation": "v",
         "showlegend": false,
         "textposition": "auto",
         "type": "bar",
         "x": [
          "EfficientSU2"
         ],
         "xaxis": "x2",
         "y": [
          0.10055527797965116
         ],
         "yaxis": "y2"
        },
        {
         "alignmentgroup": "True",
         "hovertemplate": "ansatz=%{x}<br>otimizador=NFT<br>probabilidade_valor_otimo=%{y}<extra></extra>",
         "legendgroup": "EfficientSU2",
         "marker": {
          "color": "#636efa",
          "pattern": {
           "shape": ""
          }
         },
         "name": "EfficientSU2",
         "offsetgroup": "EfficientSU2",
         "orientation": "v",
         "showlegend": false,
         "textposition": "auto",
         "type": "bar",
         "x": [
          "EfficientSU2"
         ],
         "xaxis": "x3",
         "y": [
          0.9995442708333333
         ],
         "yaxis": "y3"
        },
        {
         "alignmentgroup": "True",
         "hovertemplate": "ansatz=%{x}<br>otimizador=SLSQP<br>probabilidade_valor_otimo=%{y}<extra></extra>",
         "legendgroup": "EfficientSU2",
         "marker": {
          "color": "#636efa",
          "pattern": {
           "shape": ""
          }
         },
         "name": "EfficientSU2",
         "offsetgroup": "EfficientSU2",
         "orientation": "v",
         "showlegend": false,
         "textposition": "auto",
         "type": "bar",
         "x": [
          "EfficientSU2"
         ],
         "xaxis": "x4",
         "y": [
          0.14596988514957265
         ],
         "yaxis": "y4"
        },
        {
         "alignmentgroup": "True",
         "hovertemplate": "ansatz=%{x}<br>otimizador=COBYLA<br>probabilidade_valor_otimo=%{y}<extra></extra>",
         "legendgroup": "PauliTwoDesign",
         "marker": {
          "color": "#EF553B",
          "pattern": {
           "shape": ""
          }
         },
         "name": "PauliTwoDesign",
         "offsetgroup": "PauliTwoDesign",
         "orientation": "v",
         "showlegend": true,
         "textposition": "auto",
         "type": "bar",
         "x": [
          "PauliTwoDesign"
         ],
         "xaxis": "x",
         "y": [
          0.024543645651462245
         ],
         "yaxis": "y"
        },
        {
         "alignmentgroup": "True",
         "hovertemplate": "ansatz=%{x}<br>otimizador=L_BFGS_B<br>probabilidade_valor_otimo=%{y}<extra></extra>",
         "legendgroup": "PauliTwoDesign",
         "marker": {
          "color": "#EF553B",
          "pattern": {
           "shape": ""
          }
         },
         "name": "PauliTwoDesign",
         "offsetgroup": "PauliTwoDesign",
         "orientation": "v",
         "showlegend": false,
         "textposition": "auto",
         "type": "bar",
         "x": [
          "PauliTwoDesign"
         ],
         "xaxis": "x2",
         "y": [
          0.010250843005018821
         ],
         "yaxis": "y2"
        },
        {
         "alignmentgroup": "True",
         "hovertemplate": "ansatz=%{x}<br>otimizador=NFT<br>probabilidade_valor_otimo=%{y}<extra></extra>",
         "legendgroup": "PauliTwoDesign",
         "marker": {
          "color": "#EF553B",
          "pattern": {
           "shape": ""
          }
         },
         "name": "PauliTwoDesign",
         "offsetgroup": "PauliTwoDesign",
         "orientation": "v",
         "showlegend": false,
         "textposition": "auto",
         "type": "bar",
         "x": [
          "PauliTwoDesign"
         ],
         "xaxis": "x3",
         "y": [
          0.08203125
         ],
         "yaxis": "y3"
        },
        {
         "alignmentgroup": "True",
         "hovertemplate": "ansatz=%{x}<br>otimizador=SLSQP<br>probabilidade_valor_otimo=%{y}<extra></extra>",
         "legendgroup": "PauliTwoDesign",
         "marker": {
          "color": "#EF553B",
          "pattern": {
           "shape": ""
          }
         },
         "name": "PauliTwoDesign",
         "offsetgroup": "PauliTwoDesign",
         "orientation": "v",
         "showlegend": false,
         "textposition": "auto",
         "type": "bar",
         "x": [
          "PauliTwoDesign"
         ],
         "xaxis": "x4",
         "y": [
          0.10866326582494173
         ],
         "yaxis": "y4"
        },
        {
         "alignmentgroup": "True",
         "hovertemplate": "ansatz=%{x}<br>otimizador=COBYLA<br>probabilidade_valor_otimo=%{y}<extra></extra>",
         "legendgroup": "RealAmplitudes",
         "marker": {
          "color": "#00cc96",
          "pattern": {
           "shape": ""
          }
         },
         "name": "RealAmplitudes",
         "offsetgroup": "RealAmplitudes",
         "orientation": "v",
         "showlegend": true,
         "textposition": "auto",
         "type": "bar",
         "x": [
          "RealAmplitudes"
         ],
         "xaxis": "x",
         "y": [
          0.8252022813094672
         ],
         "yaxis": "y"
        },
        {
         "alignmentgroup": "True",
         "hovertemplate": "ansatz=%{x}<br>otimizador=L_BFGS_B<br>probabilidade_valor_otimo=%{y}<extra></extra>",
         "legendgroup": "RealAmplitudes",
         "marker": {
          "color": "#00cc96",
          "pattern": {
           "shape": ""
          }
         },
         "name": "RealAmplitudes",
         "offsetgroup": "RealAmplitudes",
         "orientation": "v",
         "showlegend": false,
         "textposition": "auto",
         "type": "bar",
         "x": [
          "RealAmplitudes"
         ],
         "xaxis": "x2",
         "y": [
          0.28804706934079605
         ],
         "yaxis": "y2"
        },
        {
         "alignmentgroup": "True",
         "hovertemplate": "ansatz=%{x}<br>otimizador=NFT<br>probabilidade_valor_otimo=%{y}<extra></extra>",
         "legendgroup": "RealAmplitudes",
         "marker": {
          "color": "#00cc96",
          "pattern": {
           "shape": ""
          }
         },
         "name": "RealAmplitudes",
         "offsetgroup": "RealAmplitudes",
         "orientation": "v",
         "showlegend": false,
         "textposition": "auto",
         "type": "bar",
         "x": [
          "RealAmplitudes"
         ],
         "xaxis": "x3",
         "y": [
          0.7220052083333334
         ],
         "yaxis": "y3"
        },
        {
         "alignmentgroup": "True",
         "hovertemplate": "ansatz=%{x}<br>otimizador=SLSQP<br>probabilidade_valor_otimo=%{y}<extra></extra>",
         "legendgroup": "RealAmplitudes",
         "marker": {
          "color": "#00cc96",
          "pattern": {
           "shape": ""
          }
         },
         "name": "RealAmplitudes",
         "offsetgroup": "RealAmplitudes",
         "orientation": "v",
         "showlegend": false,
         "textposition": "auto",
         "type": "bar",
         "x": [
          "RealAmplitudes"
         ],
         "xaxis": "x4",
         "y": [
          0.22450382245255776
         ],
         "yaxis": "y4"
        },
        {
         "alignmentgroup": "True",
         "hovertemplate": "ansatz=%{x}<br>otimizador=COBYLA<br>probabilidade_valor_otimo=%{y}<extra></extra>",
         "legendgroup": "TwoLocal",
         "marker": {
          "color": "#ab63fa",
          "pattern": {
           "shape": ""
          }
         },
         "name": "TwoLocal",
         "offsetgroup": "TwoLocal",
         "orientation": "v",
         "showlegend": true,
         "textposition": "auto",
         "type": "bar",
         "x": [
          "TwoLocal"
         ],
         "xaxis": "x",
         "y": [
          0.012186189977134146
         ],
         "yaxis": "y"
        },
        {
         "alignmentgroup": "True",
         "hovertemplate": "ansatz=%{x}<br>otimizador=L_BFGS_B<br>probabilidade_valor_otimo=%{y}<extra></extra>",
         "legendgroup": "TwoLocal",
         "marker": {
          "color": "#ab63fa",
          "pattern": {
           "shape": ""
          }
         },
         "name": "TwoLocal",
         "offsetgroup": "TwoLocal",
         "orientation": "v",
         "showlegend": false,
         "textposition": "auto",
         "type": "bar",
         "x": [
          "TwoLocal"
         ],
         "xaxis": "x2",
         "y": [
          0.1675898234049479
         ],
         "yaxis": "y2"
        },
        {
         "alignmentgroup": "True",
         "hovertemplate": "ansatz=%{x}<br>otimizador=NFT<br>probabilidade_valor_otimo=%{y}<extra></extra>",
         "legendgroup": "TwoLocal",
         "marker": {
          "color": "#ab63fa",
          "pattern": {
           "shape": ""
          }
         },
         "name": "TwoLocal",
         "offsetgroup": "TwoLocal",
         "orientation": "v",
         "showlegend": false,
         "textposition": "auto",
         "type": "bar",
         "x": [
          "TwoLocal"
         ],
         "xaxis": "x3",
         "y": [
          0.5444986979166667
         ],
         "yaxis": "y3"
        },
        {
         "alignmentgroup": "True",
         "hovertemplate": "ansatz=%{x}<br>otimizador=SLSQP<br>probabilidade_valor_otimo=%{y}<extra></extra>",
         "legendgroup": "TwoLocal",
         "marker": {
          "color": "#ab63fa",
          "pattern": {
           "shape": ""
          }
         },
         "name": "TwoLocal",
         "offsetgroup": "TwoLocal",
         "orientation": "v",
         "showlegend": false,
         "textposition": "auto",
         "type": "bar",
         "x": [
          "TwoLocal"
         ],
         "xaxis": "x4",
         "y": [
          0.713588650913011
         ],
         "yaxis": "y4"
        }
       ],
       "layout": {
        "annotations": [
         {
          "showarrow": false,
          "text": "otimizador=COBYLA",
          "x": 0.1175,
          "xanchor": "center",
          "xref": "paper",
          "y": 1,
          "yanchor": "bottom",
          "yref": "paper"
         },
         {
          "showarrow": false,
          "text": "otimizador=L_BFGS_B",
          "x": 0.3725,
          "xanchor": "center",
          "xref": "paper",
          "y": 1,
          "yanchor": "bottom",
          "yref": "paper"
         },
         {
          "showarrow": false,
          "text": "otimizador=NFT",
          "x": 0.6275,
          "xanchor": "center",
          "xref": "paper",
          "y": 1,
          "yanchor": "bottom",
          "yref": "paper"
         },
         {
          "showarrow": false,
          "text": "otimizador=SLSQP",
          "x": 0.8824999999999998,
          "xanchor": "center",
          "xref": "paper",
          "y": 1,
          "yanchor": "bottom",
          "yref": "paper"
         },
         {
          "font": {
           "size": 35
          },
          "showarrow": false,
          "text": "Ansatz",
          "x": 0.5,
          "xref": "paper",
          "y": -0.13,
          "yref": "paper"
         }
        ],
        "barmode": "relative",
        "font": {
         "size": 35
        },
        "height": 700,
        "legend": {
         "title": {
          "text": "ansatz"
         },
         "tracegroupgap": 0
        },
        "margin": {
         "b": 90,
         "l": 90,
         "r": 90,
         "t": 90
        },
        "template": {
         "data": {
          "bar": [
           {
            "error_x": {
             "color": "#2a3f5f"
            },
            "error_y": {
             "color": "#2a3f5f"
            },
            "marker": {
             "line": {
              "color": "#E5ECF6",
              "width": 0.5
             },
             "pattern": {
              "fillmode": "overlay",
              "size": 10,
              "solidity": 0.2
             }
            },
            "type": "bar"
           }
          ],
          "barpolar": [
           {
            "marker": {
             "line": {
              "color": "#E5ECF6",
              "width": 0.5
             },
             "pattern": {
              "fillmode": "overlay",
              "size": 10,
              "solidity": 0.2
             }
            },
            "type": "barpolar"
           }
          ],
          "carpet": [
           {
            "aaxis": {
             "endlinecolor": "#2a3f5f",
             "gridcolor": "white",
             "linecolor": "white",
             "minorgridcolor": "white",
             "startlinecolor": "#2a3f5f"
            },
            "baxis": {
             "endlinecolor": "#2a3f5f",
             "gridcolor": "white",
             "linecolor": "white",
             "minorgridcolor": "white",
             "startlinecolor": "#2a3f5f"
            },
            "type": "carpet"
           }
          ],
          "choropleth": [
           {
            "colorbar": {
             "outlinewidth": 0,
             "ticks": ""
            },
            "type": "choropleth"
           }
          ],
          "contour": [
           {
            "colorbar": {
             "outlinewidth": 0,
             "ticks": ""
            },
            "colorscale": [
             [
              0,
              "#0d0887"
             ],
             [
              0.1111111111111111,
              "#46039f"
             ],
             [
              0.2222222222222222,
              "#7201a8"
             ],
             [
              0.3333333333333333,
              "#9c179e"
             ],
             [
              0.4444444444444444,
              "#bd3786"
             ],
             [
              0.5555555555555556,
              "#d8576b"
             ],
             [
              0.6666666666666666,
              "#ed7953"
             ],
             [
              0.7777777777777778,
              "#fb9f3a"
             ],
             [
              0.8888888888888888,
              "#fdca26"
             ],
             [
              1,
              "#f0f921"
             ]
            ],
            "type": "contour"
           }
          ],
          "contourcarpet": [
           {
            "colorbar": {
             "outlinewidth": 0,
             "ticks": ""
            },
            "type": "contourcarpet"
           }
          ],
          "heatmap": [
           {
            "colorbar": {
             "outlinewidth": 0,
             "ticks": ""
            },
            "colorscale": [
             [
              0,
              "#0d0887"
             ],
             [
              0.1111111111111111,
              "#46039f"
             ],
             [
              0.2222222222222222,
              "#7201a8"
             ],
             [
              0.3333333333333333,
              "#9c179e"
             ],
             [
              0.4444444444444444,
              "#bd3786"
             ],
             [
              0.5555555555555556,
              "#d8576b"
             ],
             [
              0.6666666666666666,
              "#ed7953"
             ],
             [
              0.7777777777777778,
              "#fb9f3a"
             ],
             [
              0.8888888888888888,
              "#fdca26"
             ],
             [
              1,
              "#f0f921"
             ]
            ],
            "type": "heatmap"
           }
          ],
          "heatmapgl": [
           {
            "colorbar": {
             "outlinewidth": 0,
             "ticks": ""
            },
            "colorscale": [
             [
              0,
              "#0d0887"
             ],
             [
              0.1111111111111111,
              "#46039f"
             ],
             [
              0.2222222222222222,
              "#7201a8"
             ],
             [
              0.3333333333333333,
              "#9c179e"
             ],
             [
              0.4444444444444444,
              "#bd3786"
             ],
             [
              0.5555555555555556,
              "#d8576b"
             ],
             [
              0.6666666666666666,
              "#ed7953"
             ],
             [
              0.7777777777777778,
              "#fb9f3a"
             ],
             [
              0.8888888888888888,
              "#fdca26"
             ],
             [
              1,
              "#f0f921"
             ]
            ],
            "type": "heatmapgl"
           }
          ],
          "histogram": [
           {
            "marker": {
             "pattern": {
              "fillmode": "overlay",
              "size": 10,
              "solidity": 0.2
             }
            },
            "type": "histogram"
           }
          ],
          "histogram2d": [
           {
            "colorbar": {
             "outlinewidth": 0,
             "ticks": ""
            },
            "colorscale": [
             [
              0,
              "#0d0887"
             ],
             [
              0.1111111111111111,
              "#46039f"
             ],
             [
              0.2222222222222222,
              "#7201a8"
             ],
             [
              0.3333333333333333,
              "#9c179e"
             ],
             [
              0.4444444444444444,
              "#bd3786"
             ],
             [
              0.5555555555555556,
              "#d8576b"
             ],
             [
              0.6666666666666666,
              "#ed7953"
             ],
             [
              0.7777777777777778,
              "#fb9f3a"
             ],
             [
              0.8888888888888888,
              "#fdca26"
             ],
             [
              1,
              "#f0f921"
             ]
            ],
            "type": "histogram2d"
           }
          ],
          "histogram2dcontour": [
           {
            "colorbar": {
             "outlinewidth": 0,
             "ticks": ""
            },
            "colorscale": [
             [
              0,
              "#0d0887"
             ],
             [
              0.1111111111111111,
              "#46039f"
             ],
             [
              0.2222222222222222,
              "#7201a8"
             ],
             [
              0.3333333333333333,
              "#9c179e"
             ],
             [
              0.4444444444444444,
              "#bd3786"
             ],
             [
              0.5555555555555556,
              "#d8576b"
             ],
             [
              0.6666666666666666,
              "#ed7953"
             ],
             [
              0.7777777777777778,
              "#fb9f3a"
             ],
             [
              0.8888888888888888,
              "#fdca26"
             ],
             [
              1,
              "#f0f921"
             ]
            ],
            "type": "histogram2dcontour"
           }
          ],
          "mesh3d": [
           {
            "colorbar": {
             "outlinewidth": 0,
             "ticks": ""
            },
            "type": "mesh3d"
           }
          ],
          "parcoords": [
           {
            "line": {
             "colorbar": {
              "outlinewidth": 0,
              "ticks": ""
             }
            },
            "type": "parcoords"
           }
          ],
          "pie": [
           {
            "automargin": true,
            "type": "pie"
           }
          ],
          "scatter": [
           {
            "fillpattern": {
             "fillmode": "overlay",
             "size": 10,
             "solidity": 0.2
            },
            "type": "scatter"
           }
          ],
          "scatter3d": [
           {
            "line": {
             "colorbar": {
              "outlinewidth": 0,
              "ticks": ""
             }
            },
            "marker": {
             "colorbar": {
              "outlinewidth": 0,
              "ticks": ""
             }
            },
            "type": "scatter3d"
           }
          ],
          "scattercarpet": [
           {
            "marker": {
             "colorbar": {
              "outlinewidth": 0,
              "ticks": ""
             }
            },
            "type": "scattercarpet"
           }
          ],
          "scattergeo": [
           {
            "marker": {
             "colorbar": {
              "outlinewidth": 0,
              "ticks": ""
             }
            },
            "type": "scattergeo"
           }
          ],
          "scattergl": [
           {
            "marker": {
             "colorbar": {
              "outlinewidth": 0,
              "ticks": ""
             }
            },
            "type": "scattergl"
           }
          ],
          "scattermapbox": [
           {
            "marker": {
             "colorbar": {
              "outlinewidth": 0,
              "ticks": ""
             }
            },
            "type": "scattermapbox"
           }
          ],
          "scatterpolar": [
           {
            "marker": {
             "colorbar": {
              "outlinewidth": 0,
              "ticks": ""
             }
            },
            "type": "scatterpolar"
           }
          ],
          "scatterpolargl": [
           {
            "marker": {
             "colorbar": {
              "outlinewidth": 0,
              "ticks": ""
             }
            },
            "type": "scatterpolargl"
           }
          ],
          "scatterternary": [
           {
            "marker": {
             "colorbar": {
              "outlinewidth": 0,
              "ticks": ""
             }
            },
            "type": "scatterternary"
           }
          ],
          "surface": [
           {
            "colorbar": {
             "outlinewidth": 0,
             "ticks": ""
            },
            "colorscale": [
             [
              0,
              "#0d0887"
             ],
             [
              0.1111111111111111,
              "#46039f"
             ],
             [
              0.2222222222222222,
              "#7201a8"
             ],
             [
              0.3333333333333333,
              "#9c179e"
             ],
             [
              0.4444444444444444,
              "#bd3786"
             ],
             [
              0.5555555555555556,
              "#d8576b"
             ],
             [
              0.6666666666666666,
              "#ed7953"
             ],
             [
              0.7777777777777778,
              "#fb9f3a"
             ],
             [
              0.8888888888888888,
              "#fdca26"
             ],
             [
              1,
              "#f0f921"
             ]
            ],
            "type": "surface"
           }
          ],
          "table": [
           {
            "cells": {
             "fill": {
              "color": "#EBF0F8"
             },
             "line": {
              "color": "white"
             }
            },
            "header": {
             "fill": {
              "color": "#C8D4E3"
             },
             "line": {
              "color": "white"
             }
            },
            "type": "table"
           }
          ]
         },
         "layout": {
          "annotationdefaults": {
           "arrowcolor": "#2a3f5f",
           "arrowhead": 0,
           "arrowwidth": 1
          },
          "autotypenumbers": "strict",
          "coloraxis": {
           "colorbar": {
            "outlinewidth": 0,
            "ticks": ""
           }
          },
          "colorscale": {
           "diverging": [
            [
             0,
             "#8e0152"
            ],
            [
             0.1,
             "#c51b7d"
            ],
            [
             0.2,
             "#de77ae"
            ],
            [
             0.3,
             "#f1b6da"
            ],
            [
             0.4,
             "#fde0ef"
            ],
            [
             0.5,
             "#f7f7f7"
            ],
            [
             0.6,
             "#e6f5d0"
            ],
            [
             0.7,
             "#b8e186"
            ],
            [
             0.8,
             "#7fbc41"
            ],
            [
             0.9,
             "#4d9221"
            ],
            [
             1,
             "#276419"
            ]
           ],
           "sequential": [
            [
             0,
             "#0d0887"
            ],
            [
             0.1111111111111111,
             "#46039f"
            ],
            [
             0.2222222222222222,
             "#7201a8"
            ],
            [
             0.3333333333333333,
             "#9c179e"
            ],
            [
             0.4444444444444444,
             "#bd3786"
            ],
            [
             0.5555555555555556,
             "#d8576b"
            ],
            [
             0.6666666666666666,
             "#ed7953"
            ],
            [
             0.7777777777777778,
             "#fb9f3a"
            ],
            [
             0.8888888888888888,
             "#fdca26"
            ],
            [
             1,
             "#f0f921"
            ]
           ],
           "sequentialminus": [
            [
             0,
             "#0d0887"
            ],
            [
             0.1111111111111111,
             "#46039f"
            ],
            [
             0.2222222222222222,
             "#7201a8"
            ],
            [
             0.3333333333333333,
             "#9c179e"
            ],
            [
             0.4444444444444444,
             "#bd3786"
            ],
            [
             0.5555555555555556,
             "#d8576b"
            ],
            [
             0.6666666666666666,
             "#ed7953"
            ],
            [
             0.7777777777777778,
             "#fb9f3a"
            ],
            [
             0.8888888888888888,
             "#fdca26"
            ],
            [
             1,
             "#f0f921"
            ]
           ]
          },
          "colorway": [
           "#636efa",
           "#EF553B",
           "#00cc96",
           "#ab63fa",
           "#FFA15A",
           "#19d3f3",
           "#FF6692",
           "#B6E880",
           "#FF97FF",
           "#FECB52"
          ],
          "font": {
           "color": "#2a3f5f"
          },
          "geo": {
           "bgcolor": "white",
           "lakecolor": "white",
           "landcolor": "#E5ECF6",
           "showlakes": true,
           "showland": true,
           "subunitcolor": "white"
          },
          "hoverlabel": {
           "align": "left"
          },
          "hovermode": "closest",
          "mapbox": {
           "style": "light"
          },
          "paper_bgcolor": "white",
          "plot_bgcolor": "#E5ECF6",
          "polar": {
           "angularaxis": {
            "gridcolor": "white",
            "linecolor": "white",
            "ticks": ""
           },
           "bgcolor": "#E5ECF6",
           "radialaxis": {
            "gridcolor": "white",
            "linecolor": "white",
            "ticks": ""
           }
          },
          "scene": {
           "xaxis": {
            "backgroundcolor": "#E5ECF6",
            "gridcolor": "white",
            "gridwidth": 2,
            "linecolor": "white",
            "showbackground": true,
            "ticks": "",
            "zerolinecolor": "white"
           },
           "yaxis": {
            "backgroundcolor": "#E5ECF6",
            "gridcolor": "white",
            "gridwidth": 2,
            "linecolor": "white",
            "showbackground": true,
            "ticks": "",
            "zerolinecolor": "white"
           },
           "zaxis": {
            "backgroundcolor": "#E5ECF6",
            "gridcolor": "white",
            "gridwidth": 2,
            "linecolor": "white",
            "showbackground": true,
            "ticks": "",
            "zerolinecolor": "white"
           }
          },
          "shapedefaults": {
           "line": {
            "color": "#2a3f5f"
           }
          },
          "ternary": {
           "aaxis": {
            "gridcolor": "white",
            "linecolor": "white",
            "ticks": ""
           },
           "baxis": {
            "gridcolor": "white",
            "linecolor": "white",
            "ticks": ""
           },
           "bgcolor": "#E5ECF6",
           "caxis": {
            "gridcolor": "white",
            "linecolor": "white",
            "ticks": ""
           }
          },
          "title": {
           "x": 0.05
          },
          "xaxis": {
           "automargin": true,
           "gridcolor": "white",
           "linecolor": "white",
           "ticks": "",
           "title": {
            "standoff": 15
           },
           "zerolinecolor": "white",
           "zerolinewidth": 2
          },
          "yaxis": {
           "automargin": true,
           "gridcolor": "white",
           "linecolor": "white",
           "ticks": "",
           "title": {
            "standoff": 15
           },
           "zerolinecolor": "white",
           "zerolinewidth": 2
          }
         }
        },
        "width": 3200,
        "xaxis": {
         "anchor": "y",
         "categoryarray": [
          "EfficientSU2",
          "PauliTwoDesign",
          "RealAmplitudes",
          "TwoLocal"
         ],
         "categoryorder": "array",
         "domain": [
          0,
          0.235
         ],
         "showticklabels": false,
         "title": {
          "text": ""
         }
        },
        "xaxis2": {
         "anchor": "y2",
         "categoryarray": [
          "EfficientSU2",
          "PauliTwoDesign",
          "RealAmplitudes",
          "TwoLocal"
         ],
         "categoryorder": "array",
         "domain": [
          0.255,
          0.49
         ],
         "matches": "x",
         "showticklabels": false,
         "title": {
          "text": ""
         }
        },
        "xaxis3": {
         "anchor": "y3",
         "categoryarray": [
          "EfficientSU2",
          "PauliTwoDesign",
          "RealAmplitudes",
          "TwoLocal"
         ],
         "categoryorder": "array",
         "domain": [
          0.51,
          0.745
         ],
         "matches": "x",
         "showticklabels": false,
         "title": {
          "text": ""
         }
        },
        "xaxis4": {
         "anchor": "y4",
         "categoryarray": [
          "EfficientSU2",
          "PauliTwoDesign",
          "RealAmplitudes",
          "TwoLocal"
         ],
         "categoryorder": "array",
         "domain": [
          0.7649999999999999,
          0.9999999999999999
         ],
         "matches": "x",
         "showticklabels": false,
         "title": {
          "text": ""
         }
        },
        "yaxis": {
         "anchor": "x",
         "domain": [
          0,
          1
         ],
         "title": {
          "text": "Probabilidade"
         }
        },
        "yaxis2": {
         "anchor": "x2",
         "domain": [
          0,
          1
         ],
         "matches": "y",
         "showticklabels": false
        },
        "yaxis3": {
         "anchor": "x3",
         "domain": [
          0,
          1
         ],
         "matches": "y",
         "showticklabels": false
        },
        "yaxis4": {
         "anchor": "x4",
         "domain": [
          0,
          1
         ],
         "matches": "y",
         "showticklabels": false
        }
       }
      }
     },
     "metadata": {},
     "output_type": "display_data"
    }
   ],
   "source": [
    "df_agg = df_vqe.groupby(['ansatz', 'otimizador'], as_index=False)['probabilidade_valor_otimo'].mean() # pode ser média, max, min, pois todos os valores sao iguais\n",
    "\n",
    "fig = px.bar(df_agg, x='ansatz', y='probabilidade_valor_otimo', color='ansatz', facet_col='otimizador',\n",
    "             title='', width=width_padrao_display_junto, height=height_padrao_display_junto, \n",
    "             )\n",
    "\n",
    "fig.update_layout(xaxis_title='', yaxis_title='Probabilidade', font=tamanho_padrao_fonte, margin=tamanho_padrao_margem)\n",
    "fig.update_xaxes(showticklabels=False, title_text='')\n",
    "\n",
    "fig.add_annotation(\n",
    "    text='Ansatz',\n",
    "    xref='paper',\n",
    "    yref='paper',\n",
    "    x=0.5,\n",
    "    y=-0.13,\n",
    "    showarrow=False,\n",
    "    font=tamanho_padrao_fonte\n",
    ")\n",
    "\n",
    "if salvar_figuras:\n",
    "    nome_figura = f\"figuras_vqe/{num_ativos}_{ambiente_backend}_probabilidade_valor_otimo_vqe.png\"\n",
    "    fig.write_image(nome_figura, width=width_padrao_salvar_junto, height=height_padrao_salvar_junto)\n",
    "\n",
    "if mostrar_figuras:\n",
    "    fig.show()"
   ]
  },
  {
   "cell_type": "code",
   "execution_count": 16,
   "metadata": {},
   "outputs": [],
   "source": [
    "# df_agg = df_vqe.groupby(['ansatz', 'otimizador'], as_index=False)['tempo_elapsado_otimizador'].mean() # pode ser média, max, min, pois todos os valores sao iguais\n",
    "\n",
    "# fig = px.bar(df_agg, x='ansatz', y='tempo_elapsado_otimizador', color='ansatz', facet_col='otimizador',\n",
    "#              title='',\n",
    "#              width=width_padrao_display_junto, height=height_padrao_display_junto, \n",
    "#              )\n",
    "\n",
    "# fig.update_layout(xaxis_title='', yaxis_title='Tempo', font=tamanho_padrao_fonte, margin=tamanho_padrao_margem)\n",
    "# fig.update_xaxes(showticklabels=False, title_text='')\n",
    "\n",
    "# fig.add_annotation(\n",
    "#     text='Ansatz',\n",
    "#     xref='paper',\n",
    "#     yref='paper',\n",
    "#     x=0.5,\n",
    "#     y=-0.13,\n",
    "#     showarrow=False,\n",
    "#     font=tamanho_padrao_fonte\n",
    "# )\n",
    "\n",
    "# if salvar_figuras:\n",
    "#     nome_figura = f\"figuras_vqe/{num_ativos}_{ambiente_backend}_tempo_elapsado_vqe.png\"\n",
    "#     fig.write_image(nome_figura, width=width_padrao_salvar_junto, height=height_padrao_salvar_junto)\n",
    "\n",
    "# if mostrar_figuras:\n",
    "#     fig.show()"
   ]
  },
  {
   "cell_type": "code",
   "execution_count": 17,
   "metadata": {},
   "outputs": [
    {
     "data": {
      "application/vnd.plotly.v1+json": {
       "config": {
        "plotlyServerURL": "https://plot.ly"
       },
       "data": [
        {
         "alignmentgroup": "True",
         "hovertemplate": "ansatz=%{x}<br>otimizador=COBYLA<br>quantidade_avaliacoes_total=%{y}<extra></extra>",
         "legendgroup": "EfficientSU2",
         "marker": {
          "color": "#636efa",
          "pattern": {
           "shape": ""
          }
         },
         "name": "EfficientSU2",
         "offsetgroup": "EfficientSU2",
         "orientation": "v",
         "showlegend": true,
         "textposition": "auto",
         "type": "bar",
         "x": [
          "EfficientSU2"
         ],
         "xaxis": "x",
         "y": [
          266.4289658634538
         ],
         "yaxis": "y"
        },
        {
         "alignmentgroup": "True",
         "hovertemplate": "ansatz=%{x}<br>otimizador=L_BFGS_B<br>quantidade_avaliacoes_total=%{y}<extra></extra>",
         "legendgroup": "EfficientSU2",
         "marker": {
          "color": "#636efa",
          "pattern": {
           "shape": ""
          }
         },
         "name": "EfficientSU2",
         "offsetgroup": "EfficientSU2",
         "orientation": "v",
         "showlegend": false,
         "textposition": "auto",
         "type": "bar",
         "x": [
          "EfficientSU2"
         ],
         "xaxis": "x2",
         "y": [
          965.7488372093023
         ],
         "yaxis": "y2"
        },
        {
         "alignmentgroup": "True",
         "hovertemplate": "ansatz=%{x}<br>otimizador=NFT<br>quantidade_avaliacoes_total=%{y}<extra></extra>",
         "legendgroup": "EfficientSU2",
         "marker": {
          "color": "#636efa",
          "pattern": {
           "shape": ""
          }
         },
         "name": "EfficientSU2",
         "offsetgroup": "EfficientSU2",
         "orientation": "v",
         "showlegend": false,
         "textposition": "auto",
         "type": "bar",
         "x": [
          "EfficientSU2"
         ],
         "xaxis": "x3",
         "y": [
          1016
         ],
         "yaxis": "y3"
        },
        {
         "alignmentgroup": "True",
         "hovertemplate": "ansatz=%{x}<br>otimizador=SLSQP<br>quantidade_avaliacoes_total=%{y}<extra></extra>",
         "legendgroup": "EfficientSU2",
         "marker": {
          "color": "#636efa",
          "pattern": {
           "shape": ""
          }
         },
         "name": "EfficientSU2",
         "offsetgroup": "EfficientSU2",
         "orientation": "v",
         "showlegend": false,
         "textposition": "auto",
         "type": "bar",
         "x": [
          "EfficientSU2"
         ],
         "xaxis": "x4",
         "y": [
          143.96205128205128
         ],
         "yaxis": "y4"
        },
        {
         "alignmentgroup": "True",
         "hovertemplate": "ansatz=%{x}<br>otimizador=COBYLA<br>quantidade_avaliacoes_total=%{y}<extra></extra>",
         "legendgroup": "PauliTwoDesign",
         "marker": {
          "color": "#EF553B",
          "pattern": {
           "shape": ""
          }
         },
         "name": "PauliTwoDesign",
         "offsetgroup": "PauliTwoDesign",
         "orientation": "v",
         "showlegend": true,
         "textposition": "auto",
         "type": "bar",
         "x": [
          "PauliTwoDesign"
         ],
         "xaxis": "x",
         "y": [
          76.82278481012658
         ],
         "yaxis": "y"
        },
        {
         "alignmentgroup": "True",
         "hovertemplate": "ansatz=%{x}<br>otimizador=L_BFGS_B<br>quantidade_avaliacoes_total=%{y}<extra></extra>",
         "legendgroup": "PauliTwoDesign",
         "marker": {
          "color": "#EF553B",
          "pattern": {
           "shape": ""
          }
         },
         "name": "PauliTwoDesign",
         "offsetgroup": "PauliTwoDesign",
         "orientation": "v",
         "showlegend": false,
         "textposition": "auto",
         "type": "bar",
         "x": [
          "PauliTwoDesign"
         ],
         "xaxis": "x2",
         "y": [
          246.297365119197
         ],
         "yaxis": "y2"
        },
        {
         "alignmentgroup": "True",
         "hovertemplate": "ansatz=%{x}<br>otimizador=NFT<br>quantidade_avaliacoes_total=%{y}<extra></extra>",
         "legendgroup": "PauliTwoDesign",
         "marker": {
          "color": "#EF553B",
          "pattern": {
           "shape": ""
          }
         },
         "name": "PauliTwoDesign",
         "offsetgroup": "PauliTwoDesign",
         "orientation": "v",
         "showlegend": false,
         "textposition": "auto",
         "type": "bar",
         "x": [
          "PauliTwoDesign"
         ],
         "xaxis": "x3",
         "y": [
          1016
         ],
         "yaxis": "y3"
        },
        {
         "alignmentgroup": "True",
         "hovertemplate": "ansatz=%{x}<br>otimizador=SLSQP<br>quantidade_avaliacoes_total=%{y}<extra></extra>",
         "legendgroup": "PauliTwoDesign",
         "marker": {
          "color": "#EF553B",
          "pattern": {
           "shape": ""
          }
         },
         "name": "PauliTwoDesign",
         "offsetgroup": "PauliTwoDesign",
         "orientation": "v",
         "showlegend": false,
         "textposition": "auto",
         "type": "bar",
         "x": [
          "PauliTwoDesign"
         ],
         "xaxis": "x4",
         "y": [
          771.8873840200519
         ],
         "yaxis": "y4"
        },
        {
         "alignmentgroup": "True",
         "hovertemplate": "ansatz=%{x}<br>otimizador=COBYLA<br>quantidade_avaliacoes_total=%{y}<extra></extra>",
         "legendgroup": "RealAmplitudes",
         "marker": {
          "color": "#00cc96",
          "pattern": {
           "shape": ""
          }
         },
         "name": "RealAmplitudes",
         "offsetgroup": "RealAmplitudes",
         "orientation": "v",
         "showlegend": true,
         "textposition": "auto",
         "type": "bar",
         "x": [
          "RealAmplitudes"
         ],
         "xaxis": "x",
         "y": [
          141.22074215033302
         ],
         "yaxis": "y"
        },
        {
         "alignmentgroup": "True",
         "hovertemplate": "ansatz=%{x}<br>otimizador=L_BFGS_B<br>quantidade_avaliacoes_total=%{y}<extra></extra>",
         "legendgroup": "RealAmplitudes",
         "marker": {
          "color": "#00cc96",
          "pattern": {
           "shape": ""
          }
         },
         "name": "RealAmplitudes",
         "offsetgroup": "RealAmplitudes",
         "orientation": "v",
         "showlegend": false,
         "textposition": "auto",
         "type": "bar",
         "x": [
          "RealAmplitudes"
         ],
         "xaxis": "x2",
         "y": [
          464.7512437810945
         ],
         "yaxis": "y2"
        },
        {
         "alignmentgroup": "True",
         "hovertemplate": "ansatz=%{x}<br>otimizador=NFT<br>quantidade_avaliacoes_total=%{y}<extra></extra>",
         "legendgroup": "RealAmplitudes",
         "marker": {
          "color": "#00cc96",
          "pattern": {
           "shape": ""
          }
         },
         "name": "RealAmplitudes",
         "offsetgroup": "RealAmplitudes",
         "orientation": "v",
         "showlegend": false,
         "textposition": "auto",
         "type": "bar",
         "x": [
          "RealAmplitudes"
         ],
         "xaxis": "x3",
         "y": [
          1016
         ],
         "yaxis": "y3"
        },
        {
         "alignmentgroup": "True",
         "hovertemplate": "ansatz=%{x}<br>otimizador=SLSQP<br>quantidade_avaliacoes_total=%{y}<extra></extra>",
         "legendgroup": "RealAmplitudes",
         "marker": {
          "color": "#00cc96",
          "pattern": {
           "shape": ""
          }
         },
         "name": "RealAmplitudes",
         "offsetgroup": "RealAmplitudes",
         "orientation": "v",
         "showlegend": false,
         "textposition": "auto",
         "type": "bar",
         "x": [
          "RealAmplitudes"
         ],
         "xaxis": "x4",
         "y": [
          77.37128712871286
         ],
         "yaxis": "y4"
        },
        {
         "alignmentgroup": "True",
         "hovertemplate": "ansatz=%{x}<br>otimizador=COBYLA<br>quantidade_avaliacoes_total=%{y}<extra></extra>",
         "legendgroup": "TwoLocal",
         "marker": {
          "color": "#ab63fa",
          "pattern": {
           "shape": ""
          }
         },
         "name": "TwoLocal",
         "offsetgroup": "TwoLocal",
         "orientation": "v",
         "showlegend": true,
         "textposition": "auto",
         "type": "bar",
         "x": [
          "TwoLocal"
         ],
         "xaxis": "x",
         "y": [
          76.78484320557492
         ],
         "yaxis": "y"
        },
        {
         "alignmentgroup": "True",
         "hovertemplate": "ansatz=%{x}<br>otimizador=L_BFGS_B<br>quantidade_avaliacoes_total=%{y}<extra></extra>",
         "legendgroup": "TwoLocal",
         "marker": {
          "color": "#ab63fa",
          "pattern": {
           "shape": ""
          }
         },
         "name": "TwoLocal",
         "offsetgroup": "TwoLocal",
         "orientation": "v",
         "showlegend": false,
         "textposition": "auto",
         "type": "bar",
         "x": [
          "TwoLocal"
         ],
         "xaxis": "x2",
         "y": [
          239.53125
         ],
         "yaxis": "y2"
        },
        {
         "alignmentgroup": "True",
         "hovertemplate": "ansatz=%{x}<br>otimizador=NFT<br>quantidade_avaliacoes_total=%{y}<extra></extra>",
         "legendgroup": "TwoLocal",
         "marker": {
          "color": "#ab63fa",
          "pattern": {
           "shape": ""
          }
         },
         "name": "TwoLocal",
         "offsetgroup": "TwoLocal",
         "orientation": "v",
         "showlegend": false,
         "textposition": "auto",
         "type": "bar",
         "x": [
          "TwoLocal"
         ],
         "xaxis": "x3",
         "y": [
          1016
         ],
         "yaxis": "y3"
        },
        {
         "alignmentgroup": "True",
         "hovertemplate": "ansatz=%{x}<br>otimizador=SLSQP<br>quantidade_avaliacoes_total=%{y}<extra></extra>",
         "legendgroup": "TwoLocal",
         "marker": {
          "color": "#ab63fa",
          "pattern": {
           "shape": ""
          }
         },
         "name": "TwoLocal",
         "offsetgroup": "TwoLocal",
         "orientation": "v",
         "showlegend": false,
         "textposition": "auto",
         "type": "bar",
         "x": [
          "TwoLocal"
         ],
         "xaxis": "x4",
         "y": [
          789.3909710391823
         ],
         "yaxis": "y4"
        }
       ],
       "layout": {
        "annotations": [
         {
          "showarrow": false,
          "text": "otimizador=COBYLA",
          "x": 0.1175,
          "xanchor": "center",
          "xref": "paper",
          "y": 1,
          "yanchor": "bottom",
          "yref": "paper"
         },
         {
          "showarrow": false,
          "text": "otimizador=L_BFGS_B",
          "x": 0.3725,
          "xanchor": "center",
          "xref": "paper",
          "y": 1,
          "yanchor": "bottom",
          "yref": "paper"
         },
         {
          "showarrow": false,
          "text": "otimizador=NFT",
          "x": 0.6275,
          "xanchor": "center",
          "xref": "paper",
          "y": 1,
          "yanchor": "bottom",
          "yref": "paper"
         },
         {
          "showarrow": false,
          "text": "otimizador=SLSQP",
          "x": 0.8824999999999998,
          "xanchor": "center",
          "xref": "paper",
          "y": 1,
          "yanchor": "bottom",
          "yref": "paper"
         },
         {
          "font": {
           "size": 35
          },
          "showarrow": false,
          "text": "Ansatz",
          "x": 0.5,
          "xref": "paper",
          "y": -0.13,
          "yref": "paper"
         }
        ],
        "barmode": "relative",
        "font": {
         "size": 35
        },
        "height": 700,
        "legend": {
         "title": {
          "text": "ansatz"
         },
         "tracegroupgap": 0
        },
        "margin": {
         "b": 90,
         "l": 90,
         "r": 90,
         "t": 90
        },
        "template": {
         "data": {
          "bar": [
           {
            "error_x": {
             "color": "#2a3f5f"
            },
            "error_y": {
             "color": "#2a3f5f"
            },
            "marker": {
             "line": {
              "color": "#E5ECF6",
              "width": 0.5
             },
             "pattern": {
              "fillmode": "overlay",
              "size": 10,
              "solidity": 0.2
             }
            },
            "type": "bar"
           }
          ],
          "barpolar": [
           {
            "marker": {
             "line": {
              "color": "#E5ECF6",
              "width": 0.5
             },
             "pattern": {
              "fillmode": "overlay",
              "size": 10,
              "solidity": 0.2
             }
            },
            "type": "barpolar"
           }
          ],
          "carpet": [
           {
            "aaxis": {
             "endlinecolor": "#2a3f5f",
             "gridcolor": "white",
             "linecolor": "white",
             "minorgridcolor": "white",
             "startlinecolor": "#2a3f5f"
            },
            "baxis": {
             "endlinecolor": "#2a3f5f",
             "gridcolor": "white",
             "linecolor": "white",
             "minorgridcolor": "white",
             "startlinecolor": "#2a3f5f"
            },
            "type": "carpet"
           }
          ],
          "choropleth": [
           {
            "colorbar": {
             "outlinewidth": 0,
             "ticks": ""
            },
            "type": "choropleth"
           }
          ],
          "contour": [
           {
            "colorbar": {
             "outlinewidth": 0,
             "ticks": ""
            },
            "colorscale": [
             [
              0,
              "#0d0887"
             ],
             [
              0.1111111111111111,
              "#46039f"
             ],
             [
              0.2222222222222222,
              "#7201a8"
             ],
             [
              0.3333333333333333,
              "#9c179e"
             ],
             [
              0.4444444444444444,
              "#bd3786"
             ],
             [
              0.5555555555555556,
              "#d8576b"
             ],
             [
              0.6666666666666666,
              "#ed7953"
             ],
             [
              0.7777777777777778,
              "#fb9f3a"
             ],
             [
              0.8888888888888888,
              "#fdca26"
             ],
             [
              1,
              "#f0f921"
             ]
            ],
            "type": "contour"
           }
          ],
          "contourcarpet": [
           {
            "colorbar": {
             "outlinewidth": 0,
             "ticks": ""
            },
            "type": "contourcarpet"
           }
          ],
          "heatmap": [
           {
            "colorbar": {
             "outlinewidth": 0,
             "ticks": ""
            },
            "colorscale": [
             [
              0,
              "#0d0887"
             ],
             [
              0.1111111111111111,
              "#46039f"
             ],
             [
              0.2222222222222222,
              "#7201a8"
             ],
             [
              0.3333333333333333,
              "#9c179e"
             ],
             [
              0.4444444444444444,
              "#bd3786"
             ],
             [
              0.5555555555555556,
              "#d8576b"
             ],
             [
              0.6666666666666666,
              "#ed7953"
             ],
             [
              0.7777777777777778,
              "#fb9f3a"
             ],
             [
              0.8888888888888888,
              "#fdca26"
             ],
             [
              1,
              "#f0f921"
             ]
            ],
            "type": "heatmap"
           }
          ],
          "heatmapgl": [
           {
            "colorbar": {
             "outlinewidth": 0,
             "ticks": ""
            },
            "colorscale": [
             [
              0,
              "#0d0887"
             ],
             [
              0.1111111111111111,
              "#46039f"
             ],
             [
              0.2222222222222222,
              "#7201a8"
             ],
             [
              0.3333333333333333,
              "#9c179e"
             ],
             [
              0.4444444444444444,
              "#bd3786"
             ],
             [
              0.5555555555555556,
              "#d8576b"
             ],
             [
              0.6666666666666666,
              "#ed7953"
             ],
             [
              0.7777777777777778,
              "#fb9f3a"
             ],
             [
              0.8888888888888888,
              "#fdca26"
             ],
             [
              1,
              "#f0f921"
             ]
            ],
            "type": "heatmapgl"
           }
          ],
          "histogram": [
           {
            "marker": {
             "pattern": {
              "fillmode": "overlay",
              "size": 10,
              "solidity": 0.2
             }
            },
            "type": "histogram"
           }
          ],
          "histogram2d": [
           {
            "colorbar": {
             "outlinewidth": 0,
             "ticks": ""
            },
            "colorscale": [
             [
              0,
              "#0d0887"
             ],
             [
              0.1111111111111111,
              "#46039f"
             ],
             [
              0.2222222222222222,
              "#7201a8"
             ],
             [
              0.3333333333333333,
              "#9c179e"
             ],
             [
              0.4444444444444444,
              "#bd3786"
             ],
             [
              0.5555555555555556,
              "#d8576b"
             ],
             [
              0.6666666666666666,
              "#ed7953"
             ],
             [
              0.7777777777777778,
              "#fb9f3a"
             ],
             [
              0.8888888888888888,
              "#fdca26"
             ],
             [
              1,
              "#f0f921"
             ]
            ],
            "type": "histogram2d"
           }
          ],
          "histogram2dcontour": [
           {
            "colorbar": {
             "outlinewidth": 0,
             "ticks": ""
            },
            "colorscale": [
             [
              0,
              "#0d0887"
             ],
             [
              0.1111111111111111,
              "#46039f"
             ],
             [
              0.2222222222222222,
              "#7201a8"
             ],
             [
              0.3333333333333333,
              "#9c179e"
             ],
             [
              0.4444444444444444,
              "#bd3786"
             ],
             [
              0.5555555555555556,
              "#d8576b"
             ],
             [
              0.6666666666666666,
              "#ed7953"
             ],
             [
              0.7777777777777778,
              "#fb9f3a"
             ],
             [
              0.8888888888888888,
              "#fdca26"
             ],
             [
              1,
              "#f0f921"
             ]
            ],
            "type": "histogram2dcontour"
           }
          ],
          "mesh3d": [
           {
            "colorbar": {
             "outlinewidth": 0,
             "ticks": ""
            },
            "type": "mesh3d"
           }
          ],
          "parcoords": [
           {
            "line": {
             "colorbar": {
              "outlinewidth": 0,
              "ticks": ""
             }
            },
            "type": "parcoords"
           }
          ],
          "pie": [
           {
            "automargin": true,
            "type": "pie"
           }
          ],
          "scatter": [
           {
            "fillpattern": {
             "fillmode": "overlay",
             "size": 10,
             "solidity": 0.2
            },
            "type": "scatter"
           }
          ],
          "scatter3d": [
           {
            "line": {
             "colorbar": {
              "outlinewidth": 0,
              "ticks": ""
             }
            },
            "marker": {
             "colorbar": {
              "outlinewidth": 0,
              "ticks": ""
             }
            },
            "type": "scatter3d"
           }
          ],
          "scattercarpet": [
           {
            "marker": {
             "colorbar": {
              "outlinewidth": 0,
              "ticks": ""
             }
            },
            "type": "scattercarpet"
           }
          ],
          "scattergeo": [
           {
            "marker": {
             "colorbar": {
              "outlinewidth": 0,
              "ticks": ""
             }
            },
            "type": "scattergeo"
           }
          ],
          "scattergl": [
           {
            "marker": {
             "colorbar": {
              "outlinewidth": 0,
              "ticks": ""
             }
            },
            "type": "scattergl"
           }
          ],
          "scattermapbox": [
           {
            "marker": {
             "colorbar": {
              "outlinewidth": 0,
              "ticks": ""
             }
            },
            "type": "scattermapbox"
           }
          ],
          "scatterpolar": [
           {
            "marker": {
             "colorbar": {
              "outlinewidth": 0,
              "ticks": ""
             }
            },
            "type": "scatterpolar"
           }
          ],
          "scatterpolargl": [
           {
            "marker": {
             "colorbar": {
              "outlinewidth": 0,
              "ticks": ""
             }
            },
            "type": "scatterpolargl"
           }
          ],
          "scatterternary": [
           {
            "marker": {
             "colorbar": {
              "outlinewidth": 0,
              "ticks": ""
             }
            },
            "type": "scatterternary"
           }
          ],
          "surface": [
           {
            "colorbar": {
             "outlinewidth": 0,
             "ticks": ""
            },
            "colorscale": [
             [
              0,
              "#0d0887"
             ],
             [
              0.1111111111111111,
              "#46039f"
             ],
             [
              0.2222222222222222,
              "#7201a8"
             ],
             [
              0.3333333333333333,
              "#9c179e"
             ],
             [
              0.4444444444444444,
              "#bd3786"
             ],
             [
              0.5555555555555556,
              "#d8576b"
             ],
             [
              0.6666666666666666,
              "#ed7953"
             ],
             [
              0.7777777777777778,
              "#fb9f3a"
             ],
             [
              0.8888888888888888,
              "#fdca26"
             ],
             [
              1,
              "#f0f921"
             ]
            ],
            "type": "surface"
           }
          ],
          "table": [
           {
            "cells": {
             "fill": {
              "color": "#EBF0F8"
             },
             "line": {
              "color": "white"
             }
            },
            "header": {
             "fill": {
              "color": "#C8D4E3"
             },
             "line": {
              "color": "white"
             }
            },
            "type": "table"
           }
          ]
         },
         "layout": {
          "annotationdefaults": {
           "arrowcolor": "#2a3f5f",
           "arrowhead": 0,
           "arrowwidth": 1
          },
          "autotypenumbers": "strict",
          "coloraxis": {
           "colorbar": {
            "outlinewidth": 0,
            "ticks": ""
           }
          },
          "colorscale": {
           "diverging": [
            [
             0,
             "#8e0152"
            ],
            [
             0.1,
             "#c51b7d"
            ],
            [
             0.2,
             "#de77ae"
            ],
            [
             0.3,
             "#f1b6da"
            ],
            [
             0.4,
             "#fde0ef"
            ],
            [
             0.5,
             "#f7f7f7"
            ],
            [
             0.6,
             "#e6f5d0"
            ],
            [
             0.7,
             "#b8e186"
            ],
            [
             0.8,
             "#7fbc41"
            ],
            [
             0.9,
             "#4d9221"
            ],
            [
             1,
             "#276419"
            ]
           ],
           "sequential": [
            [
             0,
             "#0d0887"
            ],
            [
             0.1111111111111111,
             "#46039f"
            ],
            [
             0.2222222222222222,
             "#7201a8"
            ],
            [
             0.3333333333333333,
             "#9c179e"
            ],
            [
             0.4444444444444444,
             "#bd3786"
            ],
            [
             0.5555555555555556,
             "#d8576b"
            ],
            [
             0.6666666666666666,
             "#ed7953"
            ],
            [
             0.7777777777777778,
             "#fb9f3a"
            ],
            [
             0.8888888888888888,
             "#fdca26"
            ],
            [
             1,
             "#f0f921"
            ]
           ],
           "sequentialminus": [
            [
             0,
             "#0d0887"
            ],
            [
             0.1111111111111111,
             "#46039f"
            ],
            [
             0.2222222222222222,
             "#7201a8"
            ],
            [
             0.3333333333333333,
             "#9c179e"
            ],
            [
             0.4444444444444444,
             "#bd3786"
            ],
            [
             0.5555555555555556,
             "#d8576b"
            ],
            [
             0.6666666666666666,
             "#ed7953"
            ],
            [
             0.7777777777777778,
             "#fb9f3a"
            ],
            [
             0.8888888888888888,
             "#fdca26"
            ],
            [
             1,
             "#f0f921"
            ]
           ]
          },
          "colorway": [
           "#636efa",
           "#EF553B",
           "#00cc96",
           "#ab63fa",
           "#FFA15A",
           "#19d3f3",
           "#FF6692",
           "#B6E880",
           "#FF97FF",
           "#FECB52"
          ],
          "font": {
           "color": "#2a3f5f"
          },
          "geo": {
           "bgcolor": "white",
           "lakecolor": "white",
           "landcolor": "#E5ECF6",
           "showlakes": true,
           "showland": true,
           "subunitcolor": "white"
          },
          "hoverlabel": {
           "align": "left"
          },
          "hovermode": "closest",
          "mapbox": {
           "style": "light"
          },
          "paper_bgcolor": "white",
          "plot_bgcolor": "#E5ECF6",
          "polar": {
           "angularaxis": {
            "gridcolor": "white",
            "linecolor": "white",
            "ticks": ""
           },
           "bgcolor": "#E5ECF6",
           "radialaxis": {
            "gridcolor": "white",
            "linecolor": "white",
            "ticks": ""
           }
          },
          "scene": {
           "xaxis": {
            "backgroundcolor": "#E5ECF6",
            "gridcolor": "white",
            "gridwidth": 2,
            "linecolor": "white",
            "showbackground": true,
            "ticks": "",
            "zerolinecolor": "white"
           },
           "yaxis": {
            "backgroundcolor": "#E5ECF6",
            "gridcolor": "white",
            "gridwidth": 2,
            "linecolor": "white",
            "showbackground": true,
            "ticks": "",
            "zerolinecolor": "white"
           },
           "zaxis": {
            "backgroundcolor": "#E5ECF6",
            "gridcolor": "white",
            "gridwidth": 2,
            "linecolor": "white",
            "showbackground": true,
            "ticks": "",
            "zerolinecolor": "white"
           }
          },
          "shapedefaults": {
           "line": {
            "color": "#2a3f5f"
           }
          },
          "ternary": {
           "aaxis": {
            "gridcolor": "white",
            "linecolor": "white",
            "ticks": ""
           },
           "baxis": {
            "gridcolor": "white",
            "linecolor": "white",
            "ticks": ""
           },
           "bgcolor": "#E5ECF6",
           "caxis": {
            "gridcolor": "white",
            "linecolor": "white",
            "ticks": ""
           }
          },
          "title": {
           "x": 0.05
          },
          "xaxis": {
           "automargin": true,
           "gridcolor": "white",
           "linecolor": "white",
           "ticks": "",
           "title": {
            "standoff": 15
           },
           "zerolinecolor": "white",
           "zerolinewidth": 2
          },
          "yaxis": {
           "automargin": true,
           "gridcolor": "white",
           "linecolor": "white",
           "ticks": "",
           "title": {
            "standoff": 15
           },
           "zerolinecolor": "white",
           "zerolinewidth": 2
          }
         }
        },
        "width": 3200,
        "xaxis": {
         "anchor": "y",
         "categoryarray": [
          "EfficientSU2",
          "PauliTwoDesign",
          "RealAmplitudes",
          "TwoLocal"
         ],
         "categoryorder": "array",
         "domain": [
          0,
          0.235
         ],
         "showticklabels": false,
         "title": {
          "text": ""
         }
        },
        "xaxis2": {
         "anchor": "y2",
         "categoryarray": [
          "EfficientSU2",
          "PauliTwoDesign",
          "RealAmplitudes",
          "TwoLocal"
         ],
         "categoryorder": "array",
         "domain": [
          0.255,
          0.49
         ],
         "matches": "x",
         "showticklabels": false,
         "title": {
          "text": ""
         }
        },
        "xaxis3": {
         "anchor": "y3",
         "categoryarray": [
          "EfficientSU2",
          "PauliTwoDesign",
          "RealAmplitudes",
          "TwoLocal"
         ],
         "categoryorder": "array",
         "domain": [
          0.51,
          0.745
         ],
         "matches": "x",
         "showticklabels": false,
         "title": {
          "text": ""
         }
        },
        "xaxis4": {
         "anchor": "y4",
         "categoryarray": [
          "EfficientSU2",
          "PauliTwoDesign",
          "RealAmplitudes",
          "TwoLocal"
         ],
         "categoryorder": "array",
         "domain": [
          0.7649999999999999,
          0.9999999999999999
         ],
         "matches": "x",
         "showticklabels": false,
         "title": {
          "text": ""
         }
        },
        "yaxis": {
         "anchor": "x",
         "domain": [
          0,
          1
         ],
         "title": {
          "text": "Chamadas função custo"
         }
        },
        "yaxis2": {
         "anchor": "x2",
         "domain": [
          0,
          1
         ],
         "matches": "y",
         "showticklabels": false
        },
        "yaxis3": {
         "anchor": "x3",
         "domain": [
          0,
          1
         ],
         "matches": "y",
         "showticklabels": false
        },
        "yaxis4": {
         "anchor": "x4",
         "domain": [
          0,
          1
         ],
         "matches": "y",
         "showticklabels": false
        }
       }
      }
     },
     "metadata": {},
     "output_type": "display_data"
    }
   ],
   "source": [
    "df_agg = df_vqe.groupby(['ansatz', 'otimizador'], as_index=False)['quantidade_avaliacoes_total'].mean() # pode ser média, max, min, pois todos os valores sao iguais\n",
    "\n",
    "fig = px.bar(df_agg, x='ansatz', y='quantidade_avaliacoes_total', color='ansatz', facet_col='otimizador',\n",
    "             title='', width=width_padrao_display_junto, height=height_padrao_display_junto, \n",
    "             )\n",
    "\n",
    "fig.update_layout(xaxis_title='', yaxis_title='Chamadas função custo', font=tamanho_padrao_fonte, margin=tamanho_padrao_margem)\n",
    "fig.update_xaxes(showticklabels=False, title_text='')\n",
    "\n",
    "fig.add_annotation(\n",
    "    text='Ansatz',\n",
    "    xref='paper',\n",
    "    yref='paper',\n",
    "    x=0.5,\n",
    "    y=-0.13,\n",
    "    showarrow=False,\n",
    "    font=tamanho_padrao_fonte\n",
    ")\n",
    "\n",
    "if salvar_figuras:\n",
    "    nome_figura = f\"figuras_vqe/{num_ativos}_{ambiente_backend}_chamadas_funcao_custo_vqe.png\"\n",
    "    fig.write_image(nome_figura, width=width_padrao_salvar_junto, height=height_padrao_salvar_junto)\n",
    "\n",
    "if mostrar_figuras:\n",
    "    fig.show()"
   ]
  },
  {
   "cell_type": "code",
   "execution_count": 18,
   "metadata": {},
   "outputs": [],
   "source": [
    "# df_agg = df_vqe.groupby(['ansatz', 'otimizador'], as_index=False)['iteracao_otimizador'].max()\n",
    "\n",
    "# fig = px.bar(df_agg, x='ansatz', y='iteracao_otimizador', color='ansatz', facet_col='otimizador',\n",
    "#              title='', \n",
    "#              width=width_padrao_display_junto, height=height_padrao_display_junto, \n",
    "#              )\n",
    "\n",
    "# fig.update_layout(xaxis_title='', yaxis_title='Chamadas otimizador', font=tamanho_padrao_fonte, margin=tamanho_padrao_margem)\n",
    "\n",
    "# fig.add_annotation(\n",
    "#     text='Ansatz',\n",
    "#     xref='paper',\n",
    "#     yref='paper',\n",
    "#     x=0.5,\n",
    "#     y=-0.178,\n",
    "#     showarrow=False,\n",
    "#     font=tamanho_padrao_fonte\n",
    "# )\n",
    "\n",
    "# if salvar_figuras:\n",
    "#     nome_figura = f\"figuras_vqe/{num_ativos}_{ambiente_backend}_chamadas_otimizador_vqe.png\"\n",
    "#     fig.write_image(nome_figura, width=width_padrao_salvar_junto, height=height_padrao_salvar_junto)\n",
    "\n",
    "# if mostrar_figuras:\n",
    "#     fig.show()"
   ]
  },
  {
   "cell_type": "markdown",
   "metadata": {},
   "source": [
    "### QAOA"
   ]
  },
  {
   "cell_type": "code",
   "execution_count": 19,
   "metadata": {},
   "outputs": [],
   "source": [
    "df_qaoa = pd.DataFrame()\n",
    "\n",
    "with open('pickles/qaoa_4_local.pickle', 'rb') as file:\n",
    "    df_qaoa = pickle.load(file)"
   ]
  },
  {
   "cell_type": "code",
   "execution_count": 20,
   "metadata": {},
   "outputs": [],
   "source": [
    "# for otimizador in df_qaoa['otimizador'].unique():\n",
    "#     df_otimizador = df_qaoa[df_qaoa['otimizador'] == otimizador]\n",
    "\n",
    "#     fig = go.Figure()\n",
    "\n",
    "#     for mixer in df_otimizador['mixer'].unique():\n",
    "#         df_mixer = df_otimizador[df_otimizador['mixer'] == mixer]\n",
    "#         df_mixer = df_mixer.sort_values(by='avaliacao_funcao_custo')\n",
    "        \n",
    "\n",
    "#         x_data = df_mixer['avaliacao_funcao_custo']\n",
    "#         y_data = df_mixer['valor_energia']\n",
    "\n",
    "#         # Handling complex numbers by extracting real and imaginary parts\n",
    "#         y_real = y_data.apply(lambda x: x.real if isinstance(x, complex) else x)\n",
    "\n",
    "#         fig.add_trace(go.Scatter(\n",
    "#             x=x_data,\n",
    "#             y=y_real,\n",
    "#             mode='lines',\n",
    "#             name=mixer\n",
    "#         ))\n",
    "\n",
    "#     fig.update_layout(\n",
    "#         xaxis_title='Chamada de função de custo',\n",
    "#         yaxis_title='Energia',\n",
    "#         title='',\n",
    "#         legend_title='mixers',\n",
    "#         width=width_padrao_display,\n",
    "#         height=height_padrao_display, \n",
    "#         font=tamanho_padrao_fonte, \n",
    "#         margin=tamanho_padrao_margem\n",
    "#     )\n",
    "\n",
    "\n",
    "#     if salvar_figuras:\n",
    "#         nome_figura = f\"figuras_qaoa/{num_ativos}_{ambiente_backend}_{otimizador}_energia_por_funcao_custo_qaoa.png\"\n",
    "#         fig.write_image(nome_figura, width=width_padrao_salvar, height=height_padrao_salvar)\n",
    "\n",
    "#     if mostrar_figuras:\n",
    "#         fig.show()"
   ]
  },
  {
   "cell_type": "code",
   "execution_count": 21,
   "metadata": {},
   "outputs": [],
   "source": [
    "# df_qaoa_real = df_qaoa.copy()\n",
    "# df_qaoa_real['valor_energia'] = df_qaoa['valor_energia'].apply(lambda x: x.real if isinstance(x, complex) else x)\n",
    "# df_qaoa_real = df_qaoa_real.sort_values(by='avaliacao_funcao_custo')\n",
    "\n",
    "# fig = px.line(df_qaoa_real, x='avaliacao_funcao_custo', y='valor_energia', color='mixer',\n",
    "#               facet_col='otimizador', facet_col_wrap=df_qaoa_real['otimizador'].nunique(),\n",
    "#               labels={'avaliacao_funcao_custo': '', 'valor_energia': 'Energia'},\n",
    "#               title='')\n",
    "\n",
    "\n",
    "# fig.update_layout(width=width_padrao_display_junto, height=height_padrao_display_junto, legend_title='mixers', font=tamanho_padrao_fonte, margin=tamanho_padrao_margem)\n",
    "\n",
    "# fig.add_annotation(\n",
    "#     text='Chamada de função de custo',\n",
    "#     xref='paper',\n",
    "#     yref='paper',\n",
    "#     x=0.5,\n",
    "#     y=-0.178,\n",
    "#     showarrow=False,\n",
    "#     font=tamanho_padrao_fonte\n",
    "# )\n",
    "\n",
    "# if salvar_figuras:\n",
    "#     nome_figura = f\"figuras_qaoa/{num_ativos}_{ambiente_backend}_energia_por_funcao_custo_junto_qaoa.png\"\n",
    "#     fig.write_image(nome_figura, width=width_padrao_salvar_junto, height=height_padrao_salvar_junto)\n",
    "\n",
    "# if mostrar_figuras:\n",
    "#     fig.show()"
   ]
  },
  {
   "cell_type": "code",
   "execution_count": 22,
   "metadata": {},
   "outputs": [],
   "source": [
    "# df_qaoa_iteracao_otimizador = df_qaoa.loc[df_qaoa['bool_fim_iteracao_otimizador'] == True]\n",
    "\n",
    "# for otimizador in df_qaoa_iteracao_otimizador['otimizador'].unique():\n",
    "#     df_otimizador = df_qaoa_iteracao_otimizador[df_qaoa_iteracao_otimizador['otimizador'] == otimizador]\n",
    "\n",
    "#     fig = go.Figure()\n",
    "\n",
    "#     for mixer in df_otimizador['mixer'].unique():\n",
    "#         df_mixer = df_otimizador[df_otimizador['mixer'] == mixer]\n",
    "#         df_mixer = df_mixer.sort_values(by='iteracao_otimizador')\n",
    "\n",
    "#         x_data = df_mixer['iteracao_otimizador']\n",
    "#         y_data = df_mixer['valor_energia']\n",
    "\n",
    "#         # Handling complex numbers by extracting real and imaginary parts\n",
    "#         y_real = y_data.apply(lambda x: x.real if isinstance(x, complex) else x)\n",
    "\n",
    "#         fig.add_trace(go.Scatter(\n",
    "#             x=x_data,\n",
    "#             y=y_real,\n",
    "#             mode='lines',\n",
    "#             name=mixer\n",
    "#         ))\n",
    "\n",
    "#     fig.update_layout(\n",
    "#         xaxis_title='Iteração do otimizador',\n",
    "#         yaxis_title='Energia',\n",
    "#         title='',\n",
    "#         legend_title='mixers',\n",
    "#         width=width_padrao_display,\n",
    "#         height=height_padrao_display, \n",
    "#         font=tamanho_padrao_fonte, \n",
    "#         margin=tamanho_padrao_margem\n",
    "#     )\n",
    "\n",
    "#     if salvar_figuras:\n",
    "#         nome_figura = f\"figuras_qaoa/{num_ativos}_{ambiente_backend}_{otimizador}_energia_por_otimizador_qaoa.png\"\n",
    "#         fig.write_image(nome_figura, width=width_padrao_salvar, height=height_padrao_salvar)\n",
    "\n",
    "#     if mostrar_figuras:\n",
    "#         fig.show()"
   ]
  },
  {
   "cell_type": "code",
   "execution_count": 23,
   "metadata": {},
   "outputs": [],
   "source": [
    "# df_qaoa_real = df_qaoa.copy()\n",
    "# df_qaoa_real['valor_energia'] = df_qaoa['valor_energia'].apply(lambda x: x.real if isinstance(x, complex) else x)\n",
    "# df_qaoa_real_iteracao_otimizador = df_qaoa_real.loc[df_qaoa_real['bool_fim_iteracao_otimizador'] == True]\n",
    "# df_qaoa_real_iteracao_otimizador = df_qaoa_real_iteracao_otimizador.sort_values(by='iteracao_otimizador')\n",
    "\n",
    "# fig = px.line(df_qaoa_real_iteracao_otimizador, x='iteracao_otimizador', y='valor_energia', color='mixer',\n",
    "#               facet_col='otimizador', facet_col_wrap=df_qaoa_real_iteracao_otimizador['otimizador'].nunique(),\n",
    "#               labels={'iteracao_otimizador': '', 'valor_energia': 'Energia'},\n",
    "#               title='')\n",
    "\n",
    "# fig.update_layout(width=width_padrao_display_junto, height=height_padrao_display_junto, legend_title='mixers', font=tamanho_padrao_fonte, margin=tamanho_padrao_margem)\n",
    "\n",
    "# fig.add_annotation(\n",
    "#     text='Iteração do otimizador',\n",
    "#     xref='paper',\n",
    "#     yref='paper',\n",
    "#     x=0.5,\n",
    "#     y=-0.178,\n",
    "#     showarrow=False,\n",
    "#     font=tamanho_padrao_fonte\n",
    "# )\n",
    "\n",
    "# if salvar_figuras:\n",
    "#     nome_figura = f\"figuras_qaoa/{num_ativos}_{ambiente_backend}_energia_por_otimizador_junto_qaoa.png\"\n",
    "#     fig.write_image(nome_figura, width=width_padrao_salvar_junto, height=height_padrao_salvar_junto)\n",
    "\n",
    "# if mostrar_figuras:\n",
    "#     fig.show()"
   ]
  },
  {
   "cell_type": "code",
   "execution_count": 24,
   "metadata": {},
   "outputs": [],
   "source": [
    "# df_qaoa_epoca = df_qaoa.loc[df_qaoa['nova_epoca'] == True]\n",
    "\n",
    "# for otimizador in df_qaoa_epoca['otimizador'].unique():\n",
    "#     df_otimizador = df_qaoa_epoca[df_qaoa_epoca['otimizador'] == otimizador]\n",
    "\n",
    "#     fig = go.Figure()\n",
    "\n",
    "#     for mixer in df_otimizador['mixer'].unique():\n",
    "#         df_mixer = df_otimizador[df_otimizador['mixer'] == mixer]\n",
    "#         df_mixer = df_mixer.sort_values(by='epoca')\n",
    "\n",
    "#         x_data = df_mixer['epoca']\n",
    "#         y_data = df_mixer['valor_energia']\n",
    "\n",
    "#         # Handling complex numbers by extracting real and imaginary parts\n",
    "#         y_real = y_data.apply(lambda x: x.real if isinstance(x, complex) else x)\n",
    "\n",
    "#         fig.add_trace(go.Scatter(\n",
    "#             x=x_data,\n",
    "#             y=y_real,\n",
    "#             mode='lines',\n",
    "#             name=mixer\n",
    "#         ))\n",
    "\n",
    "#     fig.update_layout(\n",
    "#         xaxis_title='Epoca',\n",
    "#         yaxis_title='Energia',\n",
    "#         title='',\n",
    "#         legend_title='mixers',\n",
    "#         width=width_padrao_display,\n",
    "#         height=height_padrao_display, \n",
    "#         font=tamanho_padrao_fonte, \n",
    "#         margin=tamanho_padrao_margem\n",
    "#     )\n",
    "\n",
    "#     if salvar_figuras:\n",
    "#         nome_figura = f\"figuras_qaoa/{num_ativos}_{ambiente_backend}_{otimizador}_energia_por_epoca_qaoa.png\"\n",
    "#         fig.write_image(nome_figura, width=width_padrao_salvar, height=height_padrao_salvar)\n",
    "\n",
    "#     if mostrar_figuras:\n",
    "#         fig.show()"
   ]
  },
  {
   "cell_type": "code",
   "execution_count": 25,
   "metadata": {},
   "outputs": [
    {
     "data": {
      "application/vnd.plotly.v1+json": {
       "config": {
        "plotlyServerURL": "https://plot.ly"
       },
       "data": [
        {
         "hovertemplate": "mixer=full_mixer<br>otimizador=COBYLA<br>=%{x}<br>Energia=%{y}<extra></extra>",
         "legendgroup": "full_mixer",
         "line": {
          "color": "#636efa",
          "dash": "solid"
         },
         "marker": {
          "symbol": "circle"
         },
         "mode": "lines",
         "name": "full_mixer",
         "orientation": "v",
         "showlegend": true,
         "type": "scatter",
         "x": [
          1,
          2,
          3,
          4,
          5,
          6,
          7,
          8,
          9,
          10,
          11,
          12,
          13,
          14,
          15,
          16,
          17,
          18,
          19,
          20,
          21,
          22,
          23,
          24,
          25,
          26,
          27,
          28,
          29,
          30
         ],
         "xaxis": "x",
         "y": [
          0.02548072032780539,
          -0.027098018621488983,
          -0.08014691658981124,
          -0.04295385879645945,
          -0.09881272837297146,
          -0.06436462868113164,
          0.05522390398740811,
          -0.13404764236727176,
          -0.03894182607188419,
          0.07619833934635899,
          -0.0694880162328357,
          0.08267426415653684,
          0.015216871184339599,
          0.08921217193613921,
          -0.10827595998714737,
          0.11798587500042662,
          -0.19738949843122114,
          -0.009505439791689708,
          -0.018215981929942015,
          0.0969010351621401,
          -0.022925414210528742,
          -0.07508418149120637,
          -0.011654936453856762,
          0.0949921578747339,
          -0.028037711311493584,
          -0.0369358761865849,
          0.11385156678183246,
          0.09623848420665572,
          0.03567961004743039,
          -0.028527277664884797
         ],
         "yaxis": "y"
        },
        {
         "hovertemplate": "mixer=full_mixer<br>otimizador=L_BFGS_B<br>=%{x}<br>Energia=%{y}<extra></extra>",
         "legendgroup": "full_mixer",
         "line": {
          "color": "#636efa",
          "dash": "solid"
         },
         "marker": {
          "symbol": "circle"
         },
         "mode": "lines",
         "name": "full_mixer",
         "orientation": "v",
         "showlegend": false,
         "type": "scatter",
         "x": [
          1,
          2,
          3,
          4,
          5,
          6,
          7,
          8,
          9,
          10,
          11,
          12,
          13,
          14,
          15,
          16,
          17,
          18,
          19,
          20,
          21,
          22,
          23,
          24,
          25,
          26,
          27,
          28,
          29,
          30
         ],
         "xaxis": "x2",
         "y": [
          -0.1215183537344748,
          -0.14519362216261708,
          -0.11118935101051054,
          -0.1691500140882337,
          -0.18321637777081848,
          -0.0560590444988581,
          -0.1509108847495772,
          -0.19114772566894694,
          0.02330720787636331,
          -0.13035219221028824,
          -0.1306016394064833,
          -0.073796494158347,
          -0.08967885668046288,
          -0.026397316292035972,
          -0.0020319901346297774,
          -0.09215883720356377,
          -0.1475913063879262,
          -0.21389042695814034,
          -0.08743650153183721,
          -0.07957668923919446,
          -0.18172276156223927,
          -0.21140904401503016,
          -0.3185976401552041,
          -0.17653267682682217,
          -0.10976677486831377,
          -0.13463430813123112,
          -0.22423930123526076,
          -0.06346002167710528,
          0.02708112161076415,
          -0.10954533167415104
         ],
         "yaxis": "y2"
        },
        {
         "hovertemplate": "mixer=full_mixer<br>otimizador=NFT<br>=%{x}<br>Energia=%{y}<extra></extra>",
         "legendgroup": "full_mixer",
         "line": {
          "color": "#636efa",
          "dash": "solid"
         },
         "marker": {
          "symbol": "circle"
         },
         "mode": "lines",
         "name": "full_mixer",
         "orientation": "v",
         "showlegend": false,
         "type": "scatter",
         "x": [
          1,
          2,
          3,
          4,
          5,
          6,
          7,
          8,
          9,
          10,
          11,
          12,
          13,
          14,
          15,
          16,
          17,
          18,
          19,
          20,
          21,
          22,
          23,
          24,
          25,
          26,
          27,
          28,
          29,
          30
         ],
         "xaxis": "x3",
         "y": [
          -0.10927593758803746,
          -0.05281739905985849,
          -0.07110460295578733,
          -0.07213452539194773,
          -0.10438817927644951,
          -0.005805358484334729,
          0.011517482769689665,
          0.0007922574644802297,
          -0.09828971349395185,
          -0.12010846450200324,
          -0.23130082133568106,
          -0.013515195809747742,
          -0.16151760079086167,
          -0.05947704301756488,
          -0.21581879376330398,
          -0.22777641548256292,
          -0.19806627069532035,
          -0.06866869564741254,
          0.038381331426699444,
          0.020534459773962684,
          -0.17247736360657595,
          -0.04536078382077835,
          -0.01964393973533652,
          -0.14517239241028737,
          0.08165473205180429,
          -0.10743076112653734,
          -0.05915956838541443,
          0.016465379045215455,
          -0.07099579150795615,
          0.03996351232952601
         ],
         "yaxis": "y3"
        },
        {
         "hovertemplate": "mixer=full_mixer<br>otimizador=SLSQP<br>=%{x}<br>Energia=%{y}<extra></extra>",
         "legendgroup": "full_mixer",
         "line": {
          "color": "#636efa",
          "dash": "solid"
         },
         "marker": {
          "symbol": "circle"
         },
         "mode": "lines",
         "name": "full_mixer",
         "orientation": "v",
         "showlegend": false,
         "type": "scatter",
         "x": [
          1,
          2,
          3,
          4,
          5,
          6,
          7,
          8,
          9,
          10,
          11,
          12,
          13,
          14,
          15,
          16,
          17,
          18,
          19,
          20,
          21,
          22,
          23,
          24,
          25,
          26,
          27,
          28,
          29,
          30
         ],
         "xaxis": "x4",
         "y": [
          -0.2915307837573532,
          -0.05010982912799791,
          -0.12512922154072817,
          -0.14973359170410408,
          -0.09902491437014668,
          -0.05621892565304071,
          -0.04925228202707755,
          0.012029500167349742,
          -0.06623638591217461,
          -0.05046640381731814,
          0.010933104381140576,
          -0.00653351054051529,
          0.09138203426210402,
          -0.038031590404473875,
          -0.18766875298386052,
          -0.059144248472570445,
          -0.0997074799311735,
          -0.024152186265505998,
          -0.05389760089678509,
          0.09622306986688418,
          -0.028625842842257172,
          0.0013762093103047018,
          -0.159787322410973,
          -0.045732414888831785,
          -0.06610822004290706,
          -0.033163527337311594,
          0.07876909356680828,
          -0.11290628580231087,
          -0.015384262582518519,
          0.11664263351912414
         ],
         "yaxis": "y4"
        },
        {
         "hovertemplate": "mixer=mixer_default<br>otimizador=COBYLA<br>=%{x}<br>Energia=%{y}<extra></extra>",
         "legendgroup": "mixer_default",
         "line": {
          "color": "#EF553B",
          "dash": "solid"
         },
         "marker": {
          "symbol": "circle"
         },
         "mode": "lines",
         "name": "mixer_default",
         "orientation": "v",
         "showlegend": true,
         "type": "scatter",
         "x": [
          2,
          3,
          4,
          5,
          6,
          7,
          8,
          9,
          10,
          11,
          12,
          13,
          14,
          15,
          16,
          17,
          18,
          19,
          20,
          21,
          22,
          23,
          24,
          25,
          26,
          27,
          28,
          29,
          30
         ],
         "xaxis": "x",
         "y": [
          -0.7829852232957888,
          -1.1246288855396218,
          -1.005731683024204,
          -1.0718074289078643,
          -1.042419787296655,
          -1.0542484985751863,
          -1.1306181087574712,
          -1.0389269289256893,
          -1.0694439130916447,
          -1.0524227094954592,
          -1.1123007496446669,
          -1.1394469855432594,
          -1.021833609994352,
          -1.1235133606646506,
          -1.074587942542171,
          -1.0856450088638336,
          -1.081331713667168,
          -1.106851967475176,
          -1.0302621230370668,
          -1.0609017184291007,
          -1.0703924250272467,
          -1.0721654249180195,
          -1.123992053111366,
          -1.0621374703472424,
          -1.0737418169957094,
          -1.1014703412884903,
          -1.0975842701063778,
          -1.05101426687765,
          -1.0866023278599006
         ],
         "yaxis": "y"
        },
        {
         "hovertemplate": "mixer=mixer_default<br>otimizador=L_BFGS_B<br>=%{x}<br>Energia=%{y}<extra></extra>",
         "legendgroup": "mixer_default",
         "line": {
          "color": "#EF553B",
          "dash": "solid"
         },
         "marker": {
          "symbol": "circle"
         },
         "mode": "lines",
         "name": "mixer_default",
         "orientation": "v",
         "showlegend": false,
         "type": "scatter",
         "x": [
          1,
          2,
          3,
          4,
          5,
          6,
          7,
          8,
          9,
          10,
          11,
          12,
          13,
          14,
          15,
          16,
          17,
          18,
          19,
          20,
          21,
          22,
          23,
          24,
          25,
          26,
          27,
          28,
          29,
          30
         ],
         "xaxis": "x2",
         "y": [
          2.4848623874522926,
          0.18051614183138573,
          0.24706285870155076,
          -0.025121414587768506,
          -0.04643901635877963,
          -0.18949543693905507,
          0.11267725052056216,
          0.06381132037891886,
          -0.0017397515507687668,
          0.13612909277741134,
          -0.23591137600782916,
          -0.11270376825291026,
          -0.2453586527788938,
          -0.09206004787220869,
          -0.33542624980694263,
          -0.2162572647669074,
          -0.28661495896821976,
          -0.33838456930617317,
          -0.3023068818286075,
          -0.7483853048061971,
          -0.8125748584243967,
          -0.8860115410554598,
          -0.7560825092035688,
          -0.8167813976035695,
          -0.8306356930295025,
          -0.8397068687538914,
          -0.8183762426534217,
          -0.8694889489513309,
          -0.8893824233791053,
          -0.9113344878016878
         ],
         "yaxis": "y2"
        },
        {
         "hovertemplate": "mixer=mixer_default<br>otimizador=NFT<br>=%{x}<br>Energia=%{y}<extra></extra>",
         "legendgroup": "mixer_default",
         "line": {
          "color": "#EF553B",
          "dash": "solid"
         },
         "marker": {
          "symbol": "circle"
         },
         "mode": "lines",
         "name": "mixer_default",
         "orientation": "v",
         "showlegend": false,
         "type": "scatter",
         "x": [
          1,
          2,
          3,
          4,
          5,
          6,
          7,
          8,
          9,
          10,
          11,
          12,
          13,
          14,
          15,
          16,
          17,
          18,
          19,
          20,
          21,
          22,
          23,
          24,
          25,
          26,
          27,
          28,
          29,
          30
         ],
         "xaxis": "x3",
         "y": [
          -0.983770642155424,
          -1.0183277754159625,
          -1.085866462182158,
          -1.1614905958329413,
          -1.0975123981489792,
          -1.145128258483157,
          -1.1611036516829454,
          -1.2252798611637805,
          -1.2745277579392438,
          -1.1936141498679007,
          -1.2666639505295476,
          -1.2022220561052939,
          -1.2346157704730647,
          -1.1599487500008026,
          -1.475717776513543,
          -1.6742582856959134,
          -1.6756119178732896,
          -1.6979690076971874,
          -1.7203472427234234,
          -1.675009110175784,
          -1.6951460431227388,
          -1.7173718257805406,
          -1.698303910128365,
          -1.7092038798451192,
          -1.694656190749455,
          -1.6626955521160969,
          -1.6216995802799532,
          -1.6468827606014937,
          -1.6696046765893169,
          -1.6673728614356935
         ],
         "yaxis": "y3"
        },
        {
         "hovertemplate": "mixer=mixer_default<br>otimizador=SLSQP<br>=%{x}<br>Energia=%{y}<extra></extra>",
         "legendgroup": "mixer_default",
         "line": {
          "color": "#EF553B",
          "dash": "solid"
         },
         "marker": {
          "symbol": "circle"
         },
         "mode": "lines",
         "name": "mixer_default",
         "orientation": "v",
         "showlegend": false,
         "type": "scatter",
         "x": [
          1,
          2,
          3,
          4,
          5,
          6,
          7,
          8,
          9,
          10,
          11,
          12,
          13,
          14,
          15,
          16,
          17,
          18,
          19,
          20,
          21,
          22,
          23,
          24,
          25,
          26,
          27,
          28,
          29,
          30
         ],
         "xaxis": "x4",
         "y": [
          0.3426167834043837,
          -0.9062570917793942,
          -1.065883571817904,
          -1.0841401480632038,
          -1.1678757347722832,
          -1.1821544149539787,
          -1.1700388132752764,
          -1.2072050043272575,
          -1.1233719677097986,
          -1.148079489368652,
          -1.1151584710882119,
          -1.1273157347000513,
          -1.1447534825409718,
          -1.1543344141066914,
          -1.1912034770737798,
          -1.1671327697449991,
          -1.1630622648450553,
          -1.1946834385141445,
          -1.1515636978136026,
          -1.1470590567468024,
          -1.200241984797065,
          -1.1721864986798283,
          -1.0264131286882459,
          -1.1962718737799434,
          -1.1899153527858666,
          -1.1808781435311473,
          -1.1744835119726023,
          -1.1836248846333564,
          -1.1628206487551513,
          -1.198786087175599
         ],
         "yaxis": "y4"
        },
        {
         "hovertemplate": "mixer=parity_ring_mixer<br>otimizador=COBYLA<br>=%{x}<br>Energia=%{y}<extra></extra>",
         "legendgroup": "parity_ring_mixer",
         "line": {
          "color": "#00cc96",
          "dash": "solid"
         },
         "marker": {
          "symbol": "circle"
         },
         "mode": "lines",
         "name": "parity_ring_mixer",
         "orientation": "v",
         "showlegend": true,
         "type": "scatter",
         "x": [
          1,
          2,
          3,
          4,
          5,
          6,
          7,
          8,
          9,
          10,
          11,
          12,
          13,
          14,
          15,
          16,
          17,
          18,
          19,
          20,
          21,
          22,
          23,
          24,
          25,
          26,
          27,
          28,
          29,
          30
         ],
         "xaxis": "x",
         "y": [
          0.06296975161538684,
          -0.24009012736299895,
          -0.03591179932229512,
          -0.6418432083714096,
          -0.7397755880882746,
          -0.8136548464222612,
          -0.673432879630696,
          -0.776523440044854,
          -0.7511023698942944,
          -0.8010073123689465,
          -0.7179534561738001,
          -0.7867886095737988,
          -0.7309917734399857,
          -0.7363158699370306,
          -0.787564665284184,
          -0.7862554691478001,
          -0.7611285060149587,
          -0.7879216774695478,
          -0.7794759544730326,
          -0.743172813315526,
          -0.7380705730093007,
          -0.686832399243069,
          -0.7136557470194164,
          -0.7079209093491944,
          -0.7265917293832603,
          -0.671219519983033,
          -0.7251177803791212,
          -0.7642459104162418,
          -0.6934337871298742,
          -0.6987979806246192
         ],
         "yaxis": "y"
        },
        {
         "hovertemplate": "mixer=parity_ring_mixer<br>otimizador=L_BFGS_B<br>=%{x}<br>Energia=%{y}<extra></extra>",
         "legendgroup": "parity_ring_mixer",
         "line": {
          "color": "#00cc96",
          "dash": "solid"
         },
         "marker": {
          "symbol": "circle"
         },
         "mode": "lines",
         "name": "parity_ring_mixer",
         "orientation": "v",
         "showlegend": false,
         "type": "scatter",
         "x": [
          1,
          2,
          3,
          4,
          5,
          6,
          7,
          8,
          9,
          10,
          11,
          12,
          13,
          14,
          15,
          16,
          17,
          18,
          19,
          20,
          21,
          22,
          23,
          24,
          25,
          26,
          27,
          28,
          29,
          30
         ],
         "xaxis": "x2",
         "y": [
          0.5801015645162052,
          0.24893131684342673,
          -0.5543453768430413,
          -0.5143626933161282,
          -0.8799715960507241,
          -0.7767965859005314,
          -0.801099532399746,
          -0.793730392073261,
          -0.7962856385868711,
          -0.8508218548134312,
          -0.7882914342631415,
          -0.8225323723388256,
          -0.8220948511334161,
          -0.8258310219236531,
          -0.8281564568479074,
          -0.8267374184093258,
          -0.8733997703493035,
          -0.8037779818750096,
          -0.8861021633974452,
          -0.850324139394577,
          -0.8354809296848589,
          -0.801006498823531,
          -0.8172568965212199,
          -0.8159389522624513,
          -0.8223606353748817,
          -0.859671927963144,
          -0.8497040984191192,
          -0.8596658894081994,
          -0.879400103412022,
          -0.8434368946415334
         ],
         "yaxis": "y2"
        },
        {
         "hovertemplate": "mixer=parity_ring_mixer<br>otimizador=NFT<br>=%{x}<br>Energia=%{y}<extra></extra>",
         "legendgroup": "parity_ring_mixer",
         "line": {
          "color": "#00cc96",
          "dash": "solid"
         },
         "marker": {
          "symbol": "circle"
         },
         "mode": "lines",
         "name": "parity_ring_mixer",
         "orientation": "v",
         "showlegend": false,
         "type": "scatter",
         "x": [
          1,
          2,
          3,
          4,
          5,
          6,
          7,
          8,
          9,
          10,
          11,
          12,
          13,
          14,
          15,
          16,
          17,
          18,
          19,
          20,
          21,
          22,
          23,
          24,
          25,
          26,
          27,
          28,
          29,
          30
         ],
         "xaxis": "x3",
         "y": [
          -0.19791273635794016,
          -0.7332562553261524,
          -0.8380676095880555,
          -0.8504468765152234,
          -0.8072174166702691,
          -0.7971549120522606,
          -0.8394447452109054,
          -0.832402679253441,
          -0.8581109825253042,
          -0.8199210292572627,
          -0.8800664681329612,
          -0.8210483130384278,
          -0.8272749238574442,
          -0.7740595030968926,
          -0.8138087356652788,
          -0.8195730566634877,
          -0.863174105312454,
          -0.7729663496401069,
          -0.8115682893509055,
          -0.7982444665542029,
          -0.8181329109816212,
          -0.8386394254927645,
          -0.8499447705626597,
          -0.7835516179087687,
          -0.8505452550958535,
          -0.859279529703789,
          -0.8667748520929566,
          -0.7895042089071036,
          -0.8638156597355447,
          -0.879346840279794
         ],
         "yaxis": "y3"
        },
        {
         "hovertemplate": "mixer=parity_ring_mixer<br>otimizador=SLSQP<br>=%{x}<br>Energia=%{y}<extra></extra>",
         "legendgroup": "parity_ring_mixer",
         "line": {
          "color": "#00cc96",
          "dash": "solid"
         },
         "marker": {
          "symbol": "circle"
         },
         "mode": "lines",
         "name": "parity_ring_mixer",
         "orientation": "v",
         "showlegend": false,
         "type": "scatter",
         "x": [
          1,
          2,
          3,
          4,
          5,
          6,
          7,
          8,
          9,
          10,
          11,
          12,
          13,
          14,
          15,
          16,
          17,
          18,
          19,
          20,
          21,
          22,
          23,
          24,
          25,
          26,
          27,
          28,
          29,
          30
         ],
         "xaxis": "x4",
         "y": [
          -0.04366273815325236,
          -0.8352896447991889,
          -0.8357490847178383,
          -0.8277405585317654,
          -0.8863660045101573,
          -0.8441871230028934,
          -0.8555975477263501,
          -0.864669442392579,
          -0.8908293167508411,
          -0.9310019860534535,
          -0.8475661386373566,
          -0.8543781216698975,
          -0.8812276792260436,
          -0.8435343271050201,
          -0.8605580007491275,
          -0.9014334701037682,
          -0.9120709106597965,
          -0.8969616760423337,
          -0.8987761873176592,
          -0.9123089727624967,
          -0.9034577990014534,
          -0.8665161833649523,
          -0.859102059668216,
          -0.8804313335079383,
          -0.8843390486001016,
          -0.829378802462229,
          -0.8416045315647939,
          -0.8444704093179252,
          -0.788424690656089,
          -0.8462337522913044
         ],
         "yaxis": "y4"
        },
        {
         "hovertemplate": "mixer=ring_mixer<br>otimizador=COBYLA<br>=%{x}<br>Energia=%{y}<extra></extra>",
         "legendgroup": "ring_mixer",
         "line": {
          "color": "#ab63fa",
          "dash": "solid"
         },
         "marker": {
          "symbol": "circle"
         },
         "mode": "lines",
         "name": "ring_mixer",
         "orientation": "v",
         "showlegend": true,
         "type": "scatter",
         "x": [
          1,
          2,
          3,
          4,
          5,
          6,
          7,
          8,
          9,
          10,
          11,
          12,
          13,
          14,
          15,
          16,
          17,
          18,
          19,
          20,
          21,
          22,
          23,
          24,
          25,
          26,
          27,
          28,
          29,
          30
         ],
         "xaxis": "x",
         "y": [
          -0.20848162302088757,
          -0.23488010161696202,
          -0.29467533780776645,
          -0.17095669137808378,
          -0.163373988785677,
          -0.16221814296856849,
          -0.20657593001633354,
          -0.1743265086259721,
          -0.09610465997920808,
          -0.18680990116792837,
          -0.239324960412636,
          -0.2597855803716875,
          -0.24461617747174116,
          -0.3128431637483535,
          -0.200006649560102,
          -0.3145703697400358,
          -0.04658464554439678,
          -0.013056535855570844,
          -0.49520316646286994,
          -0.3656698274212967,
          -0.37955693650954253,
          -0.3645730477714164,
          -0.3337522090057809,
          -0.4066859568580615,
          -0.3768459893935944,
          -0.3972375523766713,
          -0.5087389886470032,
          -0.48015118848189553,
          -0.400563181677666,
          -0.35411129398314106
         ],
         "yaxis": "y"
        },
        {
         "hovertemplate": "mixer=ring_mixer<br>otimizador=L_BFGS_B<br>=%{x}<br>Energia=%{y}<extra></extra>",
         "legendgroup": "ring_mixer",
         "line": {
          "color": "#ab63fa",
          "dash": "solid"
         },
         "marker": {
          "symbol": "circle"
         },
         "mode": "lines",
         "name": "ring_mixer",
         "orientation": "v",
         "showlegend": false,
         "type": "scatter",
         "x": [
          1,
          2,
          3,
          4,
          5,
          6,
          7,
          8,
          9,
          10,
          11,
          12,
          13,
          14,
          15,
          16,
          17,
          18,
          19,
          20,
          21,
          22,
          23,
          24,
          25,
          26,
          27,
          28,
          29,
          30
         ],
         "xaxis": "x2",
         "y": [
          -0.5505065025493874,
          -0.5628799512803426,
          -0.5804452154926594,
          -0.6405505357502009,
          -0.5367831159714908,
          -0.6502282344607758,
          -0.6246088056225026,
          -0.620858008488021,
          -0.6012866511188746,
          -0.5326986326493974,
          -0.4891628041919741,
          -0.5563531159498091,
          -0.5533677763516962,
          -0.7837881434574647,
          -0.7608318764283185,
          -0.7748841849537345,
          -0.7168969224703617,
          -0.717941091400462,
          -0.723329540681166,
          -0.7304615086598586,
          -0.7114517412700104,
          -0.764872879796614,
          -0.7332549973440227,
          -0.7372248461182821,
          -0.7605174558680058,
          -0.755870022111268,
          -0.7700250919795281,
          -0.7946524753863423,
          -0.704053891217966,
          -0.7756577549113335
         ],
         "yaxis": "y2"
        },
        {
         "hovertemplate": "mixer=ring_mixer<br>otimizador=NFT<br>=%{x}<br>Energia=%{y}<extra></extra>",
         "legendgroup": "ring_mixer",
         "line": {
          "color": "#ab63fa",
          "dash": "solid"
         },
         "marker": {
          "symbol": "circle"
         },
         "mode": "lines",
         "name": "ring_mixer",
         "orientation": "v",
         "showlegend": false,
         "type": "scatter",
         "x": [
          1,
          2,
          3,
          4,
          5,
          6,
          7,
          8,
          9,
          10,
          11,
          12,
          13,
          14,
          15,
          16,
          17,
          18,
          19,
          20,
          21,
          22,
          23,
          24,
          25,
          26,
          27,
          28,
          29,
          30
         ],
         "xaxis": "x3",
         "y": [
          0.017719589885544673,
          -0.7809814393562423,
          -0.7470011281622736,
          -0.8311278551812267,
          -0.7366921749790015,
          -0.7664327083098065,
          -0.8562603323568699,
          -0.8957863378502093,
          -0.8612646306351848,
          -0.871380739001818,
          -0.8186830254092035,
          -0.8681711192229897,
          -0.8655679592867563,
          -0.8637893068373405,
          -0.8062053172506627,
          -0.8635131000730861,
          -0.8027347420326469,
          -0.8611745733605607,
          -0.8525131854267184,
          -0.8560813040088995,
          -0.8612589285281308,
          -0.8091228015270338,
          -0.8919039237054712,
          -0.8496237071107494,
          -0.7683051099234696,
          -0.8882543149634418,
          -0.8856620030548976,
          -0.7301084520164077,
          -0.7992248756176769,
          -0.7640381736802264
         ],
         "yaxis": "y3"
        },
        {
         "hovertemplate": "mixer=ring_mixer<br>otimizador=SLSQP<br>=%{x}<br>Energia=%{y}<extra></extra>",
         "legendgroup": "ring_mixer",
         "line": {
          "color": "#ab63fa",
          "dash": "solid"
         },
         "marker": {
          "symbol": "circle"
         },
         "mode": "lines",
         "name": "ring_mixer",
         "orientation": "v",
         "showlegend": false,
         "type": "scatter",
         "x": [
          1,
          2,
          3,
          4,
          5,
          6,
          7,
          8,
          9,
          10,
          11,
          12,
          13,
          14,
          15,
          16,
          17,
          18,
          19,
          20,
          21,
          22,
          23,
          24,
          25,
          26,
          27,
          28,
          29,
          30
         ],
         "xaxis": "x4",
         "y": [
          -0.05959685418932412,
          -0.7433569681197302,
          -0.8246482667353356,
          -0.7988791784845938,
          -0.7911247833464035,
          -0.8312582165279461,
          -0.8780718716291492,
          -0.7935883947501334,
          -0.8329019603330208,
          -0.8467690430350092,
          -0.7928066561731055,
          -0.8286669025197739,
          -0.7913152036431065,
          -0.7974465648596781,
          -0.8396804147253785,
          -0.8553276057837129,
          -0.8439105072688812,
          -0.8399326082782348,
          -0.8413378381597784,
          -0.8723534990246241,
          -0.8401848605426823,
          -0.794887669800074,
          -0.8420822188781776,
          -0.859636049516546,
          -0.8364550408951741,
          -0.8297698024834582,
          -0.8765036243759057,
          -0.8512707765481148,
          -0.8305456655580941,
          -0.8327865113723169
         ],
         "yaxis": "y4"
        }
       ],
       "layout": {
        "annotations": [
         {
          "showarrow": false,
          "text": "otimizador=COBYLA",
          "x": 0.1175,
          "xanchor": "center",
          "xref": "paper",
          "y": 1,
          "yanchor": "bottom",
          "yref": "paper"
         },
         {
          "showarrow": false,
          "text": "otimizador=L_BFGS_B",
          "x": 0.3725,
          "xanchor": "center",
          "xref": "paper",
          "y": 1,
          "yanchor": "bottom",
          "yref": "paper"
         },
         {
          "showarrow": false,
          "text": "otimizador=NFT",
          "x": 0.6275,
          "xanchor": "center",
          "xref": "paper",
          "y": 1,
          "yanchor": "bottom",
          "yref": "paper"
         },
         {
          "showarrow": false,
          "text": "otimizador=SLSQP",
          "x": 0.8824999999999998,
          "xanchor": "center",
          "xref": "paper",
          "y": 1,
          "yanchor": "bottom",
          "yref": "paper"
         },
         {
          "font": {
           "size": 35
          },
          "showarrow": false,
          "text": "Rodada de epocas (até 500 epocas por rodada)",
          "x": 0.5,
          "xref": "paper",
          "y": -0.17,
          "yref": "paper"
         }
        ],
        "font": {
         "size": 35
        },
        "height": 700,
        "legend": {
         "title": {
          "text": "mixers"
         },
         "tracegroupgap": 0
        },
        "margin": {
         "b": 90,
         "l": 90,
         "r": 90,
         "t": 90
        },
        "template": {
         "data": {
          "bar": [
           {
            "error_x": {
             "color": "#2a3f5f"
            },
            "error_y": {
             "color": "#2a3f5f"
            },
            "marker": {
             "line": {
              "color": "#E5ECF6",
              "width": 0.5
             },
             "pattern": {
              "fillmode": "overlay",
              "size": 10,
              "solidity": 0.2
             }
            },
            "type": "bar"
           }
          ],
          "barpolar": [
           {
            "marker": {
             "line": {
              "color": "#E5ECF6",
              "width": 0.5
             },
             "pattern": {
              "fillmode": "overlay",
              "size": 10,
              "solidity": 0.2
             }
            },
            "type": "barpolar"
           }
          ],
          "carpet": [
           {
            "aaxis": {
             "endlinecolor": "#2a3f5f",
             "gridcolor": "white",
             "linecolor": "white",
             "minorgridcolor": "white",
             "startlinecolor": "#2a3f5f"
            },
            "baxis": {
             "endlinecolor": "#2a3f5f",
             "gridcolor": "white",
             "linecolor": "white",
             "minorgridcolor": "white",
             "startlinecolor": "#2a3f5f"
            },
            "type": "carpet"
           }
          ],
          "choropleth": [
           {
            "colorbar": {
             "outlinewidth": 0,
             "ticks": ""
            },
            "type": "choropleth"
           }
          ],
          "contour": [
           {
            "colorbar": {
             "outlinewidth": 0,
             "ticks": ""
            },
            "colorscale": [
             [
              0,
              "#0d0887"
             ],
             [
              0.1111111111111111,
              "#46039f"
             ],
             [
              0.2222222222222222,
              "#7201a8"
             ],
             [
              0.3333333333333333,
              "#9c179e"
             ],
             [
              0.4444444444444444,
              "#bd3786"
             ],
             [
              0.5555555555555556,
              "#d8576b"
             ],
             [
              0.6666666666666666,
              "#ed7953"
             ],
             [
              0.7777777777777778,
              "#fb9f3a"
             ],
             [
              0.8888888888888888,
              "#fdca26"
             ],
             [
              1,
              "#f0f921"
             ]
            ],
            "type": "contour"
           }
          ],
          "contourcarpet": [
           {
            "colorbar": {
             "outlinewidth": 0,
             "ticks": ""
            },
            "type": "contourcarpet"
           }
          ],
          "heatmap": [
           {
            "colorbar": {
             "outlinewidth": 0,
             "ticks": ""
            },
            "colorscale": [
             [
              0,
              "#0d0887"
             ],
             [
              0.1111111111111111,
              "#46039f"
             ],
             [
              0.2222222222222222,
              "#7201a8"
             ],
             [
              0.3333333333333333,
              "#9c179e"
             ],
             [
              0.4444444444444444,
              "#bd3786"
             ],
             [
              0.5555555555555556,
              "#d8576b"
             ],
             [
              0.6666666666666666,
              "#ed7953"
             ],
             [
              0.7777777777777778,
              "#fb9f3a"
             ],
             [
              0.8888888888888888,
              "#fdca26"
             ],
             [
              1,
              "#f0f921"
             ]
            ],
            "type": "heatmap"
           }
          ],
          "heatmapgl": [
           {
            "colorbar": {
             "outlinewidth": 0,
             "ticks": ""
            },
            "colorscale": [
             [
              0,
              "#0d0887"
             ],
             [
              0.1111111111111111,
              "#46039f"
             ],
             [
              0.2222222222222222,
              "#7201a8"
             ],
             [
              0.3333333333333333,
              "#9c179e"
             ],
             [
              0.4444444444444444,
              "#bd3786"
             ],
             [
              0.5555555555555556,
              "#d8576b"
             ],
             [
              0.6666666666666666,
              "#ed7953"
             ],
             [
              0.7777777777777778,
              "#fb9f3a"
             ],
             [
              0.8888888888888888,
              "#fdca26"
             ],
             [
              1,
              "#f0f921"
             ]
            ],
            "type": "heatmapgl"
           }
          ],
          "histogram": [
           {
            "marker": {
             "pattern": {
              "fillmode": "overlay",
              "size": 10,
              "solidity": 0.2
             }
            },
            "type": "histogram"
           }
          ],
          "histogram2d": [
           {
            "colorbar": {
             "outlinewidth": 0,
             "ticks": ""
            },
            "colorscale": [
             [
              0,
              "#0d0887"
             ],
             [
              0.1111111111111111,
              "#46039f"
             ],
             [
              0.2222222222222222,
              "#7201a8"
             ],
             [
              0.3333333333333333,
              "#9c179e"
             ],
             [
              0.4444444444444444,
              "#bd3786"
             ],
             [
              0.5555555555555556,
              "#d8576b"
             ],
             [
              0.6666666666666666,
              "#ed7953"
             ],
             [
              0.7777777777777778,
              "#fb9f3a"
             ],
             [
              0.8888888888888888,
              "#fdca26"
             ],
             [
              1,
              "#f0f921"
             ]
            ],
            "type": "histogram2d"
           }
          ],
          "histogram2dcontour": [
           {
            "colorbar": {
             "outlinewidth": 0,
             "ticks": ""
            },
            "colorscale": [
             [
              0,
              "#0d0887"
             ],
             [
              0.1111111111111111,
              "#46039f"
             ],
             [
              0.2222222222222222,
              "#7201a8"
             ],
             [
              0.3333333333333333,
              "#9c179e"
             ],
             [
              0.4444444444444444,
              "#bd3786"
             ],
             [
              0.5555555555555556,
              "#d8576b"
             ],
             [
              0.6666666666666666,
              "#ed7953"
             ],
             [
              0.7777777777777778,
              "#fb9f3a"
             ],
             [
              0.8888888888888888,
              "#fdca26"
             ],
             [
              1,
              "#f0f921"
             ]
            ],
            "type": "histogram2dcontour"
           }
          ],
          "mesh3d": [
           {
            "colorbar": {
             "outlinewidth": 0,
             "ticks": ""
            },
            "type": "mesh3d"
           }
          ],
          "parcoords": [
           {
            "line": {
             "colorbar": {
              "outlinewidth": 0,
              "ticks": ""
             }
            },
            "type": "parcoords"
           }
          ],
          "pie": [
           {
            "automargin": true,
            "type": "pie"
           }
          ],
          "scatter": [
           {
            "fillpattern": {
             "fillmode": "overlay",
             "size": 10,
             "solidity": 0.2
            },
            "type": "scatter"
           }
          ],
          "scatter3d": [
           {
            "line": {
             "colorbar": {
              "outlinewidth": 0,
              "ticks": ""
             }
            },
            "marker": {
             "colorbar": {
              "outlinewidth": 0,
              "ticks": ""
             }
            },
            "type": "scatter3d"
           }
          ],
          "scattercarpet": [
           {
            "marker": {
             "colorbar": {
              "outlinewidth": 0,
              "ticks": ""
             }
            },
            "type": "scattercarpet"
           }
          ],
          "scattergeo": [
           {
            "marker": {
             "colorbar": {
              "outlinewidth": 0,
              "ticks": ""
             }
            },
            "type": "scattergeo"
           }
          ],
          "scattergl": [
           {
            "marker": {
             "colorbar": {
              "outlinewidth": 0,
              "ticks": ""
             }
            },
            "type": "scattergl"
           }
          ],
          "scattermapbox": [
           {
            "marker": {
             "colorbar": {
              "outlinewidth": 0,
              "ticks": ""
             }
            },
            "type": "scattermapbox"
           }
          ],
          "scatterpolar": [
           {
            "marker": {
             "colorbar": {
              "outlinewidth": 0,
              "ticks": ""
             }
            },
            "type": "scatterpolar"
           }
          ],
          "scatterpolargl": [
           {
            "marker": {
             "colorbar": {
              "outlinewidth": 0,
              "ticks": ""
             }
            },
            "type": "scatterpolargl"
           }
          ],
          "scatterternary": [
           {
            "marker": {
             "colorbar": {
              "outlinewidth": 0,
              "ticks": ""
             }
            },
            "type": "scatterternary"
           }
          ],
          "surface": [
           {
            "colorbar": {
             "outlinewidth": 0,
             "ticks": ""
            },
            "colorscale": [
             [
              0,
              "#0d0887"
             ],
             [
              0.1111111111111111,
              "#46039f"
             ],
             [
              0.2222222222222222,
              "#7201a8"
             ],
             [
              0.3333333333333333,
              "#9c179e"
             ],
             [
              0.4444444444444444,
              "#bd3786"
             ],
             [
              0.5555555555555556,
              "#d8576b"
             ],
             [
              0.6666666666666666,
              "#ed7953"
             ],
             [
              0.7777777777777778,
              "#fb9f3a"
             ],
             [
              0.8888888888888888,
              "#fdca26"
             ],
             [
              1,
              "#f0f921"
             ]
            ],
            "type": "surface"
           }
          ],
          "table": [
           {
            "cells": {
             "fill": {
              "color": "#EBF0F8"
             },
             "line": {
              "color": "white"
             }
            },
            "header": {
             "fill": {
              "color": "#C8D4E3"
             },
             "line": {
              "color": "white"
             }
            },
            "type": "table"
           }
          ]
         },
         "layout": {
          "annotationdefaults": {
           "arrowcolor": "#2a3f5f",
           "arrowhead": 0,
           "arrowwidth": 1
          },
          "autotypenumbers": "strict",
          "coloraxis": {
           "colorbar": {
            "outlinewidth": 0,
            "ticks": ""
           }
          },
          "colorscale": {
           "diverging": [
            [
             0,
             "#8e0152"
            ],
            [
             0.1,
             "#c51b7d"
            ],
            [
             0.2,
             "#de77ae"
            ],
            [
             0.3,
             "#f1b6da"
            ],
            [
             0.4,
             "#fde0ef"
            ],
            [
             0.5,
             "#f7f7f7"
            ],
            [
             0.6,
             "#e6f5d0"
            ],
            [
             0.7,
             "#b8e186"
            ],
            [
             0.8,
             "#7fbc41"
            ],
            [
             0.9,
             "#4d9221"
            ],
            [
             1,
             "#276419"
            ]
           ],
           "sequential": [
            [
             0,
             "#0d0887"
            ],
            [
             0.1111111111111111,
             "#46039f"
            ],
            [
             0.2222222222222222,
             "#7201a8"
            ],
            [
             0.3333333333333333,
             "#9c179e"
            ],
            [
             0.4444444444444444,
             "#bd3786"
            ],
            [
             0.5555555555555556,
             "#d8576b"
            ],
            [
             0.6666666666666666,
             "#ed7953"
            ],
            [
             0.7777777777777778,
             "#fb9f3a"
            ],
            [
             0.8888888888888888,
             "#fdca26"
            ],
            [
             1,
             "#f0f921"
            ]
           ],
           "sequentialminus": [
            [
             0,
             "#0d0887"
            ],
            [
             0.1111111111111111,
             "#46039f"
            ],
            [
             0.2222222222222222,
             "#7201a8"
            ],
            [
             0.3333333333333333,
             "#9c179e"
            ],
            [
             0.4444444444444444,
             "#bd3786"
            ],
            [
             0.5555555555555556,
             "#d8576b"
            ],
            [
             0.6666666666666666,
             "#ed7953"
            ],
            [
             0.7777777777777778,
             "#fb9f3a"
            ],
            [
             0.8888888888888888,
             "#fdca26"
            ],
            [
             1,
             "#f0f921"
            ]
           ]
          },
          "colorway": [
           "#636efa",
           "#EF553B",
           "#00cc96",
           "#ab63fa",
           "#FFA15A",
           "#19d3f3",
           "#FF6692",
           "#B6E880",
           "#FF97FF",
           "#FECB52"
          ],
          "font": {
           "color": "#2a3f5f"
          },
          "geo": {
           "bgcolor": "white",
           "lakecolor": "white",
           "landcolor": "#E5ECF6",
           "showlakes": true,
           "showland": true,
           "subunitcolor": "white"
          },
          "hoverlabel": {
           "align": "left"
          },
          "hovermode": "closest",
          "mapbox": {
           "style": "light"
          },
          "paper_bgcolor": "white",
          "plot_bgcolor": "#E5ECF6",
          "polar": {
           "angularaxis": {
            "gridcolor": "white",
            "linecolor": "white",
            "ticks": ""
           },
           "bgcolor": "#E5ECF6",
           "radialaxis": {
            "gridcolor": "white",
            "linecolor": "white",
            "ticks": ""
           }
          },
          "scene": {
           "xaxis": {
            "backgroundcolor": "#E5ECF6",
            "gridcolor": "white",
            "gridwidth": 2,
            "linecolor": "white",
            "showbackground": true,
            "ticks": "",
            "zerolinecolor": "white"
           },
           "yaxis": {
            "backgroundcolor": "#E5ECF6",
            "gridcolor": "white",
            "gridwidth": 2,
            "linecolor": "white",
            "showbackground": true,
            "ticks": "",
            "zerolinecolor": "white"
           },
           "zaxis": {
            "backgroundcolor": "#E5ECF6",
            "gridcolor": "white",
            "gridwidth": 2,
            "linecolor": "white",
            "showbackground": true,
            "ticks": "",
            "zerolinecolor": "white"
           }
          },
          "shapedefaults": {
           "line": {
            "color": "#2a3f5f"
           }
          },
          "ternary": {
           "aaxis": {
            "gridcolor": "white",
            "linecolor": "white",
            "ticks": ""
           },
           "baxis": {
            "gridcolor": "white",
            "linecolor": "white",
            "ticks": ""
           },
           "bgcolor": "#E5ECF6",
           "caxis": {
            "gridcolor": "white",
            "linecolor": "white",
            "ticks": ""
           }
          },
          "title": {
           "x": 0.05
          },
          "xaxis": {
           "automargin": true,
           "gridcolor": "white",
           "linecolor": "white",
           "ticks": "",
           "title": {
            "standoff": 15
           },
           "zerolinecolor": "white",
           "zerolinewidth": 2
          },
          "yaxis": {
           "automargin": true,
           "gridcolor": "white",
           "linecolor": "white",
           "ticks": "",
           "title": {
            "standoff": 15
           },
           "zerolinecolor": "white",
           "zerolinewidth": 2
          }
         }
        },
        "width": 3200,
        "xaxis": {
         "anchor": "y",
         "domain": [
          0,
          0.235
         ],
         "showticklabels": true,
         "title": {
          "text": ""
         }
        },
        "xaxis2": {
         "anchor": "y2",
         "domain": [
          0.255,
          0.49
         ],
         "matches": "x",
         "showticklabels": true,
         "title": {
          "text": ""
         }
        },
        "xaxis3": {
         "anchor": "y3",
         "domain": [
          0.51,
          0.745
         ],
         "matches": "x",
         "showticklabels": true,
         "title": {
          "text": ""
         }
        },
        "xaxis4": {
         "anchor": "y4",
         "domain": [
          0.7649999999999999,
          0.9999999999999999
         ],
         "matches": "x",
         "showticklabels": true,
         "title": {
          "text": ""
         }
        },
        "yaxis": {
         "anchor": "x",
         "domain": [
          0,
          1
         ],
         "title": {
          "text": "Energia"
         }
        },
        "yaxis2": {
         "anchor": "x2",
         "domain": [
          0,
          1
         ],
         "matches": "y",
         "showticklabels": false
        },
        "yaxis3": {
         "anchor": "x3",
         "domain": [
          0,
          1
         ],
         "matches": "y",
         "showticklabels": false
        },
        "yaxis4": {
         "anchor": "x4",
         "domain": [
          0,
          1
         ],
         "matches": "y",
         "showticklabels": false
        }
       }
      }
     },
     "metadata": {},
     "output_type": "display_data"
    }
   ],
   "source": [
    "df_qaoa_real = df_qaoa.copy()\n",
    "df_qaoa_real['valor_energia'] = df_qaoa['valor_energia'].apply(lambda x: x.real if isinstance(x, complex) else x)\n",
    "df_qaoa_real_epoca = df_qaoa_real.loc[df_qaoa_real['nova_epoca'] == True]\n",
    "df_qaoa_real_epoca = df_qaoa_real_epoca.sort_values(by='epoca')\n",
    "\n",
    "df_qaoa_real_epoca = df_qaoa_real_epoca.sort_values(by=['mixer', 'otimizador'])\n",
    "\n",
    "fig = px.line(df_qaoa_real_epoca, x='epoca', y='valor_energia', color='mixer',\n",
    "              facet_col='otimizador', facet_col_wrap=df_qaoa_real_epoca['otimizador'].nunique(),\n",
    "              labels={'epoca': '', 'valor_energia': 'Energia'},\n",
    "              title='')\n",
    "\n",
    "fig.update_layout(width=width_padrao_display_junto, height=height_padrao_display_junto, legend_title='mixers', font=tamanho_padrao_fonte, margin=tamanho_padrao_margem)\n",
    "fig.update_xaxes(showticklabels=True, title_text='')\n",
    "\n",
    "fig.add_annotation(\n",
    "    text='Rodada de epocas (até 500 epocas por rodada)',\n",
    "    xref='paper',\n",
    "    yref='paper',\n",
    "    x=0.5,\n",
    "    y=-0.17,\n",
    "    showarrow=False,\n",
    "    font=tamanho_padrao_fonte\n",
    ")\n",
    "\n",
    "if salvar_figuras:\n",
    "    nome_figura = f\"figuras_qaoa/{num_ativos}_{ambiente_backend}_energia_por_epoca_junto_qaoa.png\"\n",
    "    fig.write_image(nome_figura, width=width_padrao_salvar_junto, height=height_padrao_salvar_junto)\n",
    "\n",
    "if mostrar_figuras:\n",
    "    fig.show()"
   ]
  },
  {
   "cell_type": "code",
   "execution_count": 26,
   "metadata": {},
   "outputs": [],
   "source": [
    "# df_agg = df_qaoa.groupby(['mixer', 'otimizador'], as_index=False)['valor_otimo_encontrado'].mean() # pode ser média, max, min, pois todos os valores sao iguais\n",
    "\n",
    "# fig = px.bar(df_agg, x='mixer', y='valor_otimo_encontrado', color='mixer', facet_col='otimizador',\n",
    "#              title='',\n",
    "#              width=width_padrao_display_junto, height=height_padrao_display_junto, \n",
    "#              )\n",
    "\n",
    "# fig.update_layout(xaxis_title='', yaxis_title='Energia', font=tamanho_padrao_fonte, margin=tamanho_padrao_margem)\n",
    "# fig.update_xaxes(showticklabels=False, title_text='')\n",
    "\n",
    "# fig.add_annotation(\n",
    "#     text='Mixer',\n",
    "#     xref='paper',\n",
    "#     yref='paper',\n",
    "#     x=0.5,\n",
    "#     y=-0.13,\n",
    "#     showarrow=False,\n",
    "#     font=tamanho_padrao_fonte\n",
    "# )\n",
    "\n",
    "# if salvar_figuras:\n",
    "#     nome_figura = f\"figuras_qaoa/{num_ativos}_{ambiente_backend}_valor_otimo_qaoa.png\"\n",
    "#     fig.write_image(nome_figura, width=width_padrao_salvar_junto, height=height_padrao_salvar_junto)\n",
    "\n",
    "# if mostrar_figuras:\n",
    "#     fig.show()"
   ]
  },
  {
   "cell_type": "code",
   "execution_count": 56,
   "metadata": {},
   "outputs": [
    {
     "data": {
      "application/vnd.plotly.v1+json": {
       "config": {
        "plotlyServerURL": "https://plot.ly"
       },
       "data": [
        {
         "alignmentgroup": "True",
         "hovertemplate": "mixer=%{x}<br>otimizador=COBYLA<br>probabilidade_valor_otimo=%{y}<extra></extra>",
         "legendgroup": "full_mixer",
         "marker": {
          "color": "#636efa",
          "pattern": {
           "shape": ""
          }
         },
         "name": "full_mixer",
         "offsetgroup": "full_mixer",
         "orientation": "v",
         "showlegend": true,
         "textposition": "auto",
         "type": "bar",
         "x": [
          "full_mixer"
         ],
         "xaxis": "x",
         "y": [
          0.004500057234432234
         ],
         "yaxis": "y"
        },
        {
         "alignmentgroup": "True",
         "hovertemplate": "mixer=%{x}<br>otimizador=L_BFGS_B<br>probabilidade_valor_otimo=%{y}<extra></extra>",
         "legendgroup": "full_mixer",
         "marker": {
          "color": "#636efa",
          "pattern": {
           "shape": ""
          }
         },
         "name": "full_mixer",
         "offsetgroup": "full_mixer",
         "orientation": "v",
         "showlegend": false,
         "textposition": "auto",
         "type": "bar",
         "x": [
          "full_mixer"
         ],
         "xaxis": "x2",
         "y": [
          0.004925451144366197
         ],
         "yaxis": "y2"
        },
        {
         "alignmentgroup": "True",
         "hovertemplate": "mixer=%{x}<br>otimizador=NFT<br>probabilidade_valor_otimo=%{y}<extra></extra>",
         "legendgroup": "full_mixer",
         "marker": {
          "color": "#636efa",
          "pattern": {
           "shape": ""
          }
         },
         "name": "full_mixer",
         "offsetgroup": "full_mixer",
         "orientation": "v",
         "showlegend": false,
         "textposition": "auto",
         "type": "bar",
         "x": [
          "full_mixer"
         ],
         "xaxis": "x3",
         "y": [
          0.006380208333333333
         ],
         "yaxis": "y3"
        },
        {
         "alignmentgroup": "True",
         "hovertemplate": "mixer=%{x}<br>otimizador=SLSQP<br>probabilidade_valor_otimo=%{y}<extra></extra>",
         "legendgroup": "full_mixer",
         "marker": {
          "color": "#636efa",
          "pattern": {
           "shape": ""
          }
         },
         "name": "full_mixer",
         "offsetgroup": "full_mixer",
         "orientation": "v",
         "showlegend": false,
         "textposition": "auto",
         "type": "bar",
         "x": [
          "full_mixer"
         ],
         "xaxis": "x4",
         "y": [
          0.005127210494412819
         ],
         "yaxis": "y4"
        },
        {
         "alignmentgroup": "True",
         "hovertemplate": "mixer=%{x}<br>otimizador=COBYLA<br>probabilidade_valor_otimo=%{y}<extra></extra>",
         "legendgroup": "mixer_default",
         "marker": {
          "color": "#EF553B",
          "pattern": {
           "shape": ""
          }
         },
         "name": "mixer_default",
         "offsetgroup": "mixer_default",
         "orientation": "v",
         "showlegend": true,
         "textposition": "auto",
         "type": "bar",
         "x": [
          "mixer_default"
         ],
         "xaxis": "x",
         "y": [
          0.00487115900954654
         ],
         "yaxis": "y"
        },
        {
         "alignmentgroup": "True",
         "hovertemplate": "mixer=%{x}<br>otimizador=L_BFGS_B<br>probabilidade_valor_otimo=%{y}<extra></extra>",
         "legendgroup": "mixer_default",
         "marker": {
          "color": "#EF553B",
          "pattern": {
           "shape": ""
          }
         },
         "name": "mixer_default",
         "offsetgroup": "mixer_default",
         "orientation": "v",
         "showlegend": false,
         "textposition": "auto",
         "type": "bar",
         "x": [
          "mixer_default"
         ],
         "xaxis": "x2",
         "y": [
          0.008510621126033058
         ],
         "yaxis": "y2"
        },
        {
         "alignmentgroup": "True",
         "hovertemplate": "mixer=%{x}<br>otimizador=NFT<br>probabilidade_valor_otimo=%{y}<extra></extra>",
         "legendgroup": "mixer_default",
         "marker": {
          "color": "#EF553B",
          "pattern": {
           "shape": ""
          }
         },
         "name": "mixer_default",
         "offsetgroup": "mixer_default",
         "orientation": "v",
         "showlegend": false,
         "textposition": "auto",
         "type": "bar",
         "x": [
          "mixer_default"
         ],
         "xaxis": "x3",
         "y": [
          0.03662109375
         ],
         "yaxis": "y3"
        },
        {
         "alignmentgroup": "True",
         "hovertemplate": "mixer=%{x}<br>otimizador=SLSQP<br>probabilidade_valor_otimo=%{y}<extra></extra>",
         "legendgroup": "mixer_default",
         "marker": {
          "color": "#EF553B",
          "pattern": {
           "shape": ""
          }
         },
         "name": "mixer_default",
         "offsetgroup": "mixer_default",
         "orientation": "v",
         "showlegend": false,
         "textposition": "auto",
         "type": "bar",
         "x": [
          "mixer_default"
         ],
         "xaxis": "x4",
         "y": [
          0.006869738453919933
         ],
         "yaxis": "y4"
        },
        {
         "alignmentgroup": "True",
         "hovertemplate": "mixer=%{x}<br>otimizador=COBYLA<br>probabilidade_valor_otimo=%{y}<extra></extra>",
         "legendgroup": "parity_ring_mixer",
         "marker": {
          "color": "#00cc96",
          "pattern": {
           "shape": ""
          }
         },
         "name": "parity_ring_mixer",
         "offsetgroup": "parity_ring_mixer",
         "orientation": "v",
         "showlegend": true,
         "textposition": "auto",
         "type": "bar",
         "x": [
          "parity_ring_mixer"
         ],
         "xaxis": "x",
         "y": [
          0.004419062126196172
         ],
         "yaxis": "y"
        },
        {
         "alignmentgroup": "True",
         "hovertemplate": "mixer=%{x}<br>otimizador=L_BFGS_B<br>probabilidade_valor_otimo=%{y}<extra></extra>",
         "legendgroup": "parity_ring_mixer",
         "marker": {
          "color": "#00cc96",
          "pattern": {
           "shape": ""
          }
         },
         "name": "parity_ring_mixer",
         "offsetgroup": "parity_ring_mixer",
         "orientation": "v",
         "showlegend": false,
         "textposition": "auto",
         "type": "bar",
         "x": [
          "parity_ring_mixer"
         ],
         "xaxis": "x2",
         "y": [
          0.0039740487316421895
         ],
         "yaxis": "y2"
        },
        {
         "alignmentgroup": "True",
         "hovertemplate": "mixer=%{x}<br>otimizador=NFT<br>probabilidade_valor_otimo=%{y}<extra></extra>",
         "legendgroup": "parity_ring_mixer",
         "marker": {
          "color": "#00cc96",
          "pattern": {
           "shape": ""
          }
         },
         "name": "parity_ring_mixer",
         "offsetgroup": "parity_ring_mixer",
         "orientation": "v",
         "showlegend": false,
         "textposition": "auto",
         "type": "bar",
         "x": [
          "parity_ring_mixer"
         ],
         "xaxis": "x3",
         "y": [
          0.0064127604166666664
         ],
         "yaxis": "y3"
        },
        {
         "alignmentgroup": "True",
         "hovertemplate": "mixer=%{x}<br>otimizador=SLSQP<br>probabilidade_valor_otimo=%{y}<extra></extra>",
         "legendgroup": "parity_ring_mixer",
         "marker": {
          "color": "#00cc96",
          "pattern": {
           "shape": ""
          }
         },
         "name": "parity_ring_mixer",
         "offsetgroup": "parity_ring_mixer",
         "orientation": "v",
         "showlegend": false,
         "textposition": "auto",
         "type": "bar",
         "x": [
          "parity_ring_mixer"
         ],
         "xaxis": "x4",
         "y": [
          0.005080075465274625
         ],
         "yaxis": "y4"
        },
        {
         "alignmentgroup": "True",
         "hovertemplate": "mixer=%{x}<br>otimizador=COBYLA<br>probabilidade_valor_otimo=%{y}<extra></extra>",
         "legendgroup": "ring_mixer",
         "marker": {
          "color": "#ab63fa",
          "pattern": {
           "shape": ""
          }
         },
         "name": "ring_mixer",
         "offsetgroup": "ring_mixer",
         "orientation": "v",
         "showlegend": true,
         "textposition": "auto",
         "type": "bar",
         "x": [
          "ring_mixer"
         ],
         "xaxis": "x",
         "y": [
          0.004022784904534606
         ],
         "yaxis": "y"
        },
        {
         "alignmentgroup": "True",
         "hovertemplate": "mixer=%{x}<br>otimizador=L_BFGS_B<br>probabilidade_valor_otimo=%{y}<extra></extra>",
         "legendgroup": "ring_mixer",
         "marker": {
          "color": "#ab63fa",
          "pattern": {
           "shape": ""
          }
         },
         "name": "ring_mixer",
         "offsetgroup": "ring_mixer",
         "orientation": "v",
         "showlegend": false,
         "textposition": "auto",
         "type": "bar",
         "x": [
          "ring_mixer"
         ],
         "xaxis": "x2",
         "y": [
          0.004675468954783748
         ],
         "yaxis": "y2"
        },
        {
         "alignmentgroup": "True",
         "hovertemplate": "mixer=%{x}<br>otimizador=NFT<br>probabilidade_valor_otimo=%{y}<extra></extra>",
         "legendgroup": "ring_mixer",
         "marker": {
          "color": "#ab63fa",
          "pattern": {
           "shape": ""
          }
         },
         "name": "ring_mixer",
         "offsetgroup": "ring_mixer",
         "orientation": "v",
         "showlegend": false,
         "textposition": "auto",
         "type": "bar",
         "x": [
          "ring_mixer"
         ],
         "xaxis": "x3",
         "y": [
          0.0064453125
         ],
         "yaxis": "y3"
        },
        {
         "alignmentgroup": "True",
         "hovertemplate": "mixer=%{x}<br>otimizador=SLSQP<br>probabilidade_valor_otimo=%{y}<extra></extra>",
         "legendgroup": "ring_mixer",
         "marker": {
          "color": "#ab63fa",
          "pattern": {
           "shape": ""
          }
         },
         "name": "ring_mixer",
         "offsetgroup": "ring_mixer",
         "orientation": "v",
         "showlegend": false,
         "textposition": "auto",
         "type": "bar",
         "x": [
          "ring_mixer"
         ],
         "xaxis": "x4",
         "y": [
          0.003723445197044335
         ],
         "yaxis": "y4"
        }
       ],
       "layout": {
        "annotations": [
         {
          "showarrow": false,
          "text": "otimizador=COBYLA",
          "x": 0.1175,
          "xanchor": "center",
          "xref": "paper",
          "y": 1,
          "yanchor": "bottom",
          "yref": "paper"
         },
         {
          "showarrow": false,
          "text": "otimizador=L_BFGS_B",
          "x": 0.3725,
          "xanchor": "center",
          "xref": "paper",
          "y": 1,
          "yanchor": "bottom",
          "yref": "paper"
         },
         {
          "showarrow": false,
          "text": "otimizador=NFT",
          "x": 0.6275,
          "xanchor": "center",
          "xref": "paper",
          "y": 1,
          "yanchor": "bottom",
          "yref": "paper"
         },
         {
          "showarrow": false,
          "text": "otimizador=SLSQP",
          "x": 0.8824999999999998,
          "xanchor": "center",
          "xref": "paper",
          "y": 1,
          "yanchor": "bottom",
          "yref": "paper"
         },
         {
          "font": {
           "size": 35
          },
          "showarrow": false,
          "text": "Mixer",
          "x": 0.5,
          "xref": "paper",
          "y": -0.178,
          "yref": "paper"
         }
        ],
        "barmode": "relative",
        "font": {
         "size": 35
        },
        "height": 700,
        "legend": {
         "title": {
          "text": "mixer"
         },
         "tracegroupgap": 0
        },
        "margin": {
         "b": 90,
         "l": 90,
         "r": 90,
         "t": 90
        },
        "template": {
         "data": {
          "bar": [
           {
            "error_x": {
             "color": "#2a3f5f"
            },
            "error_y": {
             "color": "#2a3f5f"
            },
            "marker": {
             "line": {
              "color": "#E5ECF6",
              "width": 0.5
             },
             "pattern": {
              "fillmode": "overlay",
              "size": 10,
              "solidity": 0.2
             }
            },
            "type": "bar"
           }
          ],
          "barpolar": [
           {
            "marker": {
             "line": {
              "color": "#E5ECF6",
              "width": 0.5
             },
             "pattern": {
              "fillmode": "overlay",
              "size": 10,
              "solidity": 0.2
             }
            },
            "type": "barpolar"
           }
          ],
          "carpet": [
           {
            "aaxis": {
             "endlinecolor": "#2a3f5f",
             "gridcolor": "white",
             "linecolor": "white",
             "minorgridcolor": "white",
             "startlinecolor": "#2a3f5f"
            },
            "baxis": {
             "endlinecolor": "#2a3f5f",
             "gridcolor": "white",
             "linecolor": "white",
             "minorgridcolor": "white",
             "startlinecolor": "#2a3f5f"
            },
            "type": "carpet"
           }
          ],
          "choropleth": [
           {
            "colorbar": {
             "outlinewidth": 0,
             "ticks": ""
            },
            "type": "choropleth"
           }
          ],
          "contour": [
           {
            "colorbar": {
             "outlinewidth": 0,
             "ticks": ""
            },
            "colorscale": [
             [
              0,
              "#0d0887"
             ],
             [
              0.1111111111111111,
              "#46039f"
             ],
             [
              0.2222222222222222,
              "#7201a8"
             ],
             [
              0.3333333333333333,
              "#9c179e"
             ],
             [
              0.4444444444444444,
              "#bd3786"
             ],
             [
              0.5555555555555556,
              "#d8576b"
             ],
             [
              0.6666666666666666,
              "#ed7953"
             ],
             [
              0.7777777777777778,
              "#fb9f3a"
             ],
             [
              0.8888888888888888,
              "#fdca26"
             ],
             [
              1,
              "#f0f921"
             ]
            ],
            "type": "contour"
           }
          ],
          "contourcarpet": [
           {
            "colorbar": {
             "outlinewidth": 0,
             "ticks": ""
            },
            "type": "contourcarpet"
           }
          ],
          "heatmap": [
           {
            "colorbar": {
             "outlinewidth": 0,
             "ticks": ""
            },
            "colorscale": [
             [
              0,
              "#0d0887"
             ],
             [
              0.1111111111111111,
              "#46039f"
             ],
             [
              0.2222222222222222,
              "#7201a8"
             ],
             [
              0.3333333333333333,
              "#9c179e"
             ],
             [
              0.4444444444444444,
              "#bd3786"
             ],
             [
              0.5555555555555556,
              "#d8576b"
             ],
             [
              0.6666666666666666,
              "#ed7953"
             ],
             [
              0.7777777777777778,
              "#fb9f3a"
             ],
             [
              0.8888888888888888,
              "#fdca26"
             ],
             [
              1,
              "#f0f921"
             ]
            ],
            "type": "heatmap"
           }
          ],
          "heatmapgl": [
           {
            "colorbar": {
             "outlinewidth": 0,
             "ticks": ""
            },
            "colorscale": [
             [
              0,
              "#0d0887"
             ],
             [
              0.1111111111111111,
              "#46039f"
             ],
             [
              0.2222222222222222,
              "#7201a8"
             ],
             [
              0.3333333333333333,
              "#9c179e"
             ],
             [
              0.4444444444444444,
              "#bd3786"
             ],
             [
              0.5555555555555556,
              "#d8576b"
             ],
             [
              0.6666666666666666,
              "#ed7953"
             ],
             [
              0.7777777777777778,
              "#fb9f3a"
             ],
             [
              0.8888888888888888,
              "#fdca26"
             ],
             [
              1,
              "#f0f921"
             ]
            ],
            "type": "heatmapgl"
           }
          ],
          "histogram": [
           {
            "marker": {
             "pattern": {
              "fillmode": "overlay",
              "size": 10,
              "solidity": 0.2
             }
            },
            "type": "histogram"
           }
          ],
          "histogram2d": [
           {
            "colorbar": {
             "outlinewidth": 0,
             "ticks": ""
            },
            "colorscale": [
             [
              0,
              "#0d0887"
             ],
             [
              0.1111111111111111,
              "#46039f"
             ],
             [
              0.2222222222222222,
              "#7201a8"
             ],
             [
              0.3333333333333333,
              "#9c179e"
             ],
             [
              0.4444444444444444,
              "#bd3786"
             ],
             [
              0.5555555555555556,
              "#d8576b"
             ],
             [
              0.6666666666666666,
              "#ed7953"
             ],
             [
              0.7777777777777778,
              "#fb9f3a"
             ],
             [
              0.8888888888888888,
              "#fdca26"
             ],
             [
              1,
              "#f0f921"
             ]
            ],
            "type": "histogram2d"
           }
          ],
          "histogram2dcontour": [
           {
            "colorbar": {
             "outlinewidth": 0,
             "ticks": ""
            },
            "colorscale": [
             [
              0,
              "#0d0887"
             ],
             [
              0.1111111111111111,
              "#46039f"
             ],
             [
              0.2222222222222222,
              "#7201a8"
             ],
             [
              0.3333333333333333,
              "#9c179e"
             ],
             [
              0.4444444444444444,
              "#bd3786"
             ],
             [
              0.5555555555555556,
              "#d8576b"
             ],
             [
              0.6666666666666666,
              "#ed7953"
             ],
             [
              0.7777777777777778,
              "#fb9f3a"
             ],
             [
              0.8888888888888888,
              "#fdca26"
             ],
             [
              1,
              "#f0f921"
             ]
            ],
            "type": "histogram2dcontour"
           }
          ],
          "mesh3d": [
           {
            "colorbar": {
             "outlinewidth": 0,
             "ticks": ""
            },
            "type": "mesh3d"
           }
          ],
          "parcoords": [
           {
            "line": {
             "colorbar": {
              "outlinewidth": 0,
              "ticks": ""
             }
            },
            "type": "parcoords"
           }
          ],
          "pie": [
           {
            "automargin": true,
            "type": "pie"
           }
          ],
          "scatter": [
           {
            "fillpattern": {
             "fillmode": "overlay",
             "size": 10,
             "solidity": 0.2
            },
            "type": "scatter"
           }
          ],
          "scatter3d": [
           {
            "line": {
             "colorbar": {
              "outlinewidth": 0,
              "ticks": ""
             }
            },
            "marker": {
             "colorbar": {
              "outlinewidth": 0,
              "ticks": ""
             }
            },
            "type": "scatter3d"
           }
          ],
          "scattercarpet": [
           {
            "marker": {
             "colorbar": {
              "outlinewidth": 0,
              "ticks": ""
             }
            },
            "type": "scattercarpet"
           }
          ],
          "scattergeo": [
           {
            "marker": {
             "colorbar": {
              "outlinewidth": 0,
              "ticks": ""
             }
            },
            "type": "scattergeo"
           }
          ],
          "scattergl": [
           {
            "marker": {
             "colorbar": {
              "outlinewidth": 0,
              "ticks": ""
             }
            },
            "type": "scattergl"
           }
          ],
          "scattermapbox": [
           {
            "marker": {
             "colorbar": {
              "outlinewidth": 0,
              "ticks": ""
             }
            },
            "type": "scattermapbox"
           }
          ],
          "scatterpolar": [
           {
            "marker": {
             "colorbar": {
              "outlinewidth": 0,
              "ticks": ""
             }
            },
            "type": "scatterpolar"
           }
          ],
          "scatterpolargl": [
           {
            "marker": {
             "colorbar": {
              "outlinewidth": 0,
              "ticks": ""
             }
            },
            "type": "scatterpolargl"
           }
          ],
          "scatterternary": [
           {
            "marker": {
             "colorbar": {
              "outlinewidth": 0,
              "ticks": ""
             }
            },
            "type": "scatterternary"
           }
          ],
          "surface": [
           {
            "colorbar": {
             "outlinewidth": 0,
             "ticks": ""
            },
            "colorscale": [
             [
              0,
              "#0d0887"
             ],
             [
              0.1111111111111111,
              "#46039f"
             ],
             [
              0.2222222222222222,
              "#7201a8"
             ],
             [
              0.3333333333333333,
              "#9c179e"
             ],
             [
              0.4444444444444444,
              "#bd3786"
             ],
             [
              0.5555555555555556,
              "#d8576b"
             ],
             [
              0.6666666666666666,
              "#ed7953"
             ],
             [
              0.7777777777777778,
              "#fb9f3a"
             ],
             [
              0.8888888888888888,
              "#fdca26"
             ],
             [
              1,
              "#f0f921"
             ]
            ],
            "type": "surface"
           }
          ],
          "table": [
           {
            "cells": {
             "fill": {
              "color": "#EBF0F8"
             },
             "line": {
              "color": "white"
             }
            },
            "header": {
             "fill": {
              "color": "#C8D4E3"
             },
             "line": {
              "color": "white"
             }
            },
            "type": "table"
           }
          ]
         },
         "layout": {
          "annotationdefaults": {
           "arrowcolor": "#2a3f5f",
           "arrowhead": 0,
           "arrowwidth": 1
          },
          "autotypenumbers": "strict",
          "coloraxis": {
           "colorbar": {
            "outlinewidth": 0,
            "ticks": ""
           }
          },
          "colorscale": {
           "diverging": [
            [
             0,
             "#8e0152"
            ],
            [
             0.1,
             "#c51b7d"
            ],
            [
             0.2,
             "#de77ae"
            ],
            [
             0.3,
             "#f1b6da"
            ],
            [
             0.4,
             "#fde0ef"
            ],
            [
             0.5,
             "#f7f7f7"
            ],
            [
             0.6,
             "#e6f5d0"
            ],
            [
             0.7,
             "#b8e186"
            ],
            [
             0.8,
             "#7fbc41"
            ],
            [
             0.9,
             "#4d9221"
            ],
            [
             1,
             "#276419"
            ]
           ],
           "sequential": [
            [
             0,
             "#0d0887"
            ],
            [
             0.1111111111111111,
             "#46039f"
            ],
            [
             0.2222222222222222,
             "#7201a8"
            ],
            [
             0.3333333333333333,
             "#9c179e"
            ],
            [
             0.4444444444444444,
             "#bd3786"
            ],
            [
             0.5555555555555556,
             "#d8576b"
            ],
            [
             0.6666666666666666,
             "#ed7953"
            ],
            [
             0.7777777777777778,
             "#fb9f3a"
            ],
            [
             0.8888888888888888,
             "#fdca26"
            ],
            [
             1,
             "#f0f921"
            ]
           ],
           "sequentialminus": [
            [
             0,
             "#0d0887"
            ],
            [
             0.1111111111111111,
             "#46039f"
            ],
            [
             0.2222222222222222,
             "#7201a8"
            ],
            [
             0.3333333333333333,
             "#9c179e"
            ],
            [
             0.4444444444444444,
             "#bd3786"
            ],
            [
             0.5555555555555556,
             "#d8576b"
            ],
            [
             0.6666666666666666,
             "#ed7953"
            ],
            [
             0.7777777777777778,
             "#fb9f3a"
            ],
            [
             0.8888888888888888,
             "#fdca26"
            ],
            [
             1,
             "#f0f921"
            ]
           ]
          },
          "colorway": [
           "#636efa",
           "#EF553B",
           "#00cc96",
           "#ab63fa",
           "#FFA15A",
           "#19d3f3",
           "#FF6692",
           "#B6E880",
           "#FF97FF",
           "#FECB52"
          ],
          "font": {
           "color": "#2a3f5f"
          },
          "geo": {
           "bgcolor": "white",
           "lakecolor": "white",
           "landcolor": "#E5ECF6",
           "showlakes": true,
           "showland": true,
           "subunitcolor": "white"
          },
          "hoverlabel": {
           "align": "left"
          },
          "hovermode": "closest",
          "mapbox": {
           "style": "light"
          },
          "paper_bgcolor": "white",
          "plot_bgcolor": "#E5ECF6",
          "polar": {
           "angularaxis": {
            "gridcolor": "white",
            "linecolor": "white",
            "ticks": ""
           },
           "bgcolor": "#E5ECF6",
           "radialaxis": {
            "gridcolor": "white",
            "linecolor": "white",
            "ticks": ""
           }
          },
          "scene": {
           "xaxis": {
            "backgroundcolor": "#E5ECF6",
            "gridcolor": "white",
            "gridwidth": 2,
            "linecolor": "white",
            "showbackground": true,
            "ticks": "",
            "zerolinecolor": "white"
           },
           "yaxis": {
            "backgroundcolor": "#E5ECF6",
            "gridcolor": "white",
            "gridwidth": 2,
            "linecolor": "white",
            "showbackground": true,
            "ticks": "",
            "zerolinecolor": "white"
           },
           "zaxis": {
            "backgroundcolor": "#E5ECF6",
            "gridcolor": "white",
            "gridwidth": 2,
            "linecolor": "white",
            "showbackground": true,
            "ticks": "",
            "zerolinecolor": "white"
           }
          },
          "shapedefaults": {
           "line": {
            "color": "#2a3f5f"
           }
          },
          "ternary": {
           "aaxis": {
            "gridcolor": "white",
            "linecolor": "white",
            "ticks": ""
           },
           "baxis": {
            "gridcolor": "white",
            "linecolor": "white",
            "ticks": ""
           },
           "bgcolor": "#E5ECF6",
           "caxis": {
            "gridcolor": "white",
            "linecolor": "white",
            "ticks": ""
           }
          },
          "title": {
           "x": 0.05
          },
          "xaxis": {
           "automargin": true,
           "gridcolor": "white",
           "linecolor": "white",
           "ticks": "",
           "title": {
            "standoff": 15
           },
           "zerolinecolor": "white",
           "zerolinewidth": 2
          },
          "yaxis": {
           "automargin": true,
           "gridcolor": "white",
           "linecolor": "white",
           "ticks": "",
           "title": {
            "standoff": 15
           },
           "zerolinecolor": "white",
           "zerolinewidth": 2
          }
         }
        },
        "width": 3200,
        "xaxis": {
         "anchor": "y",
         "categoryarray": [
          "full_mixer",
          "mixer_default",
          "parity_ring_mixer",
          "ring_mixer"
         ],
         "categoryorder": "array",
         "domain": [
          0,
          0.235
         ],
         "showticklabels": false,
         "title": {
          "text": ""
         }
        },
        "xaxis2": {
         "anchor": "y2",
         "categoryarray": [
          "full_mixer",
          "mixer_default",
          "parity_ring_mixer",
          "ring_mixer"
         ],
         "categoryorder": "array",
         "domain": [
          0.255,
          0.49
         ],
         "matches": "x",
         "showticklabels": false,
         "title": {
          "text": ""
         }
        },
        "xaxis3": {
         "anchor": "y3",
         "categoryarray": [
          "full_mixer",
          "mixer_default",
          "parity_ring_mixer",
          "ring_mixer"
         ],
         "categoryorder": "array",
         "domain": [
          0.51,
          0.745
         ],
         "matches": "x",
         "showticklabels": false,
         "title": {
          "text": ""
         }
        },
        "xaxis4": {
         "anchor": "y4",
         "categoryarray": [
          "full_mixer",
          "mixer_default",
          "parity_ring_mixer",
          "ring_mixer"
         ],
         "categoryorder": "array",
         "domain": [
          0.7649999999999999,
          0.9999999999999999
         ],
         "matches": "x",
         "showticklabels": false,
         "title": {
          "text": ""
         }
        },
        "yaxis": {
         "anchor": "x",
         "domain": [
          0,
          1
         ],
         "title": {
          "text": "Probabilidade"
         }
        },
        "yaxis2": {
         "anchor": "x2",
         "domain": [
          0,
          1
         ],
         "matches": "y",
         "showticklabels": false
        },
        "yaxis3": {
         "anchor": "x3",
         "domain": [
          0,
          1
         ],
         "matches": "y",
         "showticklabels": false
        },
        "yaxis4": {
         "anchor": "x4",
         "domain": [
          0,
          1
         ],
         "matches": "y",
         "showticklabels": false
        }
       }
      }
     },
     "metadata": {},
     "output_type": "display_data"
    }
   ],
   "source": [
    "df_agg = df_qaoa.groupby(['mixer', 'otimizador'], as_index=False)['probabilidade_valor_otimo'].mean() # pode ser média, max, min, pois todos os valores sao iguais\n",
    "\n",
    "fig = px.bar(df_agg, x='mixer', y='probabilidade_valor_otimo', color='mixer', facet_col='otimizador',\n",
    "             title='', width=width_padrao_display_junto, height=height_padrao_display_junto, \n",
    "             )\n",
    "\n",
    "fig.update_layout(xaxis_title='', yaxis_title='Probabilidade', font=tamanho_padrao_fonte, margin=tamanho_padrao_margem)\n",
    "fig.update_xaxes(showticklabels=False, title_text='')\n",
    "\n",
    "fig.add_annotation(\n",
    "    text='Mixer',\n",
    "    xref='paper',\n",
    "    yref='paper',\n",
    "    x=0.5,\n",
    "    y=-0.178,\n",
    "    showarrow=False,\n",
    "    font=tamanho_padrao_fonte\n",
    ")\n",
    "\n",
    "if salvar_figuras:\n",
    "    nome_figura = f\"figuras_qaoa/{num_ativos}_{ambiente_backend}_probabilidade_valor_otimo_qaoa.png\" \n",
    "    fig.write_image(nome_figura, width=width_padrao_salvar_junto, height=height_padrao_salvar_junto)\n",
    "\n",
    "if mostrar_figuras:\n",
    "    fig.show()"
   ]
  },
  {
   "cell_type": "code",
   "execution_count": 28,
   "metadata": {},
   "outputs": [],
   "source": [
    "# df_agg = df_qaoa.groupby(['mixer', 'otimizador'], as_index=False)['tempo_elapsado_otimizador'].mean() # pode ser média, max, min, pois todos os valores sao iguais\n",
    "\n",
    "# fig = px.bar(df_agg, x='mixer', y='tempo_elapsado_otimizador', color='mixer', facet_col='otimizador',\n",
    "#              title='',\n",
    "#              width=width_padrao_display_junto, height=height_padrao_display_junto, \n",
    "#              )\n",
    "\n",
    "# fig.update_layout(xaxis_title='', yaxis_title='Tempo', font=tamanho_padrao_fonte, margin=tamanho_padrao_margem)\n",
    "# fig.update_xaxes(showticklabels=False, title_text='')\n",
    "\n",
    "# fig.add_annotation(\n",
    "#     text='Mixer',\n",
    "#     xref='paper',\n",
    "#     yref='paper',\n",
    "#     x=0.5,\n",
    "#     y=-0.13,\n",
    "#     showarrow=False,\n",
    "#     font=tamanho_padrao_fonte\n",
    "# )\n",
    "\n",
    "# if salvar_figuras:\n",
    "#     nome_figura = f\"figuras_qaoa/{num_ativos}_{ambiente_backend}_tempo_elapsado_qaoa.png\"\n",
    "#     fig.write_image(nome_figura, width=width_padrao_salvar_junto, height=height_padrao_salvar_junto)\n",
    "\n",
    "# if mostrar_figuras:\n",
    "#     fig.show()"
   ]
  },
  {
   "cell_type": "code",
   "execution_count": 29,
   "metadata": {},
   "outputs": [],
   "source": [
    "# df_agg = df_qaoa.groupby(['mixer', 'otimizador'], as_index=False)['quantidade_avaliacoes_total'].mean() # pode ser média, max, min, pois todos os valores sao iguais\n",
    "\n",
    "# fig = px.bar(df_agg, x='mixer', y='quantidade_avaliacoes_total', color='mixer', facet_col='otimizador',\n",
    "#              title='',\n",
    "#              width=width_padrao_display_junto, height=height_padrao_display_junto, \n",
    "#              )\n",
    "\n",
    "# fig.update_layout(xaxis_title='', yaxis_title='Chamadas função custo', font=tamanho_padrao_fonte, margin=tamanho_padrao_margem)\n",
    "# fig.update_xaxes(showticklabels=False, title_text='')\n",
    "\n",
    "# fig.add_annotation(\n",
    "#     text='Mixer',\n",
    "#     xref='paper',\n",
    "#     yref='paper',\n",
    "#     x=0.5,\n",
    "#     y=-0.13,\n",
    "#     showarrow=False,\n",
    "#     font=tamanho_padrao_fonte\n",
    "# )\n",
    "\n",
    "# if salvar_figuras:\n",
    "#     nome_figura = f\"figuras_qaoa/{num_ativos}_{ambiente_backend}_chamadas_funcao_custo_qaoa.png\"\n",
    "#     fig.write_image(nome_figura, width=width_padrao_salvar_junto, height=height_padrao_salvar_junto)\n",
    "\n",
    "# if mostrar_figuras:\n",
    "#     fig.show()"
   ]
  },
  {
   "cell_type": "code",
   "execution_count": 30,
   "metadata": {},
   "outputs": [],
   "source": [
    "# df_agg = df_qaoa.groupby(['mixer', 'otimizador'], as_index=False)['iteracao_otimizador'].max()\n",
    "\n",
    "# fig = px.bar(df_agg, x='mixer', y='iteracao_otimizador', color='mixer', facet_col='otimizador',\n",
    "#              title='',\n",
    "#              width=width_padrao_display_junto, height=height_padrao_display_junto, \n",
    "#              )\n",
    "\n",
    "# fig.update_layout(xaxis_title='', yaxis_title='Chamadas otimizador', font=tamanho_padrao_fonte, margin=tamanho_padrao_margem)\n",
    "\n",
    "# fig.add_annotation(\n",
    "#     text='Mixer',\n",
    "#     xref='paper',\n",
    "#     yref='paper',\n",
    "    # x=0.5,\n",
    "    # y=-0.178,\n",
    "#     showarrow=False,\n",
    "#     font=tamanho_padrao_fonte\n",
    "# )\n",
    "\n",
    "# if salvar_figuras:\n",
    "#     nome_figura = f\"figuras_qaoa/{num_ativos}_{ambiente_backend}_chamadas_otimizador_qaoa.png\"\n",
    "#     fig.write_image(nome_figura, width=width_padrao_salvar_junto, height=height_padrao_salvar_junto)\n",
    "\n",
    "# if mostrar_figuras:\n",
    "#     fig.show()"
   ]
  },
  {
   "cell_type": "markdown",
   "metadata": {},
   "source": [
    "# 10 Ativos"
   ]
  },
  {
   "cell_type": "code",
   "execution_count": 31,
   "metadata": {},
   "outputs": [],
   "source": [
    "lista_ativos = ['PETR4','VALE3','PRIO3','PETR3','GGBR4','JBSS3','VBBR3','BRFS3','CSAN3','KLBN4']\n",
    "# lista_ativos = ['CSAN3', 'ITUB4', 'VALE3', 'KLBN4']\n",
    "\n",
    "num_portfolios = 3417187 # 10 ativos\n",
    "# num_portfolios = 29192 # 4 ativos\n",
    "\n",
    "num_ativos = len(lista_ativos)\n",
    "limite_ativos_comprar = 2\n",
    "num_qubits = num_ativos\n",
    "\n",
    "restricao_cardinalidade = False # se aplica apenas ao clássico, por default já temos no quantico"
   ]
  },
  {
   "cell_type": "code",
   "execution_count": 32,
   "metadata": {},
   "outputs": [],
   "source": [
    "df_vqe = pd.DataFrame()\n",
    "\n",
    "with open('pickles/vqe_10_local.pickle', 'rb') as file:\n",
    "    df_vqe = pickle.load(file)\n"
   ]
  },
  {
   "cell_type": "code",
   "execution_count": 33,
   "metadata": {},
   "outputs": [],
   "source": [
    "# for otimizador in df_vqe['otimizador'].unique():\n",
    "#     fig = go.Figure()\n",
    "\n",
    "#     df_otimizador = df_vqe[df_vqe['otimizador'] == otimizador]\n",
    "\n",
    "#     for ansatz in df_otimizador['ansatz'].unique():\n",
    "#         df_ansatz = df_otimizador[df_otimizador['ansatz'] == ansatz]\n",
    "#         df_ansatz = df_ansatz.sort_values(by='avaliacao_funcao_custo')\n",
    "\n",
    "#         x_data = df_ansatz['avaliacao_funcao_custo']\n",
    "#         y_data = df_ansatz['valor_energia']\n",
    "\n",
    "#         # Handling complex numbers by extracting real and imaginary parts\n",
    "#         y_real = y_data.apply(lambda x: x.real if isinstance(x, complex) else x)\n",
    "\n",
    "#         fig.add_trace(go.Scatter(\n",
    "#             x=x_data,\n",
    "#             y=y_real,\n",
    "#             mode='lines',\n",
    "#             name=ansatz\n",
    "#         ))\n",
    "\n",
    "#     fig.update_layout(\n",
    "#         xaxis_title='Chamada de função de custo',\n",
    "#         yaxis_title='Energia',\n",
    "#         title='',\n",
    "#         legend_title='Ansatzes',\n",
    "#         width=width_padrao_display,\n",
    "#         height=height_padrao_display, \n",
    "#         font=tamanho_padrao_fonte, \n",
    "#         margin=tamanho_padrao_margem)\n",
    "\n",
    "#     if salvar_figuras:\n",
    "#         nome_figura = f\"figuras_vqe/{num_ativos}_{ambiente_backend}_{otimizador}_energia_por_funcao_custo_vqe.png\"\n",
    "#         fig.write_image(nome_figura, width=width_padrao_salvar, height=height_padrao_salvar)\n",
    "\n",
    "#     if mostrar_figuras:\n",
    "#         fig.show()"
   ]
  },
  {
   "cell_type": "code",
   "execution_count": 34,
   "metadata": {},
   "outputs": [],
   "source": [
    "# df_vqe_real = df_vqe.copy()\n",
    "# df_vqe_real['valor_energia'] = df_vqe['valor_energia'].apply(lambda x: x.real if isinstance(x, complex) else x)\n",
    "# df_vqe_real = df_vqe_real.sort_values(by='avaliacao_funcao_custo')\n",
    "\n",
    "# fig = px.line(df_vqe_real, x='avaliacao_funcao_custo', y='valor_energia', color='ansatz',\n",
    "#               facet_col='otimizador', facet_col_wrap=df_vqe_real['otimizador'].nunique(),\n",
    "#               labels={'avaliacao_funcao_custo': '', 'valor_energia': 'Energia'},\n",
    "#               title='')\n",
    "\n",
    "# fig.update_layout(width=width_padrao_display_junto, height=height_padrao_display_junto, legend_title='ansatzs', font=tamanho_padrao_fonte, margin=tamanho_padrao_margem)\n",
    "\n",
    "# fig.add_annotation(\n",
    "#     text='Chamada de função de custo',\n",
    "#     xref='paper',\n",
    "#     yref='paper',\n",
    "    # x=0.5,\n",
    "    # y=-0.178,\n",
    "#     showarrow=False,\n",
    "#     font=tamanho_padrao_fonte\n",
    "# )\n",
    "\n",
    "# if salvar_figuras:\n",
    "#     nome_figura = f\"figuras_vqe/{num_ativos}_{ambiente_backend}_energia_por_funcao_custo_juntos_vqe.png\"\n",
    "#     fig.write_image(nome_figura, width=width_padrao_salvar_junto, height=height_padrao_salvar_junto)\n",
    "\n",
    "# if mostrar_figuras:\n",
    "#     fig.show()"
   ]
  },
  {
   "cell_type": "code",
   "execution_count": 35,
   "metadata": {},
   "outputs": [],
   "source": [
    "# df_vqe_iteracao_otimizador = df_vqe.loc[df_vqe['bool_fim_iteracao_otimizador'] == True]\n",
    "\n",
    "# for otimizador in df_vqe_iteracao_otimizador['otimizador'].unique():\n",
    "#     fig = go.Figure()\n",
    "\n",
    "#     df_otimizador = df_vqe_iteracao_otimizador[df_vqe_iteracao_otimizador['otimizador'] == otimizador]\n",
    "\n",
    "#     for ansatz in df_otimizador['ansatz'].unique():\n",
    "#         df_ansatz = df_otimizador[df_otimizador['ansatz'] == ansatz]\n",
    "#         df_ansatz = df_ansatz.sort_values(by='iteracao_otimizador')\n",
    "\n",
    "#         x_data = df_ansatz['iteracao_otimizador']\n",
    "#         y_data = df_ansatz['valor_energia']\n",
    "\n",
    "#         y_real = y_data.apply(lambda x: x.real if isinstance(x, complex) else x)\n",
    "\n",
    "#         fig.add_trace(go.Scatter(\n",
    "#             x=x_data,\n",
    "#             y=y_real,\n",
    "#             mode='lines',\n",
    "#             name=ansatz\n",
    "#         ))\n",
    "\n",
    "#     fig.update_layout(\n",
    "#         xaxis_title='Iteração do otimizador',\n",
    "#         yaxis_title='Energia',\n",
    "#         title='',\n",
    "#         legend_title='Ansatzes',\n",
    "#         width=width_padrao_display,\n",
    "#         height=height_padrao_display, \n",
    "#         font=tamanho_padrao_fonte, \n",
    "#         margin=tamanho_padrao_margem\n",
    "#     )\n",
    "\n",
    "#     if salvar_figuras:\n",
    "#         nome_figura = f\"figuras_vqe/{num_ativos}_{ambiente_backend}_{otimizador}_energia_por_otimizador_vqe.png\"\n",
    "#         fig.write_image(nome_figura, width=width_padrao_salvar, height=height_padrao_salvar)\n",
    "\n",
    "#     if mostrar_figuras:\n",
    "#         fig.show()"
   ]
  },
  {
   "cell_type": "code",
   "execution_count": 36,
   "metadata": {},
   "outputs": [],
   "source": [
    "# df_vqe_real = df_vqe.copy()\n",
    "# df_vqe_real['valor_energia'] = df_vqe['valor_energia'].apply(lambda x: x.real if isinstance(x, complex) else x)\n",
    "# df_vqe_real_iteracao_otimizador = df_vqe_real.loc[df_vqe_real['bool_fim_iteracao_otimizador'] == True]\n",
    "# df_vqe_real_iteracao_otimizador = df_vqe_real_iteracao_otimizador.sort_values(by='iteracao_otimizador')\n",
    "\n",
    "# fig = px.line(df_vqe_real_iteracao_otimizador, x='iteracao_otimizador', y='valor_energia', color='ansatz',\n",
    "#               facet_col='otimizador', facet_col_wrap=df_vqe_real_iteracao_otimizador['otimizador'].nunique(),\n",
    "#               labels={'iteracao_otimizador': '', 'valor_energia': 'Energia'},\n",
    "#               title='')\n",
    "\n",
    "# fig.update_layout(width=width_padrao_display_junto, height=height_padrao_display_junto, legend_title='ansatzs', font=tamanho_padrao_fonte, margin=tamanho_padrao_margem)\n",
    "\n",
    "# fig.add_annotation(\n",
    "#     text='Iteração do otimizador',\n",
    "#     xref='paper',\n",
    "#     yref='paper',\n",
    "#     x=0.5,\n",
    "#     y=-0.178,\n",
    "#     showarrow=False,\n",
    "#     font=tamanho_padrao_fonte\n",
    "# )\n",
    "\n",
    "# if salvar_figuras:\n",
    "#     nome_figura = f\"figuras_vqe/{num_ativos}_{ambiente_backend}_energia_por_otimizador_juntos_vqe.png\"\n",
    "#     fig.write_image(nome_figura, width=width_padrao_salvar_junto, height=height_padrao_salvar_junto)\n",
    "\n",
    "# if mostrar_figuras:\n",
    "#     fig.show()"
   ]
  },
  {
   "cell_type": "code",
   "execution_count": 37,
   "metadata": {},
   "outputs": [],
   "source": [
    "# df_vqe_epoca = df_vqe.loc[df_vqe['nova_epoca'] == True]\n",
    "\n",
    "# for otimizador in df_vqe_epoca['otimizador'].unique():\n",
    "#     df_otimizador = df_vqe_epoca[df_vqe_epoca['otimizador'] == otimizador]\n",
    "\n",
    "#     fig = go.Figure()\n",
    "\n",
    "#     for ansatz in df_otimizador['ansatz'].unique():\n",
    "#         df_ansatz = df_otimizador[df_otimizador['ansatz'] == ansatz]\n",
    "#         df_ansatz = df_ansatz.sort_values(by='epoca')\n",
    "\n",
    "#         x_data = df_ansatz['epoca']\n",
    "#         y_data = df_ansatz['valor_energia']\n",
    "\n",
    "#         # Handling complex numbers by extracting real and imaginary parts\n",
    "#         y_real = y_data.apply(lambda x: x.real if isinstance(x, complex) else x)\n",
    "\n",
    "#         fig.add_trace(go.Scatter(\n",
    "#             x=x_data,\n",
    "#             y=y_real,\n",
    "#             mode='lines',\n",
    "#             name=ansatz\n",
    "#         ))\n",
    "\n",
    "#     fig.update_layout(\n",
    "#         xaxis_title='Epoca',\n",
    "#         yaxis_title='Energia',\n",
    "#         title='',\n",
    "#         legend_title='ansatzs',\n",
    "#         width=width_padrao_display,\n",
    "#         height=height_padrao_display, \n",
    "#         font=tamanho_padrao_fonte, \n",
    "#         margin=tamanho_padrao_margem\n",
    "#     )\n",
    "\n",
    "#     if salvar_figuras:\n",
    "#         nome_figura = f\"figuras_vqe/{num_ativos}_{ambiente_backend}_{otimizador}_energia_por_epoca_vqe.png\"\n",
    "#         fig.write_image(nome_figura, width=width_padrao_salvar, height=height_padrao_salvar)\n",
    "\n",
    "#     if mostrar_figuras:\n",
    "#         fig.show()"
   ]
  },
  {
   "cell_type": "code",
   "execution_count": 38,
   "metadata": {},
   "outputs": [
    {
     "data": {
      "application/vnd.plotly.v1+json": {
       "config": {
        "plotlyServerURL": "https://plot.ly"
       },
       "data": [
        {
         "hovertemplate": "ansatz=EfficientSU2<br>otimizador=COBYLA<br>=%{x}<br>Energia=%{y}<extra></extra>",
         "legendgroup": "EfficientSU2",
         "line": {
          "color": "#636efa",
          "dash": "solid"
         },
         "marker": {
          "symbol": "circle"
         },
         "mode": "lines",
         "name": "EfficientSU2",
         "orientation": "v",
         "showlegend": true,
         "type": "scatter",
         "x": [
          1,
          2,
          3,
          4,
          5,
          6,
          7,
          8,
          9,
          10,
          11,
          12,
          13,
          14,
          15,
          16,
          17,
          18,
          19,
          20,
          21,
          22,
          23,
          24,
          25,
          26,
          27,
          28,
          29,
          30
         ],
         "xaxis": "x",
         "y": [
          -13.223458309910862,
          -36.0267203903434,
          -40.22018866260678,
          -39.703311327689576,
          -44.300002356043606,
          -44.46512706003634,
          -44.16666553646177,
          -44.31454969898502,
          -44.17199341133803,
          -45.33268566036498,
          -44.60851282712144,
          -45.069683077495796,
          -44.60361690403775,
          -45.29702794929272,
          -45.056838090758134,
          -44.900046870322015,
          -44.803514331756446,
          -44.477803043721345,
          -45.461743299993444,
          -44.99642008351204,
          -44.65901371493982,
          -45.37583840455486,
          -45.017259982911064,
          -45.3968872301271,
          -45.568743739668214,
          -45.1860247015684,
          -45.92724588228058,
          -45.67356789975412,
          -45.69141609212368,
          -45.294080860725536
         ],
         "yaxis": "y"
        },
        {
         "hovertemplate": "ansatz=EfficientSU2<br>otimizador=L_BFGS_B<br>=%{x}<br>Energia=%{y}<extra></extra>",
         "legendgroup": "EfficientSU2",
         "line": {
          "color": "#636efa",
          "dash": "solid"
         },
         "marker": {
          "symbol": "circle"
         },
         "mode": "lines",
         "name": "EfficientSU2",
         "orientation": "v",
         "showlegend": false,
         "type": "scatter",
         "x": [
          1,
          2,
          3,
          4,
          5,
          6,
          7,
          8,
          9,
          10,
          11,
          12,
          13,
          14,
          15,
          16,
          17,
          18,
          19,
          20,
          21,
          22,
          23,
          24,
          25,
          26,
          27,
          28,
          29,
          30
         ],
         "xaxis": "x2",
         "y": [
          4.942233254503779,
          3.7001053843241563,
          -5.982219028957403,
          -5.065208942460599,
          -3.3720604896907127,
          -8.765908464826133,
          -8.560958493994168,
          -9.211363970525648,
          -9.377105874310633,
          -9.432140473514556,
          -8.916109211567166,
          -11.586483803306091,
          -23.381301125761606,
          -20.921377427827267,
          -24.256138834208524,
          -25.19876605705319,
          -23.920623215171343,
          -25.736197571476847,
          -23.921103277533017,
          -24.171242509309508,
          -27.18179443461444,
          -25.384974353890353,
          -24.74245266022373,
          -27.729510794874823,
          -27.383884086248013,
          -29.004663996073997,
          -29.000813840364852,
          -27.451240766753095,
          -29.29558647522529,
          -29.998802576915942
         ],
         "yaxis": "y2"
        },
        {
         "hovertemplate": "ansatz=EfficientSU2<br>otimizador=NFT<br>=%{x}<br>Energia=%{y}<extra></extra>",
         "legendgroup": "EfficientSU2",
         "line": {
          "color": "#636efa",
          "dash": "solid"
         },
         "marker": {
          "symbol": "circle"
         },
         "mode": "lines",
         "name": "EfficientSU2",
         "orientation": "v",
         "showlegend": false,
         "type": "scatter",
         "x": [
          1,
          2,
          3,
          4,
          5,
          6,
          7,
          8,
          9,
          10,
          11,
          12,
          13,
          14,
          15,
          16,
          17,
          18,
          19,
          20,
          21,
          22,
          23,
          24,
          25,
          26,
          27,
          28,
          29,
          30
         ],
         "xaxis": "x3",
         "y": [
          -3.820509188733463,
          -48.113998035021005,
          -48.163607678544665,
          -48.273393966679066,
          -48.561888760874666,
          -48.531987592603414,
          -48.68828879052875,
          -48.554927300374665,
          -48.5550836898281,
          -48.65383877731065,
          -48.64210752323272,
          -48.68915827204369,
          -48.65192343560182,
          -48.66725640224181,
          -48.67935269214315,
          -48.69030446197054,
          -48.66521160216883,
          -48.700158664071274,
          -48.628787375351855,
          -48.68469167738208,
          -48.64316389437399,
          -48.56272144579912,
          -48.697239772067284,
          -48.70483060617349,
          -48.51646193162439,
          -48.70284280548294,
          -48.69107336026012,
          -48.68376117885166,
          -48.68849917407893,
          -48.71302890857032
         ],
         "yaxis": "y3"
        },
        {
         "hovertemplate": "ansatz=EfficientSU2<br>otimizador=SLSQP<br>=%{x}<br>Energia=%{y}<extra></extra>",
         "legendgroup": "EfficientSU2",
         "line": {
          "color": "#636efa",
          "dash": "solid"
         },
         "marker": {
          "symbol": "circle"
         },
         "mode": "lines",
         "name": "EfficientSU2",
         "orientation": "v",
         "showlegend": false,
         "type": "scatter",
         "x": [
          1,
          2,
          3,
          4,
          5,
          6,
          7,
          8,
          9,
          10,
          11,
          12,
          13,
          14,
          15,
          16,
          17,
          18,
          19,
          20,
          21,
          22,
          23,
          24,
          25,
          26,
          27,
          28,
          29,
          30
         ],
         "xaxis": "x4",
         "y": [
          -1.3454761847693801,
          -11.77903664202575,
          -12.149688787362225,
          -13.455894880377846,
          -10.412346262081032,
          -11.132224486384892,
          -12.0519832766361,
          -11.273090858591399,
          -11.702502013943525,
          -13.306181951290617,
          -12.728218022209914,
          -12.783079378976936,
          -12.52394113491402,
          -9.284255339104966,
          -13.344115274514564,
          -10.874666547092216,
          -11.523093430520985,
          -11.593478919810348,
          -9.458072934870675,
          -11.990057537923732,
          -13.08838433653145,
          -11.976324746030619,
          -12.775213736085437,
          -11.81442698210361,
          -13.710827770202153,
          -12.03769343139196,
          -13.037657697217504,
          -13.571798361135828,
          -11.690103179756942,
          -12.440505085703235
         ],
         "yaxis": "y4"
        },
        {
         "hovertemplate": "ansatz=PauliTwoDesign<br>otimizador=COBYLA<br>=%{x}<br>Energia=%{y}<extra></extra>",
         "legendgroup": "PauliTwoDesign",
         "line": {
          "color": "#EF553B",
          "dash": "solid"
         },
         "marker": {
          "symbol": "circle"
         },
         "mode": "lines",
         "name": "PauliTwoDesign",
         "orientation": "v",
         "showlegend": true,
         "type": "scatter",
         "x": [
          2,
          3,
          4,
          5,
          6,
          7,
          8,
          9,
          10,
          11,
          12,
          13,
          14,
          15,
          16,
          17,
          18,
          19,
          20,
          21,
          22,
          23,
          24,
          25,
          26,
          27,
          28,
          29,
          30
         ],
         "xaxis": "x",
         "y": [
          -43.121410008856905,
          -43.73620647786247,
          -43.33576178570271,
          -43.932504354691524,
          -44.152349369485385,
          -44.038810554697655,
          -43.7097239152213,
          -44.24351060342433,
          -44.92992233582972,
          -44.776875133923745,
          -44.81802605006955,
          -45.112474698782286,
          -44.73252682549609,
          -44.407835830227036,
          -44.10151404626074,
          -44.5944194144919,
          -44.98961382496287,
          -44.80429947398904,
          -44.65631763005044,
          -44.4514077902914,
          -44.48348647116757,
          -44.61973250962021,
          -44.298641571703925,
          -44.42820033287769,
          -44.4729267326332,
          -44.418784593261734,
          -44.341495222739184,
          -44.26386003386358,
          -44.71373444276093
         ],
         "yaxis": "y"
        },
        {
         "hovertemplate": "ansatz=PauliTwoDesign<br>otimizador=L_BFGS_B<br>=%{x}<br>Energia=%{y}<extra></extra>",
         "legendgroup": "PauliTwoDesign",
         "line": {
          "color": "#EF553B",
          "dash": "solid"
         },
         "marker": {
          "symbol": "circle"
         },
         "mode": "lines",
         "name": "PauliTwoDesign",
         "orientation": "v",
         "showlegend": false,
         "type": "scatter",
         "x": [
          1,
          2,
          3,
          4,
          5,
          6,
          7,
          8,
          9,
          10,
          11,
          12,
          13,
          14,
          15,
          16,
          17,
          18,
          19,
          20,
          21,
          22,
          23,
          24,
          25,
          26,
          27,
          28,
          29,
          30
         ],
         "xaxis": "x2",
         "y": [
          -32.12725085563181,
          -33.33710045418495,
          -34.05460090739605,
          -32.56609608358639,
          -33.6521892390578,
          -34.33097562872766,
          -34.83108255996588,
          -33.21027713994335,
          -33.60006880528877,
          -34.955040730245216,
          -33.85471335907067,
          -36.1942697776244,
          -34.89872250290451,
          -36.51017915097316,
          -35.2923348512033,
          -35.15839111157071,
          -37.55591832134069,
          -40.89011744409423,
          -40.997990179401015,
          -41.245268843275475,
          -40.638619109722335,
          -40.490781595493324,
          -41.04853315721225,
          -40.515444980574316,
          -41.11939301100318,
          -40.861080173650436,
          -40.121522188589026,
          -41.03728259763087,
          -40.53510602381456,
          -40.55379598022762
         ],
         "yaxis": "y2"
        },
        {
         "hovertemplate": "ansatz=PauliTwoDesign<br>otimizador=NFT<br>=%{x}<br>Energia=%{y}<extra></extra>",
         "legendgroup": "PauliTwoDesign",
         "line": {
          "color": "#EF553B",
          "dash": "solid"
         },
         "marker": {
          "symbol": "circle"
         },
         "mode": "lines",
         "name": "PauliTwoDesign",
         "orientation": "v",
         "showlegend": false,
         "type": "scatter",
         "x": [
          1,
          2,
          3,
          4,
          5,
          6,
          7,
          8,
          9,
          10,
          11,
          12,
          13,
          14,
          15,
          16,
          17,
          18,
          19,
          20,
          21,
          22,
          23,
          24,
          25,
          26,
          27,
          28,
          29,
          30
         ],
         "xaxis": "x3",
         "y": [
          -32.86121430720749,
          -45.99732782823682,
          -45.86613062402404,
          -45.98270316604283,
          -45.962777703394174,
          -45.54316037402898,
          -46.04814288794408,
          -45.992758727318495,
          -46.13748485089925,
          -45.660379855637125,
          -45.879425685345474,
          -45.74947368816631,
          -45.87679589923916,
          -46.08687509553145,
          -45.939291213017874,
          -45.97867306260189,
          -45.883981631787776,
          -45.77210704228911,
          -45.96898139374516,
          -45.881571615231074,
          -45.74347387382902,
          -45.88792393033807,
          -45.96541711009843,
          -45.75657796516474,
          -45.87970032542644,
          -45.863836271332175,
          -45.99318312576341,
          -45.83114209373165,
          -45.82336085977912,
          -45.82003981183261
         ],
         "yaxis": "y3"
        },
        {
         "hovertemplate": "ansatz=PauliTwoDesign<br>otimizador=SLSQP<br>=%{x}<br>Energia=%{y}<extra></extra>",
         "legendgroup": "PauliTwoDesign",
         "line": {
          "color": "#EF553B",
          "dash": "solid"
         },
         "marker": {
          "symbol": "circle"
         },
         "mode": "lines",
         "name": "PauliTwoDesign",
         "orientation": "v",
         "showlegend": false,
         "type": "scatter",
         "x": [
          1,
          2,
          3,
          4,
          5,
          6,
          7,
          8,
          9,
          10,
          11,
          12,
          13,
          14,
          15,
          16,
          17,
          18,
          19,
          20,
          21,
          22,
          23,
          24,
          25,
          26,
          27,
          28,
          29,
          30
         ],
         "xaxis": "x4",
         "y": [
          -28.757877551604338,
          -42.887845347411854,
          -43.17820282229314,
          -43.01261056723958,
          -43.250293544491726,
          -42.82491874735792,
          -43.2775436966457,
          -43.40518428198135,
          -43.11623180943081,
          -43.28865127267536,
          -43.474341013140844,
          -43.19145930190346,
          -43.41456670039859,
          -43.20581833669632,
          -43.14315585836069,
          -43.43823813975193,
          -43.05217869518267,
          -43.30021032637348,
          -43.15248733345063,
          -43.09648602496367,
          -43.16632078310017,
          -43.15917380450144,
          -43.09202661427818,
          -43.11724278712118,
          -42.9140816774922,
          -42.87535536548275,
          -43.26190895599766,
          -42.947594524853386,
          -42.82485082752872,
          -42.80548483352555
         ],
         "yaxis": "y4"
        },
        {
         "hovertemplate": "ansatz=RealAmplitudes<br>otimizador=COBYLA<br>=%{x}<br>Energia=%{y}<extra></extra>",
         "legendgroup": "RealAmplitudes",
         "line": {
          "color": "#00cc96",
          "dash": "solid"
         },
         "marker": {
          "symbol": "circle"
         },
         "mode": "lines",
         "name": "RealAmplitudes",
         "orientation": "v",
         "showlegend": true,
         "type": "scatter",
         "x": [
          1,
          2,
          3,
          4,
          5,
          6,
          7,
          8,
          9,
          10,
          11,
          12,
          13,
          14,
          15,
          16,
          17,
          18,
          19,
          20,
          21,
          22,
          23,
          24,
          25,
          26,
          27,
          28,
          29,
          30
         ],
         "xaxis": "x",
         "y": [
          -0.42973035219945094,
          -37.758019919478656,
          -40.29694211995946,
          -40.74613747862495,
          -41.34430350560338,
          -42.34161216866341,
          -42.30132717799681,
          -43.025481981616196,
          -43.08549526115902,
          -43.12247493201296,
          -42.8796504009626,
          -42.36042515119443,
          -43.26998069456069,
          -44.159013952076485,
          -43.936671081053156,
          -43.83047879293874,
          -43.12524454758362,
          -43.64651071243002,
          -44.294088914081485,
          -44.07438105960439,
          -45.100624636281516,
          -44.911786307567766,
          -44.52837637916564,
          -45.694056010867286,
          -45.82989921461727,
          -45.34527383363341,
          -45.53052378551532,
          -45.17741629285411,
          -45.70253735999398,
          -45.54679941142528
         ],
         "yaxis": "y"
        },
        {
         "hovertemplate": "ansatz=RealAmplitudes<br>otimizador=L_BFGS_B<br>=%{x}<br>Energia=%{y}<extra></extra>",
         "legendgroup": "RealAmplitudes",
         "line": {
          "color": "#00cc96",
          "dash": "solid"
         },
         "marker": {
          "symbol": "circle"
         },
         "mode": "lines",
         "name": "RealAmplitudes",
         "orientation": "v",
         "showlegend": false,
         "type": "scatter",
         "x": [
          1,
          2,
          3,
          4,
          5,
          6,
          7,
          8,
          9,
          10,
          11,
          12,
          13,
          14,
          15,
          16,
          17,
          18,
          19,
          20,
          21,
          22,
          23,
          24,
          25,
          26,
          27,
          28,
          29,
          30
         ],
         "xaxis": "x2",
         "y": [
          12.371213574336481,
          -8.84083967846916,
          -10.919589999072835,
          -12.24765894888928,
          -10.064166853664206,
          -12.363878061997813,
          -12.236679890406238,
          -12.41954892418426,
          -13.036283616858935,
          -11.837354165411309,
          -16.202028322749722,
          -14.294428694455043,
          -14.830229747081317,
          -17.609385311886857,
          -15.735477058403866,
          -18.277495574045147,
          -15.30744449688174,
          -18.09484267151215,
          -16.043728935744294,
          -15.45767197234522,
          -18.921554307232107,
          -17.57094621052896,
          -17.863165556619638,
          -17.272178357154566,
          -17.035492099165786,
          -17.962345556943333,
          -17.440585991118713,
          -19.6255310361115,
          -19.37675092386651,
          -19.109545701770408
         ],
         "yaxis": "y2"
        },
        {
         "hovertemplate": "ansatz=RealAmplitudes<br>otimizador=NFT<br>=%{x}<br>Energia=%{y}<extra></extra>",
         "legendgroup": "RealAmplitudes",
         "line": {
          "color": "#00cc96",
          "dash": "solid"
         },
         "marker": {
          "symbol": "circle"
         },
         "mode": "lines",
         "name": "RealAmplitudes",
         "orientation": "v",
         "showlegend": false,
         "type": "scatter",
         "x": [
          1,
          2,
          3,
          4,
          5,
          6,
          7,
          8,
          9,
          10,
          11,
          12,
          13,
          14,
          15,
          16,
          17,
          18,
          19,
          20,
          21,
          22,
          23,
          24,
          25,
          26,
          27,
          28,
          29,
          30
         ],
         "xaxis": "x3",
         "y": [
          9.236771168802965,
          -47.88592704974997,
          -48.68396304448257,
          -48.707014836225746,
          -48.677160607776216,
          -48.682559097451914,
          -48.6628781383895,
          -48.70645978391336,
          -48.665578245592926,
          -48.7060209177628,
          -48.744948205907235,
          -48.73557081783645,
          -48.75773059005352,
          -48.764895014948905,
          -48.76666137723597,
          -48.73722933476013,
          -48.68926454297608,
          -48.76812328908971,
          -48.764517860032115,
          -48.707967619924304,
          -48.67795221084139,
          -48.703642837576865,
          -48.721369746569465,
          -48.70972860749975,
          -48.77712794658827,
          -48.73930912275646,
          -48.728447116209914,
          -48.69180157433714,
          -48.74287568807137,
          -48.73645678321407
         ],
         "yaxis": "y3"
        },
        {
         "hovertemplate": "ansatz=RealAmplitudes<br>otimizador=SLSQP<br>=%{x}<br>Energia=%{y}<extra></extra>",
         "legendgroup": "RealAmplitudes",
         "line": {
          "color": "#00cc96",
          "dash": "solid"
         },
         "marker": {
          "symbol": "circle"
         },
         "mode": "lines",
         "name": "RealAmplitudes",
         "orientation": "v",
         "showlegend": false,
         "type": "scatter",
         "x": [
          1,
          2,
          3,
          4,
          5,
          6,
          7,
          8,
          9,
          10,
          11,
          12,
          13,
          14,
          15,
          16,
          17,
          18,
          19,
          20,
          21,
          22,
          23,
          24,
          25,
          26,
          27,
          28,
          29,
          30
         ],
         "xaxis": "x4",
         "y": [
          0.24697820858233188,
          -2.352250085393464,
          -2.918099091287095,
          -20.331933734923155,
          -19.204787700679216,
          -20.22789510272204,
          -18.662705832898563,
          -19.808964838629546,
          -17.910925239904756,
          -17.963098443732342,
          -29.90757653594976,
          -29.86739066494776,
          -29.6243998933307,
          -29.790633243355597,
          -30.49050942020829,
          -30.843374617369697,
          -29.914449361166234,
          -30.290831295114348,
          -30.368592933371914,
          -29.912500406143923,
          -30.362481818275484,
          -30.70988359276469,
          -30.43761685500954,
          -30.39665354238421,
          -30.572148703108677,
          -30.729855824129476,
          -30.36108856745549,
          -29.32927066044258,
          -29.72174759934366,
          -29.34117086270587
         ],
         "yaxis": "y4"
        },
        {
         "hovertemplate": "ansatz=TwoLocal<br>otimizador=COBYLA<br>=%{x}<br>Energia=%{y}<extra></extra>",
         "legendgroup": "TwoLocal",
         "line": {
          "color": "#ab63fa",
          "dash": "solid"
         },
         "marker": {
          "symbol": "circle"
         },
         "mode": "lines",
         "name": "TwoLocal",
         "orientation": "v",
         "showlegend": true,
         "type": "scatter",
         "x": [
          1,
          2,
          3,
          4,
          5,
          6,
          7,
          8,
          9,
          10,
          11,
          12,
          13,
          14,
          15,
          16,
          17,
          18,
          19,
          20,
          21,
          22,
          23,
          24,
          25,
          26,
          27,
          28,
          29,
          30
         ],
         "xaxis": "x",
         "y": [
          -7.45886035526529,
          -45.42624587343037,
          -45.76707300790797,
          -45.64297354690941,
          -45.78191173217685,
          -46.02751301804034,
          -47.49804008209915,
          -48.26866137959576,
          -48.34038623540948,
          -48.36805605649076,
          -48.38492120582305,
          -48.575505272673055,
          -48.64157933859491,
          -48.61105678445612,
          -48.647793221197546,
          -48.66275291510663,
          -48.67993828632608,
          -48.65709189892004,
          -48.657629031626904,
          -48.628009342928664,
          -48.63615290736794,
          -48.66801019036678,
          -48.60863729709776,
          -48.65178698508785,
          -48.586909690206404,
          -48.550515049597294,
          -48.61341033320709,
          -48.576523594851295,
          -48.57717895450083,
          -48.37143522073874
         ],
         "yaxis": "y"
        },
        {
         "hovertemplate": "ansatz=TwoLocal<br>otimizador=L_BFGS_B<br>=%{x}<br>Energia=%{y}<extra></extra>",
         "legendgroup": "TwoLocal",
         "line": {
          "color": "#ab63fa",
          "dash": "solid"
         },
         "marker": {
          "symbol": "circle"
         },
         "mode": "lines",
         "name": "TwoLocal",
         "orientation": "v",
         "showlegend": false,
         "type": "scatter",
         "x": [
          1,
          2,
          3,
          4,
          5,
          6,
          7,
          8,
          9,
          10,
          11,
          12,
          13,
          14,
          15,
          16,
          17,
          18,
          19,
          20,
          21,
          22,
          23,
          24,
          25,
          26,
          27,
          28,
          29,
          30
         ],
         "xaxis": "x2",
         "y": [
          -11.423053503740555,
          -12.649399578104846,
          -11.982843434822067,
          -12.630332924753585,
          -15.50847997089852,
          -19.719152298915045,
          -19.464756251323458,
          -23.568329331944906,
          -24.92032928708116,
          -23.888252441158876,
          -23.561114300108095,
          -24.472103049248517,
          -24.13889164334191,
          -26.11520376322304,
          -26.775099490731577,
          -26.226155408414037,
          -25.950157731144767,
          -25.84439041797974,
          -28.526248814703855,
          -29.00664042087242,
          -28.627844022191944,
          -28.527697614954036,
          -27.353912566481593,
          -30.877779332201463,
          -35.03936087627733,
          -33.973217720435905,
          -36.21463015354267,
          -35.868632638771665,
          -36.37140553009433,
          -36.17520093684444
         ],
         "yaxis": "y2"
        },
        {
         "hovertemplate": "ansatz=TwoLocal<br>otimizador=NFT<br>=%{x}<br>Energia=%{y}<extra></extra>",
         "legendgroup": "TwoLocal",
         "line": {
          "color": "#ab63fa",
          "dash": "solid"
         },
         "marker": {
          "symbol": "circle"
         },
         "mode": "lines",
         "name": "TwoLocal",
         "orientation": "v",
         "showlegend": false,
         "type": "scatter",
         "x": [
          1,
          2,
          3,
          4,
          5,
          6,
          7,
          8,
          9,
          10,
          11,
          12,
          13,
          14,
          15,
          16,
          17,
          18,
          19,
          20,
          21,
          22,
          23,
          24,
          25,
          26,
          27,
          28,
          29,
          30
         ],
         "xaxis": "x3",
         "y": [
          -2.334176176689436,
          -48.59929165428527,
          -48.68746336956395,
          -48.68731616583221,
          -48.77327274019623,
          -48.78342401075026,
          -48.76724391634373,
          -48.76302105060857,
          -48.7755563445516,
          -48.76217952269944,
          -48.77904159240024,
          -48.76321795391873,
          -48.781306792300555,
          -48.76668083824592,
          -48.76726608784577,
          -48.775239248108186,
          -48.78333545480356,
          -48.774037870039805,
          -48.77435901537962,
          -48.77947910290458,
          -48.77535326573841,
          -48.77955515913656,
          -48.78342401075026,
          -48.78342401075026,
          -48.77552440852154,
          -48.76014402435665,
          -48.779486604271966,
          -48.77938863824434,
          -48.757879947135315,
          -48.779444554564805
         ],
         "yaxis": "y3"
        },
        {
         "hovertemplate": "ansatz=TwoLocal<br>otimizador=SLSQP<br>=%{x}<br>Energia=%{y}<extra></extra>",
         "legendgroup": "TwoLocal",
         "line": {
          "color": "#ab63fa",
          "dash": "solid"
         },
         "marker": {
          "symbol": "circle"
         },
         "mode": "lines",
         "name": "TwoLocal",
         "orientation": "v",
         "showlegend": false,
         "type": "scatter",
         "x": [
          1,
          2,
          3,
          4,
          5,
          6,
          7,
          8,
          9,
          10,
          11,
          12,
          13,
          14,
          15,
          16,
          17,
          18,
          19,
          20,
          21,
          22,
          23,
          24,
          25,
          26,
          27,
          28,
          29,
          30
         ],
         "xaxis": "x4",
         "y": [
          -10.797178600810154,
          -42.24817414345124,
          -43.37924760501891,
          -43.946046464040606,
          -43.48794766387471,
          -43.199355396180586,
          -43.539061597989914,
          -43.79368390061446,
          -43.521732879097975,
          -43.184219979558115,
          -43.4240310845432,
          -43.69555276779825,
          -43.35605219465136,
          -43.7370662162721,
          -43.678768810889885,
          -43.15602145833275,
          -43.31187069625237,
          -43.224428363989375,
          -44.055235131622155,
          -44.704664984295405,
          -44.89719389067173,
          -44.511324933869446,
          -44.82937966576073,
          -44.415181693007106,
          -44.54546802917523,
          -44.79607003338812,
          -44.69721030557392,
          -44.641696492104145,
          -44.33546751820959,
          -44.47003459978792
         ],
         "yaxis": "y4"
        }
       ],
       "layout": {
        "annotations": [
         {
          "showarrow": false,
          "text": "otimizador=COBYLA",
          "x": 0.1175,
          "xanchor": "center",
          "xref": "paper",
          "y": 1,
          "yanchor": "bottom",
          "yref": "paper"
         },
         {
          "showarrow": false,
          "text": "otimizador=L_BFGS_B",
          "x": 0.3725,
          "xanchor": "center",
          "xref": "paper",
          "y": 1,
          "yanchor": "bottom",
          "yref": "paper"
         },
         {
          "showarrow": false,
          "text": "otimizador=NFT",
          "x": 0.6275,
          "xanchor": "center",
          "xref": "paper",
          "y": 1,
          "yanchor": "bottom",
          "yref": "paper"
         },
         {
          "showarrow": false,
          "text": "otimizador=SLSQP",
          "x": 0.8824999999999998,
          "xanchor": "center",
          "xref": "paper",
          "y": 1,
          "yanchor": "bottom",
          "yref": "paper"
         },
         {
          "font": {
           "size": 35
          },
          "showarrow": false,
          "text": "Rodada de epocas (até 500 epocas por rodada)",
          "x": 0.5,
          "xref": "paper",
          "y": -0.17,
          "yref": "paper"
         }
        ],
        "font": {
         "size": 35
        },
        "height": 700,
        "legend": {
         "title": {
          "text": "ansatzs"
         },
         "tracegroupgap": 0
        },
        "margin": {
         "b": 90,
         "l": 90,
         "r": 90,
         "t": 90
        },
        "template": {
         "data": {
          "bar": [
           {
            "error_x": {
             "color": "#2a3f5f"
            },
            "error_y": {
             "color": "#2a3f5f"
            },
            "marker": {
             "line": {
              "color": "#E5ECF6",
              "width": 0.5
             },
             "pattern": {
              "fillmode": "overlay",
              "size": 10,
              "solidity": 0.2
             }
            },
            "type": "bar"
           }
          ],
          "barpolar": [
           {
            "marker": {
             "line": {
              "color": "#E5ECF6",
              "width": 0.5
             },
             "pattern": {
              "fillmode": "overlay",
              "size": 10,
              "solidity": 0.2
             }
            },
            "type": "barpolar"
           }
          ],
          "carpet": [
           {
            "aaxis": {
             "endlinecolor": "#2a3f5f",
             "gridcolor": "white",
             "linecolor": "white",
             "minorgridcolor": "white",
             "startlinecolor": "#2a3f5f"
            },
            "baxis": {
             "endlinecolor": "#2a3f5f",
             "gridcolor": "white",
             "linecolor": "white",
             "minorgridcolor": "white",
             "startlinecolor": "#2a3f5f"
            },
            "type": "carpet"
           }
          ],
          "choropleth": [
           {
            "colorbar": {
             "outlinewidth": 0,
             "ticks": ""
            },
            "type": "choropleth"
           }
          ],
          "contour": [
           {
            "colorbar": {
             "outlinewidth": 0,
             "ticks": ""
            },
            "colorscale": [
             [
              0,
              "#0d0887"
             ],
             [
              0.1111111111111111,
              "#46039f"
             ],
             [
              0.2222222222222222,
              "#7201a8"
             ],
             [
              0.3333333333333333,
              "#9c179e"
             ],
             [
              0.4444444444444444,
              "#bd3786"
             ],
             [
              0.5555555555555556,
              "#d8576b"
             ],
             [
              0.6666666666666666,
              "#ed7953"
             ],
             [
              0.7777777777777778,
              "#fb9f3a"
             ],
             [
              0.8888888888888888,
              "#fdca26"
             ],
             [
              1,
              "#f0f921"
             ]
            ],
            "type": "contour"
           }
          ],
          "contourcarpet": [
           {
            "colorbar": {
             "outlinewidth": 0,
             "ticks": ""
            },
            "type": "contourcarpet"
           }
          ],
          "heatmap": [
           {
            "colorbar": {
             "outlinewidth": 0,
             "ticks": ""
            },
            "colorscale": [
             [
              0,
              "#0d0887"
             ],
             [
              0.1111111111111111,
              "#46039f"
             ],
             [
              0.2222222222222222,
              "#7201a8"
             ],
             [
              0.3333333333333333,
              "#9c179e"
             ],
             [
              0.4444444444444444,
              "#bd3786"
             ],
             [
              0.5555555555555556,
              "#d8576b"
             ],
             [
              0.6666666666666666,
              "#ed7953"
             ],
             [
              0.7777777777777778,
              "#fb9f3a"
             ],
             [
              0.8888888888888888,
              "#fdca26"
             ],
             [
              1,
              "#f0f921"
             ]
            ],
            "type": "heatmap"
           }
          ],
          "heatmapgl": [
           {
            "colorbar": {
             "outlinewidth": 0,
             "ticks": ""
            },
            "colorscale": [
             [
              0,
              "#0d0887"
             ],
             [
              0.1111111111111111,
              "#46039f"
             ],
             [
              0.2222222222222222,
              "#7201a8"
             ],
             [
              0.3333333333333333,
              "#9c179e"
             ],
             [
              0.4444444444444444,
              "#bd3786"
             ],
             [
              0.5555555555555556,
              "#d8576b"
             ],
             [
              0.6666666666666666,
              "#ed7953"
             ],
             [
              0.7777777777777778,
              "#fb9f3a"
             ],
             [
              0.8888888888888888,
              "#fdca26"
             ],
             [
              1,
              "#f0f921"
             ]
            ],
            "type": "heatmapgl"
           }
          ],
          "histogram": [
           {
            "marker": {
             "pattern": {
              "fillmode": "overlay",
              "size": 10,
              "solidity": 0.2
             }
            },
            "type": "histogram"
           }
          ],
          "histogram2d": [
           {
            "colorbar": {
             "outlinewidth": 0,
             "ticks": ""
            },
            "colorscale": [
             [
              0,
              "#0d0887"
             ],
             [
              0.1111111111111111,
              "#46039f"
             ],
             [
              0.2222222222222222,
              "#7201a8"
             ],
             [
              0.3333333333333333,
              "#9c179e"
             ],
             [
              0.4444444444444444,
              "#bd3786"
             ],
             [
              0.5555555555555556,
              "#d8576b"
             ],
             [
              0.6666666666666666,
              "#ed7953"
             ],
             [
              0.7777777777777778,
              "#fb9f3a"
             ],
             [
              0.8888888888888888,
              "#fdca26"
             ],
             [
              1,
              "#f0f921"
             ]
            ],
            "type": "histogram2d"
           }
          ],
          "histogram2dcontour": [
           {
            "colorbar": {
             "outlinewidth": 0,
             "ticks": ""
            },
            "colorscale": [
             [
              0,
              "#0d0887"
             ],
             [
              0.1111111111111111,
              "#46039f"
             ],
             [
              0.2222222222222222,
              "#7201a8"
             ],
             [
              0.3333333333333333,
              "#9c179e"
             ],
             [
              0.4444444444444444,
              "#bd3786"
             ],
             [
              0.5555555555555556,
              "#d8576b"
             ],
             [
              0.6666666666666666,
              "#ed7953"
             ],
             [
              0.7777777777777778,
              "#fb9f3a"
             ],
             [
              0.8888888888888888,
              "#fdca26"
             ],
             [
              1,
              "#f0f921"
             ]
            ],
            "type": "histogram2dcontour"
           }
          ],
          "mesh3d": [
           {
            "colorbar": {
             "outlinewidth": 0,
             "ticks": ""
            },
            "type": "mesh3d"
           }
          ],
          "parcoords": [
           {
            "line": {
             "colorbar": {
              "outlinewidth": 0,
              "ticks": ""
             }
            },
            "type": "parcoords"
           }
          ],
          "pie": [
           {
            "automargin": true,
            "type": "pie"
           }
          ],
          "scatter": [
           {
            "fillpattern": {
             "fillmode": "overlay",
             "size": 10,
             "solidity": 0.2
            },
            "type": "scatter"
           }
          ],
          "scatter3d": [
           {
            "line": {
             "colorbar": {
              "outlinewidth": 0,
              "ticks": ""
             }
            },
            "marker": {
             "colorbar": {
              "outlinewidth": 0,
              "ticks": ""
             }
            },
            "type": "scatter3d"
           }
          ],
          "scattercarpet": [
           {
            "marker": {
             "colorbar": {
              "outlinewidth": 0,
              "ticks": ""
             }
            },
            "type": "scattercarpet"
           }
          ],
          "scattergeo": [
           {
            "marker": {
             "colorbar": {
              "outlinewidth": 0,
              "ticks": ""
             }
            },
            "type": "scattergeo"
           }
          ],
          "scattergl": [
           {
            "marker": {
             "colorbar": {
              "outlinewidth": 0,
              "ticks": ""
             }
            },
            "type": "scattergl"
           }
          ],
          "scattermapbox": [
           {
            "marker": {
             "colorbar": {
              "outlinewidth": 0,
              "ticks": ""
             }
            },
            "type": "scattermapbox"
           }
          ],
          "scatterpolar": [
           {
            "marker": {
             "colorbar": {
              "outlinewidth": 0,
              "ticks": ""
             }
            },
            "type": "scatterpolar"
           }
          ],
          "scatterpolargl": [
           {
            "marker": {
             "colorbar": {
              "outlinewidth": 0,
              "ticks": ""
             }
            },
            "type": "scatterpolargl"
           }
          ],
          "scatterternary": [
           {
            "marker": {
             "colorbar": {
              "outlinewidth": 0,
              "ticks": ""
             }
            },
            "type": "scatterternary"
           }
          ],
          "surface": [
           {
            "colorbar": {
             "outlinewidth": 0,
             "ticks": ""
            },
            "colorscale": [
             [
              0,
              "#0d0887"
             ],
             [
              0.1111111111111111,
              "#46039f"
             ],
             [
              0.2222222222222222,
              "#7201a8"
             ],
             [
              0.3333333333333333,
              "#9c179e"
             ],
             [
              0.4444444444444444,
              "#bd3786"
             ],
             [
              0.5555555555555556,
              "#d8576b"
             ],
             [
              0.6666666666666666,
              "#ed7953"
             ],
             [
              0.7777777777777778,
              "#fb9f3a"
             ],
             [
              0.8888888888888888,
              "#fdca26"
             ],
             [
              1,
              "#f0f921"
             ]
            ],
            "type": "surface"
           }
          ],
          "table": [
           {
            "cells": {
             "fill": {
              "color": "#EBF0F8"
             },
             "line": {
              "color": "white"
             }
            },
            "header": {
             "fill": {
              "color": "#C8D4E3"
             },
             "line": {
              "color": "white"
             }
            },
            "type": "table"
           }
          ]
         },
         "layout": {
          "annotationdefaults": {
           "arrowcolor": "#2a3f5f",
           "arrowhead": 0,
           "arrowwidth": 1
          },
          "autotypenumbers": "strict",
          "coloraxis": {
           "colorbar": {
            "outlinewidth": 0,
            "ticks": ""
           }
          },
          "colorscale": {
           "diverging": [
            [
             0,
             "#8e0152"
            ],
            [
             0.1,
             "#c51b7d"
            ],
            [
             0.2,
             "#de77ae"
            ],
            [
             0.3,
             "#f1b6da"
            ],
            [
             0.4,
             "#fde0ef"
            ],
            [
             0.5,
             "#f7f7f7"
            ],
            [
             0.6,
             "#e6f5d0"
            ],
            [
             0.7,
             "#b8e186"
            ],
            [
             0.8,
             "#7fbc41"
            ],
            [
             0.9,
             "#4d9221"
            ],
            [
             1,
             "#276419"
            ]
           ],
           "sequential": [
            [
             0,
             "#0d0887"
            ],
            [
             0.1111111111111111,
             "#46039f"
            ],
            [
             0.2222222222222222,
             "#7201a8"
            ],
            [
             0.3333333333333333,
             "#9c179e"
            ],
            [
             0.4444444444444444,
             "#bd3786"
            ],
            [
             0.5555555555555556,
             "#d8576b"
            ],
            [
             0.6666666666666666,
             "#ed7953"
            ],
            [
             0.7777777777777778,
             "#fb9f3a"
            ],
            [
             0.8888888888888888,
             "#fdca26"
            ],
            [
             1,
             "#f0f921"
            ]
           ],
           "sequentialminus": [
            [
             0,
             "#0d0887"
            ],
            [
             0.1111111111111111,
             "#46039f"
            ],
            [
             0.2222222222222222,
             "#7201a8"
            ],
            [
             0.3333333333333333,
             "#9c179e"
            ],
            [
             0.4444444444444444,
             "#bd3786"
            ],
            [
             0.5555555555555556,
             "#d8576b"
            ],
            [
             0.6666666666666666,
             "#ed7953"
            ],
            [
             0.7777777777777778,
             "#fb9f3a"
            ],
            [
             0.8888888888888888,
             "#fdca26"
            ],
            [
             1,
             "#f0f921"
            ]
           ]
          },
          "colorway": [
           "#636efa",
           "#EF553B",
           "#00cc96",
           "#ab63fa",
           "#FFA15A",
           "#19d3f3",
           "#FF6692",
           "#B6E880",
           "#FF97FF",
           "#FECB52"
          ],
          "font": {
           "color": "#2a3f5f"
          },
          "geo": {
           "bgcolor": "white",
           "lakecolor": "white",
           "landcolor": "#E5ECF6",
           "showlakes": true,
           "showland": true,
           "subunitcolor": "white"
          },
          "hoverlabel": {
           "align": "left"
          },
          "hovermode": "closest",
          "mapbox": {
           "style": "light"
          },
          "paper_bgcolor": "white",
          "plot_bgcolor": "#E5ECF6",
          "polar": {
           "angularaxis": {
            "gridcolor": "white",
            "linecolor": "white",
            "ticks": ""
           },
           "bgcolor": "#E5ECF6",
           "radialaxis": {
            "gridcolor": "white",
            "linecolor": "white",
            "ticks": ""
           }
          },
          "scene": {
           "xaxis": {
            "backgroundcolor": "#E5ECF6",
            "gridcolor": "white",
            "gridwidth": 2,
            "linecolor": "white",
            "showbackground": true,
            "ticks": "",
            "zerolinecolor": "white"
           },
           "yaxis": {
            "backgroundcolor": "#E5ECF6",
            "gridcolor": "white",
            "gridwidth": 2,
            "linecolor": "white",
            "showbackground": true,
            "ticks": "",
            "zerolinecolor": "white"
           },
           "zaxis": {
            "backgroundcolor": "#E5ECF6",
            "gridcolor": "white",
            "gridwidth": 2,
            "linecolor": "white",
            "showbackground": true,
            "ticks": "",
            "zerolinecolor": "white"
           }
          },
          "shapedefaults": {
           "line": {
            "color": "#2a3f5f"
           }
          },
          "ternary": {
           "aaxis": {
            "gridcolor": "white",
            "linecolor": "white",
            "ticks": ""
           },
           "baxis": {
            "gridcolor": "white",
            "linecolor": "white",
            "ticks": ""
           },
           "bgcolor": "#E5ECF6",
           "caxis": {
            "gridcolor": "white",
            "linecolor": "white",
            "ticks": ""
           }
          },
          "title": {
           "x": 0.05
          },
          "xaxis": {
           "automargin": true,
           "gridcolor": "white",
           "linecolor": "white",
           "ticks": "",
           "title": {
            "standoff": 15
           },
           "zerolinecolor": "white",
           "zerolinewidth": 2
          },
          "yaxis": {
           "automargin": true,
           "gridcolor": "white",
           "linecolor": "white",
           "ticks": "",
           "title": {
            "standoff": 15
           },
           "zerolinecolor": "white",
           "zerolinewidth": 2
          }
         }
        },
        "width": 3200,
        "xaxis": {
         "anchor": "y",
         "domain": [
          0,
          0.235
         ],
         "showticklabels": true,
         "title": {
          "text": ""
         }
        },
        "xaxis2": {
         "anchor": "y2",
         "domain": [
          0.255,
          0.49
         ],
         "matches": "x",
         "showticklabels": true,
         "title": {
          "text": ""
         }
        },
        "xaxis3": {
         "anchor": "y3",
         "domain": [
          0.51,
          0.745
         ],
         "matches": "x",
         "showticklabels": true,
         "title": {
          "text": ""
         }
        },
        "xaxis4": {
         "anchor": "y4",
         "domain": [
          0.7649999999999999,
          0.9999999999999999
         ],
         "matches": "x",
         "showticklabels": true,
         "title": {
          "text": ""
         }
        },
        "yaxis": {
         "anchor": "x",
         "domain": [
          0,
          1
         ],
         "title": {
          "text": "Energia"
         }
        },
        "yaxis2": {
         "anchor": "x2",
         "domain": [
          0,
          1
         ],
         "matches": "y",
         "showticklabels": false
        },
        "yaxis3": {
         "anchor": "x3",
         "domain": [
          0,
          1
         ],
         "matches": "y",
         "showticklabels": false
        },
        "yaxis4": {
         "anchor": "x4",
         "domain": [
          0,
          1
         ],
         "matches": "y",
         "showticklabels": false
        }
       }
      }
     },
     "metadata": {},
     "output_type": "display_data"
    }
   ],
   "source": [
    "df_vqe_real = df_vqe.copy()\n",
    "df_vqe_real['valor_energia'] = df_vqe['valor_energia'].apply(lambda x: x.real if isinstance(x, complex) else x)\n",
    "df_vqe_real_epoca = df_vqe_real.loc[df_vqe_real['nova_epoca'] == True]\n",
    "df_vqe_real_epoca = df_vqe_real_epoca.sort_values(by='epoca')\n",
    "\n",
    "df_vqe_real_epoca = df_vqe_real_epoca.sort_values(by=['ansatz', 'otimizador'])\n",
    "\n",
    "fig = px.line(df_vqe_real_epoca, x='epoca', y='valor_energia', color='ansatz',\n",
    "              facet_col='otimizador', facet_col_wrap=df_vqe_real_epoca['otimizador'].nunique(),\n",
    "              labels={'epoca': '', 'valor_energia': 'Energia'},\n",
    "              title='')\n",
    "\n",
    "fig.update_layout(width=width_padrao_display_junto, height=height_padrao_display_junto, legend_title='ansatzs', font=tamanho_padrao_fonte, margin=tamanho_padrao_margem)\n",
    "fig.update_xaxes(showticklabels=True, title_text='')\n",
    "\n",
    "fig.add_annotation(\n",
    "    text='Rodada de epocas (até 500 epocas por rodada)',\n",
    "    xref='paper',\n",
    "    yref='paper',\n",
    "    x=0.5,\n",
    "    y=-0.17,\n",
    "    showarrow=False,\n",
    "    font=tamanho_padrao_fonte\n",
    ")\n",
    "\n",
    "if salvar_figuras:\n",
    "    nome_figura = f\"figuras_vqe/{num_ativos}_{ambiente_backend}_energia_por_epoca_junto_vqe.png\"\n",
    "    fig.write_image(nome_figura, width=width_padrao_salvar_junto, height=height_padrao_salvar_junto)\n",
    "\n",
    "if mostrar_figuras:\n",
    "    fig.show()"
   ]
  },
  {
   "cell_type": "code",
   "execution_count": 39,
   "metadata": {},
   "outputs": [],
   "source": [
    "# df_agg = df_vqe.groupby(['ansatz', 'otimizador'], as_index=False)['valor_otimo_encontrado'].mean() # pode ser média, max, min, pois todos os valores sao iguais\n",
    "\n",
    "# fig = px.bar(df_agg, x='ansatz', y='valor_otimo_encontrado', color='ansatz', facet_col='otimizador',\n",
    "#              title='',\n",
    "#              width=width_padrao_display_junto, height=height_padrao_display_junto, \n",
    "#              )\n",
    "\n",
    "# fig.update_layout(xaxis_title='', yaxis_title='Energia', font=tamanho_padrao_fonte, margin=tamanho_padrao_margem)\n",
    "# fig.update_xaxes(showticklabels=False, title_text='')\n",
    "\n",
    "# fig.add_annotation(\n",
    "#     text='Ansatz',\n",
    "#     xref='paper',\n",
    "#     yref='paper',\n",
    "#     x=0.5,\n",
    "#     y=-0.13,\n",
    "#     showarrow=False,\n",
    "#     font=tamanho_padrao_fonte\n",
    "# )\n",
    "\n",
    "# if salvar_figuras:\n",
    "#     nome_figura = f\"figuras_vqe/{num_ativos}_{ambiente_backend}_valor_otimo_vqe.png\"\n",
    "#     fig.write_image(nome_figura, width=width_padrao_salvar_junto, height=height_padrao_salvar_junto)\n",
    "\n",
    "# if mostrar_figuras:\n",
    "#     fig.show()"
   ]
  },
  {
   "cell_type": "code",
   "execution_count": 40,
   "metadata": {},
   "outputs": [
    {
     "data": {
      "application/vnd.plotly.v1+json": {
       "config": {
        "plotlyServerURL": "https://plot.ly"
       },
       "data": [
        {
         "alignmentgroup": "True",
         "hovertemplate": "ansatz=%{x}<br>otimizador=COBYLA<br>probabilidade_valor_otimo=%{y}<extra></extra>",
         "legendgroup": "EfficientSU2",
         "marker": {
          "color": "#636efa",
          "pattern": {
           "shape": ""
          }
         },
         "name": "EfficientSU2",
         "offsetgroup": "EfficientSU2",
         "orientation": "v",
         "showlegend": true,
         "textposition": "auto",
         "type": "bar",
         "x": [
          "EfficientSU2"
         ],
         "xaxis": "x",
         "y": [
          0.009928385416666666
         ],
         "yaxis": "y"
        },
        {
         "alignmentgroup": "True",
         "hovertemplate": "ansatz=%{x}<br>otimizador=L_BFGS_B<br>probabilidade_valor_otimo=%{y}<extra></extra>",
         "legendgroup": "EfficientSU2",
         "marker": {
          "color": "#636efa",
          "pattern": {
           "shape": ""
          }
         },
         "name": "EfficientSU2",
         "offsetgroup": "EfficientSU2",
         "orientation": "v",
         "showlegend": false,
         "textposition": "auto",
         "type": "bar",
         "x": [
          "EfficientSU2"
         ],
         "xaxis": "x2",
         "y": [
          0.004729369671132765
         ],
         "yaxis": "y2"
        },
        {
         "alignmentgroup": "True",
         "hovertemplate": "ansatz=%{x}<br>otimizador=NFT<br>probabilidade_valor_otimo=%{y}<extra></extra>",
         "legendgroup": "EfficientSU2",
         "marker": {
          "color": "#636efa",
          "pattern": {
           "shape": ""
          }
         },
         "name": "EfficientSU2",
         "offsetgroup": "EfficientSU2",
         "orientation": "v",
         "showlegend": false,
         "textposition": "auto",
         "type": "bar",
         "x": [
          "EfficientSU2"
         ],
         "xaxis": "x3",
         "y": [
          0.05022786458333333
         ],
         "yaxis": "y3"
        },
        {
         "alignmentgroup": "True",
         "hovertemplate": "ansatz=%{x}<br>otimizador=SLSQP<br>probabilidade_valor_otimo=%{y}<extra></extra>",
         "legendgroup": "EfficientSU2",
         "marker": {
          "color": "#636efa",
          "pattern": {
           "shape": ""
          }
         },
         "name": "EfficientSU2",
         "offsetgroup": "EfficientSU2",
         "orientation": "v",
         "showlegend": false,
         "textposition": "auto",
         "type": "bar",
         "x": [
          "EfficientSU2"
         ],
         "xaxis": "x4",
         "y": [
          0.003732079902999674
         ],
         "yaxis": "y4"
        },
        {
         "alignmentgroup": "True",
         "hovertemplate": "ansatz=%{x}<br>otimizador=COBYLA<br>probabilidade_valor_otimo=%{y}<extra></extra>",
         "legendgroup": "PauliTwoDesign",
         "marker": {
          "color": "#EF553B",
          "pattern": {
           "shape": ""
          }
         },
         "name": "PauliTwoDesign",
         "offsetgroup": "PauliTwoDesign",
         "orientation": "v",
         "showlegend": true,
         "textposition": "auto",
         "type": "bar",
         "x": [
          "PauliTwoDesign"
         ],
         "xaxis": "x",
         "y": [
          0.07834183961553905
         ],
         "yaxis": "y"
        },
        {
         "alignmentgroup": "True",
         "hovertemplate": "ansatz=%{x}<br>otimizador=L_BFGS_B<br>probabilidade_valor_otimo=%{y}<extra></extra>",
         "legendgroup": "PauliTwoDesign",
         "marker": {
          "color": "#EF553B",
          "pattern": {
           "shape": ""
          }
         },
         "name": "PauliTwoDesign",
         "offsetgroup": "PauliTwoDesign",
         "orientation": "v",
         "showlegend": false,
         "textposition": "auto",
         "type": "bar",
         "x": [
          "PauliTwoDesign"
         ],
         "xaxis": "x2",
         "y": [
          0.034792907555483026
         ],
         "yaxis": "y2"
        },
        {
         "alignmentgroup": "True",
         "hovertemplate": "ansatz=%{x}<br>otimizador=NFT<br>probabilidade_valor_otimo=%{y}<extra></extra>",
         "legendgroup": "PauliTwoDesign",
         "marker": {
          "color": "#EF553B",
          "pattern": {
           "shape": ""
          }
         },
         "name": "PauliTwoDesign",
         "offsetgroup": "PauliTwoDesign",
         "orientation": "v",
         "showlegend": false,
         "textposition": "auto",
         "type": "bar",
         "x": [
          "PauliTwoDesign"
         ],
         "xaxis": "x3",
         "y": [
          0.11656901041666666
         ],
         "yaxis": "y3"
        },
        {
         "alignmentgroup": "True",
         "hovertemplate": "ansatz=%{x}<br>otimizador=SLSQP<br>probabilidade_valor_otimo=%{y}<extra></extra>",
         "legendgroup": "PauliTwoDesign",
         "marker": {
          "color": "#EF553B",
          "pattern": {
           "shape": ""
          }
         },
         "name": "PauliTwoDesign",
         "offsetgroup": "PauliTwoDesign",
         "orientation": "v",
         "showlegend": false,
         "textposition": "auto",
         "type": "bar",
         "x": [
          "PauliTwoDesign"
         ],
         "xaxis": "x4",
         "y": [
          0.14319711985700617
         ],
         "yaxis": "y4"
        },
        {
         "alignmentgroup": "True",
         "hovertemplate": "ansatz=%{x}<br>otimizador=COBYLA<br>probabilidade_valor_otimo=%{y}<extra></extra>",
         "legendgroup": "RealAmplitudes",
         "marker": {
          "color": "#00cc96",
          "pattern": {
           "shape": ""
          }
         },
         "name": "RealAmplitudes",
         "offsetgroup": "RealAmplitudes",
         "orientation": "v",
         "showlegend": true,
         "textposition": "auto",
         "type": "bar",
         "x": [
          "RealAmplitudes"
         ],
         "xaxis": "x",
         "y": [
          0.01588781456000837
         ],
         "yaxis": "y"
        },
        {
         "alignmentgroup": "True",
         "hovertemplate": "ansatz=%{x}<br>otimizador=L_BFGS_B<br>probabilidade_valor_otimo=%{y}<extra></extra>",
         "legendgroup": "RealAmplitudes",
         "marker": {
          "color": "#00cc96",
          "pattern": {
           "shape": ""
          }
         },
         "name": "RealAmplitudes",
         "offsetgroup": "RealAmplitudes",
         "orientation": "v",
         "showlegend": false,
         "textposition": "auto",
         "type": "bar",
         "x": [
          "RealAmplitudes"
         ],
         "xaxis": "x2",
         "y": [
          0.010738506988065326
         ],
         "yaxis": "y2"
        },
        {
         "alignmentgroup": "True",
         "hovertemplate": "ansatz=%{x}<br>otimizador=NFT<br>probabilidade_valor_otimo=%{y}<extra></extra>",
         "legendgroup": "RealAmplitudes",
         "marker": {
          "color": "#00cc96",
          "pattern": {
           "shape": ""
          }
         },
         "name": "RealAmplitudes",
         "offsetgroup": "RealAmplitudes",
         "orientation": "v",
         "showlegend": false,
         "textposition": "auto",
         "type": "bar",
         "x": [
          "RealAmplitudes"
         ],
         "xaxis": "x3",
         "y": [
          0.7952799479166667
         ],
         "yaxis": "y3"
        },
        {
         "alignmentgroup": "True",
         "hovertemplate": "ansatz=%{x}<br>otimizador=SLSQP<br>probabilidade_valor_otimo=%{y}<extra></extra>",
         "legendgroup": "RealAmplitudes",
         "marker": {
          "color": "#00cc96",
          "pattern": {
           "shape": ""
          }
         },
         "name": "RealAmplitudes",
         "offsetgroup": "RealAmplitudes",
         "orientation": "v",
         "showlegend": false,
         "textposition": "auto",
         "type": "bar",
         "x": [
          "RealAmplitudes"
         ],
         "xaxis": "x4",
         "y": [
          0.00320044206836799
         ],
         "yaxis": "y4"
        },
        {
         "alignmentgroup": "True",
         "hovertemplate": "ansatz=%{x}<br>otimizador=COBYLA<br>probabilidade_valor_otimo=%{y}<extra></extra>",
         "legendgroup": "TwoLocal",
         "marker": {
          "color": "#ab63fa",
          "pattern": {
           "shape": ""
          }
         },
         "name": "TwoLocal",
         "offsetgroup": "TwoLocal",
         "orientation": "v",
         "showlegend": true,
         "textposition": "auto",
         "type": "bar",
         "x": [
          "TwoLocal"
         ],
         "xaxis": "x",
         "y": [
          0.15280290835592564
         ],
         "yaxis": "y"
        },
        {
         "alignmentgroup": "True",
         "hovertemplate": "ansatz=%{x}<br>otimizador=L_BFGS_B<br>probabilidade_valor_otimo=%{y}<extra></extra>",
         "legendgroup": "TwoLocal",
         "marker": {
          "color": "#ab63fa",
          "pattern": {
           "shape": ""
          }
         },
         "name": "TwoLocal",
         "offsetgroup": "TwoLocal",
         "orientation": "v",
         "showlegend": false,
         "textposition": "auto",
         "type": "bar",
         "x": [
          "TwoLocal"
         ],
         "xaxis": "x2",
         "y": [
          0.0027050512224517905
         ],
         "yaxis": "y2"
        },
        {
         "alignmentgroup": "True",
         "hovertemplate": "ansatz=%{x}<br>otimizador=NFT<br>probabilidade_valor_otimo=%{y}<extra></extra>",
         "legendgroup": "TwoLocal",
         "marker": {
          "color": "#ab63fa",
          "pattern": {
           "shape": ""
          }
         },
         "name": "TwoLocal",
         "offsetgroup": "TwoLocal",
         "orientation": "v",
         "showlegend": false,
         "textposition": "auto",
         "type": "bar",
         "x": [
          "TwoLocal"
         ],
         "xaxis": "x3",
         "y": [
          0.9442708333333333
         ],
         "yaxis": "y3"
        },
        {
         "alignmentgroup": "True",
         "hovertemplate": "ansatz=%{x}<br>otimizador=SLSQP<br>probabilidade_valor_otimo=%{y}<extra></extra>",
         "legendgroup": "TwoLocal",
         "marker": {
          "color": "#ab63fa",
          "pattern": {
           "shape": ""
          }
         },
         "name": "TwoLocal",
         "offsetgroup": "TwoLocal",
         "orientation": "v",
         "showlegend": false,
         "textposition": "auto",
         "type": "bar",
         "x": [
          "TwoLocal"
         ],
         "xaxis": "x4",
         "y": [
          0.07863336643618656
         ],
         "yaxis": "y4"
        }
       ],
       "layout": {
        "annotations": [
         {
          "showarrow": false,
          "text": "otimizador=COBYLA",
          "x": 0.1175,
          "xanchor": "center",
          "xref": "paper",
          "y": 1,
          "yanchor": "bottom",
          "yref": "paper"
         },
         {
          "showarrow": false,
          "text": "otimizador=L_BFGS_B",
          "x": 0.3725,
          "xanchor": "center",
          "xref": "paper",
          "y": 1,
          "yanchor": "bottom",
          "yref": "paper"
         },
         {
          "showarrow": false,
          "text": "otimizador=NFT",
          "x": 0.6275,
          "xanchor": "center",
          "xref": "paper",
          "y": 1,
          "yanchor": "bottom",
          "yref": "paper"
         },
         {
          "showarrow": false,
          "text": "otimizador=SLSQP",
          "x": 0.8824999999999998,
          "xanchor": "center",
          "xref": "paper",
          "y": 1,
          "yanchor": "bottom",
          "yref": "paper"
         },
         {
          "font": {
           "size": 35
          },
          "showarrow": false,
          "text": "Ansatz",
          "x": 0.5,
          "xref": "paper",
          "y": -0.13,
          "yref": "paper"
         }
        ],
        "barmode": "relative",
        "font": {
         "size": 35
        },
        "height": 700,
        "legend": {
         "title": {
          "text": "ansatz"
         },
         "tracegroupgap": 0
        },
        "margin": {
         "b": 90,
         "l": 90,
         "r": 90,
         "t": 90
        },
        "template": {
         "data": {
          "bar": [
           {
            "error_x": {
             "color": "#2a3f5f"
            },
            "error_y": {
             "color": "#2a3f5f"
            },
            "marker": {
             "line": {
              "color": "#E5ECF6",
              "width": 0.5
             },
             "pattern": {
              "fillmode": "overlay",
              "size": 10,
              "solidity": 0.2
             }
            },
            "type": "bar"
           }
          ],
          "barpolar": [
           {
            "marker": {
             "line": {
              "color": "#E5ECF6",
              "width": 0.5
             },
             "pattern": {
              "fillmode": "overlay",
              "size": 10,
              "solidity": 0.2
             }
            },
            "type": "barpolar"
           }
          ],
          "carpet": [
           {
            "aaxis": {
             "endlinecolor": "#2a3f5f",
             "gridcolor": "white",
             "linecolor": "white",
             "minorgridcolor": "white",
             "startlinecolor": "#2a3f5f"
            },
            "baxis": {
             "endlinecolor": "#2a3f5f",
             "gridcolor": "white",
             "linecolor": "white",
             "minorgridcolor": "white",
             "startlinecolor": "#2a3f5f"
            },
            "type": "carpet"
           }
          ],
          "choropleth": [
           {
            "colorbar": {
             "outlinewidth": 0,
             "ticks": ""
            },
            "type": "choropleth"
           }
          ],
          "contour": [
           {
            "colorbar": {
             "outlinewidth": 0,
             "ticks": ""
            },
            "colorscale": [
             [
              0,
              "#0d0887"
             ],
             [
              0.1111111111111111,
              "#46039f"
             ],
             [
              0.2222222222222222,
              "#7201a8"
             ],
             [
              0.3333333333333333,
              "#9c179e"
             ],
             [
              0.4444444444444444,
              "#bd3786"
             ],
             [
              0.5555555555555556,
              "#d8576b"
             ],
             [
              0.6666666666666666,
              "#ed7953"
             ],
             [
              0.7777777777777778,
              "#fb9f3a"
             ],
             [
              0.8888888888888888,
              "#fdca26"
             ],
             [
              1,
              "#f0f921"
             ]
            ],
            "type": "contour"
           }
          ],
          "contourcarpet": [
           {
            "colorbar": {
             "outlinewidth": 0,
             "ticks": ""
            },
            "type": "contourcarpet"
           }
          ],
          "heatmap": [
           {
            "colorbar": {
             "outlinewidth": 0,
             "ticks": ""
            },
            "colorscale": [
             [
              0,
              "#0d0887"
             ],
             [
              0.1111111111111111,
              "#46039f"
             ],
             [
              0.2222222222222222,
              "#7201a8"
             ],
             [
              0.3333333333333333,
              "#9c179e"
             ],
             [
              0.4444444444444444,
              "#bd3786"
             ],
             [
              0.5555555555555556,
              "#d8576b"
             ],
             [
              0.6666666666666666,
              "#ed7953"
             ],
             [
              0.7777777777777778,
              "#fb9f3a"
             ],
             [
              0.8888888888888888,
              "#fdca26"
             ],
             [
              1,
              "#f0f921"
             ]
            ],
            "type": "heatmap"
           }
          ],
          "heatmapgl": [
           {
            "colorbar": {
             "outlinewidth": 0,
             "ticks": ""
            },
            "colorscale": [
             [
              0,
              "#0d0887"
             ],
             [
              0.1111111111111111,
              "#46039f"
             ],
             [
              0.2222222222222222,
              "#7201a8"
             ],
             [
              0.3333333333333333,
              "#9c179e"
             ],
             [
              0.4444444444444444,
              "#bd3786"
             ],
             [
              0.5555555555555556,
              "#d8576b"
             ],
             [
              0.6666666666666666,
              "#ed7953"
             ],
             [
              0.7777777777777778,
              "#fb9f3a"
             ],
             [
              0.8888888888888888,
              "#fdca26"
             ],
             [
              1,
              "#f0f921"
             ]
            ],
            "type": "heatmapgl"
           }
          ],
          "histogram": [
           {
            "marker": {
             "pattern": {
              "fillmode": "overlay",
              "size": 10,
              "solidity": 0.2
             }
            },
            "type": "histogram"
           }
          ],
          "histogram2d": [
           {
            "colorbar": {
             "outlinewidth": 0,
             "ticks": ""
            },
            "colorscale": [
             [
              0,
              "#0d0887"
             ],
             [
              0.1111111111111111,
              "#46039f"
             ],
             [
              0.2222222222222222,
              "#7201a8"
             ],
             [
              0.3333333333333333,
              "#9c179e"
             ],
             [
              0.4444444444444444,
              "#bd3786"
             ],
             [
              0.5555555555555556,
              "#d8576b"
             ],
             [
              0.6666666666666666,
              "#ed7953"
             ],
             [
              0.7777777777777778,
              "#fb9f3a"
             ],
             [
              0.8888888888888888,
              "#fdca26"
             ],
             [
              1,
              "#f0f921"
             ]
            ],
            "type": "histogram2d"
           }
          ],
          "histogram2dcontour": [
           {
            "colorbar": {
             "outlinewidth": 0,
             "ticks": ""
            },
            "colorscale": [
             [
              0,
              "#0d0887"
             ],
             [
              0.1111111111111111,
              "#46039f"
             ],
             [
              0.2222222222222222,
              "#7201a8"
             ],
             [
              0.3333333333333333,
              "#9c179e"
             ],
             [
              0.4444444444444444,
              "#bd3786"
             ],
             [
              0.5555555555555556,
              "#d8576b"
             ],
             [
              0.6666666666666666,
              "#ed7953"
             ],
             [
              0.7777777777777778,
              "#fb9f3a"
             ],
             [
              0.8888888888888888,
              "#fdca26"
             ],
             [
              1,
              "#f0f921"
             ]
            ],
            "type": "histogram2dcontour"
           }
          ],
          "mesh3d": [
           {
            "colorbar": {
             "outlinewidth": 0,
             "ticks": ""
            },
            "type": "mesh3d"
           }
          ],
          "parcoords": [
           {
            "line": {
             "colorbar": {
              "outlinewidth": 0,
              "ticks": ""
             }
            },
            "type": "parcoords"
           }
          ],
          "pie": [
           {
            "automargin": true,
            "type": "pie"
           }
          ],
          "scatter": [
           {
            "fillpattern": {
             "fillmode": "overlay",
             "size": 10,
             "solidity": 0.2
            },
            "type": "scatter"
           }
          ],
          "scatter3d": [
           {
            "line": {
             "colorbar": {
              "outlinewidth": 0,
              "ticks": ""
             }
            },
            "marker": {
             "colorbar": {
              "outlinewidth": 0,
              "ticks": ""
             }
            },
            "type": "scatter3d"
           }
          ],
          "scattercarpet": [
           {
            "marker": {
             "colorbar": {
              "outlinewidth": 0,
              "ticks": ""
             }
            },
            "type": "scattercarpet"
           }
          ],
          "scattergeo": [
           {
            "marker": {
             "colorbar": {
              "outlinewidth": 0,
              "ticks": ""
             }
            },
            "type": "scattergeo"
           }
          ],
          "scattergl": [
           {
            "marker": {
             "colorbar": {
              "outlinewidth": 0,
              "ticks": ""
             }
            },
            "type": "scattergl"
           }
          ],
          "scattermapbox": [
           {
            "marker": {
             "colorbar": {
              "outlinewidth": 0,
              "ticks": ""
             }
            },
            "type": "scattermapbox"
           }
          ],
          "scatterpolar": [
           {
            "marker": {
             "colorbar": {
              "outlinewidth": 0,
              "ticks": ""
             }
            },
            "type": "scatterpolar"
           }
          ],
          "scatterpolargl": [
           {
            "marker": {
             "colorbar": {
              "outlinewidth": 0,
              "ticks": ""
             }
            },
            "type": "scatterpolargl"
           }
          ],
          "scatterternary": [
           {
            "marker": {
             "colorbar": {
              "outlinewidth": 0,
              "ticks": ""
             }
            },
            "type": "scatterternary"
           }
          ],
          "surface": [
           {
            "colorbar": {
             "outlinewidth": 0,
             "ticks": ""
            },
            "colorscale": [
             [
              0,
              "#0d0887"
             ],
             [
              0.1111111111111111,
              "#46039f"
             ],
             [
              0.2222222222222222,
              "#7201a8"
             ],
             [
              0.3333333333333333,
              "#9c179e"
             ],
             [
              0.4444444444444444,
              "#bd3786"
             ],
             [
              0.5555555555555556,
              "#d8576b"
             ],
             [
              0.6666666666666666,
              "#ed7953"
             ],
             [
              0.7777777777777778,
              "#fb9f3a"
             ],
             [
              0.8888888888888888,
              "#fdca26"
             ],
             [
              1,
              "#f0f921"
             ]
            ],
            "type": "surface"
           }
          ],
          "table": [
           {
            "cells": {
             "fill": {
              "color": "#EBF0F8"
             },
             "line": {
              "color": "white"
             }
            },
            "header": {
             "fill": {
              "color": "#C8D4E3"
             },
             "line": {
              "color": "white"
             }
            },
            "type": "table"
           }
          ]
         },
         "layout": {
          "annotationdefaults": {
           "arrowcolor": "#2a3f5f",
           "arrowhead": 0,
           "arrowwidth": 1
          },
          "autotypenumbers": "strict",
          "coloraxis": {
           "colorbar": {
            "outlinewidth": 0,
            "ticks": ""
           }
          },
          "colorscale": {
           "diverging": [
            [
             0,
             "#8e0152"
            ],
            [
             0.1,
             "#c51b7d"
            ],
            [
             0.2,
             "#de77ae"
            ],
            [
             0.3,
             "#f1b6da"
            ],
            [
             0.4,
             "#fde0ef"
            ],
            [
             0.5,
             "#f7f7f7"
            ],
            [
             0.6,
             "#e6f5d0"
            ],
            [
             0.7,
             "#b8e186"
            ],
            [
             0.8,
             "#7fbc41"
            ],
            [
             0.9,
             "#4d9221"
            ],
            [
             1,
             "#276419"
            ]
           ],
           "sequential": [
            [
             0,
             "#0d0887"
            ],
            [
             0.1111111111111111,
             "#46039f"
            ],
            [
             0.2222222222222222,
             "#7201a8"
            ],
            [
             0.3333333333333333,
             "#9c179e"
            ],
            [
             0.4444444444444444,
             "#bd3786"
            ],
            [
             0.5555555555555556,
             "#d8576b"
            ],
            [
             0.6666666666666666,
             "#ed7953"
            ],
            [
             0.7777777777777778,
             "#fb9f3a"
            ],
            [
             0.8888888888888888,
             "#fdca26"
            ],
            [
             1,
             "#f0f921"
            ]
           ],
           "sequentialminus": [
            [
             0,
             "#0d0887"
            ],
            [
             0.1111111111111111,
             "#46039f"
            ],
            [
             0.2222222222222222,
             "#7201a8"
            ],
            [
             0.3333333333333333,
             "#9c179e"
            ],
            [
             0.4444444444444444,
             "#bd3786"
            ],
            [
             0.5555555555555556,
             "#d8576b"
            ],
            [
             0.6666666666666666,
             "#ed7953"
            ],
            [
             0.7777777777777778,
             "#fb9f3a"
            ],
            [
             0.8888888888888888,
             "#fdca26"
            ],
            [
             1,
             "#f0f921"
            ]
           ]
          },
          "colorway": [
           "#636efa",
           "#EF553B",
           "#00cc96",
           "#ab63fa",
           "#FFA15A",
           "#19d3f3",
           "#FF6692",
           "#B6E880",
           "#FF97FF",
           "#FECB52"
          ],
          "font": {
           "color": "#2a3f5f"
          },
          "geo": {
           "bgcolor": "white",
           "lakecolor": "white",
           "landcolor": "#E5ECF6",
           "showlakes": true,
           "showland": true,
           "subunitcolor": "white"
          },
          "hoverlabel": {
           "align": "left"
          },
          "hovermode": "closest",
          "mapbox": {
           "style": "light"
          },
          "paper_bgcolor": "white",
          "plot_bgcolor": "#E5ECF6",
          "polar": {
           "angularaxis": {
            "gridcolor": "white",
            "linecolor": "white",
            "ticks": ""
           },
           "bgcolor": "#E5ECF6",
           "radialaxis": {
            "gridcolor": "white",
            "linecolor": "white",
            "ticks": ""
           }
          },
          "scene": {
           "xaxis": {
            "backgroundcolor": "#E5ECF6",
            "gridcolor": "white",
            "gridwidth": 2,
            "linecolor": "white",
            "showbackground": true,
            "ticks": "",
            "zerolinecolor": "white"
           },
           "yaxis": {
            "backgroundcolor": "#E5ECF6",
            "gridcolor": "white",
            "gridwidth": 2,
            "linecolor": "white",
            "showbackground": true,
            "ticks": "",
            "zerolinecolor": "white"
           },
           "zaxis": {
            "backgroundcolor": "#E5ECF6",
            "gridcolor": "white",
            "gridwidth": 2,
            "linecolor": "white",
            "showbackground": true,
            "ticks": "",
            "zerolinecolor": "white"
           }
          },
          "shapedefaults": {
           "line": {
            "color": "#2a3f5f"
           }
          },
          "ternary": {
           "aaxis": {
            "gridcolor": "white",
            "linecolor": "white",
            "ticks": ""
           },
           "baxis": {
            "gridcolor": "white",
            "linecolor": "white",
            "ticks": ""
           },
           "bgcolor": "#E5ECF6",
           "caxis": {
            "gridcolor": "white",
            "linecolor": "white",
            "ticks": ""
           }
          },
          "title": {
           "x": 0.05
          },
          "xaxis": {
           "automargin": true,
           "gridcolor": "white",
           "linecolor": "white",
           "ticks": "",
           "title": {
            "standoff": 15
           },
           "zerolinecolor": "white",
           "zerolinewidth": 2
          },
          "yaxis": {
           "automargin": true,
           "gridcolor": "white",
           "linecolor": "white",
           "ticks": "",
           "title": {
            "standoff": 15
           },
           "zerolinecolor": "white",
           "zerolinewidth": 2
          }
         }
        },
        "width": 3200,
        "xaxis": {
         "anchor": "y",
         "categoryarray": [
          "EfficientSU2",
          "PauliTwoDesign",
          "RealAmplitudes",
          "TwoLocal"
         ],
         "categoryorder": "array",
         "domain": [
          0,
          0.235
         ],
         "showticklabels": false,
         "title": {
          "text": ""
         }
        },
        "xaxis2": {
         "anchor": "y2",
         "categoryarray": [
          "EfficientSU2",
          "PauliTwoDesign",
          "RealAmplitudes",
          "TwoLocal"
         ],
         "categoryorder": "array",
         "domain": [
          0.255,
          0.49
         ],
         "matches": "x",
         "showticklabels": false,
         "title": {
          "text": ""
         }
        },
        "xaxis3": {
         "anchor": "y3",
         "categoryarray": [
          "EfficientSU2",
          "PauliTwoDesign",
          "RealAmplitudes",
          "TwoLocal"
         ],
         "categoryorder": "array",
         "domain": [
          0.51,
          0.745
         ],
         "matches": "x",
         "showticklabels": false,
         "title": {
          "text": ""
         }
        },
        "xaxis4": {
         "anchor": "y4",
         "categoryarray": [
          "EfficientSU2",
          "PauliTwoDesign",
          "RealAmplitudes",
          "TwoLocal"
         ],
         "categoryorder": "array",
         "domain": [
          0.7649999999999999,
          0.9999999999999999
         ],
         "matches": "x",
         "showticklabels": false,
         "title": {
          "text": ""
         }
        },
        "yaxis": {
         "anchor": "x",
         "domain": [
          0,
          1
         ],
         "title": {
          "text": "Probabilidade"
         }
        },
        "yaxis2": {
         "anchor": "x2",
         "domain": [
          0,
          1
         ],
         "matches": "y",
         "showticklabels": false
        },
        "yaxis3": {
         "anchor": "x3",
         "domain": [
          0,
          1
         ],
         "matches": "y",
         "showticklabels": false
        },
        "yaxis4": {
         "anchor": "x4",
         "domain": [
          0,
          1
         ],
         "matches": "y",
         "showticklabels": false
        }
       }
      }
     },
     "metadata": {},
     "output_type": "display_data"
    }
   ],
   "source": [
    "df_agg = df_vqe.groupby(['ansatz', 'otimizador'], as_index=False)['probabilidade_valor_otimo'].mean() # pode ser média, max, min, pois todos os valores sao iguais\n",
    "\n",
    "fig = px.bar(df_agg, x='ansatz', y='probabilidade_valor_otimo', color='ansatz', facet_col='otimizador',\n",
    "             title='', width=width_padrao_display_junto, height=height_padrao_display_junto, \n",
    "             )\n",
    "\n",
    "fig.update_layout(xaxis_title='', yaxis_title='Probabilidade', font=tamanho_padrao_fonte, margin=tamanho_padrao_margem)\n",
    "fig.update_xaxes(showticklabels=False, title_text='')\n",
    "\n",
    "fig.add_annotation(\n",
    "    text='Ansatz',\n",
    "    xref='paper',\n",
    "    yref='paper',\n",
    "    x=0.5,\n",
    "    y=-0.13,\n",
    "    showarrow=False,\n",
    "    font=tamanho_padrao_fonte\n",
    ")\n",
    "\n",
    "if salvar_figuras:\n",
    "    nome_figura = f\"figuras_vqe/{num_ativos}_{ambiente_backend}_probabilidade_valor_otimo_vqe.png\"\n",
    "    fig.write_image(nome_figura, width=width_padrao_salvar_junto, height=height_padrao_salvar_junto)\n",
    "\n",
    "if mostrar_figuras:\n",
    "    fig.show()"
   ]
  },
  {
   "cell_type": "code",
   "execution_count": 41,
   "metadata": {},
   "outputs": [],
   "source": [
    "# df_agg = df_vqe.groupby(['ansatz', 'otimizador'], as_index=False)['tempo_elapsado_otimizador'].mean() # pode ser média, max, min, pois todos os valores sao iguais\n",
    "\n",
    "# fig = px.bar(df_agg, x='ansatz', y='tempo_elapsado_otimizador', color='ansatz', facet_col='otimizador',\n",
    "#              title='',\n",
    "#              width=width_padrao_display_junto, height=height_padrao_display_junto, \n",
    "#              )\n",
    "\n",
    "# fig.update_layout(xaxis_title='', yaxis_title='Tempo', font=tamanho_padrao_fonte, margin=tamanho_padrao_margem)\n",
    "# fig.update_xaxes(showticklabels=False, title_text='')\n",
    "\n",
    "# fig.add_annotation(\n",
    "#     text='Ansatz',\n",
    "#     xref='paper',\n",
    "#     yref='paper',\n",
    "#     x=0.5,\n",
    "#     y=-0.13,\n",
    "#     showarrow=False,\n",
    "#     font=tamanho_padrao_fonte\n",
    "# )\n",
    "\n",
    "# if salvar_figuras:\n",
    "#     nome_figura = f\"figuras_vqe/{num_ativos}_{ambiente_backend}_tempo_elapsado_vqe.png\"\n",
    "#     fig.write_image(nome_figura, width=width_padrao_salvar_junto, height=height_padrao_salvar_junto)\n",
    "\n",
    "# if mostrar_figuras:\n",
    "#     fig.show()"
   ]
  },
  {
   "cell_type": "code",
   "execution_count": 42,
   "metadata": {},
   "outputs": [],
   "source": [
    "# df_agg = df_vqe.groupby(['ansatz', 'otimizador'], as_index=False)['quantidade_avaliacoes_total'].mean() # pode ser média, max, min, pois todos os valores sao iguais\n",
    "\n",
    "# fig = px.bar(df_agg, x='ansatz', y='quantidade_avaliacoes_total', color='ansatz', facet_col='otimizador',\n",
    "#              title='',\n",
    "#              width=width_padrao_display_junto, height=height_padrao_display_junto, \n",
    "#              )\n",
    "\n",
    "# fig.update_layout(xaxis_title='', yaxis_title='Chamadas função custo', font=tamanho_padrao_fonte, margin=tamanho_padrao_margem)\n",
    "# fig.update_xaxes(showticklabels=False, title_text='')\n",
    "\n",
    "# fig.add_annotation(\n",
    "#     text='Ansatz',\n",
    "#     xref='paper',\n",
    "#     yref='paper',\n",
    "#     x=0.5,\n",
    "#     y=-0.13,\n",
    "#     showarrow=False,\n",
    "#     font=tamanho_padrao_fonte\n",
    "# )\n",
    "\n",
    "# if salvar_figuras:\n",
    "#     nome_figura = f\"figuras_vqe/{num_ativos}_{ambiente_backend}_chamadas_funcao_custo_vqe.png\"\n",
    "#     fig.write_image(nome_figura, width=width_padrao_salvar_junto, height=height_padrao_salvar_junto)\n",
    "\n",
    "# if mostrar_figuras:\n",
    "#     fig.show()"
   ]
  },
  {
   "cell_type": "code",
   "execution_count": 43,
   "metadata": {},
   "outputs": [],
   "source": [
    "# df_agg = df_vqe.groupby(['ansatz', 'otimizador'], as_index=False)['iteracao_otimizador'].max()\n",
    "\n",
    "# fig = px.bar(df_agg, x='ansatz', y='iteracao_otimizador', color='ansatz', facet_col='otimizador',\n",
    "#              title='', \n",
    "#              width=width_padrao_display_junto, height=height_padrao_display_junto, \n",
    "#              )\n",
    "\n",
    "# fig.update_layout(xaxis_title='', yaxis_title='Chamadas otimizador', font=tamanho_padrao_fonte, margin=tamanho_padrao_margem)\n",
    "\n",
    "# fig.add_annotation(\n",
    "#     text='Ansatz',\n",
    "#     xref='paper',\n",
    "#     yref='paper',\n",
    "#     x=0.5,\n",
    "#     y=-0.178,\n",
    "#     showarrow=False,\n",
    "#     font=tamanho_padrao_fonte\n",
    "# )\n",
    "\n",
    "# if salvar_figuras:\n",
    "#     nome_figura = f\"figuras_vqe/{num_ativos}_{ambiente_backend}_chamadas_otimizador_vqe.png\"\n",
    "#     fig.write_image(nome_figura, width=width_padrao_salvar_junto, height=height_padrao_salvar_junto)\n",
    "\n",
    "# if mostrar_figuras:\n",
    "#     fig.show()"
   ]
  },
  {
   "cell_type": "markdown",
   "metadata": {},
   "source": [
    "### QAOA"
   ]
  },
  {
   "cell_type": "code",
   "execution_count": 44,
   "metadata": {},
   "outputs": [],
   "source": [
    "df_qaoa = pd.DataFrame()\n",
    "\n",
    "with open('pickles/qaoa_10_local.pickle', 'rb') as file:\n",
    "    df_qaoa = pickle.load(file)"
   ]
  },
  {
   "cell_type": "code",
   "execution_count": 45,
   "metadata": {},
   "outputs": [],
   "source": [
    "# for otimizador in df_qaoa['otimizador'].unique():\n",
    "#     df_otimizador = df_qaoa[df_qaoa['otimizador'] == otimizador]\n",
    "\n",
    "#     fig = go.Figure()\n",
    "\n",
    "#     for mixer in df_otimizador['mixer'].unique():\n",
    "#         df_mixer = df_otimizador[df_otimizador['mixer'] == mixer]\n",
    "#         df_mixer = df_mixer.sort_values(by='avaliacao_funcao_custo')\n",
    "        \n",
    "\n",
    "#         x_data = df_mixer['avaliacao_funcao_custo']\n",
    "#         y_data = df_mixer['valor_energia']\n",
    "\n",
    "#         # Handling complex numbers by extracting real and imaginary parts\n",
    "#         y_real = y_data.apply(lambda x: x.real if isinstance(x, complex) else x)\n",
    "\n",
    "#         fig.add_trace(go.Scatter(\n",
    "#             x=x_data,\n",
    "#             y=y_real,\n",
    "#             mode='lines',\n",
    "#             name=mixer\n",
    "#         ))\n",
    "\n",
    "#     fig.update_layout(\n",
    "#         xaxis_title='Chamada de função de custo',\n",
    "#         yaxis_title='Energia',\n",
    "#         title='',\n",
    "#         legend_title='mixers',\n",
    "#         width=width_padrao_display,\n",
    "#         height=height_padrao_display, \n",
    "#         font=tamanho_padrao_fonte, \n",
    "#         margin=tamanho_padrao_margem\n",
    "#     )\n",
    "\n",
    "\n",
    "#     if salvar_figuras:\n",
    "#         nome_figura = f\"figuras_qaoa/{num_ativos}_{ambiente_backend}_{otimizador}_energia_por_funcao_custo_qaoa.png\"\n",
    "#         fig.write_image(nome_figura, width=width_padrao_salvar, height=height_padrao_salvar)\n",
    "\n",
    "#     if mostrar_figuras:\n",
    "#         fig.show()"
   ]
  },
  {
   "cell_type": "code",
   "execution_count": 46,
   "metadata": {},
   "outputs": [],
   "source": [
    "# df_qaoa_real = df_qaoa.copy()\n",
    "# df_qaoa_real['valor_energia'] = df_qaoa['valor_energia'].apply(lambda x: x.real if isinstance(x, complex) else x)\n",
    "# df_qaoa_real = df_qaoa_real.sort_values(by='avaliacao_funcao_custo')\n",
    "\n",
    "# fig = px.line(df_qaoa_real, x='avaliacao_funcao_custo', y='valor_energia', color='mixer',\n",
    "#               facet_col='otimizador', facet_col_wrap=df_qaoa_real['otimizador'].nunique(),\n",
    "#               labels={'avaliacao_funcao_custo': '', 'valor_energia': 'Energia'},\n",
    "#               title='')\n",
    "\n",
    "\n",
    "# fig.update_layout(width=width_padrao_display_junto, height=height_padrao_display_junto, legend_title='mixers', font=tamanho_padrao_fonte, margin=tamanho_padrao_margem)\n",
    "\n",
    "# fig.add_annotation(\n",
    "#     text='Chamada de função de custo',\n",
    "#     xref='paper',\n",
    "#     yref='paper',\n",
    "    # x=0.5,\n",
    "    # y=-0.178,\n",
    "#     showarrow=False,\n",
    "#     font=tamanho_padrao_fonte\n",
    "# )\n",
    "\n",
    "# if salvar_figuras:\n",
    "#     nome_figura = f\"figuras_qaoa/{num_ativos}_{ambiente_backend}_energia_por_funcao_custo_junto_qaoa.png\"\n",
    "#     fig.write_image(nome_figura, width=width_padrao_salvar_junto, height=height_padrao_salvar_junto)\n",
    "\n",
    "# if mostrar_figuras:\n",
    "#     fig.show()"
   ]
  },
  {
   "cell_type": "code",
   "execution_count": 47,
   "metadata": {},
   "outputs": [],
   "source": [
    "# df_qaoa_iteracao_otimizador = df_qaoa.loc[df_qaoa['bool_fim_iteracao_otimizador'] == True]\n",
    "\n",
    "# for otimizador in df_qaoa_iteracao_otimizador['otimizador'].unique():\n",
    "#     df_otimizador = df_qaoa_iteracao_otimizador[df_qaoa_iteracao_otimizador['otimizador'] == otimizador]\n",
    "\n",
    "#     fig = go.Figure()\n",
    "\n",
    "#     for mixer in df_otimizador['mixer'].unique():\n",
    "#         df_mixer = df_otimizador[df_otimizador['mixer'] == mixer]\n",
    "#         df_mixer = df_mixer.sort_values(by='iteracao_otimizador')\n",
    "\n",
    "#         x_data = df_mixer['iteracao_otimizador']\n",
    "#         y_data = df_mixer['valor_energia']\n",
    "\n",
    "#         # Handling complex numbers by extracting real and imaginary parts\n",
    "#         y_real = y_data.apply(lambda x: x.real if isinstance(x, complex) else x)\n",
    "\n",
    "#         fig.add_trace(go.Scatter(\n",
    "#             x=x_data,\n",
    "#             y=y_real,\n",
    "#             mode='lines',\n",
    "#             name=mixer\n",
    "#         ))\n",
    "\n",
    "#     fig.update_layout(\n",
    "#         xaxis_title='Iteração do otimizador',\n",
    "#         yaxis_title='Energia',\n",
    "#         title='',\n",
    "#         legend_title='mixers',\n",
    "#         width=width_padrao_display,\n",
    "#         height=height_padrao_display, \n",
    "#         font=tamanho_padrao_fonte, \n",
    "#         margin=tamanho_padrao_margem\n",
    "#     )\n",
    "\n",
    "#     if salvar_figuras:\n",
    "#         nome_figura = f\"figuras_qaoa/{num_ativos}_{ambiente_backend}_{otimizador}_energia_por_otimizador_qaoa.png\"\n",
    "#         fig.write_image(nome_figura, width=width_padrao_salvar, height=height_padrao_salvar)\n",
    "\n",
    "#     if mostrar_figuras:\n",
    "#         fig.show()"
   ]
  },
  {
   "cell_type": "code",
   "execution_count": 48,
   "metadata": {},
   "outputs": [],
   "source": [
    "# df_qaoa_real = df_qaoa.copy()\n",
    "# df_qaoa_real['valor_energia'] = df_qaoa['valor_energia'].apply(lambda x: x.real if isinstance(x, complex) else x)\n",
    "# df_qaoa_real_iteracao_otimizador = df_qaoa_real.loc[df_qaoa_real['bool_fim_iteracao_otimizador'] == True]\n",
    "# df_qaoa_real_iteracao_otimizador = df_qaoa_real_iteracao_otimizador.sort_values(by='iteracao_otimizador')\n",
    "\n",
    "# fig = px.line(df_qaoa_real_iteracao_otimizador, x='iteracao_otimizador', y='valor_energia', color='mixer',\n",
    "#               facet_col='otimizador', facet_col_wrap=df_qaoa_real_iteracao_otimizador['otimizador'].nunique(),\n",
    "#               labels={'iteracao_otimizador': '', 'valor_energia': 'Energia'},\n",
    "#               title='')\n",
    "\n",
    "# fig.update_layout(width=width_padrao_display_junto, height=height_padrao_display_junto, legend_title='mixers', font=tamanho_padrao_fonte, margin=tamanho_padrao_margem)\n",
    "\n",
    "# fig.add_annotation(\n",
    "#     text='Iteração do otimizador',\n",
    "#     xref='paper',\n",
    "#     yref='paper',\n",
    "    # x=0.5,\n",
    "    # y=-0.178,\n",
    "#     showarrow=False,\n",
    "#     font=tamanho_padrao_fonte\n",
    "# )\n",
    "\n",
    "# if salvar_figuras:\n",
    "#     nome_figura = f\"figuras_qaoa/{num_ativos}_{ambiente_backend}_energia_por_otimizador_junto_qaoa.png\"\n",
    "#     fig.write_image(nome_figura, width=width_padrao_salvar_junto, height=height_padrao_salvar_junto)\n",
    "\n",
    "# if mostrar_figuras:\n",
    "#     fig.show()"
   ]
  },
  {
   "cell_type": "code",
   "execution_count": 49,
   "metadata": {},
   "outputs": [],
   "source": [
    "# df_qaoa_epoca = df_qaoa.loc[df_qaoa['nova_epoca'] == True]\n",
    "\n",
    "# for otimizador in df_qaoa_epoca['otimizador'].unique():\n",
    "#     df_otimizador = df_qaoa_epoca[df_qaoa_epoca['otimizador'] == otimizador]\n",
    "\n",
    "#     fig = go.Figure()\n",
    "\n",
    "#     for mixer in df_otimizador['mixer'].unique():\n",
    "#         df_mixer = df_otimizador[df_otimizador['mixer'] == mixer]\n",
    "#         df_mixer = df_mixer.sort_values(by='epoca')\n",
    "\n",
    "#         x_data = df_mixer['epoca']\n",
    "#         y_data = df_mixer['valor_energia']\n",
    "\n",
    "#         # Handling complex numbers by extracting real and imaginary parts\n",
    "#         y_real = y_data.apply(lambda x: x.real if isinstance(x, complex) else x)\n",
    "\n",
    "#         fig.add_trace(go.Scatter(\n",
    "#             x=x_data,\n",
    "#             y=y_real,\n",
    "#             mode='lines',\n",
    "#             name=mixer\n",
    "#         ))\n",
    "\n",
    "#     fig.update_layout(\n",
    "#         xaxis_title='Epoca',\n",
    "#         yaxis_title='Energia',\n",
    "#         title='',\n",
    "#         legend_title='mixers',\n",
    "#         width=width_padrao_display,\n",
    "#         height=height_padrao_display, \n",
    "#         font=tamanho_padrao_fonte, \n",
    "#         margin=tamanho_padrao_margem\n",
    "#     )\n",
    "\n",
    "#     if salvar_figuras:\n",
    "#         nome_figura = f\"figuras_qaoa/{num_ativos}_{ambiente_backend}_{otimizador}_energia_por_epoca_qaoa.png\"\n",
    "#         fig.write_image(nome_figura, width=width_padrao_salvar, height=height_padrao_salvar)\n",
    "\n",
    "#     if mostrar_figuras:\n",
    "#         fig.show()"
   ]
  },
  {
   "cell_type": "code",
   "execution_count": 50,
   "metadata": {},
   "outputs": [
    {
     "data": {
      "application/vnd.plotly.v1+json": {
       "config": {
        "plotlyServerURL": "https://plot.ly"
       },
       "data": [
        {
         "hovertemplate": "mixer=full_mixer<br>otimizador=COBYLA<br>=%{x}<br>Energia=%{y}<extra></extra>",
         "legendgroup": "full_mixer",
         "line": {
          "color": "#636efa",
          "dash": "solid"
         },
         "marker": {
          "symbol": "circle"
         },
         "mode": "lines",
         "name": "full_mixer",
         "orientation": "v",
         "showlegend": true,
         "type": "scatter",
         "x": [
          1,
          2,
          3,
          4,
          5,
          6,
          7,
          8,
          9,
          10,
          11,
          12,
          13,
          14,
          15,
          16,
          17,
          18,
          19,
          20,
          21,
          22,
          23,
          24,
          25,
          26,
          27,
          28,
          29,
          30
         ],
         "xaxis": "x",
         "y": [
          0.3985286937028509,
          -5.53190428942661,
          -10.116591240372635,
          -10.630881310891981,
          -10.05495951610026,
          -11.026276987740863,
          -11.111900327753396,
          -11.81114806312958,
          -8.771354197894617,
          -8.798449523163578,
          -10.45058467991903,
          -10.039121758531325,
          -12.112102845752156,
          -9.179505924428545,
          -10.858560004138226,
          -7.718711678980235,
          -13.368332819505389,
          -15.471751711828786,
          -13.501752663227084,
          -14.445529504828063,
          -14.928984939955956,
          -13.901998470520708,
          -13.56372256285612,
          -14.202907867362088,
          -12.841434668207413,
          -13.083417659172381,
          -11.153964806303716,
          -12.877736010144048,
          -13.062094219222443,
          -9.06171299700057
         ],
         "yaxis": "y"
        },
        {
         "hovertemplate": "mixer=full_mixer<br>otimizador=L_BFGS_B<br>=%{x}<br>Energia=%{y}<extra></extra>",
         "legendgroup": "full_mixer",
         "line": {
          "color": "#636efa",
          "dash": "solid"
         },
         "marker": {
          "symbol": "circle"
         },
         "mode": "lines",
         "name": "full_mixer",
         "orientation": "v",
         "showlegend": false,
         "type": "scatter",
         "x": [
          1,
          2,
          3,
          4,
          5,
          6,
          7,
          8,
          9,
          10,
          11,
          12,
          13,
          14,
          15,
          16,
          17,
          18,
          19,
          20,
          21,
          22,
          23,
          24,
          25,
          26,
          27,
          28,
          29,
          30
         ],
         "xaxis": "x2",
         "y": [
          -1.329763241958553,
          -1.0557045424721145,
          1.9744518718184259,
          1.0887464429065212,
          0.6761742285541422,
          -2.7240400413912846,
          -4.268253038004431,
          -4.167978092289853,
          -2.6676517556701542,
          -3.3969413099808237,
          -3.88954745560801,
          -1.6356983099556057,
          -2.9851218433795914,
          -3.0377310680800185,
          -4.008831751037885,
          -3.4752996030572065,
          -0.6989273248544802,
          -1.8257403257544185,
          -5.302173560675065,
          -6.154147552716071,
          -4.349641437230395,
          -3.889349549236054,
          -4.502573934391596,
          -4.0161672357069085,
          -7.0106362910818,
          -2.9792206679797584,
          -5.1488777493717945,
          -2.778732135158713,
          -4.903691684395537,
          -3.377878244221195
         ],
         "yaxis": "y2"
        },
        {
         "hovertemplate": "mixer=full_mixer<br>otimizador=NFT<br>=%{x}<br>Energia=%{y}<extra></extra>",
         "legendgroup": "full_mixer",
         "line": {
          "color": "#636efa",
          "dash": "solid"
         },
         "marker": {
          "symbol": "circle"
         },
         "mode": "lines",
         "name": "full_mixer",
         "orientation": "v",
         "showlegend": false,
         "type": "scatter",
         "x": [
          1,
          2,
          3,
          4,
          5,
          6,
          7,
          8,
          9,
          10,
          11,
          12,
          13,
          14,
          15,
          16,
          17,
          18,
          19,
          20,
          21,
          22,
          23,
          24,
          25,
          26,
          27,
          28,
          29,
          30
         ],
         "xaxis": "x3",
         "y": [
          6.478925640884977,
          -19.560414177724304,
          -23.98526860816852,
          -24.783592921307456,
          -23.3836158603829,
          -22.904645799950796,
          -23.498675104503217,
          -23.831347334346972,
          -23.701880251069714,
          -21.521549434944852,
          -21.92544042636025,
          -24.344178117086823,
          -24.39964975852292,
          -23.671868360997404,
          -25.128105264978313,
          -22.673862848730252,
          -22.26690723383076,
          -23.498919876701144,
          -22.87242159466685,
          -21.78394202757273,
          -25.088517056064777,
          -23.792912648257964,
          -25.399908777813216,
          -25.743303605840172,
          -24.747847815316188,
          -24.366926155129498,
          -22.93813740037106,
          -23.357363321497417,
          -24.102692852464767,
          -24.062050738633534
         ],
         "yaxis": "y3"
        },
        {
         "hovertemplate": "mixer=full_mixer<br>otimizador=SLSQP<br>=%{x}<br>Energia=%{y}<extra></extra>",
         "legendgroup": "full_mixer",
         "line": {
          "color": "#636efa",
          "dash": "solid"
         },
         "marker": {
          "symbol": "circle"
         },
         "mode": "lines",
         "name": "full_mixer",
         "orientation": "v",
         "showlegend": false,
         "type": "scatter",
         "x": [
          1,
          2,
          3,
          4,
          5,
          6,
          7,
          8,
          9,
          10,
          11,
          12,
          13,
          14,
          15,
          16,
          17,
          18,
          19,
          20,
          21,
          22,
          23,
          24,
          25,
          26,
          27,
          28,
          29,
          30
         ],
         "xaxis": "x4",
         "y": [
          -0.2945414175412887,
          -5.470289446133913,
          -4.378542615121619,
          -2.926666585774516,
          -4.656131986776385,
          -1.9252068474557704,
          -6.165826337186869,
          -5.045881241910506,
          -5.029449724099631,
          -9.241550120768228,
          -8.763965417665109,
          -6.489900891550463,
          -10.268948799145946,
          -9.888043008233243,
          -7.952514501051642,
          -8.77863984430056,
          -7.672289080175053,
          -12.73869808781585,
          -9.11484039222065,
          -8.09726140735844,
          -10.85895235148873,
          -10.52315611565204,
          -9.268250206866572,
          -7.669677273383647,
          -7.633597271537108,
          -9.432799950280968,
          -7.906685993089307,
          -10.363251001641956,
          -7.472947724599124,
          -11.053024911022925
         ],
         "yaxis": "y4"
        },
        {
         "hovertemplate": "mixer=mixer_default<br>otimizador=COBYLA<br>=%{x}<br>Energia=%{y}<extra></extra>",
         "legendgroup": "mixer_default",
         "line": {
          "color": "#EF553B",
          "dash": "solid"
         },
         "marker": {
          "symbol": "circle"
         },
         "mode": "lines",
         "name": "mixer_default",
         "orientation": "v",
         "showlegend": true,
         "type": "scatter",
         "x": [
          2,
          3,
          4,
          5,
          6,
          7,
          8,
          9,
          10,
          11,
          12,
          13,
          14,
          15,
          16,
          17,
          18,
          19,
          20,
          21,
          22,
          23,
          24,
          25,
          26,
          27,
          28,
          29,
          30
         ],
         "xaxis": "x",
         "y": [
          -41.51334910771397,
          -40.68062780681686,
          -41.71873093198523,
          -42.188229430578716,
          -41.55213763968328,
          -43.03857712125856,
          -43.41273720853594,
          -43.537218091401584,
          -43.258288050580774,
          -43.57373948837745,
          -43.6113613029099,
          -43.684699216682176,
          -43.593913878741546,
          -43.59997276656564,
          -43.7512113885936,
          -44.05385392977132,
          -43.60029200862559,
          -43.67973532045929,
          -43.491375931403184,
          -43.68661669388982,
          -43.63660314696413,
          -43.84327518276336,
          -43.81313886910762,
          -43.885693569708394,
          -44.01895382066419,
          -43.470401729395924,
          -44.09200394425332,
          -43.467383261726724,
          -43.82560253341144
         ],
         "yaxis": "y"
        },
        {
         "hovertemplate": "mixer=mixer_default<br>otimizador=L_BFGS_B<br>=%{x}<br>Energia=%{y}<extra></extra>",
         "legendgroup": "mixer_default",
         "line": {
          "color": "#EF553B",
          "dash": "solid"
         },
         "marker": {
          "symbol": "circle"
         },
         "mode": "lines",
         "name": "mixer_default",
         "orientation": "v",
         "showlegend": false,
         "type": "scatter",
         "x": [
          1,
          2,
          3,
          4,
          5,
          6,
          7,
          8,
          9,
          10,
          11,
          12,
          13,
          14,
          15,
          16,
          17,
          18,
          19,
          20,
          21,
          22,
          23,
          24,
          25,
          26,
          27,
          28,
          29,
          30
         ],
         "xaxis": "x2",
         "y": [
          58.67390611687463,
          -15.30557714061447,
          -13.030042843272952,
          -14.258073393851213,
          -11.789430598702962,
          -13.608441346183813,
          -14.759807193117233,
          -17.74060967956324,
          -18.721530196259835,
          -18.601195740379207,
          -17.236172451442204,
          -18.270125879548498,
          -17.12732490356504,
          -18.00368600035675,
          -17.694602527514466,
          -19.054973887403,
          -19.005246836675724,
          -18.70572850981819,
          -18.248290528332547,
          -18.53033441869587,
          -20.56459285918471,
          -20.52000616480641,
          -20.16212531250051,
          -18.03748921123086,
          -18.37191234073911,
          -19.0688519418281,
          -19.56659721352662,
          -18.634755644329445,
          -19.468403256303624,
          -17.85424613322685
         ],
         "yaxis": "y2"
        },
        {
         "hovertemplate": "mixer=mixer_default<br>otimizador=NFT<br>=%{x}<br>Energia=%{y}<extra></extra>",
         "legendgroup": "mixer_default",
         "line": {
          "color": "#EF553B",
          "dash": "solid"
         },
         "marker": {
          "symbol": "circle"
         },
         "mode": "lines",
         "name": "mixer_default",
         "orientation": "v",
         "showlegend": false,
         "type": "scatter",
         "x": [
          1,
          2,
          3,
          4,
          5,
          6,
          7,
          8,
          9,
          10,
          11,
          12,
          13,
          14,
          15,
          16,
          17,
          18,
          19,
          20,
          21,
          22,
          23,
          24,
          25,
          26,
          27,
          28,
          29,
          30
         ],
         "xaxis": "x3",
         "y": [
          0.4816281099198575,
          -44.750672286464074,
          -44.56813362273207,
          -44.857841768208125,
          -45.00396680823665,
          -44.81032662747851,
          -44.83446953040779,
          -44.96304180405281,
          -44.571496919056315,
          -44.58083942391571,
          -45.07726575959971,
          -44.9476861717713,
          -45.048537782333504,
          -44.965023909233736,
          -44.794250836512944,
          -44.55566957354603,
          -44.5796277135195,
          -45.062047548893084,
          -44.49042509038516,
          -44.76784201458486,
          -44.82856429974699,
          -44.919414873465165,
          -44.843214701501985,
          -44.7910692945745,
          -45.03481840116055,
          -44.908452883100786,
          -44.99309222818024,
          -44.44317985973803,
          -44.66714184301604,
          -45.142134126204105
         ],
         "yaxis": "y3"
        },
        {
         "hovertemplate": "mixer=mixer_default<br>otimizador=SLSQP<br>=%{x}<br>Energia=%{y}<extra></extra>",
         "legendgroup": "mixer_default",
         "line": {
          "color": "#EF553B",
          "dash": "solid"
         },
         "marker": {
          "symbol": "circle"
         },
         "mode": "lines",
         "name": "mixer_default",
         "orientation": "v",
         "showlegend": false,
         "type": "scatter",
         "x": [
          1,
          2,
          3,
          4,
          5,
          6,
          7,
          8,
          9,
          10,
          11,
          12,
          13,
          14,
          15,
          16,
          17,
          18,
          19,
          20,
          21,
          22,
          23,
          24,
          25,
          26,
          27,
          28,
          29,
          30
         ],
         "xaxis": "x4",
         "y": [
          -1.3491272227351712,
          -4.136017034958316,
          -6.111966032754933,
          -7.3837018939272685,
          -7.343907106862779,
          -5.370728358624625,
          -6.631268651118709,
          -5.1546236251737545,
          -8.184697170050667,
          -8.094903918014463,
          -5.205899357372132,
          -6.065508401824357,
          -8.33460785645524,
          -6.614112548093943,
          -5.482716643700177,
          -7.118074534809564,
          -6.159262775325116,
          -7.342833194258106,
          -5.403693779103392,
          -6.428758648886519,
          -6.38141779341686,
          -5.961294746235848,
          -5.8590734969452605,
          -5.511924431633001,
          -5.905784284077703,
          -7.426078484886582,
          -7.262723138941793,
          -6.725649631724541,
          -7.040020816474513,
          -4.823776109043225
         ],
         "yaxis": "y4"
        },
        {
         "hovertemplate": "mixer=parity_ring_mixer<br>otimizador=COBYLA<br>=%{x}<br>Energia=%{y}<extra></extra>",
         "legendgroup": "parity_ring_mixer",
         "line": {
          "color": "#00cc96",
          "dash": "solid"
         },
         "marker": {
          "symbol": "circle"
         },
         "mode": "lines",
         "name": "parity_ring_mixer",
         "orientation": "v",
         "showlegend": true,
         "type": "scatter",
         "x": [
          1,
          2,
          3,
          4,
          5,
          6,
          7,
          8,
          9,
          10,
          11,
          12,
          13,
          14,
          15,
          16,
          17,
          18,
          19,
          20,
          21,
          22,
          23,
          24,
          25,
          26,
          27,
          28,
          29,
          30
         ],
         "xaxis": "x",
         "y": [
          -4.435282984567177,
          -2.8379234726190234,
          -6.934714822784091,
          -5.919748295745929,
          -5.618418467400464,
          -7.243215306613191,
          -6.961290284531917,
          -5.877550884547415,
          -6.3093649194114025,
          -4.346289204466584,
          -11.482010789016238,
          -12.18941765903439,
          -11.544742451789569,
          -11.716539990328263,
          -10.556927642324615,
          -12.229350617180364,
          -10.68786616913016,
          -7.802952467330544,
          -16.27423531642878,
          -15.310473021068224,
          -17.417876849579258,
          -17.817240631146976,
          -16.731793095270127,
          -16.994830751948914,
          -15.483503910547144,
          -16.288343697269404,
          -15.35619470173708,
          -16.078152523669935,
          -16.374770913370956,
          -17.320962788918482
         ],
         "yaxis": "y"
        },
        {
         "hovertemplate": "mixer=parity_ring_mixer<br>otimizador=L_BFGS_B<br>=%{x}<br>Energia=%{y}<extra></extra>",
         "legendgroup": "parity_ring_mixer",
         "line": {
          "color": "#00cc96",
          "dash": "solid"
         },
         "marker": {
          "symbol": "circle"
         },
         "mode": "lines",
         "name": "parity_ring_mixer",
         "orientation": "v",
         "showlegend": false,
         "type": "scatter",
         "x": [
          1,
          2,
          3,
          4,
          5,
          6,
          7,
          8,
          9,
          10,
          11,
          12,
          13,
          14,
          15,
          16,
          17,
          18,
          19,
          20,
          21,
          22,
          23,
          24,
          25,
          26,
          27,
          28,
          29,
          30
         ],
         "xaxis": "x2",
         "y": [
          -2.6284759379734584,
          -3.799461540328779,
          -2.3389493907793706,
          -5.5075978511682155,
          -6.367797771587862,
          -8.968296998640012,
          -4.824411728966536,
          -6.9768681115992495,
          -5.306175654488529,
          -6.9275307558795856,
          -6.964974824053991,
          -4.929613872762153,
          -6.330616904623915,
          -6.145903331004491,
          -4.662894137889172,
          -6.132987467290217,
          -5.974442205984071,
          -6.528031106194687,
          -5.674689238999808,
          -6.341119755508964,
          -6.794211851771565,
          -10.118411844877233,
          -5.9124884094918,
          -4.026861466378496,
          -5.610381800200885,
          -7.513774694506941,
          -7.158906449972875,
          -6.380495342870279,
          -6.11668227159175,
          -5.612107585100371
         ],
         "yaxis": "y2"
        },
        {
         "hovertemplate": "mixer=parity_ring_mixer<br>otimizador=NFT<br>=%{x}<br>Energia=%{y}<extra></extra>",
         "legendgroup": "parity_ring_mixer",
         "line": {
          "color": "#00cc96",
          "dash": "solid"
         },
         "marker": {
          "symbol": "circle"
         },
         "mode": "lines",
         "name": "parity_ring_mixer",
         "orientation": "v",
         "showlegend": false,
         "type": "scatter",
         "x": [
          1,
          2,
          3,
          4,
          5,
          6,
          7,
          8,
          9,
          10,
          11,
          12,
          13,
          14,
          15,
          16,
          17,
          18,
          19,
          20,
          21,
          22,
          23,
          24,
          25,
          26,
          27,
          28,
          29,
          30
         ],
         "xaxis": "x3",
         "y": [
          -0.024983790680787432,
          -14.675555085474166,
          -15.384952984289916,
          -14.435305429815157,
          -14.921386670096611,
          -17.638131276899223,
          -17.835450185176228,
          -16.603662186354796,
          -16.321228370048335,
          -17.568622409403567,
          -16.223041466602115,
          -16.320335709995184,
          -15.164141275648982,
          -15.28335184855589,
          -16.34767337877998,
          -16.85253055611589,
          -16.904029251834082,
          -17.18780793109279,
          -16.93984872160281,
          -16.778414491848963,
          -14.405517323931036,
          -15.918678539444608,
          -16.724418774995925,
          -15.362179807651367,
          -14.802787126525484,
          -14.461830073489228,
          -16.443326652980893,
          -16.660460596175245,
          -14.219137579613244,
          -15.510538315424025
         ],
         "yaxis": "y3"
        },
        {
         "hovertemplate": "mixer=parity_ring_mixer<br>otimizador=SLSQP<br>=%{x}<br>Energia=%{y}<extra></extra>",
         "legendgroup": "parity_ring_mixer",
         "line": {
          "color": "#00cc96",
          "dash": "solid"
         },
         "marker": {
          "symbol": "circle"
         },
         "mode": "lines",
         "name": "parity_ring_mixer",
         "orientation": "v",
         "showlegend": false,
         "type": "scatter",
         "x": [
          1,
          2,
          3,
          4,
          5,
          6,
          7,
          8,
          9,
          10,
          11,
          12,
          13,
          14,
          15,
          16,
          17,
          18,
          19,
          20,
          21,
          22,
          23,
          24,
          25,
          26,
          27,
          28,
          29,
          30
         ],
         "xaxis": "x4",
         "y": [
          -2.322184048705882,
          -0.47831629157385286,
          -0.652855497337317,
          -1.76403880028405,
          -0.4829636612813199,
          2.028656968973433,
          -3.85568575397886,
          -1.8437720789001575,
          -3.803349284871791,
          -3.826193320175584,
          -1.9729431117291931,
          -1.8570977216275415,
          -1.115830717008,
          0.6190764854079954,
          0.6809972398733308,
          -0.6090557345706713,
          -1.436283196489901,
          -1.1726882347043865,
          1.1047447632472445,
          1.6799668698314107,
          -1.0974761599553062,
          1.1879168008077468,
          -0.42511340269698583,
          0.2424257817026568,
          -2.709259092998652,
          -0.7130661009605147,
          -0.512429095445753,
          -2.50038270310257,
          0.3557909697321837,
          0.6188541829344845
         ],
         "yaxis": "y4"
        },
        {
         "hovertemplate": "mixer=ring_mixer<br>otimizador=COBYLA<br>=%{x}<br>Energia=%{y}<extra></extra>",
         "legendgroup": "ring_mixer",
         "line": {
          "color": "#ab63fa",
          "dash": "solid"
         },
         "marker": {
          "symbol": "circle"
         },
         "mode": "lines",
         "name": "ring_mixer",
         "orientation": "v",
         "showlegend": true,
         "type": "scatter",
         "x": [
          1,
          2,
          3,
          4,
          5,
          6,
          7,
          8,
          9,
          10,
          11,
          12,
          13,
          14,
          15,
          16,
          17,
          18,
          19,
          20,
          21,
          22,
          23,
          24,
          25,
          26,
          27,
          28,
          29,
          30
         ],
         "xaxis": "x",
         "y": [
          0.46304605002215704,
          -8.09228142624359,
          -4.035774800467114,
          -4.13001973438342,
          -4.994335044743012,
          -1.3216583224451226,
          -5.655893154186873,
          -3.8523247998972736,
          -4.9544010558007345,
          -4.220851668723011,
          -2.7317013354829784,
          -1.2495410269972305,
          0.6493991113221272,
          -8.108747002004623,
          -7.321883429973261,
          -14.75408606421485,
          -17.343931653062292,
          -17.31116626663489,
          -15.118802826794079,
          -15.178982499443878,
          -15.05293000259489,
          -16.045968047889474,
          -15.706261114689939,
          -16.05913569331637,
          -15.895991728465132,
          -15.415868386047148,
          -15.817390925028109,
          -15.195747373420634,
          -14.430259828300448,
          -15.10075533716665
         ],
         "yaxis": "y"
        },
        {
         "hovertemplate": "mixer=ring_mixer<br>otimizador=L_BFGS_B<br>=%{x}<br>Energia=%{y}<extra></extra>",
         "legendgroup": "ring_mixer",
         "line": {
          "color": "#ab63fa",
          "dash": "solid"
         },
         "marker": {
          "symbol": "circle"
         },
         "mode": "lines",
         "name": "ring_mixer",
         "orientation": "v",
         "showlegend": false,
         "type": "scatter",
         "x": [
          1,
          2,
          3,
          4,
          5,
          6,
          7,
          8,
          9,
          10,
          11,
          12,
          13,
          14,
          15,
          16,
          17,
          18,
          19,
          20,
          21,
          22,
          23,
          24,
          25,
          26,
          27,
          28,
          29,
          30
         ],
         "xaxis": "x2",
         "y": [
          -0.7037377916588485,
          -7.626996053937868,
          -9.950581810232253,
          -9.087112862817008,
          -10.771042787716528,
          -11.1944802512379,
          -10.852331010595185,
          -9.65994272611027,
          -10.96550080526096,
          -12.561730764351354,
          -12.571138287076062,
          -12.497487269071774,
          -10.86774207726495,
          -12.525802968193023,
          -10.620003386414487,
          -10.932421855358825,
          -11.758153256564272,
          -7.577691505627451,
          -12.961908350929155,
          -9.447079669553466,
          -12.929862605004505,
          -11.309138659875751,
          -9.646425036725315,
          -11.655588937135732,
          -12.105641239443731,
          -13.178099993118,
          -13.714212964814477,
          -10.77723529590737,
          -10.09020307333442,
          -13.243058312770865
         ],
         "yaxis": "y2"
        },
        {
         "hovertemplate": "mixer=ring_mixer<br>otimizador=NFT<br>=%{x}<br>Energia=%{y}<extra></extra>",
         "legendgroup": "ring_mixer",
         "line": {
          "color": "#ab63fa",
          "dash": "solid"
         },
         "marker": {
          "symbol": "circle"
         },
         "mode": "lines",
         "name": "ring_mixer",
         "orientation": "v",
         "showlegend": false,
         "type": "scatter",
         "x": [
          1,
          2,
          3,
          4,
          5,
          6,
          7,
          8,
          9,
          10,
          11,
          12,
          13,
          14,
          15,
          16,
          17,
          18,
          19,
          20,
          21,
          22,
          23,
          24,
          25,
          26,
          27,
          28,
          29,
          30
         ],
         "xaxis": "x3",
         "y": [
          -1.1699425458263297,
          -13.947560635695165,
          -14.982104514515749,
          -16.020456515577568,
          -14.73808311475876,
          -15.316449303321296,
          -16.545164645593935,
          -14.804248614874263,
          -14.395090741791293,
          -14.768390413477356,
          -15.73030951658894,
          -14.029726431210472,
          -13.965099636511582,
          -14.240516417068045,
          -16.005279729280755,
          -15.34167891631323,
          -16.841719782633394,
          -13.438412786511186,
          -16.693498732842542,
          -16.17670168862885,
          -15.545407728151549,
          -17.86754286595446,
          -16.004284745717182,
          -15.680283921579976,
          -16.837725086957274,
          -17.15491556766107,
          -14.749647444390968,
          -15.691933573006668,
          -15.35703540878145,
          -16.809482339399977
         ],
         "yaxis": "y3"
        },
        {
         "hovertemplate": "mixer=ring_mixer<br>otimizador=SLSQP<br>=%{x}<br>Energia=%{y}<extra></extra>",
         "legendgroup": "ring_mixer",
         "line": {
          "color": "#ab63fa",
          "dash": "solid"
         },
         "marker": {
          "symbol": "circle"
         },
         "mode": "lines",
         "name": "ring_mixer",
         "orientation": "v",
         "showlegend": false,
         "type": "scatter",
         "x": [
          1,
          2,
          3,
          4,
          5,
          6,
          7,
          8,
          9,
          10,
          11,
          12,
          13,
          14,
          15,
          16,
          17,
          18,
          19,
          20,
          21,
          22,
          23,
          24,
          25,
          26,
          27,
          28,
          29,
          30
         ],
         "xaxis": "x4",
         "y": [
          8.65272417825161,
          -2.6453750307881827,
          -0.48063005223424465,
          0.22777997446136275,
          -2.554881054111973,
          0.7973139624485888,
          0.9808348955523883,
          0.7648322778258834,
          -0.006034146328500828,
          1.8192600030483914,
          -1.159904371132064,
          -1.522236665892719,
          -0.13536654951113114,
          2.3102301657045707,
          -0.552006939439197,
          -1.0601084142491932,
          -1.7670205048639,
          -0.902474712521183,
          1.6532277431559483,
          -0.0933562642490839,
          -0.32999809209745556,
          -1.2087064468310655,
          -2.776170239216984,
          -2.4861380976790364,
          -0.8004364201796214,
          -1.0694431079580615,
          -1.1251869625707271,
          -1.7298539954245524,
          -2.79642030739502,
          -0.9227560497824724
         ],
         "yaxis": "y4"
        }
       ],
       "layout": {
        "annotations": [
         {
          "showarrow": false,
          "text": "otimizador=COBYLA",
          "x": 0.1175,
          "xanchor": "center",
          "xref": "paper",
          "y": 1,
          "yanchor": "bottom",
          "yref": "paper"
         },
         {
          "showarrow": false,
          "text": "otimizador=L_BFGS_B",
          "x": 0.3725,
          "xanchor": "center",
          "xref": "paper",
          "y": 1,
          "yanchor": "bottom",
          "yref": "paper"
         },
         {
          "showarrow": false,
          "text": "otimizador=NFT",
          "x": 0.6275,
          "xanchor": "center",
          "xref": "paper",
          "y": 1,
          "yanchor": "bottom",
          "yref": "paper"
         },
         {
          "showarrow": false,
          "text": "otimizador=SLSQP",
          "x": 0.8824999999999998,
          "xanchor": "center",
          "xref": "paper",
          "y": 1,
          "yanchor": "bottom",
          "yref": "paper"
         },
         {
          "font": {
           "size": 35
          },
          "showarrow": false,
          "text": "Rodada de epocas (até 500 epocas por rodada)",
          "x": 0.5,
          "xref": "paper",
          "y": -0.17,
          "yref": "paper"
         }
        ],
        "font": {
         "size": 35
        },
        "height": 700,
        "legend": {
         "title": {
          "text": "mixers"
         },
         "tracegroupgap": 0
        },
        "margin": {
         "b": 90,
         "l": 90,
         "r": 90,
         "t": 90
        },
        "template": {
         "data": {
          "bar": [
           {
            "error_x": {
             "color": "#2a3f5f"
            },
            "error_y": {
             "color": "#2a3f5f"
            },
            "marker": {
             "line": {
              "color": "#E5ECF6",
              "width": 0.5
             },
             "pattern": {
              "fillmode": "overlay",
              "size": 10,
              "solidity": 0.2
             }
            },
            "type": "bar"
           }
          ],
          "barpolar": [
           {
            "marker": {
             "line": {
              "color": "#E5ECF6",
              "width": 0.5
             },
             "pattern": {
              "fillmode": "overlay",
              "size": 10,
              "solidity": 0.2
             }
            },
            "type": "barpolar"
           }
          ],
          "carpet": [
           {
            "aaxis": {
             "endlinecolor": "#2a3f5f",
             "gridcolor": "white",
             "linecolor": "white",
             "minorgridcolor": "white",
             "startlinecolor": "#2a3f5f"
            },
            "baxis": {
             "endlinecolor": "#2a3f5f",
             "gridcolor": "white",
             "linecolor": "white",
             "minorgridcolor": "white",
             "startlinecolor": "#2a3f5f"
            },
            "type": "carpet"
           }
          ],
          "choropleth": [
           {
            "colorbar": {
             "outlinewidth": 0,
             "ticks": ""
            },
            "type": "choropleth"
           }
          ],
          "contour": [
           {
            "colorbar": {
             "outlinewidth": 0,
             "ticks": ""
            },
            "colorscale": [
             [
              0,
              "#0d0887"
             ],
             [
              0.1111111111111111,
              "#46039f"
             ],
             [
              0.2222222222222222,
              "#7201a8"
             ],
             [
              0.3333333333333333,
              "#9c179e"
             ],
             [
              0.4444444444444444,
              "#bd3786"
             ],
             [
              0.5555555555555556,
              "#d8576b"
             ],
             [
              0.6666666666666666,
              "#ed7953"
             ],
             [
              0.7777777777777778,
              "#fb9f3a"
             ],
             [
              0.8888888888888888,
              "#fdca26"
             ],
             [
              1,
              "#f0f921"
             ]
            ],
            "type": "contour"
           }
          ],
          "contourcarpet": [
           {
            "colorbar": {
             "outlinewidth": 0,
             "ticks": ""
            },
            "type": "contourcarpet"
           }
          ],
          "heatmap": [
           {
            "colorbar": {
             "outlinewidth": 0,
             "ticks": ""
            },
            "colorscale": [
             [
              0,
              "#0d0887"
             ],
             [
              0.1111111111111111,
              "#46039f"
             ],
             [
              0.2222222222222222,
              "#7201a8"
             ],
             [
              0.3333333333333333,
              "#9c179e"
             ],
             [
              0.4444444444444444,
              "#bd3786"
             ],
             [
              0.5555555555555556,
              "#d8576b"
             ],
             [
              0.6666666666666666,
              "#ed7953"
             ],
             [
              0.7777777777777778,
              "#fb9f3a"
             ],
             [
              0.8888888888888888,
              "#fdca26"
             ],
             [
              1,
              "#f0f921"
             ]
            ],
            "type": "heatmap"
           }
          ],
          "heatmapgl": [
           {
            "colorbar": {
             "outlinewidth": 0,
             "ticks": ""
            },
            "colorscale": [
             [
              0,
              "#0d0887"
             ],
             [
              0.1111111111111111,
              "#46039f"
             ],
             [
              0.2222222222222222,
              "#7201a8"
             ],
             [
              0.3333333333333333,
              "#9c179e"
             ],
             [
              0.4444444444444444,
              "#bd3786"
             ],
             [
              0.5555555555555556,
              "#d8576b"
             ],
             [
              0.6666666666666666,
              "#ed7953"
             ],
             [
              0.7777777777777778,
              "#fb9f3a"
             ],
             [
              0.8888888888888888,
              "#fdca26"
             ],
             [
              1,
              "#f0f921"
             ]
            ],
            "type": "heatmapgl"
           }
          ],
          "histogram": [
           {
            "marker": {
             "pattern": {
              "fillmode": "overlay",
              "size": 10,
              "solidity": 0.2
             }
            },
            "type": "histogram"
           }
          ],
          "histogram2d": [
           {
            "colorbar": {
             "outlinewidth": 0,
             "ticks": ""
            },
            "colorscale": [
             [
              0,
              "#0d0887"
             ],
             [
              0.1111111111111111,
              "#46039f"
             ],
             [
              0.2222222222222222,
              "#7201a8"
             ],
             [
              0.3333333333333333,
              "#9c179e"
             ],
             [
              0.4444444444444444,
              "#bd3786"
             ],
             [
              0.5555555555555556,
              "#d8576b"
             ],
             [
              0.6666666666666666,
              "#ed7953"
             ],
             [
              0.7777777777777778,
              "#fb9f3a"
             ],
             [
              0.8888888888888888,
              "#fdca26"
             ],
             [
              1,
              "#f0f921"
             ]
            ],
            "type": "histogram2d"
           }
          ],
          "histogram2dcontour": [
           {
            "colorbar": {
             "outlinewidth": 0,
             "ticks": ""
            },
            "colorscale": [
             [
              0,
              "#0d0887"
             ],
             [
              0.1111111111111111,
              "#46039f"
             ],
             [
              0.2222222222222222,
              "#7201a8"
             ],
             [
              0.3333333333333333,
              "#9c179e"
             ],
             [
              0.4444444444444444,
              "#bd3786"
             ],
             [
              0.5555555555555556,
              "#d8576b"
             ],
             [
              0.6666666666666666,
              "#ed7953"
             ],
             [
              0.7777777777777778,
              "#fb9f3a"
             ],
             [
              0.8888888888888888,
              "#fdca26"
             ],
             [
              1,
              "#f0f921"
             ]
            ],
            "type": "histogram2dcontour"
           }
          ],
          "mesh3d": [
           {
            "colorbar": {
             "outlinewidth": 0,
             "ticks": ""
            },
            "type": "mesh3d"
           }
          ],
          "parcoords": [
           {
            "line": {
             "colorbar": {
              "outlinewidth": 0,
              "ticks": ""
             }
            },
            "type": "parcoords"
           }
          ],
          "pie": [
           {
            "automargin": true,
            "type": "pie"
           }
          ],
          "scatter": [
           {
            "fillpattern": {
             "fillmode": "overlay",
             "size": 10,
             "solidity": 0.2
            },
            "type": "scatter"
           }
          ],
          "scatter3d": [
           {
            "line": {
             "colorbar": {
              "outlinewidth": 0,
              "ticks": ""
             }
            },
            "marker": {
             "colorbar": {
              "outlinewidth": 0,
              "ticks": ""
             }
            },
            "type": "scatter3d"
           }
          ],
          "scattercarpet": [
           {
            "marker": {
             "colorbar": {
              "outlinewidth": 0,
              "ticks": ""
             }
            },
            "type": "scattercarpet"
           }
          ],
          "scattergeo": [
           {
            "marker": {
             "colorbar": {
              "outlinewidth": 0,
              "ticks": ""
             }
            },
            "type": "scattergeo"
           }
          ],
          "scattergl": [
           {
            "marker": {
             "colorbar": {
              "outlinewidth": 0,
              "ticks": ""
             }
            },
            "type": "scattergl"
           }
          ],
          "scattermapbox": [
           {
            "marker": {
             "colorbar": {
              "outlinewidth": 0,
              "ticks": ""
             }
            },
            "type": "scattermapbox"
           }
          ],
          "scatterpolar": [
           {
            "marker": {
             "colorbar": {
              "outlinewidth": 0,
              "ticks": ""
             }
            },
            "type": "scatterpolar"
           }
          ],
          "scatterpolargl": [
           {
            "marker": {
             "colorbar": {
              "outlinewidth": 0,
              "ticks": ""
             }
            },
            "type": "scatterpolargl"
           }
          ],
          "scatterternary": [
           {
            "marker": {
             "colorbar": {
              "outlinewidth": 0,
              "ticks": ""
             }
            },
            "type": "scatterternary"
           }
          ],
          "surface": [
           {
            "colorbar": {
             "outlinewidth": 0,
             "ticks": ""
            },
            "colorscale": [
             [
              0,
              "#0d0887"
             ],
             [
              0.1111111111111111,
              "#46039f"
             ],
             [
              0.2222222222222222,
              "#7201a8"
             ],
             [
              0.3333333333333333,
              "#9c179e"
             ],
             [
              0.4444444444444444,
              "#bd3786"
             ],
             [
              0.5555555555555556,
              "#d8576b"
             ],
             [
              0.6666666666666666,
              "#ed7953"
             ],
             [
              0.7777777777777778,
              "#fb9f3a"
             ],
             [
              0.8888888888888888,
              "#fdca26"
             ],
             [
              1,
              "#f0f921"
             ]
            ],
            "type": "surface"
           }
          ],
          "table": [
           {
            "cells": {
             "fill": {
              "color": "#EBF0F8"
             },
             "line": {
              "color": "white"
             }
            },
            "header": {
             "fill": {
              "color": "#C8D4E3"
             },
             "line": {
              "color": "white"
             }
            },
            "type": "table"
           }
          ]
         },
         "layout": {
          "annotationdefaults": {
           "arrowcolor": "#2a3f5f",
           "arrowhead": 0,
           "arrowwidth": 1
          },
          "autotypenumbers": "strict",
          "coloraxis": {
           "colorbar": {
            "outlinewidth": 0,
            "ticks": ""
           }
          },
          "colorscale": {
           "diverging": [
            [
             0,
             "#8e0152"
            ],
            [
             0.1,
             "#c51b7d"
            ],
            [
             0.2,
             "#de77ae"
            ],
            [
             0.3,
             "#f1b6da"
            ],
            [
             0.4,
             "#fde0ef"
            ],
            [
             0.5,
             "#f7f7f7"
            ],
            [
             0.6,
             "#e6f5d0"
            ],
            [
             0.7,
             "#b8e186"
            ],
            [
             0.8,
             "#7fbc41"
            ],
            [
             0.9,
             "#4d9221"
            ],
            [
             1,
             "#276419"
            ]
           ],
           "sequential": [
            [
             0,
             "#0d0887"
            ],
            [
             0.1111111111111111,
             "#46039f"
            ],
            [
             0.2222222222222222,
             "#7201a8"
            ],
            [
             0.3333333333333333,
             "#9c179e"
            ],
            [
             0.4444444444444444,
             "#bd3786"
            ],
            [
             0.5555555555555556,
             "#d8576b"
            ],
            [
             0.6666666666666666,
             "#ed7953"
            ],
            [
             0.7777777777777778,
             "#fb9f3a"
            ],
            [
             0.8888888888888888,
             "#fdca26"
            ],
            [
             1,
             "#f0f921"
            ]
           ],
           "sequentialminus": [
            [
             0,
             "#0d0887"
            ],
            [
             0.1111111111111111,
             "#46039f"
            ],
            [
             0.2222222222222222,
             "#7201a8"
            ],
            [
             0.3333333333333333,
             "#9c179e"
            ],
            [
             0.4444444444444444,
             "#bd3786"
            ],
            [
             0.5555555555555556,
             "#d8576b"
            ],
            [
             0.6666666666666666,
             "#ed7953"
            ],
            [
             0.7777777777777778,
             "#fb9f3a"
            ],
            [
             0.8888888888888888,
             "#fdca26"
            ],
            [
             1,
             "#f0f921"
            ]
           ]
          },
          "colorway": [
           "#636efa",
           "#EF553B",
           "#00cc96",
           "#ab63fa",
           "#FFA15A",
           "#19d3f3",
           "#FF6692",
           "#B6E880",
           "#FF97FF",
           "#FECB52"
          ],
          "font": {
           "color": "#2a3f5f"
          },
          "geo": {
           "bgcolor": "white",
           "lakecolor": "white",
           "landcolor": "#E5ECF6",
           "showlakes": true,
           "showland": true,
           "subunitcolor": "white"
          },
          "hoverlabel": {
           "align": "left"
          },
          "hovermode": "closest",
          "mapbox": {
           "style": "light"
          },
          "paper_bgcolor": "white",
          "plot_bgcolor": "#E5ECF6",
          "polar": {
           "angularaxis": {
            "gridcolor": "white",
            "linecolor": "white",
            "ticks": ""
           },
           "bgcolor": "#E5ECF6",
           "radialaxis": {
            "gridcolor": "white",
            "linecolor": "white",
            "ticks": ""
           }
          },
          "scene": {
           "xaxis": {
            "backgroundcolor": "#E5ECF6",
            "gridcolor": "white",
            "gridwidth": 2,
            "linecolor": "white",
            "showbackground": true,
            "ticks": "",
            "zerolinecolor": "white"
           },
           "yaxis": {
            "backgroundcolor": "#E5ECF6",
            "gridcolor": "white",
            "gridwidth": 2,
            "linecolor": "white",
            "showbackground": true,
            "ticks": "",
            "zerolinecolor": "white"
           },
           "zaxis": {
            "backgroundcolor": "#E5ECF6",
            "gridcolor": "white",
            "gridwidth": 2,
            "linecolor": "white",
            "showbackground": true,
            "ticks": "",
            "zerolinecolor": "white"
           }
          },
          "shapedefaults": {
           "line": {
            "color": "#2a3f5f"
           }
          },
          "ternary": {
           "aaxis": {
            "gridcolor": "white",
            "linecolor": "white",
            "ticks": ""
           },
           "baxis": {
            "gridcolor": "white",
            "linecolor": "white",
            "ticks": ""
           },
           "bgcolor": "#E5ECF6",
           "caxis": {
            "gridcolor": "white",
            "linecolor": "white",
            "ticks": ""
           }
          },
          "title": {
           "x": 0.05
          },
          "xaxis": {
           "automargin": true,
           "gridcolor": "white",
           "linecolor": "white",
           "ticks": "",
           "title": {
            "standoff": 15
           },
           "zerolinecolor": "white",
           "zerolinewidth": 2
          },
          "yaxis": {
           "automargin": true,
           "gridcolor": "white",
           "linecolor": "white",
           "ticks": "",
           "title": {
            "standoff": 15
           },
           "zerolinecolor": "white",
           "zerolinewidth": 2
          }
         }
        },
        "width": 3200,
        "xaxis": {
         "anchor": "y",
         "domain": [
          0,
          0.235
         ],
         "showticklabels": true,
         "title": {
          "text": ""
         }
        },
        "xaxis2": {
         "anchor": "y2",
         "domain": [
          0.255,
          0.49
         ],
         "matches": "x",
         "showticklabels": true,
         "title": {
          "text": ""
         }
        },
        "xaxis3": {
         "anchor": "y3",
         "domain": [
          0.51,
          0.745
         ],
         "matches": "x",
         "showticklabels": true,
         "title": {
          "text": ""
         }
        },
        "xaxis4": {
         "anchor": "y4",
         "domain": [
          0.7649999999999999,
          0.9999999999999999
         ],
         "matches": "x",
         "showticklabels": true,
         "title": {
          "text": ""
         }
        },
        "yaxis": {
         "anchor": "x",
         "domain": [
          0,
          1
         ],
         "title": {
          "text": "Energia"
         }
        },
        "yaxis2": {
         "anchor": "x2",
         "domain": [
          0,
          1
         ],
         "matches": "y",
         "showticklabels": false
        },
        "yaxis3": {
         "anchor": "x3",
         "domain": [
          0,
          1
         ],
         "matches": "y",
         "showticklabels": false
        },
        "yaxis4": {
         "anchor": "x4",
         "domain": [
          0,
          1
         ],
         "matches": "y",
         "showticklabels": false
        }
       }
      }
     },
     "metadata": {},
     "output_type": "display_data"
    }
   ],
   "source": [
    "df_qaoa_real = df_qaoa.copy()\n",
    "df_qaoa_real['valor_energia'] = df_qaoa['valor_energia'].apply(lambda x: x.real if isinstance(x, complex) else x)\n",
    "df_qaoa_real_epoca = df_qaoa_real.loc[df_qaoa_real['nova_epoca'] == True]\n",
    "df_qaoa_real_epoca = df_qaoa_real_epoca.sort_values(by='epoca')\n",
    "\n",
    "df_qaoa_real_epoca = df_qaoa_real_epoca.sort_values(by=['mixer', 'otimizador'])\n",
    "\n",
    "fig = px.line(df_qaoa_real_epoca, x='epoca', y='valor_energia', color='mixer',\n",
    "              facet_col='otimizador', facet_col_wrap=df_qaoa_real_epoca['otimizador'].nunique(),\n",
    "              labels={'epoca': '', 'valor_energia': 'Energia'},\n",
    "              title='')\n",
    "\n",
    "fig.update_layout(width=width_padrao_display_junto, height=height_padrao_display_junto, legend_title='mixers', font=tamanho_padrao_fonte, margin=tamanho_padrao_margem)\n",
    "fig.update_xaxes(showticklabels=True, title_text='')\n",
    "\n",
    "fig.add_annotation(\n",
    "    text='Rodada de epocas (até 500 epocas por rodada)',\n",
    "    xref='paper',\n",
    "    yref='paper',\n",
    "    x=0.5,\n",
    "    y=-0.17,\n",
    "    showarrow=False,\n",
    "    font=tamanho_padrao_fonte\n",
    ")\n",
    "\n",
    "if salvar_figuras:\n",
    "    nome_figura = f\"figuras_qaoa/{num_ativos}_{ambiente_backend}_energia_por_epoca_junto_qaoa.png\"\n",
    "    fig.write_image(nome_figura, width=width_padrao_salvar_junto, height=height_padrao_salvar_junto)\n",
    "\n",
    "if mostrar_figuras:\n",
    "    fig.show()"
   ]
  },
  {
   "cell_type": "code",
   "execution_count": 51,
   "metadata": {},
   "outputs": [],
   "source": [
    "# df_agg = df_qaoa.groupby(['mixer', 'otimizador'], as_index=False)['valor_otimo_encontrado'].mean() # pode ser média, max, min, pois todos os valores sao iguais\n",
    "\n",
    "# fig = px.bar(df_agg, x='mixer', y='valor_otimo_encontrado', color='mixer', facet_col='otimizador',\n",
    "#              title='', width=width_padrao_display_junto, height=height_padrao_display_junto, \n",
    "#              )\n",
    "\n",
    "# fig.update_layout(xaxis_title='', yaxis_title='Energia', font=tamanho_padrao_fonte, margin=tamanho_padrao_margem)\n",
    "# fig.update_xaxes(showticklabels=False, title_text='')\n",
    "\n",
    "# fig.add_annotation(\n",
    "#     text='Mixer',\n",
    "#     xref='paper',\n",
    "#     yref='paper',\n",
    "#     x=0.5,\n",
    "#     y=-0.13,\n",
    "#     showarrow=False,\n",
    "#     font=tamanho_padrao_fonte\n",
    "# )\n",
    "\n",
    "# if salvar_figuras:\n",
    "#     nome_figura = f\"figuras_qaoa/{num_ativos}_{ambiente_backend}_valor_otimo_qaoa.png\"\n",
    "#     fig.write_image(nome_figura, width=width_padrao_salvar_junto, height=height_padrao_salvar_junto)\n",
    "\n",
    "# if mostrar_figuras:\n",
    "#     fig.show()"
   ]
  },
  {
   "cell_type": "code",
   "execution_count": 52,
   "metadata": {},
   "outputs": [
    {
     "data": {
      "application/vnd.plotly.v1+json": {
       "config": {
        "plotlyServerURL": "https://plot.ly"
       },
       "data": [
        {
         "alignmentgroup": "True",
         "hovertemplate": "mixer=%{x}<br>otimizador=COBYLA<br>probabilidade_valor_otimo=%{y}<extra></extra>",
         "legendgroup": "full_mixer",
         "marker": {
          "color": "#636efa",
          "pattern": {
           "shape": ""
          }
         },
         "name": "full_mixer",
         "offsetgroup": "full_mixer",
         "orientation": "v",
         "showlegend": true,
         "textposition": "auto",
         "type": "bar",
         "x": [
          "full_mixer"
         ],
         "xaxis": "x",
         "y": [
          0.004500057234432234
         ],
         "yaxis": "y"
        },
        {
         "alignmentgroup": "True",
         "hovertemplate": "mixer=%{x}<br>otimizador=L_BFGS_B<br>probabilidade_valor_otimo=%{y}<extra></extra>",
         "legendgroup": "full_mixer",
         "marker": {
          "color": "#636efa",
          "pattern": {
           "shape": ""
          }
         },
         "name": "full_mixer",
         "offsetgroup": "full_mixer",
         "orientation": "v",
         "showlegend": false,
         "textposition": "auto",
         "type": "bar",
         "x": [
          "full_mixer"
         ],
         "xaxis": "x2",
         "y": [
          0.004925451144366197
         ],
         "yaxis": "y2"
        },
        {
         "alignmentgroup": "True",
         "hovertemplate": "mixer=%{x}<br>otimizador=NFT<br>probabilidade_valor_otimo=%{y}<extra></extra>",
         "legendgroup": "full_mixer",
         "marker": {
          "color": "#636efa",
          "pattern": {
           "shape": ""
          }
         },
         "name": "full_mixer",
         "offsetgroup": "full_mixer",
         "orientation": "v",
         "showlegend": false,
         "textposition": "auto",
         "type": "bar",
         "x": [
          "full_mixer"
         ],
         "xaxis": "x3",
         "y": [
          0.006380208333333333
         ],
         "yaxis": "y3"
        },
        {
         "alignmentgroup": "True",
         "hovertemplate": "mixer=%{x}<br>otimizador=SLSQP<br>probabilidade_valor_otimo=%{y}<extra></extra>",
         "legendgroup": "full_mixer",
         "marker": {
          "color": "#636efa",
          "pattern": {
           "shape": ""
          }
         },
         "name": "full_mixer",
         "offsetgroup": "full_mixer",
         "orientation": "v",
         "showlegend": false,
         "textposition": "auto",
         "type": "bar",
         "x": [
          "full_mixer"
         ],
         "xaxis": "x4",
         "y": [
          0.005127210494412819
         ],
         "yaxis": "y4"
        },
        {
         "alignmentgroup": "True",
         "hovertemplate": "mixer=%{x}<br>otimizador=COBYLA<br>probabilidade_valor_otimo=%{y}<extra></extra>",
         "legendgroup": "mixer_default",
         "marker": {
          "color": "#EF553B",
          "pattern": {
           "shape": ""
          }
         },
         "name": "mixer_default",
         "offsetgroup": "mixer_default",
         "orientation": "v",
         "showlegend": true,
         "textposition": "auto",
         "type": "bar",
         "x": [
          "mixer_default"
         ],
         "xaxis": "x",
         "y": [
          0.00487115900954654
         ],
         "yaxis": "y"
        },
        {
         "alignmentgroup": "True",
         "hovertemplate": "mixer=%{x}<br>otimizador=L_BFGS_B<br>probabilidade_valor_otimo=%{y}<extra></extra>",
         "legendgroup": "mixer_default",
         "marker": {
          "color": "#EF553B",
          "pattern": {
           "shape": ""
          }
         },
         "name": "mixer_default",
         "offsetgroup": "mixer_default",
         "orientation": "v",
         "showlegend": false,
         "textposition": "auto",
         "type": "bar",
         "x": [
          "mixer_default"
         ],
         "xaxis": "x2",
         "y": [
          0.008510621126033058
         ],
         "yaxis": "y2"
        },
        {
         "alignmentgroup": "True",
         "hovertemplate": "mixer=%{x}<br>otimizador=NFT<br>probabilidade_valor_otimo=%{y}<extra></extra>",
         "legendgroup": "mixer_default",
         "marker": {
          "color": "#EF553B",
          "pattern": {
           "shape": ""
          }
         },
         "name": "mixer_default",
         "offsetgroup": "mixer_default",
         "orientation": "v",
         "showlegend": false,
         "textposition": "auto",
         "type": "bar",
         "x": [
          "mixer_default"
         ],
         "xaxis": "x3",
         "y": [
          0.03662109375
         ],
         "yaxis": "y3"
        },
        {
         "alignmentgroup": "True",
         "hovertemplate": "mixer=%{x}<br>otimizador=SLSQP<br>probabilidade_valor_otimo=%{y}<extra></extra>",
         "legendgroup": "mixer_default",
         "marker": {
          "color": "#EF553B",
          "pattern": {
           "shape": ""
          }
         },
         "name": "mixer_default",
         "offsetgroup": "mixer_default",
         "orientation": "v",
         "showlegend": false,
         "textposition": "auto",
         "type": "bar",
         "x": [
          "mixer_default"
         ],
         "xaxis": "x4",
         "y": [
          0.006869738453919933
         ],
         "yaxis": "y4"
        },
        {
         "alignmentgroup": "True",
         "hovertemplate": "mixer=%{x}<br>otimizador=COBYLA<br>probabilidade_valor_otimo=%{y}<extra></extra>",
         "legendgroup": "parity_ring_mixer",
         "marker": {
          "color": "#00cc96",
          "pattern": {
           "shape": ""
          }
         },
         "name": "parity_ring_mixer",
         "offsetgroup": "parity_ring_mixer",
         "orientation": "v",
         "showlegend": true,
         "textposition": "auto",
         "type": "bar",
         "x": [
          "parity_ring_mixer"
         ],
         "xaxis": "x",
         "y": [
          0.004419062126196172
         ],
         "yaxis": "y"
        },
        {
         "alignmentgroup": "True",
         "hovertemplate": "mixer=%{x}<br>otimizador=L_BFGS_B<br>probabilidade_valor_otimo=%{y}<extra></extra>",
         "legendgroup": "parity_ring_mixer",
         "marker": {
          "color": "#00cc96",
          "pattern": {
           "shape": ""
          }
         },
         "name": "parity_ring_mixer",
         "offsetgroup": "parity_ring_mixer",
         "orientation": "v",
         "showlegend": false,
         "textposition": "auto",
         "type": "bar",
         "x": [
          "parity_ring_mixer"
         ],
         "xaxis": "x2",
         "y": [
          0.0039740487316421895
         ],
         "yaxis": "y2"
        },
        {
         "alignmentgroup": "True",
         "hovertemplate": "mixer=%{x}<br>otimizador=NFT<br>probabilidade_valor_otimo=%{y}<extra></extra>",
         "legendgroup": "parity_ring_mixer",
         "marker": {
          "color": "#00cc96",
          "pattern": {
           "shape": ""
          }
         },
         "name": "parity_ring_mixer",
         "offsetgroup": "parity_ring_mixer",
         "orientation": "v",
         "showlegend": false,
         "textposition": "auto",
         "type": "bar",
         "x": [
          "parity_ring_mixer"
         ],
         "xaxis": "x3",
         "y": [
          0.0064127604166666664
         ],
         "yaxis": "y3"
        },
        {
         "alignmentgroup": "True",
         "hovertemplate": "mixer=%{x}<br>otimizador=SLSQP<br>probabilidade_valor_otimo=%{y}<extra></extra>",
         "legendgroup": "parity_ring_mixer",
         "marker": {
          "color": "#00cc96",
          "pattern": {
           "shape": ""
          }
         },
         "name": "parity_ring_mixer",
         "offsetgroup": "parity_ring_mixer",
         "orientation": "v",
         "showlegend": false,
         "textposition": "auto",
         "type": "bar",
         "x": [
          "parity_ring_mixer"
         ],
         "xaxis": "x4",
         "y": [
          0.005080075465274625
         ],
         "yaxis": "y4"
        },
        {
         "alignmentgroup": "True",
         "hovertemplate": "mixer=%{x}<br>otimizador=COBYLA<br>probabilidade_valor_otimo=%{y}<extra></extra>",
         "legendgroup": "ring_mixer",
         "marker": {
          "color": "#ab63fa",
          "pattern": {
           "shape": ""
          }
         },
         "name": "ring_mixer",
         "offsetgroup": "ring_mixer",
         "orientation": "v",
         "showlegend": true,
         "textposition": "auto",
         "type": "bar",
         "x": [
          "ring_mixer"
         ],
         "xaxis": "x",
         "y": [
          0.004022784904534606
         ],
         "yaxis": "y"
        },
        {
         "alignmentgroup": "True",
         "hovertemplate": "mixer=%{x}<br>otimizador=L_BFGS_B<br>probabilidade_valor_otimo=%{y}<extra></extra>",
         "legendgroup": "ring_mixer",
         "marker": {
          "color": "#ab63fa",
          "pattern": {
           "shape": ""
          }
         },
         "name": "ring_mixer",
         "offsetgroup": "ring_mixer",
         "orientation": "v",
         "showlegend": false,
         "textposition": "auto",
         "type": "bar",
         "x": [
          "ring_mixer"
         ],
         "xaxis": "x2",
         "y": [
          0.004675468954783748
         ],
         "yaxis": "y2"
        },
        {
         "alignmentgroup": "True",
         "hovertemplate": "mixer=%{x}<br>otimizador=NFT<br>probabilidade_valor_otimo=%{y}<extra></extra>",
         "legendgroup": "ring_mixer",
         "marker": {
          "color": "#ab63fa",
          "pattern": {
           "shape": ""
          }
         },
         "name": "ring_mixer",
         "offsetgroup": "ring_mixer",
         "orientation": "v",
         "showlegend": false,
         "textposition": "auto",
         "type": "bar",
         "x": [
          "ring_mixer"
         ],
         "xaxis": "x3",
         "y": [
          0.0064453125
         ],
         "yaxis": "y3"
        },
        {
         "alignmentgroup": "True",
         "hovertemplate": "mixer=%{x}<br>otimizador=SLSQP<br>probabilidade_valor_otimo=%{y}<extra></extra>",
         "legendgroup": "ring_mixer",
         "marker": {
          "color": "#ab63fa",
          "pattern": {
           "shape": ""
          }
         },
         "name": "ring_mixer",
         "offsetgroup": "ring_mixer",
         "orientation": "v",
         "showlegend": false,
         "textposition": "auto",
         "type": "bar",
         "x": [
          "ring_mixer"
         ],
         "xaxis": "x4",
         "y": [
          0.003723445197044335
         ],
         "yaxis": "y4"
        }
       ],
       "layout": {
        "annotations": [
         {
          "showarrow": false,
          "text": "otimizador=COBYLA",
          "x": 0.1175,
          "xanchor": "center",
          "xref": "paper",
          "y": 1,
          "yanchor": "bottom",
          "yref": "paper"
         },
         {
          "showarrow": false,
          "text": "otimizador=L_BFGS_B",
          "x": 0.3725,
          "xanchor": "center",
          "xref": "paper",
          "y": 1,
          "yanchor": "bottom",
          "yref": "paper"
         },
         {
          "showarrow": false,
          "text": "otimizador=NFT",
          "x": 0.6275,
          "xanchor": "center",
          "xref": "paper",
          "y": 1,
          "yanchor": "bottom",
          "yref": "paper"
         },
         {
          "showarrow": false,
          "text": "otimizador=SLSQP",
          "x": 0.8824999999999998,
          "xanchor": "center",
          "xref": "paper",
          "y": 1,
          "yanchor": "bottom",
          "yref": "paper"
         },
         {
          "font": {
           "size": 35
          },
          "showarrow": false,
          "text": "Mixer",
          "x": 0.5,
          "xref": "paper",
          "y": -0.13,
          "yref": "paper"
         }
        ],
        "barmode": "relative",
        "font": {
         "size": 35
        },
        "height": 700,
        "legend": {
         "title": {
          "text": "mixer"
         },
         "tracegroupgap": 0
        },
        "margin": {
         "b": 90,
         "l": 90,
         "r": 90,
         "t": 90
        },
        "template": {
         "data": {
          "bar": [
           {
            "error_x": {
             "color": "#2a3f5f"
            },
            "error_y": {
             "color": "#2a3f5f"
            },
            "marker": {
             "line": {
              "color": "#E5ECF6",
              "width": 0.5
             },
             "pattern": {
              "fillmode": "overlay",
              "size": 10,
              "solidity": 0.2
             }
            },
            "type": "bar"
           }
          ],
          "barpolar": [
           {
            "marker": {
             "line": {
              "color": "#E5ECF6",
              "width": 0.5
             },
             "pattern": {
              "fillmode": "overlay",
              "size": 10,
              "solidity": 0.2
             }
            },
            "type": "barpolar"
           }
          ],
          "carpet": [
           {
            "aaxis": {
             "endlinecolor": "#2a3f5f",
             "gridcolor": "white",
             "linecolor": "white",
             "minorgridcolor": "white",
             "startlinecolor": "#2a3f5f"
            },
            "baxis": {
             "endlinecolor": "#2a3f5f",
             "gridcolor": "white",
             "linecolor": "white",
             "minorgridcolor": "white",
             "startlinecolor": "#2a3f5f"
            },
            "type": "carpet"
           }
          ],
          "choropleth": [
           {
            "colorbar": {
             "outlinewidth": 0,
             "ticks": ""
            },
            "type": "choropleth"
           }
          ],
          "contour": [
           {
            "colorbar": {
             "outlinewidth": 0,
             "ticks": ""
            },
            "colorscale": [
             [
              0,
              "#0d0887"
             ],
             [
              0.1111111111111111,
              "#46039f"
             ],
             [
              0.2222222222222222,
              "#7201a8"
             ],
             [
              0.3333333333333333,
              "#9c179e"
             ],
             [
              0.4444444444444444,
              "#bd3786"
             ],
             [
              0.5555555555555556,
              "#d8576b"
             ],
             [
              0.6666666666666666,
              "#ed7953"
             ],
             [
              0.7777777777777778,
              "#fb9f3a"
             ],
             [
              0.8888888888888888,
              "#fdca26"
             ],
             [
              1,
              "#f0f921"
             ]
            ],
            "type": "contour"
           }
          ],
          "contourcarpet": [
           {
            "colorbar": {
             "outlinewidth": 0,
             "ticks": ""
            },
            "type": "contourcarpet"
           }
          ],
          "heatmap": [
           {
            "colorbar": {
             "outlinewidth": 0,
             "ticks": ""
            },
            "colorscale": [
             [
              0,
              "#0d0887"
             ],
             [
              0.1111111111111111,
              "#46039f"
             ],
             [
              0.2222222222222222,
              "#7201a8"
             ],
             [
              0.3333333333333333,
              "#9c179e"
             ],
             [
              0.4444444444444444,
              "#bd3786"
             ],
             [
              0.5555555555555556,
              "#d8576b"
             ],
             [
              0.6666666666666666,
              "#ed7953"
             ],
             [
              0.7777777777777778,
              "#fb9f3a"
             ],
             [
              0.8888888888888888,
              "#fdca26"
             ],
             [
              1,
              "#f0f921"
             ]
            ],
            "type": "heatmap"
           }
          ],
          "heatmapgl": [
           {
            "colorbar": {
             "outlinewidth": 0,
             "ticks": ""
            },
            "colorscale": [
             [
              0,
              "#0d0887"
             ],
             [
              0.1111111111111111,
              "#46039f"
             ],
             [
              0.2222222222222222,
              "#7201a8"
             ],
             [
              0.3333333333333333,
              "#9c179e"
             ],
             [
              0.4444444444444444,
              "#bd3786"
             ],
             [
              0.5555555555555556,
              "#d8576b"
             ],
             [
              0.6666666666666666,
              "#ed7953"
             ],
             [
              0.7777777777777778,
              "#fb9f3a"
             ],
             [
              0.8888888888888888,
              "#fdca26"
             ],
             [
              1,
              "#f0f921"
             ]
            ],
            "type": "heatmapgl"
           }
          ],
          "histogram": [
           {
            "marker": {
             "pattern": {
              "fillmode": "overlay",
              "size": 10,
              "solidity": 0.2
             }
            },
            "type": "histogram"
           }
          ],
          "histogram2d": [
           {
            "colorbar": {
             "outlinewidth": 0,
             "ticks": ""
            },
            "colorscale": [
             [
              0,
              "#0d0887"
             ],
             [
              0.1111111111111111,
              "#46039f"
             ],
             [
              0.2222222222222222,
              "#7201a8"
             ],
             [
              0.3333333333333333,
              "#9c179e"
             ],
             [
              0.4444444444444444,
              "#bd3786"
             ],
             [
              0.5555555555555556,
              "#d8576b"
             ],
             [
              0.6666666666666666,
              "#ed7953"
             ],
             [
              0.7777777777777778,
              "#fb9f3a"
             ],
             [
              0.8888888888888888,
              "#fdca26"
             ],
             [
              1,
              "#f0f921"
             ]
            ],
            "type": "histogram2d"
           }
          ],
          "histogram2dcontour": [
           {
            "colorbar": {
             "outlinewidth": 0,
             "ticks": ""
            },
            "colorscale": [
             [
              0,
              "#0d0887"
             ],
             [
              0.1111111111111111,
              "#46039f"
             ],
             [
              0.2222222222222222,
              "#7201a8"
             ],
             [
              0.3333333333333333,
              "#9c179e"
             ],
             [
              0.4444444444444444,
              "#bd3786"
             ],
             [
              0.5555555555555556,
              "#d8576b"
             ],
             [
              0.6666666666666666,
              "#ed7953"
             ],
             [
              0.7777777777777778,
              "#fb9f3a"
             ],
             [
              0.8888888888888888,
              "#fdca26"
             ],
             [
              1,
              "#f0f921"
             ]
            ],
            "type": "histogram2dcontour"
           }
          ],
          "mesh3d": [
           {
            "colorbar": {
             "outlinewidth": 0,
             "ticks": ""
            },
            "type": "mesh3d"
           }
          ],
          "parcoords": [
           {
            "line": {
             "colorbar": {
              "outlinewidth": 0,
              "ticks": ""
             }
            },
            "type": "parcoords"
           }
          ],
          "pie": [
           {
            "automargin": true,
            "type": "pie"
           }
          ],
          "scatter": [
           {
            "fillpattern": {
             "fillmode": "overlay",
             "size": 10,
             "solidity": 0.2
            },
            "type": "scatter"
           }
          ],
          "scatter3d": [
           {
            "line": {
             "colorbar": {
              "outlinewidth": 0,
              "ticks": ""
             }
            },
            "marker": {
             "colorbar": {
              "outlinewidth": 0,
              "ticks": ""
             }
            },
            "type": "scatter3d"
           }
          ],
          "scattercarpet": [
           {
            "marker": {
             "colorbar": {
              "outlinewidth": 0,
              "ticks": ""
             }
            },
            "type": "scattercarpet"
           }
          ],
          "scattergeo": [
           {
            "marker": {
             "colorbar": {
              "outlinewidth": 0,
              "ticks": ""
             }
            },
            "type": "scattergeo"
           }
          ],
          "scattergl": [
           {
            "marker": {
             "colorbar": {
              "outlinewidth": 0,
              "ticks": ""
             }
            },
            "type": "scattergl"
           }
          ],
          "scattermapbox": [
           {
            "marker": {
             "colorbar": {
              "outlinewidth": 0,
              "ticks": ""
             }
            },
            "type": "scattermapbox"
           }
          ],
          "scatterpolar": [
           {
            "marker": {
             "colorbar": {
              "outlinewidth": 0,
              "ticks": ""
             }
            },
            "type": "scatterpolar"
           }
          ],
          "scatterpolargl": [
           {
            "marker": {
             "colorbar": {
              "outlinewidth": 0,
              "ticks": ""
             }
            },
            "type": "scatterpolargl"
           }
          ],
          "scatterternary": [
           {
            "marker": {
             "colorbar": {
              "outlinewidth": 0,
              "ticks": ""
             }
            },
            "type": "scatterternary"
           }
          ],
          "surface": [
           {
            "colorbar": {
             "outlinewidth": 0,
             "ticks": ""
            },
            "colorscale": [
             [
              0,
              "#0d0887"
             ],
             [
              0.1111111111111111,
              "#46039f"
             ],
             [
              0.2222222222222222,
              "#7201a8"
             ],
             [
              0.3333333333333333,
              "#9c179e"
             ],
             [
              0.4444444444444444,
              "#bd3786"
             ],
             [
              0.5555555555555556,
              "#d8576b"
             ],
             [
              0.6666666666666666,
              "#ed7953"
             ],
             [
              0.7777777777777778,
              "#fb9f3a"
             ],
             [
              0.8888888888888888,
              "#fdca26"
             ],
             [
              1,
              "#f0f921"
             ]
            ],
            "type": "surface"
           }
          ],
          "table": [
           {
            "cells": {
             "fill": {
              "color": "#EBF0F8"
             },
             "line": {
              "color": "white"
             }
            },
            "header": {
             "fill": {
              "color": "#C8D4E3"
             },
             "line": {
              "color": "white"
             }
            },
            "type": "table"
           }
          ]
         },
         "layout": {
          "annotationdefaults": {
           "arrowcolor": "#2a3f5f",
           "arrowhead": 0,
           "arrowwidth": 1
          },
          "autotypenumbers": "strict",
          "coloraxis": {
           "colorbar": {
            "outlinewidth": 0,
            "ticks": ""
           }
          },
          "colorscale": {
           "diverging": [
            [
             0,
             "#8e0152"
            ],
            [
             0.1,
             "#c51b7d"
            ],
            [
             0.2,
             "#de77ae"
            ],
            [
             0.3,
             "#f1b6da"
            ],
            [
             0.4,
             "#fde0ef"
            ],
            [
             0.5,
             "#f7f7f7"
            ],
            [
             0.6,
             "#e6f5d0"
            ],
            [
             0.7,
             "#b8e186"
            ],
            [
             0.8,
             "#7fbc41"
            ],
            [
             0.9,
             "#4d9221"
            ],
            [
             1,
             "#276419"
            ]
           ],
           "sequential": [
            [
             0,
             "#0d0887"
            ],
            [
             0.1111111111111111,
             "#46039f"
            ],
            [
             0.2222222222222222,
             "#7201a8"
            ],
            [
             0.3333333333333333,
             "#9c179e"
            ],
            [
             0.4444444444444444,
             "#bd3786"
            ],
            [
             0.5555555555555556,
             "#d8576b"
            ],
            [
             0.6666666666666666,
             "#ed7953"
            ],
            [
             0.7777777777777778,
             "#fb9f3a"
            ],
            [
             0.8888888888888888,
             "#fdca26"
            ],
            [
             1,
             "#f0f921"
            ]
           ],
           "sequentialminus": [
            [
             0,
             "#0d0887"
            ],
            [
             0.1111111111111111,
             "#46039f"
            ],
            [
             0.2222222222222222,
             "#7201a8"
            ],
            [
             0.3333333333333333,
             "#9c179e"
            ],
            [
             0.4444444444444444,
             "#bd3786"
            ],
            [
             0.5555555555555556,
             "#d8576b"
            ],
            [
             0.6666666666666666,
             "#ed7953"
            ],
            [
             0.7777777777777778,
             "#fb9f3a"
            ],
            [
             0.8888888888888888,
             "#fdca26"
            ],
            [
             1,
             "#f0f921"
            ]
           ]
          },
          "colorway": [
           "#636efa",
           "#EF553B",
           "#00cc96",
           "#ab63fa",
           "#FFA15A",
           "#19d3f3",
           "#FF6692",
           "#B6E880",
           "#FF97FF",
           "#FECB52"
          ],
          "font": {
           "color": "#2a3f5f"
          },
          "geo": {
           "bgcolor": "white",
           "lakecolor": "white",
           "landcolor": "#E5ECF6",
           "showlakes": true,
           "showland": true,
           "subunitcolor": "white"
          },
          "hoverlabel": {
           "align": "left"
          },
          "hovermode": "closest",
          "mapbox": {
           "style": "light"
          },
          "paper_bgcolor": "white",
          "plot_bgcolor": "#E5ECF6",
          "polar": {
           "angularaxis": {
            "gridcolor": "white",
            "linecolor": "white",
            "ticks": ""
           },
           "bgcolor": "#E5ECF6",
           "radialaxis": {
            "gridcolor": "white",
            "linecolor": "white",
            "ticks": ""
           }
          },
          "scene": {
           "xaxis": {
            "backgroundcolor": "#E5ECF6",
            "gridcolor": "white",
            "gridwidth": 2,
            "linecolor": "white",
            "showbackground": true,
            "ticks": "",
            "zerolinecolor": "white"
           },
           "yaxis": {
            "backgroundcolor": "#E5ECF6",
            "gridcolor": "white",
            "gridwidth": 2,
            "linecolor": "white",
            "showbackground": true,
            "ticks": "",
            "zerolinecolor": "white"
           },
           "zaxis": {
            "backgroundcolor": "#E5ECF6",
            "gridcolor": "white",
            "gridwidth": 2,
            "linecolor": "white",
            "showbackground": true,
            "ticks": "",
            "zerolinecolor": "white"
           }
          },
          "shapedefaults": {
           "line": {
            "color": "#2a3f5f"
           }
          },
          "ternary": {
           "aaxis": {
            "gridcolor": "white",
            "linecolor": "white",
            "ticks": ""
           },
           "baxis": {
            "gridcolor": "white",
            "linecolor": "white",
            "ticks": ""
           },
           "bgcolor": "#E5ECF6",
           "caxis": {
            "gridcolor": "white",
            "linecolor": "white",
            "ticks": ""
           }
          },
          "title": {
           "x": 0.05
          },
          "xaxis": {
           "automargin": true,
           "gridcolor": "white",
           "linecolor": "white",
           "ticks": "",
           "title": {
            "standoff": 15
           },
           "zerolinecolor": "white",
           "zerolinewidth": 2
          },
          "yaxis": {
           "automargin": true,
           "gridcolor": "white",
           "linecolor": "white",
           "ticks": "",
           "title": {
            "standoff": 15
           },
           "zerolinecolor": "white",
           "zerolinewidth": 2
          }
         }
        },
        "width": 3200,
        "xaxis": {
         "anchor": "y",
         "categoryarray": [
          "full_mixer",
          "mixer_default",
          "parity_ring_mixer",
          "ring_mixer"
         ],
         "categoryorder": "array",
         "domain": [
          0,
          0.235
         ],
         "showticklabels": false,
         "title": {
          "text": ""
         }
        },
        "xaxis2": {
         "anchor": "y2",
         "categoryarray": [
          "full_mixer",
          "mixer_default",
          "parity_ring_mixer",
          "ring_mixer"
         ],
         "categoryorder": "array",
         "domain": [
          0.255,
          0.49
         ],
         "matches": "x",
         "showticklabels": false,
         "title": {
          "text": ""
         }
        },
        "xaxis3": {
         "anchor": "y3",
         "categoryarray": [
          "full_mixer",
          "mixer_default",
          "parity_ring_mixer",
          "ring_mixer"
         ],
         "categoryorder": "array",
         "domain": [
          0.51,
          0.745
         ],
         "matches": "x",
         "showticklabels": false,
         "title": {
          "text": ""
         }
        },
        "xaxis4": {
         "anchor": "y4",
         "categoryarray": [
          "full_mixer",
          "mixer_default",
          "parity_ring_mixer",
          "ring_mixer"
         ],
         "categoryorder": "array",
         "domain": [
          0.7649999999999999,
          0.9999999999999999
         ],
         "matches": "x",
         "showticklabels": false,
         "title": {
          "text": ""
         }
        },
        "yaxis": {
         "anchor": "x",
         "domain": [
          0,
          1
         ],
         "title": {
          "text": "Probabilidade"
         }
        },
        "yaxis2": {
         "anchor": "x2",
         "domain": [
          0,
          1
         ],
         "matches": "y",
         "showticklabels": false
        },
        "yaxis3": {
         "anchor": "x3",
         "domain": [
          0,
          1
         ],
         "matches": "y",
         "showticklabels": false
        },
        "yaxis4": {
         "anchor": "x4",
         "domain": [
          0,
          1
         ],
         "matches": "y",
         "showticklabels": false
        }
       }
      }
     },
     "metadata": {},
     "output_type": "display_data"
    }
   ],
   "source": [
    "df_agg = df_qaoa.groupby(['mixer', 'otimizador'], as_index=False)['probabilidade_valor_otimo'].mean() # pode ser média, max, min, pois todos os valores sao iguais\n",
    "\n",
    "fig = px.bar(df_agg, x='mixer', y='probabilidade_valor_otimo', color='mixer', facet_col='otimizador',\n",
    "             title='', width=width_padrao_display_junto, height=height_padrao_display_junto, \n",
    "             )\n",
    "\n",
    "fig.update_layout(xaxis_title='', yaxis_title='Probabilidade', font=tamanho_padrao_fonte, margin=tamanho_padrao_margem)\n",
    "fig.update_xaxes(showticklabels=False, title_text='')\n",
    "\n",
    "fig.add_annotation(\n",
    "    text='Mixer',\n",
    "    xref='paper',\n",
    "    yref='paper',\n",
    "    x=0.5,\n",
    "    y=-0.13,\n",
    "    showarrow=False,\n",
    "    font=tamanho_padrao_fonte\n",
    ")\n",
    "\n",
    "if salvar_figuras:\n",
    "    nome_figura = f\"figuras_qaoa/{num_ativos}_{ambiente_backend}_probabilidade_valor_otimo_qaoa.png\" \n",
    "    fig.write_image(nome_figura, width=width_padrao_salvar_junto, height=height_padrao_salvar_junto)\n",
    "\n",
    "if mostrar_figuras:\n",
    "    fig.show()"
   ]
  },
  {
   "cell_type": "code",
   "execution_count": 53,
   "metadata": {},
   "outputs": [],
   "source": [
    "# df_agg = df_qaoa.groupby(['mixer', 'otimizador'], as_index=False)['tempo_elapsado_otimizador'].mean() # pode ser média, max, min, pois todos os valores sao iguais\n",
    "\n",
    "# fig = px.bar(df_agg, x='mixer', y='tempo_elapsado_otimizador', color='mixer', facet_col='otimizador',\n",
    "#              title='', width=width_padrao_display_junto, height=height_padrao_display_junto, \n",
    "#              )\n",
    "\n",
    "# fig.update_layout(xaxis_title='', yaxis_title='Tempo', font=tamanho_padrao_fonte, margin=tamanho_padrao_margem)\n",
    "# fig.update_xaxes(showticklabels=False, title_text='')\n",
    "\n",
    "# fig.add_annotation(\n",
    "#     text='Mixer',\n",
    "#     xref='paper',\n",
    "#     yref='paper',\n",
    "#     x=0.5,\n",
    "#     y=-0.13,\n",
    "#     showarrow=False,\n",
    "#     font=tamanho_padrao_fonte\n",
    "# )\n",
    "\n",
    "# if salvar_figuras:\n",
    "#     nome_figura = f\"figuras_qaoa/{num_ativos}_{ambiente_backend}_tempo_elapsado_qaoa.png\"\n",
    "#     fig.write_image(nome_figura, width=width_padrao_salvar_junto, height=height_padrao_salvar_junto)\n",
    "\n",
    "# if mostrar_figuras:\n",
    "#     fig.show()"
   ]
  },
  {
   "cell_type": "code",
   "execution_count": 54,
   "metadata": {},
   "outputs": [],
   "source": [
    "# df_agg = df_qaoa.groupby(['mixer', 'otimizador'], as_index=False)['quantidade_avaliacoes_total'].mean() # pode ser média, max, min, pois todos os valores sao iguais\n",
    "\n",
    "# fig = px.bar(df_agg, x='mixer', y='quantidade_avaliacoes_total', color='mixer', facet_col='otimizador',\n",
    "#              title='', width=width_padrao_display_junto, height=height_padrao_display_junto, \n",
    "#              )\n",
    "\n",
    "# fig.update_layout(xaxis_title='', yaxis_title='Chamadas função custo', font=tamanho_padrao_fonte, margin=tamanho_padrao_margem)\n",
    "# fig.update_xaxes(showticklabels=False, title_text='')\n",
    "\n",
    "# fig.add_annotation(\n",
    "#     text='Mixer',\n",
    "#     xref='paper',\n",
    "#     yref='paper',\n",
    "#     x=0.5,\n",
    "#     y=-0.13,\n",
    "#     showarrow=False,\n",
    "#     font=tamanho_padrao_fonte\n",
    "# )\n",
    "\n",
    "# if salvar_figuras:\n",
    "#     nome_figura = f\"figuras_qaoa/{num_ativos}_{ambiente_backend}_chamadas_funcao_custo_qaoa.png\"\n",
    "#     fig.write_image(nome_figura, width=width_padrao_salvar_junto, height=height_padrao_salvar_junto)\n",
    "\n",
    "# if mostrar_figuras:\n",
    "#     fig.show()"
   ]
  },
  {
   "cell_type": "code",
   "execution_count": 55,
   "metadata": {},
   "outputs": [],
   "source": [
    "# df_agg = df_qaoa.groupby(['mixer', 'otimizador'], as_index=False)['iteracao_otimizador'].max()\n",
    "\n",
    "# fig = px.bar(df_agg, x='mixer', y='iteracao_otimizador', color='mixer', facet_col='otimizador',\n",
    "#              title='',\n",
    "#              width=width_padrao_display_junto, height=height_padrao_display_junto, \n",
    "#              )\n",
    "\n",
    "# fig.update_layout(xaxis_title='', yaxis_title='Chamadas otimizador', font=tamanho_padrao_fonte, margin=tamanho_padrao_margem)\n",
    "\n",
    "# fig.add_annotation(\n",
    "#     text='Mixer',\n",
    "#     xref='paper',\n",
    "#     yref='paper',\n",
    "#     x=0.5,\n",
    "#     y=-0.178,\n",
    "#     showarrow=False,\n",
    "#     font=tamanho_padrao_fonte\n",
    "# )\n",
    "\n",
    "# if salvar_figuras:\n",
    "#     nome_figura = f\"figuras_qaoa/{num_ativos}_{ambiente_backend}_chamadas_otimizador_qaoa.png\"\n",
    "#     fig.write_image(nome_figura, width=width_padrao_salvar_junto, height=height_padrao_salvar_junto)\n",
    "\n",
    "# if mostrar_figuras:\n",
    "#     fig.show()"
   ]
  }
 ],
 "metadata": {
  "colab": {
   "include_colab_link": true,
   "name": "Quantum_Finance_DualQ.ipynb",
   "provenance": [],
   "toc_visible": true
  },
  "kernelspec": {
   "display_name": "Python 3 (ipykernel)",
   "language": "python",
   "name": "python3"
  },
  "language_info": {
   "codemirror_mode": {
    "name": "ipython",
    "version": 3
   },
   "file_extension": ".py",
   "mimetype": "text/x-python",
   "name": "python",
   "nbconvert_exporter": "python",
   "pygments_lexer": "ipython3",
   "version": "3.10.11"
  },
  "widgets": {
   "application/vnd.jupyter.widget-state+json": {
    "state": {},
    "version_major": 2,
    "version_minor": 0
   }
  }
 },
 "nbformat": 4,
 "nbformat_minor": 4
}
